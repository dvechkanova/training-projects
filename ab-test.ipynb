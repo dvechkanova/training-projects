{
 "cells": [
  {
   "cell_type": "markdown",
   "metadata": {},
   "source": [
    "# Приоритизация гипотез и приоведение А/В-тестов для интеренет магазина"
   ]
  },
  {
   "cell_type": "markdown",
   "metadata": {},
   "source": [
    "Цель проекта увеличение выручки интерент-магазина.  \n",
    "Задачи:  \n",
    "- приоритизировать гипотезы,  \n",
    "- запустить А/В-тесты,\n",
    "- проанализировать результаты."
   ]
  },
  {
   "cell_type": "markdown",
   "metadata": {
    "jp-MarkdownHeadingCollapsed": true
   },
   "source": [
    "## Приоритезация гипотез"
   ]
  },
  {
   "cell_type": "markdown",
   "metadata": {},
   "source": [
    "### Загрузим данные из файла в датафрейм"
   ]
  },
  {
   "cell_type": "code",
   "execution_count": 1,
   "metadata": {},
   "outputs": [],
   "source": [
    "# импорт библиотек\n",
    "import pandas as pd\n",
    "import matplotlib.pyplot as plt\n",
    "import datetime as dt\n",
    "import numpy as np\n",
    "import scipy.stats as st"
   ]
  },
  {
   "cell_type": "code",
   "execution_count": 2,
   "metadata": {
    "scrolled": true
   },
   "outputs": [
    {
     "data": {
      "text/html": [
       "<div>\n",
       "<style scoped>\n",
       "    .dataframe tbody tr th:only-of-type {\n",
       "        vertical-align: middle;\n",
       "    }\n",
       "\n",
       "    .dataframe tbody tr th {\n",
       "        vertical-align: top;\n",
       "    }\n",
       "\n",
       "    .dataframe thead th {\n",
       "        text-align: right;\n",
       "    }\n",
       "</style>\n",
       "<table border=\"1\" class=\"dataframe\">\n",
       "  <thead>\n",
       "    <tr style=\"text-align: right;\">\n",
       "      <th></th>\n",
       "      <th>Hypothesis</th>\n",
       "      <th>Reach</th>\n",
       "      <th>Impact</th>\n",
       "      <th>Confidence</th>\n",
       "      <th>Efforts</th>\n",
       "    </tr>\n",
       "  </thead>\n",
       "  <tbody>\n",
       "    <tr>\n",
       "      <th>0</th>\n",
       "      <td>Добавить два новых канала привлечения трафика,...</td>\n",
       "      <td>3</td>\n",
       "      <td>10</td>\n",
       "      <td>8</td>\n",
       "      <td>6</td>\n",
       "    </tr>\n",
       "    <tr>\n",
       "      <th>1</th>\n",
       "      <td>Запустить собственную службу доставки, что сок...</td>\n",
       "      <td>2</td>\n",
       "      <td>5</td>\n",
       "      <td>4</td>\n",
       "      <td>10</td>\n",
       "    </tr>\n",
       "    <tr>\n",
       "      <th>2</th>\n",
       "      <td>Добавить блоки рекомендаций товаров на сайт ин...</td>\n",
       "      <td>8</td>\n",
       "      <td>3</td>\n",
       "      <td>7</td>\n",
       "      <td>3</td>\n",
       "    </tr>\n",
       "    <tr>\n",
       "      <th>3</th>\n",
       "      <td>Изменить структура категорий, что увеличит кон...</td>\n",
       "      <td>8</td>\n",
       "      <td>3</td>\n",
       "      <td>3</td>\n",
       "      <td>8</td>\n",
       "    </tr>\n",
       "    <tr>\n",
       "      <th>4</th>\n",
       "      <td>Изменить цвет фона главной страницы, чтобы уве...</td>\n",
       "      <td>3</td>\n",
       "      <td>1</td>\n",
       "      <td>1</td>\n",
       "      <td>1</td>\n",
       "    </tr>\n",
       "    <tr>\n",
       "      <th>5</th>\n",
       "      <td>Добавить страницу отзывов клиентов о магазине,...</td>\n",
       "      <td>3</td>\n",
       "      <td>2</td>\n",
       "      <td>2</td>\n",
       "      <td>3</td>\n",
       "    </tr>\n",
       "    <tr>\n",
       "      <th>6</th>\n",
       "      <td>Показать на главной странице баннеры с актуаль...</td>\n",
       "      <td>5</td>\n",
       "      <td>3</td>\n",
       "      <td>8</td>\n",
       "      <td>3</td>\n",
       "    </tr>\n",
       "    <tr>\n",
       "      <th>7</th>\n",
       "      <td>Добавить форму подписки на все основные страни...</td>\n",
       "      <td>10</td>\n",
       "      <td>7</td>\n",
       "      <td>8</td>\n",
       "      <td>5</td>\n",
       "    </tr>\n",
       "    <tr>\n",
       "      <th>8</th>\n",
       "      <td>Запустить акцию, дающую скидку на товар в день...</td>\n",
       "      <td>1</td>\n",
       "      <td>9</td>\n",
       "      <td>9</td>\n",
       "      <td>5</td>\n",
       "    </tr>\n",
       "  </tbody>\n",
       "</table>\n",
       "</div>"
      ],
      "text/plain": [
       "                                          Hypothesis  Reach  Impact  \\\n",
       "0  Добавить два новых канала привлечения трафика,...      3      10   \n",
       "1  Запустить собственную службу доставки, что сок...      2       5   \n",
       "2  Добавить блоки рекомендаций товаров на сайт ин...      8       3   \n",
       "3  Изменить структура категорий, что увеличит кон...      8       3   \n",
       "4  Изменить цвет фона главной страницы, чтобы уве...      3       1   \n",
       "5  Добавить страницу отзывов клиентов о магазине,...      3       2   \n",
       "6  Показать на главной странице баннеры с актуаль...      5       3   \n",
       "7  Добавить форму подписки на все основные страни...     10       7   \n",
       "8  Запустить акцию, дающую скидку на товар в день...      1       9   \n",
       "\n",
       "   Confidence  Efforts  \n",
       "0           8        6  \n",
       "1           4       10  \n",
       "2           7        3  \n",
       "3           3        8  \n",
       "4           1        1  \n",
       "5           2        3  \n",
       "6           8        3  \n",
       "7           8        5  \n",
       "8           9        5  "
      ]
     },
     "metadata": {},
     "output_type": "display_data"
    }
   ],
   "source": [
    "# прочитаем файл\n",
    "hypothesis = pd.read_csv('hypothesis.csv')\n",
    "display(hypothesis)"
   ]
  },
  {
   "cell_type": "markdown",
   "metadata": {},
   "source": [
    "**Описание данных:**  \n",
    "Hypothesis — краткое описание гипотезы;  \n",
    "Reach — охват пользователей по 10-балльной шкале;  \n",
    "Impact — влияние на пользователей по 10-балльной шкале;  \n",
    "Confidence — уверенность в гипотезе по 10-балльной шкале;  \n",
    "Efforts — затраты ресурсов на проверку гипотезы по 10-балльной шкале. Чем больше значение Efforts, тем дороже проверка гипотезы."
   ]
  },
  {
   "cell_type": "markdown",
   "metadata": {},
   "source": [
    "### Применим фреймворк ICE для приоритизации гипотез. Отсортируем их по убыванию приоритета."
   ]
  },
  {
   "cell_type": "code",
   "execution_count": 3,
   "metadata": {},
   "outputs": [
    {
     "data": {
      "text/html": [
       "<div>\n",
       "<style scoped>\n",
       "    .dataframe tbody tr th:only-of-type {\n",
       "        vertical-align: middle;\n",
       "    }\n",
       "\n",
       "    .dataframe tbody tr th {\n",
       "        vertical-align: top;\n",
       "    }\n",
       "\n",
       "    .dataframe thead th {\n",
       "        text-align: right;\n",
       "    }\n",
       "</style>\n",
       "<table border=\"1\" class=\"dataframe\">\n",
       "  <thead>\n",
       "    <tr style=\"text-align: right;\">\n",
       "      <th></th>\n",
       "      <th>Hypothesis</th>\n",
       "      <th>ICE</th>\n",
       "    </tr>\n",
       "  </thead>\n",
       "  <tbody>\n",
       "    <tr>\n",
       "      <th>8</th>\n",
       "      <td>Запустить акцию, дающую скидку на товар в день рождения</td>\n",
       "      <td>16.20</td>\n",
       "    </tr>\n",
       "    <tr>\n",
       "      <th>0</th>\n",
       "      <td>Добавить два новых канала привлечения трафика, что позволит привлекать на 30% больше пользователей</td>\n",
       "      <td>13.33</td>\n",
       "    </tr>\n",
       "    <tr>\n",
       "      <th>7</th>\n",
       "      <td>Добавить форму подписки на все основные страницы, чтобы собрать базу клиентов для email-рассылок</td>\n",
       "      <td>11.20</td>\n",
       "    </tr>\n",
       "    <tr>\n",
       "      <th>6</th>\n",
       "      <td>Показать на главной странице баннеры с актуальными акциями и распродажами, чтобы увеличить конверсию</td>\n",
       "      <td>8.00</td>\n",
       "    </tr>\n",
       "    <tr>\n",
       "      <th>2</th>\n",
       "      <td>Добавить блоки рекомендаций товаров на сайт интернет магазина, чтобы повысить конверсию и средний чек заказа</td>\n",
       "      <td>7.00</td>\n",
       "    </tr>\n",
       "    <tr>\n",
       "      <th>1</th>\n",
       "      <td>Запустить собственную службу доставки, что сократит срок доставки заказов</td>\n",
       "      <td>2.00</td>\n",
       "    </tr>\n",
       "    <tr>\n",
       "      <th>5</th>\n",
       "      <td>Добавить страницу отзывов клиентов о магазине, что позволит увеличить количество заказов</td>\n",
       "      <td>1.33</td>\n",
       "    </tr>\n",
       "    <tr>\n",
       "      <th>3</th>\n",
       "      <td>Изменить структура категорий, что увеличит конверсию, т.к. пользователи быстрее найдут нужный товар</td>\n",
       "      <td>1.12</td>\n",
       "    </tr>\n",
       "    <tr>\n",
       "      <th>4</th>\n",
       "      <td>Изменить цвет фона главной страницы, чтобы увеличить вовлеченность пользователей</td>\n",
       "      <td>1.00</td>\n",
       "    </tr>\n",
       "  </tbody>\n",
       "</table>\n",
       "</div>"
      ],
      "text/plain": [
       "                                                                                                     Hypothesis  \\\n",
       "8                                                       Запустить акцию, дающую скидку на товар в день рождения   \n",
       "0            Добавить два новых канала привлечения трафика, что позволит привлекать на 30% больше пользователей   \n",
       "7              Добавить форму подписки на все основные страницы, чтобы собрать базу клиентов для email-рассылок   \n",
       "6          Показать на главной странице баннеры с актуальными акциями и распродажами, чтобы увеличить конверсию   \n",
       "2  Добавить блоки рекомендаций товаров на сайт интернет магазина, чтобы повысить конверсию и средний чек заказа   \n",
       "1                                     Запустить собственную службу доставки, что сократит срок доставки заказов   \n",
       "5                      Добавить страницу отзывов клиентов о магазине, что позволит увеличить количество заказов   \n",
       "3           Изменить структура категорий, что увеличит конверсию, т.к. пользователи быстрее найдут нужный товар   \n",
       "4                              Изменить цвет фона главной страницы, чтобы увеличить вовлеченность пользователей   \n",
       "\n",
       "     ICE  \n",
       "8  16.20  \n",
       "0  13.33  \n",
       "7  11.20  \n",
       "6   8.00  \n",
       "2   7.00  \n",
       "1   2.00  \n",
       "5   1.33  \n",
       "3   1.12  \n",
       "4   1.00  "
      ]
     },
     "metadata": {},
     "output_type": "display_data"
    }
   ],
   "source": [
    "hypothesis['ICE'] = hypothesis['Impact'] * hypothesis['Confidence'] / hypothesis ['Efforts']\n",
    "hypothes_ice  = hypothesis[['Hypothesis','ICE']].sort_values(by='ICE', ascending=False).round(2)\n",
    "pd.options.display.max_colwidth = 150\n",
    "display(hypothes_ice)"
   ]
  },
  {
   "cell_type": "markdown",
   "metadata": {},
   "source": [
    "### Применим фреймворк RICE для приоритизации гипотез. Отсортируем их по убыванию приоритета."
   ]
  },
  {
   "cell_type": "code",
   "execution_count": 4,
   "metadata": {},
   "outputs": [
    {
     "data": {
      "text/html": [
       "<div>\n",
       "<style scoped>\n",
       "    .dataframe tbody tr th:only-of-type {\n",
       "        vertical-align: middle;\n",
       "    }\n",
       "\n",
       "    .dataframe tbody tr th {\n",
       "        vertical-align: top;\n",
       "    }\n",
       "\n",
       "    .dataframe thead th {\n",
       "        text-align: right;\n",
       "    }\n",
       "</style>\n",
       "<table border=\"1\" class=\"dataframe\">\n",
       "  <thead>\n",
       "    <tr style=\"text-align: right;\">\n",
       "      <th></th>\n",
       "      <th>Hypothesis</th>\n",
       "      <th>RICE</th>\n",
       "    </tr>\n",
       "  </thead>\n",
       "  <tbody>\n",
       "    <tr>\n",
       "      <th>7</th>\n",
       "      <td>Добавить форму подписки на все основные страницы, чтобы собрать базу клиентов для email-рассылок</td>\n",
       "      <td>112.0</td>\n",
       "    </tr>\n",
       "    <tr>\n",
       "      <th>2</th>\n",
       "      <td>Добавить блоки рекомендаций товаров на сайт интернет магазина, чтобы повысить конверсию и средний чек заказа</td>\n",
       "      <td>56.0</td>\n",
       "    </tr>\n",
       "    <tr>\n",
       "      <th>0</th>\n",
       "      <td>Добавить два новых канала привлечения трафика, что позволит привлекать на 30% больше пользователей</td>\n",
       "      <td>40.0</td>\n",
       "    </tr>\n",
       "    <tr>\n",
       "      <th>6</th>\n",
       "      <td>Показать на главной странице баннеры с актуальными акциями и распродажами, чтобы увеличить конверсию</td>\n",
       "      <td>40.0</td>\n",
       "    </tr>\n",
       "    <tr>\n",
       "      <th>8</th>\n",
       "      <td>Запустить акцию, дающую скидку на товар в день рождения</td>\n",
       "      <td>16.2</td>\n",
       "    </tr>\n",
       "    <tr>\n",
       "      <th>3</th>\n",
       "      <td>Изменить структура категорий, что увеличит конверсию, т.к. пользователи быстрее найдут нужный товар</td>\n",
       "      <td>9.0</td>\n",
       "    </tr>\n",
       "    <tr>\n",
       "      <th>1</th>\n",
       "      <td>Запустить собственную службу доставки, что сократит срок доставки заказов</td>\n",
       "      <td>4.0</td>\n",
       "    </tr>\n",
       "    <tr>\n",
       "      <th>5</th>\n",
       "      <td>Добавить страницу отзывов клиентов о магазине, что позволит увеличить количество заказов</td>\n",
       "      <td>4.0</td>\n",
       "    </tr>\n",
       "    <tr>\n",
       "      <th>4</th>\n",
       "      <td>Изменить цвет фона главной страницы, чтобы увеличить вовлеченность пользователей</td>\n",
       "      <td>3.0</td>\n",
       "    </tr>\n",
       "  </tbody>\n",
       "</table>\n",
       "</div>"
      ],
      "text/plain": [
       "                                                                                                     Hypothesis  \\\n",
       "7              Добавить форму подписки на все основные страницы, чтобы собрать базу клиентов для email-рассылок   \n",
       "2  Добавить блоки рекомендаций товаров на сайт интернет магазина, чтобы повысить конверсию и средний чек заказа   \n",
       "0            Добавить два новых канала привлечения трафика, что позволит привлекать на 30% больше пользователей   \n",
       "6          Показать на главной странице баннеры с актуальными акциями и распродажами, чтобы увеличить конверсию   \n",
       "8                                                       Запустить акцию, дающую скидку на товар в день рождения   \n",
       "3           Изменить структура категорий, что увеличит конверсию, т.к. пользователи быстрее найдут нужный товар   \n",
       "1                                     Запустить собственную службу доставки, что сократит срок доставки заказов   \n",
       "5                      Добавить страницу отзывов клиентов о магазине, что позволит увеличить количество заказов   \n",
       "4                              Изменить цвет фона главной страницы, чтобы увеличить вовлеченность пользователей   \n",
       "\n",
       "    RICE  \n",
       "7  112.0  \n",
       "2   56.0  \n",
       "0   40.0  \n",
       "6   40.0  \n",
       "8   16.2  \n",
       "3    9.0  \n",
       "1    4.0  \n",
       "5    4.0  \n",
       "4    3.0  "
      ]
     },
     "metadata": {},
     "output_type": "display_data"
    }
   ],
   "source": [
    "hypothesis['RICE'] = hypothesis['Reach'] * hypothesis['Impact'] * hypothesis['Confidence'] / hypothesis ['Efforts']\n",
    "hypothes_rice  = hypothesis[['Hypothesis','RICE']].sort_values(by='RICE', ascending=False).round(2)\n",
    "pd.options.display.max_colwidth = 150\n",
    "display(hypothes_rice)"
   ]
  },
  {
   "cell_type": "markdown",
   "metadata": {},
   "source": [
    "**Вывод:**  \n",
    "В случае применения фреймворка ICE наибольшую оценку получили гипотезы:  \n",
    "- Запустить акцию, дающую скидку на товар в день рождения  \n",
    "- Добавить два новых канала привлечения трафика, что позволит привлекать на 30% больше пользователей  \n",
    "- Добавить форму подписки на все основные страницы, чтобы собрать базу клиентов для email-рассылок  \n",
    "\n",
    "После применения фреймворка RICE наибольшую получили гипотезы:  \n",
    "- Добавить форму подписки на все основные страницы, чтобы собрать базу клиентов для email-рассылок  \n",
    "- Добавить блоки рекомендаций товаров на сайт интернет магазина, чтобы повысить конверсию и средний чек заказа  \n",
    "- Добавить два новых канала привлечения трафика, что позволит привлекать на 30% больше пользователей\n",
    "- Показать на главной странице баннеры с актуальными акциями и распродажами, чтобы увеличить конверсию  \n",
    "\n",
    "Изменение распределения рейтинга связано с тем, что фреймворк RICE включает в себя показатель охвата пользователей."
   ]
  },
  {
   "cell_type": "markdown",
   "metadata": {},
   "source": [
    "## Анализ А/В-теста"
   ]
  },
  {
   "cell_type": "markdown",
   "metadata": {},
   "source": [
    "### Загрузим данные из файла в датафрейм"
   ]
  },
  {
   "cell_type": "code",
   "execution_count": 5,
   "metadata": {},
   "outputs": [
    {
     "data": {
      "text/html": [
       "<div>\n",
       "<style scoped>\n",
       "    .dataframe tbody tr th:only-of-type {\n",
       "        vertical-align: middle;\n",
       "    }\n",
       "\n",
       "    .dataframe tbody tr th {\n",
       "        vertical-align: top;\n",
       "    }\n",
       "\n",
       "    .dataframe thead th {\n",
       "        text-align: right;\n",
       "    }\n",
       "</style>\n",
       "<table border=\"1\" class=\"dataframe\">\n",
       "  <thead>\n",
       "    <tr style=\"text-align: right;\">\n",
       "      <th></th>\n",
       "      <th>transactionId</th>\n",
       "      <th>visitorId</th>\n",
       "      <th>date</th>\n",
       "      <th>revenue</th>\n",
       "      <th>group</th>\n",
       "    </tr>\n",
       "  </thead>\n",
       "  <tbody>\n",
       "    <tr>\n",
       "      <th>0</th>\n",
       "      <td>3667963787</td>\n",
       "      <td>3312258926</td>\n",
       "      <td>2019-08-15</td>\n",
       "      <td>1650</td>\n",
       "      <td>B</td>\n",
       "    </tr>\n",
       "    <tr>\n",
       "      <th>1</th>\n",
       "      <td>2804400009</td>\n",
       "      <td>3642806036</td>\n",
       "      <td>2019-08-15</td>\n",
       "      <td>730</td>\n",
       "      <td>B</td>\n",
       "    </tr>\n",
       "    <tr>\n",
       "      <th>2</th>\n",
       "      <td>2961555356</td>\n",
       "      <td>4069496402</td>\n",
       "      <td>2019-08-15</td>\n",
       "      <td>400</td>\n",
       "      <td>A</td>\n",
       "    </tr>\n",
       "    <tr>\n",
       "      <th>3</th>\n",
       "      <td>3797467345</td>\n",
       "      <td>1196621759</td>\n",
       "      <td>2019-08-15</td>\n",
       "      <td>9759</td>\n",
       "      <td>B</td>\n",
       "    </tr>\n",
       "    <tr>\n",
       "      <th>4</th>\n",
       "      <td>2282983706</td>\n",
       "      <td>2322279887</td>\n",
       "      <td>2019-08-15</td>\n",
       "      <td>2308</td>\n",
       "      <td>B</td>\n",
       "    </tr>\n",
       "  </tbody>\n",
       "</table>\n",
       "</div>"
      ],
      "text/plain": [
       "   transactionId   visitorId        date  revenue group\n",
       "0     3667963787  3312258926  2019-08-15     1650     B\n",
       "1     2804400009  3642806036  2019-08-15      730     B\n",
       "2     2961555356  4069496402  2019-08-15      400     A\n",
       "3     3797467345  1196621759  2019-08-15     9759     B\n",
       "4     2282983706  2322279887  2019-08-15     2308     B"
      ]
     },
     "metadata": {},
     "output_type": "display_data"
    }
   ],
   "source": [
    "orders = pd.read_csv('orders.csv')\n",
    "display(orders.head(5))"
   ]
  },
  {
   "cell_type": "markdown",
   "metadata": {},
   "source": [
    "**Описание данных:**  \n",
    "transactionId — идентификатор заказа;  \n",
    "visitorId — идентификатор пользователя, совершившего заказ;  \n",
    "date — дата, когда был совершён заказ;  \n",
    "revenue — выручка заказа;  \n",
    "group — группа A/B-теста, в которую попал заказ."
   ]
  },
  {
   "cell_type": "code",
   "execution_count": 6,
   "metadata": {},
   "outputs": [
    {
     "name": "stdout",
     "output_type": "stream",
     "text": [
      "<class 'pandas.core.frame.DataFrame'>\n",
      "RangeIndex: 1197 entries, 0 to 1196\n",
      "Data columns (total 5 columns):\n",
      " #   Column         Non-Null Count  Dtype \n",
      "---  ------         --------------  ----- \n",
      " 0   transactionId  1197 non-null   int64 \n",
      " 1   visitorId      1197 non-null   int64 \n",
      " 2   date           1197 non-null   object\n",
      " 3   revenue        1197 non-null   int64 \n",
      " 4   group          1197 non-null   object\n",
      "dtypes: int64(3), object(2)\n",
      "memory usage: 46.9+ KB\n"
     ]
    }
   ],
   "source": [
    "orders.info()"
   ]
  },
  {
   "cell_type": "code",
   "execution_count": 7,
   "metadata": {},
   "outputs": [],
   "source": [
    "# преобразуем дату в приемлемый формат\n",
    "orders['date'] = orders['date'].map(lambda x: dt.datetime.strptime(x, '%Y-%m-%d'))"
   ]
  },
  {
   "cell_type": "code",
   "execution_count": 8,
   "metadata": {},
   "outputs": [
    {
     "data": {
      "text/html": [
       "<div>\n",
       "<style scoped>\n",
       "    .dataframe tbody tr th:only-of-type {\n",
       "        vertical-align: middle;\n",
       "    }\n",
       "\n",
       "    .dataframe tbody tr th {\n",
       "        vertical-align: top;\n",
       "    }\n",
       "\n",
       "    .dataframe thead th {\n",
       "        text-align: right;\n",
       "    }\n",
       "</style>\n",
       "<table border=\"1\" class=\"dataframe\">\n",
       "  <thead>\n",
       "    <tr style=\"text-align: right;\">\n",
       "      <th></th>\n",
       "      <th>date</th>\n",
       "      <th>group</th>\n",
       "      <th>visitors</th>\n",
       "    </tr>\n",
       "  </thead>\n",
       "  <tbody>\n",
       "    <tr>\n",
       "      <th>0</th>\n",
       "      <td>2019-08-01</td>\n",
       "      <td>A</td>\n",
       "      <td>719</td>\n",
       "    </tr>\n",
       "    <tr>\n",
       "      <th>1</th>\n",
       "      <td>2019-08-02</td>\n",
       "      <td>A</td>\n",
       "      <td>619</td>\n",
       "    </tr>\n",
       "    <tr>\n",
       "      <th>2</th>\n",
       "      <td>2019-08-03</td>\n",
       "      <td>A</td>\n",
       "      <td>507</td>\n",
       "    </tr>\n",
       "    <tr>\n",
       "      <th>3</th>\n",
       "      <td>2019-08-04</td>\n",
       "      <td>A</td>\n",
       "      <td>717</td>\n",
       "    </tr>\n",
       "    <tr>\n",
       "      <th>4</th>\n",
       "      <td>2019-08-05</td>\n",
       "      <td>A</td>\n",
       "      <td>756</td>\n",
       "    </tr>\n",
       "  </tbody>\n",
       "</table>\n",
       "</div>"
      ],
      "text/plain": [
       "         date group  visitors\n",
       "0  2019-08-01     A       719\n",
       "1  2019-08-02     A       619\n",
       "2  2019-08-03     A       507\n",
       "3  2019-08-04     A       717\n",
       "4  2019-08-05     A       756"
      ]
     },
     "metadata": {},
     "output_type": "display_data"
    }
   ],
   "source": [
    "visitors = pd.read_csv('visitors.csv')\n",
    "display(visitors.head(5))"
   ]
  },
  {
   "cell_type": "markdown",
   "metadata": {},
   "source": [
    "**Описание данных:**  \n",
    "transactionId — идентификатор заказа;  \n",
    "visitorId — идентификатор пользователя, совершившего заказ;  \n",
    "date — дата, когда был совершён заказ;   \n",
    "revenue — выручка заказа;  \n",
    "group — группа A/B-теста, в которую попал заказ."
   ]
  },
  {
   "cell_type": "code",
   "execution_count": 9,
   "metadata": {},
   "outputs": [
    {
     "name": "stdout",
     "output_type": "stream",
     "text": [
      "<class 'pandas.core.frame.DataFrame'>\n",
      "RangeIndex: 62 entries, 0 to 61\n",
      "Data columns (total 3 columns):\n",
      " #   Column    Non-Null Count  Dtype \n",
      "---  ------    --------------  ----- \n",
      " 0   date      62 non-null     object\n",
      " 1   group     62 non-null     object\n",
      " 2   visitors  62 non-null     int64 \n",
      "dtypes: int64(1), object(2)\n",
      "memory usage: 1.6+ KB\n"
     ]
    }
   ],
   "source": [
    "visitors.info()"
   ]
  },
  {
   "cell_type": "code",
   "execution_count": 10,
   "metadata": {},
   "outputs": [],
   "source": [
    "# преобразуем дату в приемлемый формат\n",
    "visitors['date'] = visitors['date'].map(lambda x: dt.datetime.strptime(x, '%Y-%m-%d'))"
   ]
  },
  {
   "cell_type": "markdown",
   "metadata": {},
   "source": [
    "### Построим график кумулятивной выручки по группам."
   ]
  },
  {
   "cell_type": "code",
   "execution_count": 11,
   "metadata": {},
   "outputs": [
    {
     "data": {
      "text/html": [
       "<div>\n",
       "<style scoped>\n",
       "    .dataframe tbody tr th:only-of-type {\n",
       "        vertical-align: middle;\n",
       "    }\n",
       "\n",
       "    .dataframe tbody tr th {\n",
       "        vertical-align: top;\n",
       "    }\n",
       "\n",
       "    .dataframe thead th {\n",
       "        text-align: right;\n",
       "    }\n",
       "</style>\n",
       "<table border=\"1\" class=\"dataframe\">\n",
       "  <thead>\n",
       "    <tr style=\"text-align: right;\">\n",
       "      <th></th>\n",
       "      <th>date</th>\n",
       "      <th>group</th>\n",
       "      <th>orders</th>\n",
       "      <th>buyers</th>\n",
       "      <th>revenue</th>\n",
       "      <th>visitors</th>\n",
       "    </tr>\n",
       "  </thead>\n",
       "  <tbody>\n",
       "    <tr>\n",
       "      <th>0</th>\n",
       "      <td>2019-08-01</td>\n",
       "      <td>A</td>\n",
       "      <td>24</td>\n",
       "      <td>20</td>\n",
       "      <td>148579</td>\n",
       "      <td>719</td>\n",
       "    </tr>\n",
       "    <tr>\n",
       "      <th>1</th>\n",
       "      <td>2019-08-01</td>\n",
       "      <td>B</td>\n",
       "      <td>21</td>\n",
       "      <td>20</td>\n",
       "      <td>101217</td>\n",
       "      <td>713</td>\n",
       "    </tr>\n",
       "    <tr>\n",
       "      <th>2</th>\n",
       "      <td>2019-08-02</td>\n",
       "      <td>A</td>\n",
       "      <td>44</td>\n",
       "      <td>38</td>\n",
       "      <td>242401</td>\n",
       "      <td>1338</td>\n",
       "    </tr>\n",
       "    <tr>\n",
       "      <th>3</th>\n",
       "      <td>2019-08-02</td>\n",
       "      <td>B</td>\n",
       "      <td>45</td>\n",
       "      <td>43</td>\n",
       "      <td>266748</td>\n",
       "      <td>1294</td>\n",
       "    </tr>\n",
       "    <tr>\n",
       "      <th>4</th>\n",
       "      <td>2019-08-03</td>\n",
       "      <td>A</td>\n",
       "      <td>68</td>\n",
       "      <td>62</td>\n",
       "      <td>354874</td>\n",
       "      <td>1845</td>\n",
       "    </tr>\n",
       "  </tbody>\n",
       "</table>\n",
       "</div>"
      ],
      "text/plain": [
       "        date group  orders  buyers  revenue  visitors\n",
       "0 2019-08-01     A      24      20   148579       719\n",
       "1 2019-08-01     B      21      20   101217       713\n",
       "2 2019-08-02     A      44      38   242401      1338\n",
       "3 2019-08-02     B      45      43   266748      1294\n",
       "4 2019-08-03     A      68      62   354874      1845"
      ]
     },
     "metadata": {},
     "output_type": "display_data"
    }
   ],
   "source": [
    "# создадим датафрейм c уникальными парами значений 'date' и 'group', таблицы orders\n",
    "datesGroups = orders[['date', 'group']].drop_duplicates()\n",
    "\n",
    "# получаем агрегированные кумулятивные по дням данные о заказах \n",
    "ordersAggregated = datesGroups.apply(lambda x:orders[\n",
    "    np.logical_and(orders['date'] <= x['date'], orders['group'] == x['group'])]\n",
    "                                     .agg({'date':'max', \n",
    "                                           'group':'max', \n",
    "                                           'transactionId':'nunique', \n",
    "                                           'visitorId':'nunique', \n",
    "                                           'revenue':'sum'}), axis=1)\\\n",
    "                                     .sort_values(by=['date', 'group'])\n",
    "\n",
    "# получаем агрегированные кумулятивные по дням данные о посетителях интернет-магазина \n",
    "visitorsAggregated = datesGroups.apply(lambda x:visitors[\n",
    "    np.logical_and(visitors['date'] <= x['date'], visitors['group'] ==x['group'])]                                       \n",
    "                                         .agg({'date':'max',\n",
    "                                               'group': 'max',\n",
    "                                               'visitors':'sum'}),axis=1)\\\n",
    "                                         .sort_values(by=['date','group'])\n",
    "\n",
    "# Определим переменную cumulativeData, объединив ordersAggregated и visitorsAggregated по колонкам 'date', 'group'\n",
    "cumulativeData = ordersAggregated.merge(visitorsAggregated, left_on = ['date', 'group'], right_on = ['date', 'group'])\n",
    "\n",
    "cumulativeData.columns = ['date', 'group', 'orders', 'buyers', 'revenue', 'visitors']\n",
    "\n",
    "display(cumulativeData.head(5))"
   ]
  },
  {
   "cell_type": "code",
   "execution_count": 12,
   "metadata": {},
   "outputs": [
    {
     "name": "stdout",
     "output_type": "stream",
     "text": [
      "Пользователи, попавшие в обе группы: 58\n"
     ]
    }
   ],
   "source": [
    "# проверим не попадают ли какие-то пользователи в обе группы - по таблице с заказами\n",
    "duplicate = orders.groupby(['visitorId']).agg({'group' : 'nunique', \n",
    "                                                    'transactionId' : 'count', \n",
    "                                                    'revenue' : 'sum'}).reset_index()\n",
    "duplicate_v = duplicate[duplicate.group != 1][\"visitorId\"]\n",
    "print(f'Пользователи, попавшие в обе группы: {duplicate_v.count()}')"
   ]
  },
  {
   "cell_type": "markdown",
   "metadata": {},
   "source": [
    "Количество пользователей попавших в обе группы не значительно (примерно 5% от общего числа) можно исключить их из расчетов для более корректного отражения результатов."
   ]
  },
  {
   "cell_type": "code",
   "execution_count": 13,
   "metadata": {},
   "outputs": [],
   "source": [
    "orders = orders.query('visitorId not in @duplicate_v')"
   ]
  },
  {
   "cell_type": "code",
   "execution_count": 14,
   "metadata": {},
   "outputs": [
    {
     "data": {
      "image/png": "[encoded data removed]",
      "text/plain": [
       "<Figure size 1500x400 with 1 Axes>"
      ]
     },
     "metadata": {},
     "output_type": "display_data"
    }
   ],
   "source": [
    "# Объявим переменные cumulativeRevenueA и cumulativeRevenueB, \n",
    "# в которых сохраним данные о датах, выручке и числе заказов в группах A и B\n",
    "cumulativeRevenueA = cumulativeData[cumulativeData['group']=='A'][['date','revenue', 'orders']]\n",
    "cumulativeRevenueB = cumulativeData[cumulativeData['group']=='B'][['date','revenue', 'orders']]\n",
    "\n",
    "# построим график выручки по группам\n",
    "plt.figure(figsize=(15,4))\n",
    "plt.plot(cumulativeRevenueA['date'], cumulativeRevenueA['revenue'], label='A')\n",
    "plt.plot(cumulativeRevenueB['date'], cumulativeRevenueB['revenue'], label='B')\n",
    "plt.xlabel('Дата')\n",
    "plt.ylabel('Выручка')\n",
    "plt.title(\"Кумулятивная выручка по дням и группам A/B-тестирования\")\n",
    "plt.legend()\n",
    "plt.show();"
   ]
  },
  {
   "cell_type": "markdown",
   "metadata": {},
   "source": [
    "С самого начала теста группа В лидировала по продажам, а после 20.08.2019 наблюдается резкий скачек выручки этой группы. Вероятнее всего это связано с анамально большими заказами. При заключительном анализе их нужно удалить."
   ]
  },
  {
   "cell_type": "markdown",
   "metadata": {},
   "source": [
    "### Построим графики кумулятивного среднего чека по группам"
   ]
  },
  {
   "cell_type": "code",
   "execution_count": 15,
   "metadata": {},
   "outputs": [
    {
     "data": {
      "image/png": "[encoded data removed]",
      "text/plain": [
       "<Figure size 1500x400 with 1 Axes>"
      ]
     },
     "metadata": {},
     "output_type": "display_data"
    }
   ],
   "source": [
    "plt.figure(figsize=(15,4))\n",
    "plt. plot(cumulativeRevenueA['date'], cumulativeRevenueA['revenue']/cumulativeRevenueA['orders'], label='A')\n",
    "plt. plot(cumulativeRevenueB['date'], cumulativeRevenueB['revenue']/cumulativeRevenueB['orders'], label='B')\n",
    "plt.xlabel('Дата')\n",
    "plt.ylabel('Средний чек')\n",
    "plt.title(\"Кумулятивный средний чек по дням и группам A/B-тестирования\")\n",
    "plt.legend()\n",
    "plt.show();"
   ]
  },
  {
   "cell_type": "markdown",
   "metadata": {},
   "source": [
    "Кумулятивное значение среднего чека группы В также в целом выше чем у группы А, также наблюдается сильный скачек стоимости среднего чека по группе В после 20.08.2019 как и на предыдущем графике. Очевидно, здесь есть влияние выбросов"
   ]
  },
  {
   "cell_type": "markdown",
   "metadata": {},
   "source": [
    "### Построим график относительного изменения кумулятивного среднего чека группы В к группе А"
   ]
  },
  {
   "cell_type": "code",
   "execution_count": 16,
   "metadata": {},
   "outputs": [
    {
     "data": {
      "image/png": "[encoded data removed]",
      "text/plain": [
       "<Figure size 1500x400 with 1 Axes>"
      ]
     },
     "metadata": {},
     "output_type": "display_data"
    }
   ],
   "source": [
    "# Объединим таблицы cumulativeRevenueA и cumulativeRevenueB\n",
    "mergedCumulativeRevenue = cumulativeRevenueA.merge(cumulativeRevenueB, left_on='date', right_on='date', suffixes=['A', 'B'])\n",
    "\n",
    "# строим график относительного изменения кумулятивного среднего чека\n",
    "plt.figure(figsize=(15,4))\n",
    "plt.plot(mergedCumulativeRevenue['date'], (mergedCumulativeRevenue['revenueB']/mergedCumulativeRevenue['ordersB'])/\n",
    "         (mergedCumulativeRevenue['revenueA']/mergedCumulativeRevenue['ordersA'])-1)\n",
    "plt.xlabel('Дата')\n",
    "plt.ylabel('Различия среднего чека')\n",
    "plt.title(\"Относительного изменения кумулятивного среднего чека\")\n",
    "plt.axhline(y=0, color='black', linestyle='--')\n",
    "plt.show();"
   ]
  },
  {
   "cell_type": "markdown",
   "metadata": {},
   "source": [
    "Результаты теста значительно меняются в несколько дат. Возможно тогда и были совершены аномальные заказы."
   ]
  },
  {
   "cell_type": "markdown",
   "metadata": {},
   "source": [
    "### Построим график кумулятивного среденего количества заказов на посетителя по группам."
   ]
  },
  {
   "cell_type": "code",
   "execution_count": 17,
   "metadata": {},
   "outputs": [
    {
     "data": {
      "image/png": "[encoded data removed]",
      "text/plain": [
       "<Figure size 1500x400 with 1 Axes>"
      ]
     },
     "metadata": {},
     "output_type": "display_data"
    }
   ],
   "source": [
    "# считаем кумулятивную конверсию\n",
    "cumulativeData['conversion'] = cumulativeData['orders']/cumulativeData['visitors']\n",
    "# отделяем данные по группе А\n",
    "cumulativeDataA = cumulativeData[cumulativeData['group'] == 'A']\n",
    "# отделяем данные по группе В\n",
    "cumulativeDataB = cumulativeData[cumulativeData['group'] == 'B']\n",
    "# строим график\n",
    "plt.figure(figsize=(15,4))\n",
    "plt.plot(cumulativeDataA['date'],cumulativeDataA['conversion'], label='A')\n",
    "plt.plot(cumulativeDataB['date'],cumulativeDataB['conversion'], label='B')\n",
    "plt.xlabel('Дата')\n",
    "plt.ylabel('Различия среднего чека')\n",
    "plt.title(\"Изменения кумулятивного среденего количества заказов\")\n",
    "plt.legend()\n",
    "# задаем масштаб осей\n",
    "plt.axis([dt.datetime(2019, 8, 1), dt.datetime(2019, 9, 1), 0, 0.05]);"
   ]
  },
  {
   "cell_type": "markdown",
   "metadata": {},
   "source": [
    "В начале сигмент А имел большую конверсию, но постепенно сигмент В выровнялся и зафиксировался на одном значении, больше значения сигмента А. "
   ]
  },
  {
   "cell_type": "markdown",
   "metadata": {},
   "source": [
    "### Построим график относительного изменения кумулятивного среднего количества заказов на посетителя группы B к группе A. "
   ]
  },
  {
   "cell_type": "code",
   "execution_count": 18,
   "metadata": {},
   "outputs": [
    {
     "data": {
      "image/png": "[encoded data removed]",
      "text/plain": [
       "<Figure size 1500x400 with 1 Axes>"
      ]
     },
     "metadata": {},
     "output_type": "display_data"
    }
   ],
   "source": [
    "# Объединим таблицы cumulativeDataA и cumulativeDataB\n",
    "mergedCumulativeConversions = cumulativeDataA[['date', 'conversion']].merge(\n",
    "    cumulativeDataB[['date', 'conversion']], left_on='date', right_on='date', how='left', suffixes=['A','B']\n",
    ")\n",
    "plt.figure(figsize=(15,4))\n",
    "plt.plot(mergedCumulativeConversions['date'],\n",
    "         mergedCumulativeConversions['conversionB']/mergedCumulativeConversions['conversionA']-1,\n",
    "         label='Относительный прирост конверсии группа В относительно группы А')\n",
    "plt.xlabel('Дата')\n",
    "plt.ylabel('Конверсия')\n",
    "plt.title(\"Относительный прирост конверсии группы В относительно группы А\")\n",
    "plt.legend()\n",
    "plt.axhline(y=0, color='black', linestyle='--')\n",
    "plt.axhline(y=0.2, color='grey', linestyle='--');"
   ]
  },
  {
   "cell_type": "markdown",
   "metadata": {},
   "source": [
    "Почти с самого начала теста группа В лидирует по конверсии: не смотря на некоторое снижение к концу периода прирост составил 10-15% относительно группы А."
   ]
  },
  {
   "cell_type": "markdown",
   "metadata": {},
   "source": [
    "### Постройте точечный график количества заказов по пользователям."
   ]
  },
  {
   "cell_type": "code",
   "execution_count": 19,
   "metadata": {},
   "outputs": [
    {
     "name": "stdout",
     "output_type": "stream",
     "text": [
      "      visitorId  transactionId\n",
      "908  3967698036              3\n",
      "55    249864742              3\n",
      "478  2108163459              3\n",
      "687  2988190573              3\n",
      "890  3908431265              3\n",
      "138   611059232              3\n",
      "632  2742574263              3\n",
      "157   678354126              2\n",
      "323  1404560065              2\n",
      "452  1985475298              2\n"
     ]
    },
    {
     "data": {
      "image/png": "[encoded data removed]",
      "text/plain": [
       "<Figure size 1500x400 with 1 Axes>"
      ]
     },
     "metadata": {},
     "output_type": "display_data"
    }
   ],
   "source": [
    "# Найдем число заказов по пользователям\n",
    "ordersByUsers = (\n",
    "    orders.groupby('visitorId', as_index=False)\n",
    "    .agg({'transactionId': 'nunique'})\n",
    "    \n",
    ")\n",
    "ordersByUsers.columns = ['visitorId', 'transactionId']\n",
    "\n",
    "print(ordersByUsers.sort_values(by='transactionId', ascending=False).head(10))\n",
    "\n",
    "# серия из чисел от 0 до количества наблюдений в ordersByUsers\n",
    "x_values = pd.Series(range(0, len(ordersByUsers)))\n",
    "\n",
    "plt.figure(figsize=(15,4))\n",
    "plt.scatter(x_values, ordersByUsers['transactionId'])\n",
    "plt.xlabel('Пользователи')\n",
    "plt.ylabel('Количество заказов')\n",
    "plt.title(\"Количество заказов по пользователям\");"
   ]
  },
  {
   "cell_type": "markdown",
   "metadata": {},
   "source": [
    "Пользователей заказавших более 2 раз очень мало. Это могут быть анамалии. Проверим это посчитав процентили"
   ]
  },
  {
   "cell_type": "markdown",
   "metadata": {},
   "source": [
    "### Посчитаем 95-й и 99-й перцентили количества заказов на пользователя."
   ]
  },
  {
   "cell_type": "code",
   "execution_count": 20,
   "metadata": {},
   "outputs": [
    {
     "name": "stdout",
     "output_type": "stream",
     "text": [
      "[1. 2.]\n"
     ]
    }
   ],
   "source": [
    "print(np.percentile(ordersByUsers['transactionId'], [95,99]))"
   ]
  },
  {
   "cell_type": "markdown",
   "metadata": {},
   "source": [
    "Не более 5% пользователей совершили больше 2 заказов и не более 1% пользователей - больше 2 заказов."
   ]
  },
  {
   "cell_type": "markdown",
   "metadata": {},
   "source": [
    "### Построим точечный график стоимостей заказов"
   ]
  },
  {
   "cell_type": "code",
   "execution_count": 21,
   "metadata": {},
   "outputs": [
    {
     "data": {
      "image/png": "[encoded data removed]",
      "text/plain": [
       "<Figure size 1500x400 with 1 Axes>"
      ]
     },
     "metadata": {},
     "output_type": "display_data"
    }
   ],
   "source": [
    "x_values = pd.Series(range(0, len(orders['revenue'])))\n",
    "\n",
    "plt.figure(figsize=(15,4))\n",
    "plt.scatter(x_values, orders['revenue'])\n",
    "plt.xlabel('Пользователи')\n",
    "plt.ylabel('Стоимость заказов')\n",
    "plt.title(\"Стоимости заказов\");"
   ]
  },
  {
   "cell_type": "markdown",
   "metadata": {},
   "source": [
    "Есть выбросы в районе 200.000 руб. и 1.300.000 руб."
   ]
  },
  {
   "cell_type": "markdown",
   "metadata": {},
   "source": [
    "### Посчитаем 95-й и 99-й перцентили стоимости заказов."
   ]
  },
  {
   "cell_type": "code",
   "execution_count": 22,
   "metadata": {},
   "outputs": [
    {
     "name": "stdout",
     "output_type": "stream",
     "text": [
      "[26785. 53904.]\n"
     ]
    }
   ],
   "source": [
    "print(np.percentile(orders['revenue'], [95,99]))"
   ]
  },
  {
   "cell_type": "markdown",
   "metadata": {},
   "source": [
    "Не более 5% заказов стоимость чека больше 26785 руб. и не более 1% заказов стоимость чека больше 53904 руб."
   ]
  },
  {
   "cell_type": "markdown",
   "metadata": {},
   "source": [
    "### Посчитаем статистическую значимость различий в среднем количестве заказов на посетителя между группами по «сырым» данным."
   ]
  },
  {
   "cell_type": "markdown",
   "metadata": {},
   "source": [
    "Нулевая гипотеза: различий в среднем количестве заказов между группами нет.  \n",
    "Альтернативная гипотеза: различия в среднем между группами есть."
   ]
  },
  {
   "cell_type": "code",
   "execution_count": 23,
   "metadata": {},
   "outputs": [
    {
     "data": {
      "text/html": [
       "<div>\n",
       "<style scoped>\n",
       "    .dataframe tbody tr th:only-of-type {\n",
       "        vertical-align: middle;\n",
       "    }\n",
       "\n",
       "    .dataframe tbody tr th {\n",
       "        vertical-align: top;\n",
       "    }\n",
       "\n",
       "    .dataframe thead th {\n",
       "        text-align: right;\n",
       "    }\n",
       "</style>\n",
       "<table border=\"1\" class=\"dataframe\">\n",
       "  <thead>\n",
       "    <tr style=\"text-align: right;\">\n",
       "      <th></th>\n",
       "      <th>date</th>\n",
       "      <th>ordersPerDateA</th>\n",
       "      <th>revenuePerDateA</th>\n",
       "      <th>ordersPerDateB</th>\n",
       "      <th>revenuePerDateB</th>\n",
       "      <th>ordersCummulativeA</th>\n",
       "      <th>revenueCummulativeA</th>\n",
       "      <th>ordersCummulativeB</th>\n",
       "      <th>revenueCummulativeB</th>\n",
       "      <th>visitorsPerDateA</th>\n",
       "      <th>visitorsPerDateB</th>\n",
       "      <th>visitorsCummulativeA</th>\n",
       "      <th>visitorsCummulativeB</th>\n",
       "    </tr>\n",
       "  </thead>\n",
       "  <tbody>\n",
       "    <tr>\n",
       "      <th>0</th>\n",
       "      <td>2019-08-01</td>\n",
       "      <td>23</td>\n",
       "      <td>142779</td>\n",
       "      <td>17</td>\n",
       "      <td>59758</td>\n",
       "      <td>23</td>\n",
       "      <td>142779</td>\n",
       "      <td>17</td>\n",
       "      <td>59758</td>\n",
       "      <td>719</td>\n",
       "      <td>713</td>\n",
       "      <td>719</td>\n",
       "      <td>713</td>\n",
       "    </tr>\n",
       "    <tr>\n",
       "      <th>1</th>\n",
       "      <td>2019-08-02</td>\n",
       "      <td>19</td>\n",
       "      <td>91602</td>\n",
       "      <td>23</td>\n",
       "      <td>162043</td>\n",
       "      <td>42</td>\n",
       "      <td>234381</td>\n",
       "      <td>40</td>\n",
       "      <td>221801</td>\n",
       "      <td>619</td>\n",
       "      <td>581</td>\n",
       "      <td>1338</td>\n",
       "      <td>1294</td>\n",
       "    </tr>\n",
       "    <tr>\n",
       "      <th>2</th>\n",
       "      <td>2019-08-03</td>\n",
       "      <td>24</td>\n",
       "      <td>112473</td>\n",
       "      <td>14</td>\n",
       "      <td>67049</td>\n",
       "      <td>66</td>\n",
       "      <td>346854</td>\n",
       "      <td>54</td>\n",
       "      <td>288850</td>\n",
       "      <td>507</td>\n",
       "      <td>509</td>\n",
       "      <td>1845</td>\n",
       "      <td>1803</td>\n",
       "    </tr>\n",
       "    <tr>\n",
       "      <th>3</th>\n",
       "      <td>2019-08-04</td>\n",
       "      <td>11</td>\n",
       "      <td>41176</td>\n",
       "      <td>14</td>\n",
       "      <td>96890</td>\n",
       "      <td>77</td>\n",
       "      <td>388030</td>\n",
       "      <td>68</td>\n",
       "      <td>385740</td>\n",
       "      <td>717</td>\n",
       "      <td>770</td>\n",
       "      <td>2562</td>\n",
       "      <td>2573</td>\n",
       "    </tr>\n",
       "    <tr>\n",
       "      <th>4</th>\n",
       "      <td>2019-08-05</td>\n",
       "      <td>22</td>\n",
       "      <td>86383</td>\n",
       "      <td>21</td>\n",
       "      <td>89908</td>\n",
       "      <td>99</td>\n",
       "      <td>474413</td>\n",
       "      <td>89</td>\n",
       "      <td>475648</td>\n",
       "      <td>756</td>\n",
       "      <td>707</td>\n",
       "      <td>3318</td>\n",
       "      <td>3280</td>\n",
       "    </tr>\n",
       "  </tbody>\n",
       "</table>\n",
       "</div>"
      ],
      "text/plain": [
       "        date  ordersPerDateA  revenuePerDateA  ordersPerDateB  \\\n",
       "0 2019-08-01              23           142779              17   \n",
       "1 2019-08-02              19            91602              23   \n",
       "2 2019-08-03              24           112473              14   \n",
       "3 2019-08-04              11            41176              14   \n",
       "4 2019-08-05              22            86383              21   \n",
       "\n",
       "   revenuePerDateB  ordersCummulativeA  revenueCummulativeA  \\\n",
       "0            59758                  23               142779   \n",
       "1           162043                  42               234381   \n",
       "2            67049                  66               346854   \n",
       "3            96890                  77               388030   \n",
       "4            89908                  99               474413   \n",
       "\n",
       "   ordersCummulativeB  revenueCummulativeB  visitorsPerDateA  \\\n",
       "0                  17                59758               719   \n",
       "1                  40               221801               619   \n",
       "2                  54               288850               507   \n",
       "3                  68               385740               717   \n",
       "4                  89               475648               756   \n",
       "\n",
       "   visitorsPerDateB  visitorsCummulativeA  visitorsCummulativeB  \n",
       "0               713                   719                   713  \n",
       "1               581                  1338                  1294  \n",
       "2               509                  1845                  1803  \n",
       "3               770                  2562                  2573  \n",
       "4               707                  3318                  3280  "
      ]
     },
     "metadata": {},
     "output_type": "display_data"
    }
   ],
   "source": [
    "visitorsADaily = visitors[visitors['group'] == 'A'][['date', 'visitors']]\n",
    "visitorsADaily.columns = ['date', 'visitorsPerDateA']\n",
    "\n",
    "visitorsACummulative = visitorsADaily.apply(\n",
    "    lambda x: visitorsADaily[visitorsADaily['date'] <= x['date']].agg(\n",
    "        {'date': 'max', 'visitorsPerDateA': 'sum'}\n",
    "    ),\n",
    "    axis=1,\n",
    ")\n",
    "visitorsACummulative.columns = ['date', 'visitorsCummulativeA']\n",
    "\n",
    "visitorsBDaily = visitors[visitors['group'] == 'B'][['date', 'visitors']]\n",
    "visitorsBDaily.columns = ['date', 'visitorsPerDateB']\n",
    "\n",
    "visitorsBCummulative = visitorsBDaily.apply(\n",
    "    lambda x: visitorsBDaily[visitorsBDaily['date'] <= x['date']].agg(\n",
    "        {'date': 'max', 'visitorsPerDateB': 'sum'}\n",
    "    ),\n",
    "    axis=1,\n",
    ")\n",
    "visitorsBCummulative.columns = ['date', 'visitorsCummulativeB']\n",
    "\n",
    "ordersADaily = (\n",
    "    orders[orders['group'] == 'A'][['date', 'transactionId', 'visitorId', 'revenue']]\n",
    "    .groupby('date', as_index=False)\n",
    "    .agg({'transactionId': pd.Series.nunique, 'revenue': 'sum'})\n",
    ")\n",
    "ordersADaily.columns = ['date', 'ordersPerDateA', 'revenuePerDateA']\n",
    "\n",
    "ordersACummulative = ordersADaily.apply(\n",
    "    lambda x: ordersADaily[ordersADaily['date'] <= x['date']].agg(\n",
    "        {'date': 'max', 'ordersPerDateA': 'sum', 'revenuePerDateA': 'sum'}\n",
    "    ),\n",
    "    axis=1,\n",
    ").sort_values(by=['date'])\n",
    "ordersACummulative.columns = [\n",
    "    'date',\n",
    "    'ordersCummulativeA',\n",
    "    'revenueCummulativeA',\n",
    "]\n",
    "\n",
    "ordersBDaily = (\n",
    "    orders[orders['group'] == 'B'][['date', 'transactionId', 'visitorId', 'revenue']]\n",
    "    .groupby('date', as_index=False)\n",
    "    .agg({'transactionId': pd.Series.nunique, 'revenue': 'sum'})\n",
    ")\n",
    "ordersBDaily.columns = ['date', 'ordersPerDateB', 'revenuePerDateB']\n",
    "\n",
    "ordersBCummulative = ordersBDaily.apply(\n",
    "    lambda x: ordersBDaily[ordersBDaily['date'] <= x['date']].agg(\n",
    "        {'date': 'max', 'ordersPerDateB': 'sum', 'revenuePerDateB': 'sum'}\n",
    "    ),\n",
    "    axis=1,\n",
    ").sort_values(by=['date'])\n",
    "ordersBCummulative.columns = [\n",
    "    'date',\n",
    "    'ordersCummulativeB',\n",
    "    'revenueCummulativeB',\n",
    "]\n",
    "\n",
    "data = (\n",
    "    ordersADaily.merge(\n",
    "        ordersBDaily, left_on='date', right_on='date', how='left'\n",
    "    )\n",
    "    .merge(ordersACummulative, left_on='date', right_on='date', how='left')\n",
    "    .merge(ordersBCummulative, left_on='date', right_on='date', how='left')\n",
    "    .merge(visitorsADaily, left_on='date', right_on='date', how='left')\n",
    "    .merge(visitorsBDaily, left_on='date', right_on='date', how='left')\n",
    "    .merge(visitorsACummulative, left_on='date', right_on='date', how='left')\n",
    "    .merge(visitorsBCummulative, left_on='date', right_on='date', how='left')\n",
    ")\n",
    "\n",
    "display(data.head(5)) "
   ]
  },
  {
   "cell_type": "code",
   "execution_count": 24,
   "metadata": {},
   "outputs": [],
   "source": [
    "# Создадим переменные ordersByUsersA и ordersByUsersB. \n",
    "# В них для пользователей, которые заказывали хотя бы 1 раз, укажем число совершённых заказов.\n",
    "ordersByUsersA = (\n",
    "    orders[orders['group'] == 'A']\n",
    "    .groupby('visitorId', as_index=False)\n",
    "    .agg({'transactionId': pd.Series.nunique})\n",
    ")\n",
    "ordersByUsersA.columns = ['visitorId', 'transactionId']\n",
    "\n",
    "ordersByUsersB = (\n",
    "    orders[orders['group'] == 'B']\n",
    "    .groupby('visitorId', as_index=False)\n",
    "    .agg({'transactionId': pd.Series.nunique})\n",
    ")\n",
    "ordersByUsersB.columns = ['visitorId', 'transactionId'] \n"
   ]
  },
  {
   "cell_type": "code",
   "execution_count": 25,
   "metadata": {},
   "outputs": [],
   "source": [
    "# Объявим переменные sampleA и sampleB, в которых пользователям из разных групп будет соответствовать количество заказов. \n",
    "# Тем, кто ничего не заказал, будут соответствовать нули. \n",
    "sampleA = pd.concat(\n",
    "    [\n",
    "        ordersByUsersA['transactionId'],\n",
    "        pd.Series(0, index=np.arange(data['visitorsPerDateA'].sum() - len(ordersByUsersA['transactionId'])), name='orders'),\n",
    "    ],\n",
    "    axis=0,\n",
    ")\n",
    "\n",
    "sampleB = pd.concat(\n",
    "    [\n",
    "        ordersByUsersB['transactionId'],\n",
    "        pd.Series(0, index=np.arange(data['visitorsPerDateB'].sum() - len(ordersByUsersB['transactionId'])), name='orders'),\n",
    "    ],\n",
    "    axis=0,\n",
    ")"
   ]
  },
  {
   "cell_type": "code",
   "execution_count": 26,
   "metadata": {},
   "outputs": [
    {
     "name": "stdout",
     "output_type": "stream",
     "text": [
      "P-value: 0.011\n",
      "Относительные различия: 0.160\n"
     ]
    }
   ],
   "source": [
    "print('P-value:',\"{0:.3f}\".format(st.mannwhitneyu(sampleA, sampleB)[1]))\n",
    "\n",
    "print('Относительные различия:',\"{0:.3f}\".format(sampleB.mean() / sampleA.mean() - 1))"
   ]
  },
  {
   "cell_type": "markdown",
   "metadata": {},
   "source": [
    "P-value меньше 0.05, поэтому отвергаем нулевую гипотезу. По анализу \"сырых данных\" можно сказать, что в среднем количестве заказов между группами есть статистически значимые различия. Относительный прирост среднего группы В к конверсии группы А равен 16%."
   ]
  },
  {
   "cell_type": "markdown",
   "metadata": {},
   "source": [
    "### Посчитаем статистическую значимость различий в среднем чеке заказа между группами по «сырым» данным."
   ]
  },
  {
   "cell_type": "markdown",
   "metadata": {},
   "source": [
    "Нулевая гипотеза: различий в среднем чеке между группами нет.  \n",
    "Альтернативная гипотеза: различия в среднем чеке между группами есть."
   ]
  },
  {
   "cell_type": "code",
   "execution_count": 27,
   "metadata": {},
   "outputs": [
    {
     "name": "stdout",
     "output_type": "stream",
     "text": [
      "P-value: 0.829\n",
      "Относительные различия: 0.287\n"
     ]
    }
   ],
   "source": [
    "print('P-value:','{0:.3f}'.format(st.mannwhitneyu(orders[orders['group']==\"A\"]['revenue'], orders[orders['group']=='B']['revenue'])[1]))\n",
    "\n",
    "print('Относительные различия:','{0:.3f}'.format(orders[orders['group']=='B']['revenue'].mean()/orders[orders['group']=='A']['revenue'].mean()-1))"
   ]
  },
  {
   "cell_type": "markdown",
   "metadata": {},
   "source": [
    "P-value больше 5%, значит статистически значимых различий в среднем чеке между группами нет. Относительное различие чека между сигментами 28,7% полученно случайно."
   ]
  },
  {
   "cell_type": "markdown",
   "metadata": {},
   "source": [
    "### Посчитаем статистическую значимость различий в среднем количестве заказов на посетителя между группами по «очищенным» данным."
   ]
  },
  {
   "cell_type": "markdown",
   "metadata": {},
   "source": [
    "Примем за аномальных пользователей тех, кто совершил от 4 заказов или совершил заказ дороже 30.000 рублей. Так мы уберём 5% пользователей с наибольшим числом заказов и от 1% до 5% пользователей с дорогими заказами. Сделаем срезы пользователей с числом заказов больше 1 — usersWithManyOrders и пользователей, совершивших заказы дороже 20.000 — usersWithExpensiveOrders. Объединим их в таблице abnormalUsers. "
   ]
  },
  {
   "cell_type": "code",
   "execution_count": 28,
   "metadata": {},
   "outputs": [
    {
     "name": "stdout",
     "output_type": "stream",
     "text": [
      "1099    148427295\n",
      "928     204675465\n",
      "33      249864742\n",
      "684     358944393\n",
      "36      366673373\n",
      "Name: visitorId, dtype: int64\n",
      "77\n"
     ]
    }
   ],
   "source": [
    "usersWithManyOrders = pd.concat(\n",
    "    [\n",
    "        ordersByUsersA[ordersByUsersA['transactionId'] > 1]['visitorId'],\n",
    "        ordersByUsersB[ordersByUsersB['transactionId'] > 1]['visitorId'],\n",
    "    ],\n",
    "    axis=0,\n",
    ")\n",
    "usersWithExpensiveOrders = orders[orders['revenue'] > 30000]['visitorId']\n",
    "abnormalUsers = (\n",
    "    pd.concat([usersWithManyOrders, usersWithExpensiveOrders], axis=0)\n",
    "    .drop_duplicates()\n",
    "    .sort_values()\n",
    ")\n",
    "print(abnormalUsers.head(5))\n",
    "print(abnormalUsers.shape[0]) "
   ]
  },
  {
   "cell_type": "markdown",
   "metadata": {},
   "source": [
    "Всего 77 аномальных пользователя. \n",
    "Узнаем, как их действия повлияли на результаты теста. Посчитаем статистическую значимость различий в среднем количестве заказов между группами теста по очищенным данным. Сначала подготовим выборки количества заказов по пользователям по группам теста:"
   ]
  },
  {
   "cell_type": "markdown",
   "metadata": {},
   "source": [
    "Нулевая гипотеза: различий в среднем количестве заказов между группами нет  \n",
    "Альтернативная гипотеза: различи в среднем количестве между группами есть"
   ]
  },
  {
   "cell_type": "code",
   "execution_count": 29,
   "metadata": {},
   "outputs": [],
   "source": [
    "sampleAFiltered = pd.concat(\n",
    "    [\n",
    "        ordersByUsersA[\n",
    "            np.logical_not(ordersByUsersA['visitorId'].isin(abnormalUsers))\n",
    "        ]['transactionId'],\n",
    "        pd.Series(\n",
    "            0,\n",
    "            index=np.arange(\n",
    "                data['visitorsPerDateA'].sum() - len(ordersByUsersA['transactionId'])\n",
    "            ),\n",
    "            name='orders',\n",
    "        ),\n",
    "    ],\n",
    "    axis=0,\n",
    ")\n",
    "\n",
    "sampleBFiltered = pd.concat(\n",
    "    [\n",
    "        ordersByUsersB[\n",
    "            np.logical_not(ordersByUsersB['visitorId'].isin(abnormalUsers))\n",
    "        ]['transactionId'],\n",
    "        pd.Series(\n",
    "            0,\n",
    "            index=np.arange(\n",
    "                data['visitorsPerDateB'].sum() - len(ordersByUsersB['transactionId'])\n",
    "            ),\n",
    "            name='orders',\n",
    "        ),\n",
    "    ],\n",
    "    axis=0,\n",
    ") "
   ]
  },
  {
   "cell_type": "code",
   "execution_count": 30,
   "metadata": {},
   "outputs": [
    {
     "name": "stdout",
     "output_type": "stream",
     "text": [
      "P-value: 0.013\n",
      "Относительные различия: 0.180\n"
     ]
    }
   ],
   "source": [
    "print('P-value:','{0:.3f}'.format(st.mannwhitneyu(sampleAFiltered, sampleBFiltered)[1]))\n",
    "print('Относительные различия:','{0:.3f}'.format(sampleBFiltered.mean()/sampleAFiltered.mean()-1))"
   ]
  },
  {
   "cell_type": "markdown",
   "metadata": {},
   "source": [
    "Как и в случае сырыми данными P-value меньше 0.05, статистическая значимость достигнута. Сегмент В предпочтительнее сегмента А."
   ]
  },
  {
   "cell_type": "markdown",
   "metadata": {},
   "source": [
    "### Посчитаем статистическую значимость различий в среднем чеке заказа между группами по «очищенным» данным. "
   ]
  },
  {
   "cell_type": "markdown",
   "metadata": {},
   "source": [
    "Нулевая гипотеза: различий в среднем чеке между группами нет.  \n",
    "Альтернативная гипотеза: различия в среднем чеке между группами есть."
   ]
  },
  {
   "cell_type": "code",
   "execution_count": 31,
   "metadata": {},
   "outputs": [
    {
     "name": "stdout",
     "output_type": "stream",
     "text": [
      "P-value: 0.829\n",
      "Относительные различия: -0.011\n"
     ]
    }
   ],
   "source": [
    "print('P-value:',\n",
    "    '{0:.3f}'.format(\n",
    "        st.mannwhitneyu(\n",
    "            orders[\n",
    "                np.logical_and(\n",
    "                    orders['group'] == 'A',\n",
    "                    np.logical_not(orders['visitorId'].isin(abnormalUsers)),\n",
    "                )\n",
    "            ]['revenue'],\n",
    "            orders[\n",
    "                np.logical_and(\n",
    "                    orders['group'] == 'B',\n",
    "                    np.logical_not(orders['visitorId'].isin(abnormalUsers)),\n",
    "                )\n",
    "            ]['revenue'],\n",
    "        )[1]\n",
    "    )\n",
    ")\n",
    "\n",
    "print('Относительные различия:',\n",
    "    \"{0:.3f}\".format(\n",
    "        orders[\n",
    "            np.logical_and(\n",
    "                orders['group'] == 'B',\n",
    "                np.logical_not(orders['visitorId'].isin(abnormalUsers)),\n",
    "            )\n",
    "        ]['revenue'].mean()\n",
    "        / orders[\n",
    "            np.logical_and(\n",
    "                orders['group'] == 'A',\n",
    "                np.logical_not(orders['visitorId'].isin(abnormalUsers)),\n",
    "            )\n",
    "        ]['revenue'].mean()\n",
    "        - 1\n",
    "    )\n",
    ") "
   ]
  },
  {
   "cell_type": "markdown",
   "metadata": {},
   "source": [
    "P-value увеличился и также составляет больше 5%, значит статистически значимых различий в среднем чеке между группами нет, относительное различие среднего чека между сигментами 3,1% получено случайно."
   ]
  },
  {
   "cell_type": "markdown",
   "metadata": {},
   "source": [
    "## Вывод"
   ]
  },
  {
   "cell_type": "markdown",
   "metadata": {},
   "source": [
    "- Есть статистически значимое различие по конверсии между группами.  \n",
    "\n",
    "- По сырым данным нет статистически значимого различия по среднему чеку между группами, как и после удаления выбросов.  \n",
    "\n",
    "- График различия конверсии между группами сообщает, что результаты группы B лучше группы A: имеют тенденцию к росту, либо зафиксировались около среднего значения.  \n",
    "\n",
    "- График различия среднего чека колеблется: он-то и позволил вам найти аномалии. Сделать из этого графика определённые выводы нельзя.  \n",
    "\n",
    "По результатам теста можно рекомендовать остановить тест, признать победу группы В."
   ]
  }
 ],
 "metadata": {
  "ExecuteTimeLog": [
   {
    "duration": 1270,
    "start_time": "2023-08-16T12:02:12.109Z"
   },
   {
    "duration": 67,
    "start_time": "2023-08-16T12:05:26.771Z"
   },
   {
    "duration": 11,
    "start_time": "2023-08-16T12:17:05.348Z"
   },
   {
    "duration": 94,
    "start_time": "2023-08-16T12:17:36.479Z"
   },
   {
    "duration": 9,
    "start_time": "2023-08-16T12:18:49.571Z"
   },
   {
    "duration": 10,
    "start_time": "2023-08-16T12:19:17.236Z"
   },
   {
    "duration": 13,
    "start_time": "2023-08-16T12:20:23.458Z"
   },
   {
    "duration": 14,
    "start_time": "2023-08-16T12:22:40.528Z"
   },
   {
    "duration": 14,
    "start_time": "2023-08-16T12:22:56.920Z"
   },
   {
    "duration": 7,
    "start_time": "2023-08-16T12:28:45.968Z"
   },
   {
    "duration": 3,
    "start_time": "2023-08-16T12:29:16.154Z"
   },
   {
    "duration": 1428,
    "start_time": "2023-08-16T12:29:19.897Z"
   },
   {
    "duration": 1942,
    "start_time": "2023-08-16T12:30:14.316Z"
   },
   {
    "duration": 2699,
    "start_time": "2023-08-16T12:38:06.477Z"
   },
   {
    "duration": 996,
    "start_time": "2023-08-16T12:38:27.078Z"
   },
   {
    "duration": 36,
    "start_time": "2023-08-16T12:38:28.076Z"
   },
   {
    "duration": 14,
    "start_time": "2023-08-16T12:38:28.114Z"
   },
   {
    "duration": 31,
    "start_time": "2023-08-16T12:38:28.130Z"
   },
   {
    "duration": 2245,
    "start_time": "2023-08-16T12:39:15.499Z"
   },
   {
    "duration": 13,
    "start_time": "2023-08-16T12:39:30.999Z"
   },
   {
    "duration": 11,
    "start_time": "2023-08-16T12:40:13.031Z"
   },
   {
    "duration": 12,
    "start_time": "2023-08-16T12:41:18.223Z"
   },
   {
    "duration": 11,
    "start_time": "2023-08-16T12:41:44.685Z"
   },
   {
    "duration": 10,
    "start_time": "2023-08-16T12:42:03.733Z"
   },
   {
    "duration": 12,
    "start_time": "2023-08-16T12:44:49.833Z"
   },
   {
    "duration": 47,
    "start_time": "2023-08-16T18:18:07.272Z"
   },
   {
    "duration": 1235,
    "start_time": "2023-08-16T18:18:12.713Z"
   },
   {
    "duration": 71,
    "start_time": "2023-08-16T18:18:13.950Z"
   },
   {
    "duration": 12,
    "start_time": "2023-08-16T18:18:14.022Z"
   },
   {
    "duration": 11,
    "start_time": "2023-08-16T18:18:14.036Z"
   },
   {
    "duration": 139,
    "start_time": "2023-08-16T18:18:14.048Z"
   },
   {
    "duration": 10,
    "start_time": "2023-08-16T18:18:14.189Z"
   },
   {
    "duration": 69,
    "start_time": "2023-08-16T18:20:53.187Z"
   },
   {
    "duration": 8,
    "start_time": "2023-08-16T18:21:09.459Z"
   },
   {
    "duration": 445,
    "start_time": "2023-08-16T18:28:11.032Z"
   },
   {
    "duration": 82,
    "start_time": "2023-08-16T18:28:45.686Z"
   },
   {
    "duration": 383,
    "start_time": "2023-08-16T18:28:55.005Z"
   },
   {
    "duration": 11,
    "start_time": "2023-08-16T18:29:36.438Z"
   },
   {
    "duration": 9,
    "start_time": "2023-08-16T18:29:39.839Z"
   },
   {
    "duration": 1009,
    "start_time": "2023-08-16T18:29:50.414Z"
   },
   {
    "duration": 36,
    "start_time": "2023-08-16T18:29:51.427Z"
   },
   {
    "duration": 13,
    "start_time": "2023-08-16T18:29:51.466Z"
   },
   {
    "duration": 17,
    "start_time": "2023-08-16T18:29:51.480Z"
   },
   {
    "duration": 79,
    "start_time": "2023-08-16T18:29:51.498Z"
   },
   {
    "duration": 10,
    "start_time": "2023-08-16T18:29:51.578Z"
   },
   {
    "duration": 28,
    "start_time": "2023-08-16T18:29:51.589Z"
   },
   {
    "duration": 49,
    "start_time": "2023-08-16T18:29:51.618Z"
   },
   {
    "duration": 12,
    "start_time": "2023-08-16T18:29:51.669Z"
   },
   {
    "duration": 4,
    "start_time": "2023-08-16T18:30:47.362Z"
   },
   {
    "duration": 5,
    "start_time": "2023-08-16T18:32:49.225Z"
   },
   {
    "duration": 110,
    "start_time": "2023-08-16T18:34:18.467Z"
   },
   {
    "duration": 271,
    "start_time": "2023-08-16T18:36:21.033Z"
   },
   {
    "duration": 250,
    "start_time": "2023-08-16T18:36:36.801Z"
   },
   {
    "duration": 266,
    "start_time": "2023-08-16T18:40:44.994Z"
   },
   {
    "duration": 1028,
    "start_time": "2023-08-16T18:43:36.159Z"
   },
   {
    "duration": 37,
    "start_time": "2023-08-16T18:43:37.188Z"
   },
   {
    "duration": 13,
    "start_time": "2023-08-16T18:43:37.226Z"
   },
   {
    "duration": 53,
    "start_time": "2023-08-16T18:43:37.241Z"
   },
   {
    "duration": 56,
    "start_time": "2023-08-16T18:43:37.295Z"
   },
   {
    "duration": 10,
    "start_time": "2023-08-16T18:43:37.352Z"
   },
   {
    "duration": 19,
    "start_time": "2023-08-16T18:43:37.364Z"
   },
   {
    "duration": 23,
    "start_time": "2023-08-16T18:43:37.384Z"
   },
   {
    "duration": 10,
    "start_time": "2023-08-16T18:43:37.409Z"
   },
   {
    "duration": 8,
    "start_time": "2023-08-16T18:43:37.421Z"
   },
   {
    "duration": 273,
    "start_time": "2023-08-16T18:43:37.430Z"
   },
   {
    "duration": 219,
    "start_time": "2023-08-16T18:51:19.115Z"
   },
   {
    "duration": 145,
    "start_time": "2023-08-16T18:51:38.338Z"
   },
   {
    "duration": 226,
    "start_time": "2023-08-16T18:55:59.815Z"
   },
   {
    "duration": 134,
    "start_time": "2023-08-16T18:56:07.223Z"
   },
   {
    "duration": 164,
    "start_time": "2023-08-16T18:56:20.916Z"
   },
   {
    "duration": 166,
    "start_time": "2023-08-16T18:57:04.995Z"
   },
   {
    "duration": 165,
    "start_time": "2023-08-16T18:57:35.710Z"
   },
   {
    "duration": 184,
    "start_time": "2023-08-16T19:07:38.676Z"
   },
   {
    "duration": 285,
    "start_time": "2023-08-16T19:08:13.025Z"
   },
   {
    "duration": 197,
    "start_time": "2023-08-16T19:20:25.825Z"
   },
   {
    "duration": 1084,
    "start_time": "2023-08-16T19:20:46.602Z"
   },
   {
    "duration": 40,
    "start_time": "2023-08-16T19:20:47.688Z"
   },
   {
    "duration": 13,
    "start_time": "2023-08-16T19:20:47.730Z"
   },
   {
    "duration": 11,
    "start_time": "2023-08-16T19:20:47.745Z"
   },
   {
    "duration": 58,
    "start_time": "2023-08-16T19:20:47.758Z"
   },
   {
    "duration": 10,
    "start_time": "2023-08-16T19:20:47.817Z"
   },
   {
    "duration": 21,
    "start_time": "2023-08-16T19:20:47.828Z"
   },
   {
    "duration": 30,
    "start_time": "2023-08-16T19:20:47.851Z"
   },
   {
    "duration": 9,
    "start_time": "2023-08-16T19:20:47.883Z"
   },
   {
    "duration": 41,
    "start_time": "2023-08-16T19:20:47.894Z"
   },
   {
    "duration": 298,
    "start_time": "2023-08-16T19:20:47.937Z"
   },
   {
    "duration": 250,
    "start_time": "2023-08-16T19:20:48.236Z"
   },
   {
    "duration": 189,
    "start_time": "2023-08-16T19:20:48.488Z"
   },
   {
    "duration": 295,
    "start_time": "2023-08-16T19:20:48.679Z"
   },
   {
    "duration": 121,
    "start_time": "2023-08-16T19:21:10.194Z"
   },
   {
    "duration": 122,
    "start_time": "2023-08-16T19:21:56.853Z"
   },
   {
    "duration": 1072,
    "start_time": "2023-08-16T19:22:05.471Z"
   },
   {
    "duration": 36,
    "start_time": "2023-08-16T19:22:06.544Z"
   },
   {
    "duration": 11,
    "start_time": "2023-08-16T19:22:06.581Z"
   },
   {
    "duration": 19,
    "start_time": "2023-08-16T19:22:06.594Z"
   },
   {
    "duration": 49,
    "start_time": "2023-08-16T19:22:06.616Z"
   },
   {
    "duration": 11,
    "start_time": "2023-08-16T19:22:06.667Z"
   },
   {
    "duration": 12,
    "start_time": "2023-08-16T19:22:06.679Z"
   },
   {
    "duration": 35,
    "start_time": "2023-08-16T19:22:06.692Z"
   },
   {
    "duration": 9,
    "start_time": "2023-08-16T19:22:06.729Z"
   },
   {
    "duration": 5,
    "start_time": "2023-08-16T19:22:06.740Z"
   },
   {
    "duration": 293,
    "start_time": "2023-08-16T19:22:06.746Z"
   },
   {
    "duration": 293,
    "start_time": "2023-08-16T19:22:07.040Z"
   },
   {
    "duration": 125,
    "start_time": "2023-08-16T19:22:07.334Z"
   },
   {
    "duration": 282,
    "start_time": "2023-08-16T19:22:07.461Z"
   },
   {
    "duration": 175,
    "start_time": "2023-08-16T19:23:54.280Z"
   },
   {
    "duration": 1025,
    "start_time": "2023-08-16T19:24:07.798Z"
   },
   {
    "duration": 35,
    "start_time": "2023-08-16T19:24:08.825Z"
   },
   {
    "duration": 12,
    "start_time": "2023-08-16T19:24:08.862Z"
   },
   {
    "duration": 13,
    "start_time": "2023-08-16T19:24:08.875Z"
   },
   {
    "duration": 51,
    "start_time": "2023-08-16T19:24:08.889Z"
   },
   {
    "duration": 11,
    "start_time": "2023-08-16T19:24:08.941Z"
   },
   {
    "duration": 16,
    "start_time": "2023-08-16T19:24:08.953Z"
   },
   {
    "duration": 22,
    "start_time": "2023-08-16T19:24:08.970Z"
   },
   {
    "duration": 18,
    "start_time": "2023-08-16T19:24:08.993Z"
   },
   {
    "duration": 4,
    "start_time": "2023-08-16T19:24:09.014Z"
   },
   {
    "duration": 272,
    "start_time": "2023-08-16T19:24:09.019Z"
   },
   {
    "duration": 256,
    "start_time": "2023-08-16T19:24:09.293Z"
   },
   {
    "duration": 174,
    "start_time": "2023-08-16T19:24:09.551Z"
   },
   {
    "duration": 262,
    "start_time": "2023-08-16T19:24:09.726Z"
   },
   {
    "duration": 287,
    "start_time": "2023-08-16T19:27:22.892Z"
   },
   {
    "duration": 245,
    "start_time": "2023-08-16T19:30:35.505Z"
   },
   {
    "duration": 177,
    "start_time": "2023-08-16T19:31:05.037Z"
   },
   {
    "duration": 179,
    "start_time": "2023-08-16T19:31:11.765Z"
   },
   {
    "duration": 192,
    "start_time": "2023-08-16T19:31:49.105Z"
   },
   {
    "duration": 348,
    "start_time": "2023-08-16T19:32:09.820Z"
   },
   {
    "duration": 168,
    "start_time": "2023-08-16T19:44:51.979Z"
   },
   {
    "duration": 170,
    "start_time": "2023-08-16T19:45:13.570Z"
   },
   {
    "duration": 454,
    "start_time": "2023-08-16T20:33:04.034Z"
   },
   {
    "duration": 300,
    "start_time": "2023-08-16T20:36:11.081Z"
   },
   {
    "duration": 350,
    "start_time": "2023-08-16T20:36:40.038Z"
   },
   {
    "duration": 11,
    "start_time": "2023-08-16T20:46:03.240Z"
   },
   {
    "duration": 9,
    "start_time": "2023-08-16T20:48:55.423Z"
   },
   {
    "duration": 9,
    "start_time": "2023-08-16T20:49:42.789Z"
   },
   {
    "duration": 9,
    "start_time": "2023-08-16T20:50:22.387Z"
   },
   {
    "duration": 9,
    "start_time": "2023-08-16T20:50:35.589Z"
   },
   {
    "duration": 164,
    "start_time": "2023-08-16T20:51:14.945Z"
   },
   {
    "duration": 116,
    "start_time": "2023-08-16T20:51:39.944Z"
   },
   {
    "duration": 210,
    "start_time": "2023-08-16T20:52:55.232Z"
   },
   {
    "duration": 1103,
    "start_time": "2023-08-16T20:57:33.334Z"
   },
   {
    "duration": 56,
    "start_time": "2023-08-16T20:57:34.439Z"
   },
   {
    "duration": 11,
    "start_time": "2023-08-16T20:57:34.497Z"
   },
   {
    "duration": 11,
    "start_time": "2023-08-16T20:57:34.509Z"
   },
   {
    "duration": 61,
    "start_time": "2023-08-16T20:57:34.521Z"
   },
   {
    "duration": 13,
    "start_time": "2023-08-16T20:57:34.584Z"
   },
   {
    "duration": 17,
    "start_time": "2023-08-16T20:57:34.598Z"
   },
   {
    "duration": 27,
    "start_time": "2023-08-16T20:57:34.616Z"
   },
   {
    "duration": 23,
    "start_time": "2023-08-16T20:57:34.645Z"
   },
   {
    "duration": 22,
    "start_time": "2023-08-16T20:57:34.671Z"
   },
   {
    "duration": 310,
    "start_time": "2023-08-16T20:57:34.694Z"
   },
   {
    "duration": 306,
    "start_time": "2023-08-16T20:57:35.005Z"
   },
   {
    "duration": 202,
    "start_time": "2023-08-16T20:57:35.312Z"
   },
   {
    "duration": 286,
    "start_time": "2023-08-16T20:57:35.516Z"
   },
   {
    "duration": 221,
    "start_time": "2023-08-16T20:57:35.803Z"
   },
   {
    "duration": 375,
    "start_time": "2023-08-16T20:57:36.025Z"
   },
   {
    "duration": 150,
    "start_time": "2023-08-16T20:57:36.401Z"
   },
   {
    "duration": 4,
    "start_time": "2023-08-16T20:59:50.097Z"
   },
   {
    "duration": 111,
    "start_time": "2023-08-16T21:05:34.179Z"
   },
   {
    "duration": 121,
    "start_time": "2023-08-16T21:05:47.525Z"
   },
   {
    "duration": 163,
    "start_time": "2023-08-16T21:06:34.473Z"
   },
   {
    "duration": 4,
    "start_time": "2023-08-16T21:10:51.123Z"
   },
   {
    "duration": 5,
    "start_time": "2023-08-16T21:10:58.150Z"
   },
   {
    "duration": 123,
    "start_time": "2023-08-16T21:13:02.470Z"
   },
   {
    "duration": 105,
    "start_time": "2023-08-17T07:57:58.169Z"
   },
   {
    "duration": 1895,
    "start_time": "2023-08-17T08:00:29.000Z"
   },
   {
    "duration": 99,
    "start_time": "2023-08-17T08:00:30.907Z"
   },
   {
    "duration": 56,
    "start_time": "2023-08-17T08:00:31.009Z"
   },
   {
    "duration": 783,
    "start_time": "2023-08-17T08:00:31.071Z"
   },
   {
    "duration": 334,
    "start_time": "2023-08-17T08:00:31.856Z"
   },
   {
    "duration": 36,
    "start_time": "2023-08-17T08:00:32.193Z"
   },
   {
    "duration": 168,
    "start_time": "2023-08-17T08:00:32.236Z"
   },
   {
    "duration": 276,
    "start_time": "2023-08-17T08:00:32.408Z"
   },
   {
    "duration": 100,
    "start_time": "2023-08-17T08:00:32.687Z"
   },
   {
    "duration": 83,
    "start_time": "2023-08-17T08:00:32.792Z"
   },
   {
    "duration": 484,
    "start_time": "2023-08-17T08:00:32.878Z"
   },
   {
    "duration": 481,
    "start_time": "2023-08-17T08:00:33.364Z"
   },
   {
    "duration": 335,
    "start_time": "2023-08-17T08:00:33.848Z"
   },
   {
    "duration": 490,
    "start_time": "2023-08-17T08:00:34.186Z"
   },
   {
    "duration": 554,
    "start_time": "2023-08-17T08:00:34.679Z"
   },
   {
    "duration": 485,
    "start_time": "2023-08-17T08:00:35.242Z"
   },
   {
    "duration": 250,
    "start_time": "2023-08-17T08:00:35.736Z"
   },
   {
    "duration": 11,
    "start_time": "2023-08-17T08:00:35.989Z"
   },
   {
    "duration": 394,
    "start_time": "2023-08-17T08:00:36.003Z"
   },
   {
    "duration": 7,
    "start_time": "2023-08-17T08:00:36.400Z"
   },
   {
    "duration": 531,
    "start_time": "2023-08-17T08:00:36.422Z"
   },
   {
    "duration": 430,
    "start_time": "2023-08-17T08:01:57.506Z"
   },
   {
    "duration": 296,
    "start_time": "2023-08-17T08:02:20.453Z"
   },
   {
    "duration": 246,
    "start_time": "2023-08-17T08:06:15.991Z"
   },
   {
    "duration": 1645,
    "start_time": "2023-08-17T08:11:26.583Z"
   },
   {
    "duration": 1713,
    "start_time": "2023-08-17T08:12:50.449Z"
   },
   {
    "duration": 1882,
    "start_time": "2023-08-17T08:13:47.539Z"
   },
   {
    "duration": 81,
    "start_time": "2023-08-17T08:13:49.424Z"
   },
   {
    "duration": 56,
    "start_time": "2023-08-17T08:13:49.510Z"
   },
   {
    "duration": 75,
    "start_time": "2023-08-17T08:13:49.571Z"
   },
   {
    "duration": 121,
    "start_time": "2023-08-17T08:13:49.657Z"
   },
   {
    "duration": 18,
    "start_time": "2023-08-17T08:13:49.783Z"
   },
   {
    "duration": 76,
    "start_time": "2023-08-17T08:13:49.804Z"
   },
   {
    "duration": 72,
    "start_time": "2023-08-17T08:13:49.884Z"
   },
   {
    "duration": 24,
    "start_time": "2023-08-17T08:13:49.959Z"
   },
   {
    "duration": 34,
    "start_time": "2023-08-17T08:13:49.987Z"
   },
   {
    "duration": 552,
    "start_time": "2023-08-17T08:13:50.024Z"
   },
   {
    "duration": 477,
    "start_time": "2023-08-17T08:13:50.578Z"
   },
   {
    "duration": 331,
    "start_time": "2023-08-17T08:13:51.062Z"
   },
   {
    "duration": 457,
    "start_time": "2023-08-17T08:13:51.396Z"
   },
   {
    "duration": 370,
    "start_time": "2023-08-17T08:13:51.855Z"
   },
   {
    "duration": 481,
    "start_time": "2023-08-17T08:13:52.232Z"
   },
   {
    "duration": 275,
    "start_time": "2023-08-17T08:13:52.730Z"
   },
   {
    "duration": 21,
    "start_time": "2023-08-17T08:13:53.008Z"
   },
   {
    "duration": 422,
    "start_time": "2023-08-17T08:13:53.031Z"
   },
   {
    "duration": 7,
    "start_time": "2023-08-17T08:13:53.455Z"
   },
   {
    "duration": 465,
    "start_time": "2023-08-17T08:13:53.464Z"
   },
   {
    "duration": 286,
    "start_time": "2023-08-17T08:13:53.939Z"
   },
   {
    "duration": 3043,
    "start_time": "2023-08-17T08:13:54.238Z"
   },
   {
    "duration": 0,
    "start_time": "2023-08-17T08:13:57.284Z"
   },
   {
    "duration": 1834,
    "start_time": "2023-08-17T08:14:58.632Z"
   },
   {
    "duration": 1567,
    "start_time": "2023-08-17T08:16:15.074Z"
   },
   {
    "duration": 1533,
    "start_time": "2023-08-17T08:16:49.785Z"
   },
   {
    "duration": 1840,
    "start_time": "2023-08-17T08:18:22.316Z"
   },
   {
    "duration": 3731,
    "start_time": "2023-08-17T08:18:57.624Z"
   },
   {
    "duration": 2825,
    "start_time": "2023-08-17T08:28:14.239Z"
   },
   {
    "duration": 2365,
    "start_time": "2023-08-17T08:41:44.995Z"
   },
   {
    "duration": 1248,
    "start_time": "2023-08-17T08:54:06.015Z"
   },
   {
    "duration": 39,
    "start_time": "2023-08-17T08:54:07.266Z"
   },
   {
    "duration": 16,
    "start_time": "2023-08-17T08:54:07.308Z"
   },
   {
    "duration": 13,
    "start_time": "2023-08-17T08:54:07.326Z"
   },
   {
    "duration": 48,
    "start_time": "2023-08-17T08:54:07.341Z"
   },
   {
    "duration": 13,
    "start_time": "2023-08-17T08:54:07.391Z"
   },
   {
    "duration": 27,
    "start_time": "2023-08-17T08:54:07.406Z"
   },
   {
    "duration": 25,
    "start_time": "2023-08-17T08:54:07.435Z"
   },
   {
    "duration": 11,
    "start_time": "2023-08-17T08:54:07.462Z"
   },
   {
    "duration": 8,
    "start_time": "2023-08-17T08:54:07.477Z"
   },
   {
    "duration": 328,
    "start_time": "2023-08-17T08:54:07.487Z"
   },
   {
    "duration": 336,
    "start_time": "2023-08-17T08:54:07.817Z"
   },
   {
    "duration": 227,
    "start_time": "2023-08-17T08:54:08.155Z"
   },
   {
    "duration": 349,
    "start_time": "2023-08-17T08:54:08.384Z"
   },
   {
    "duration": 231,
    "start_time": "2023-08-17T08:54:08.735Z"
   },
   {
    "duration": 411,
    "start_time": "2023-08-17T08:54:08.968Z"
   },
   {
    "duration": 204,
    "start_time": "2023-08-17T08:54:09.382Z"
   },
   {
    "duration": 178,
    "start_time": "2023-08-17T08:54:09.588Z"
   },
   {
    "duration": 181,
    "start_time": "2023-08-17T08:54:09.768Z"
   },
   {
    "duration": 5,
    "start_time": "2023-08-17T08:54:09.951Z"
   },
   {
    "duration": 248,
    "start_time": "2023-08-17T08:54:09.957Z"
   },
   {
    "duration": 182,
    "start_time": "2023-08-17T08:54:10.207Z"
   },
   {
    "duration": 19,
    "start_time": "2023-08-17T08:54:10.391Z"
   },
   {
    "duration": 112,
    "start_time": "2023-08-17T08:54:10.412Z"
   },
   {
    "duration": 23,
    "start_time": "2023-08-17T08:56:13.636Z"
   },
   {
    "duration": 16,
    "start_time": "2023-08-17T09:08:45.916Z"
   },
   {
    "duration": 13,
    "start_time": "2023-08-17T09:43:25.949Z"
   },
   {
    "duration": 9,
    "start_time": "2023-08-17T09:47:36.836Z"
   },
   {
    "duration": 10,
    "start_time": "2023-08-17T09:48:30.815Z"
   },
   {
    "duration": 25,
    "start_time": "2023-08-17T09:48:36.600Z"
   },
   {
    "duration": 15,
    "start_time": "2023-08-17T10:02:24.346Z"
   },
   {
    "duration": 1213,
    "start_time": "2023-08-17T10:04:11.574Z"
   },
   {
    "duration": 38,
    "start_time": "2023-08-17T10:04:12.789Z"
   },
   {
    "duration": 15,
    "start_time": "2023-08-17T10:04:12.829Z"
   },
   {
    "duration": 13,
    "start_time": "2023-08-17T10:04:12.847Z"
   },
   {
    "duration": 57,
    "start_time": "2023-08-17T10:04:12.861Z"
   },
   {
    "duration": 12,
    "start_time": "2023-08-17T10:04:12.919Z"
   },
   {
    "duration": 21,
    "start_time": "2023-08-17T10:04:12.933Z"
   },
   {
    "duration": 35,
    "start_time": "2023-08-17T10:04:12.957Z"
   },
   {
    "duration": 13,
    "start_time": "2023-08-17T10:04:12.994Z"
   },
   {
    "duration": 13,
    "start_time": "2023-08-17T10:04:13.010Z"
   },
   {
    "duration": 300,
    "start_time": "2023-08-17T10:04:13.025Z"
   },
   {
    "duration": 305,
    "start_time": "2023-08-17T10:04:13.327Z"
   },
   {
    "duration": 224,
    "start_time": "2023-08-17T10:04:13.634Z"
   },
   {
    "duration": 370,
    "start_time": "2023-08-17T10:04:13.860Z"
   },
   {
    "duration": 236,
    "start_time": "2023-08-17T10:04:14.232Z"
   },
   {
    "duration": 359,
    "start_time": "2023-08-17T10:04:14.469Z"
   },
   {
    "duration": 168,
    "start_time": "2023-08-17T10:04:14.830Z"
   },
   {
    "duration": 11,
    "start_time": "2023-08-17T10:04:15.000Z"
   },
   {
    "duration": 195,
    "start_time": "2023-08-17T10:04:15.013Z"
   },
   {
    "duration": 5,
    "start_time": "2023-08-17T10:04:15.211Z"
   },
   {
    "duration": 276,
    "start_time": "2023-08-17T10:04:15.219Z"
   },
   {
    "duration": 157,
    "start_time": "2023-08-17T10:04:15.497Z"
   },
   {
    "duration": 6,
    "start_time": "2023-08-17T10:04:15.656Z"
   },
   {
    "duration": 82,
    "start_time": "2023-08-17T10:04:15.663Z"
   },
   {
    "duration": 12,
    "start_time": "2023-08-17T10:04:15.747Z"
   },
   {
    "duration": 33,
    "start_time": "2023-08-17T10:04:15.761Z"
   },
   {
    "duration": 27,
    "start_time": "2023-08-17T10:04:15.796Z"
   },
   {
    "duration": 49,
    "start_time": "2023-08-17T10:04:15.827Z"
   },
   {
    "duration": 19,
    "start_time": "2023-08-17T10:04:15.878Z"
   },
   {
    "duration": 1175,
    "start_time": "2023-08-17T10:05:48.246Z"
   },
   {
    "duration": 42,
    "start_time": "2023-08-17T10:05:49.423Z"
   },
   {
    "duration": 19,
    "start_time": "2023-08-17T10:05:49.467Z"
   },
   {
    "duration": 34,
    "start_time": "2023-08-17T10:05:49.489Z"
   },
   {
    "duration": 147,
    "start_time": "2023-08-17T10:05:49.525Z"
   },
   {
    "duration": 17,
    "start_time": "2023-08-17T10:05:49.674Z"
   },
   {
    "duration": 59,
    "start_time": "2023-08-17T10:05:49.693Z"
   },
   {
    "duration": 69,
    "start_time": "2023-08-17T10:05:49.755Z"
   },
   {
    "duration": 13,
    "start_time": "2023-08-17T10:05:49.825Z"
   },
   {
    "duration": 25,
    "start_time": "2023-08-17T10:05:49.841Z"
   },
   {
    "duration": 346,
    "start_time": "2023-08-17T10:05:49.868Z"
   },
   {
    "duration": 322,
    "start_time": "2023-08-17T10:05:50.217Z"
   },
   {
    "duration": 219,
    "start_time": "2023-08-17T10:05:50.540Z"
   },
   {
    "duration": 303,
    "start_time": "2023-08-17T10:05:50.761Z"
   },
   {
    "duration": 242,
    "start_time": "2023-08-17T10:05:51.066Z"
   },
   {
    "duration": 351,
    "start_time": "2023-08-17T10:05:51.310Z"
   },
   {
    "duration": 175,
    "start_time": "2023-08-17T10:05:51.663Z"
   },
   {
    "duration": 5,
    "start_time": "2023-08-17T10:05:51.840Z"
   },
   {
    "duration": 196,
    "start_time": "2023-08-17T10:05:51.847Z"
   },
   {
    "duration": 5,
    "start_time": "2023-08-17T10:05:52.045Z"
   },
   {
    "duration": 276,
    "start_time": "2023-08-17T10:05:52.052Z"
   },
   {
    "duration": 148,
    "start_time": "2023-08-17T10:05:52.331Z"
   },
   {
    "duration": 8,
    "start_time": "2023-08-17T10:05:52.481Z"
   },
   {
    "duration": 52,
    "start_time": "2023-08-17T10:05:52.491Z"
   },
   {
    "duration": 11,
    "start_time": "2023-08-17T10:05:52.544Z"
   },
   {
    "duration": 14,
    "start_time": "2023-08-17T10:05:52.557Z"
   },
   {
    "duration": 85,
    "start_time": "2023-08-17T10:05:52.572Z"
   },
   {
    "duration": 56,
    "start_time": "2023-08-17T10:05:52.660Z"
   },
   {
    "duration": 15,
    "start_time": "2023-08-17T10:05:52.718Z"
   },
   {
    "duration": 46,
    "start_time": "2023-08-17T18:01:20.161Z"
   },
   {
    "duration": 8,
    "start_time": "2023-08-17T18:01:28.933Z"
   },
   {
    "duration": 6,
    "start_time": "2023-08-17T18:01:38.092Z"
   },
   {
    "duration": 1283,
    "start_time": "2023-08-17T18:01:43.332Z"
   },
   {
    "duration": 71,
    "start_time": "2023-08-17T18:01:44.618Z"
   },
   {
    "duration": 13,
    "start_time": "2023-08-17T18:01:44.690Z"
   },
   {
    "duration": 14,
    "start_time": "2023-08-17T18:01:44.705Z"
   },
   {
    "duration": 144,
    "start_time": "2023-08-17T18:01:44.721Z"
   },
   {
    "duration": 10,
    "start_time": "2023-08-17T18:01:44.866Z"
   },
   {
    "duration": 26,
    "start_time": "2023-08-17T18:01:44.877Z"
   },
   {
    "duration": 78,
    "start_time": "2023-08-17T18:01:44.905Z"
   },
   {
    "duration": 10,
    "start_time": "2023-08-17T18:01:44.984Z"
   },
   {
    "duration": 23,
    "start_time": "2023-08-17T18:01:44.996Z"
   },
   {
    "duration": 293,
    "start_time": "2023-08-17T18:01:45.021Z"
   },
   {
    "duration": 267,
    "start_time": "2023-08-17T18:01:45.316Z"
   },
   {
    "duration": 192,
    "start_time": "2023-08-17T18:01:45.584Z"
   },
   {
    "duration": 300,
    "start_time": "2023-08-17T18:01:45.777Z"
   },
   {
    "duration": 190,
    "start_time": "2023-08-17T18:01:46.079Z"
   },
   {
    "duration": 294,
    "start_time": "2023-08-17T18:01:46.270Z"
   },
   {
    "duration": 140,
    "start_time": "2023-08-17T18:01:46.566Z"
   },
   {
    "duration": 4,
    "start_time": "2023-08-17T18:01:46.708Z"
   },
   {
    "duration": 161,
    "start_time": "2023-08-17T18:01:46.714Z"
   },
   {
    "duration": 4,
    "start_time": "2023-08-17T18:01:46.876Z"
   },
   {
    "duration": 220,
    "start_time": "2023-08-17T18:01:46.882Z"
   },
   {
    "duration": 121,
    "start_time": "2023-08-17T18:01:47.104Z"
   },
   {
    "duration": 12,
    "start_time": "2023-08-17T18:01:47.227Z"
   },
   {
    "duration": 41,
    "start_time": "2023-08-17T18:01:47.240Z"
   },
   {
    "duration": 9,
    "start_time": "2023-08-17T18:01:47.283Z"
   },
   {
    "duration": 23,
    "start_time": "2023-08-17T18:01:47.294Z"
   },
   {
    "duration": 32,
    "start_time": "2023-08-17T18:01:47.319Z"
   },
   {
    "duration": 40,
    "start_time": "2023-08-17T18:01:47.354Z"
   },
   {
    "duration": 14,
    "start_time": "2023-08-17T18:01:47.395Z"
   },
   {
    "duration": 16,
    "start_time": "2023-08-17T18:02:22.234Z"
   },
   {
    "duration": 13,
    "start_time": "2023-08-17T18:02:34.020Z"
   },
   {
    "duration": 12,
    "start_time": "2023-08-17T18:03:03.103Z"
   },
   {
    "duration": 8,
    "start_time": "2023-08-17T19:23:55.445Z"
   },
   {
    "duration": 11,
    "start_time": "2023-08-17T19:24:33.060Z"
   },
   {
    "duration": 94,
    "start_time": "2023-08-17T19:26:13.089Z"
   },
   {
    "duration": 12,
    "start_time": "2023-08-17T19:27:07.377Z"
   },
   {
    "duration": 10,
    "start_time": "2023-08-17T19:27:17.097Z"
   },
   {
    "duration": 10,
    "start_time": "2023-08-17T19:31:01.761Z"
   },
   {
    "duration": 1063,
    "start_time": "2023-08-17T19:31:44.556Z"
   },
   {
    "duration": 36,
    "start_time": "2023-08-17T19:31:45.621Z"
   },
   {
    "duration": 12,
    "start_time": "2023-08-17T19:31:45.658Z"
   },
   {
    "duration": 14,
    "start_time": "2023-08-17T19:31:45.671Z"
   },
   {
    "duration": 69,
    "start_time": "2023-08-17T19:31:45.686Z"
   },
   {
    "duration": 11,
    "start_time": "2023-08-17T19:31:45.756Z"
   },
   {
    "duration": 24,
    "start_time": "2023-08-17T19:31:45.769Z"
   },
   {
    "duration": 26,
    "start_time": "2023-08-17T19:31:45.795Z"
   },
   {
    "duration": 10,
    "start_time": "2023-08-17T19:31:45.822Z"
   },
   {
    "duration": 7,
    "start_time": "2023-08-17T19:31:45.834Z"
   },
   {
    "duration": 272,
    "start_time": "2023-08-17T19:31:45.842Z"
   },
   {
    "duration": 9,
    "start_time": "2023-08-17T19:31:46.115Z"
   },
   {
    "duration": 266,
    "start_time": "2023-08-17T19:31:46.133Z"
   },
   {
    "duration": 190,
    "start_time": "2023-08-17T19:31:46.401Z"
   },
   {
    "duration": 280,
    "start_time": "2023-08-17T19:31:46.592Z"
   },
   {
    "duration": 190,
    "start_time": "2023-08-17T19:31:46.873Z"
   },
   {
    "duration": 285,
    "start_time": "2023-08-17T19:31:47.065Z"
   },
   {
    "duration": 141,
    "start_time": "2023-08-17T19:31:47.352Z"
   },
   {
    "duration": 4,
    "start_time": "2023-08-17T19:31:47.494Z"
   },
   {
    "duration": 154,
    "start_time": "2023-08-17T19:31:47.499Z"
   },
   {
    "duration": 4,
    "start_time": "2023-08-17T19:31:47.655Z"
   },
   {
    "duration": 223,
    "start_time": "2023-08-17T19:31:47.661Z"
   },
   {
    "duration": 136,
    "start_time": "2023-08-17T19:31:47.885Z"
   },
   {
    "duration": 8,
    "start_time": "2023-08-17T19:31:48.022Z"
   },
   {
    "duration": 35,
    "start_time": "2023-08-17T19:31:48.035Z"
   },
   {
    "duration": 14,
    "start_time": "2023-08-17T19:31:48.071Z"
   },
   {
    "duration": 11,
    "start_time": "2023-08-17T19:31:48.086Z"
   },
   {
    "duration": 15,
    "start_time": "2023-08-17T19:31:48.099Z"
   },
   {
    "duration": 34,
    "start_time": "2023-08-17T19:31:48.116Z"
   },
   {
    "duration": 12,
    "start_time": "2023-08-17T19:31:48.152Z"
   },
   {
    "duration": 10,
    "start_time": "2023-08-17T19:36:00.247Z"
   },
   {
    "duration": 6,
    "start_time": "2023-08-17T19:40:36.479Z"
   },
   {
    "duration": 1000,
    "start_time": "2023-08-17T19:41:08.092Z"
   },
   {
    "duration": 36,
    "start_time": "2023-08-17T19:41:09.094Z"
   },
   {
    "duration": 12,
    "start_time": "2023-08-17T19:41:09.131Z"
   },
   {
    "duration": 11,
    "start_time": "2023-08-17T19:41:09.145Z"
   },
   {
    "duration": 44,
    "start_time": "2023-08-17T19:41:09.157Z"
   },
   {
    "duration": 10,
    "start_time": "2023-08-17T19:41:09.202Z"
   },
   {
    "duration": 18,
    "start_time": "2023-08-17T19:41:09.214Z"
   },
   {
    "duration": 43,
    "start_time": "2023-08-17T19:41:09.234Z"
   },
   {
    "duration": 9,
    "start_time": "2023-08-17T19:41:09.279Z"
   },
   {
    "duration": 27,
    "start_time": "2023-08-17T19:41:09.290Z"
   },
   {
    "duration": 265,
    "start_time": "2023-08-17T19:41:09.318Z"
   },
   {
    "duration": 8,
    "start_time": "2023-08-17T19:41:09.585Z"
   },
   {
    "duration": 22,
    "start_time": "2023-08-17T19:41:09.595Z"
   },
   {
    "duration": 264,
    "start_time": "2023-08-17T19:41:09.619Z"
   },
   {
    "duration": 199,
    "start_time": "2023-08-17T19:41:09.885Z"
   },
   {
    "duration": 269,
    "start_time": "2023-08-17T19:41:10.085Z"
   },
   {
    "duration": 199,
    "start_time": "2023-08-17T19:41:10.355Z"
   },
   {
    "duration": 315,
    "start_time": "2023-08-17T19:41:10.556Z"
   },
   {
    "duration": 163,
    "start_time": "2023-08-17T19:41:10.873Z"
   },
   {
    "duration": 5,
    "start_time": "2023-08-17T19:41:11.039Z"
   },
   {
    "duration": 164,
    "start_time": "2023-08-17T19:41:11.046Z"
   },
   {
    "duration": 4,
    "start_time": "2023-08-17T19:41:11.212Z"
   },
   {
    "duration": 218,
    "start_time": "2023-08-17T19:41:11.217Z"
   },
   {
    "duration": 134,
    "start_time": "2023-08-17T19:41:11.436Z"
   },
   {
    "duration": 6,
    "start_time": "2023-08-17T19:41:11.572Z"
   },
   {
    "duration": 33,
    "start_time": "2023-08-17T19:41:11.579Z"
   },
   {
    "duration": 21,
    "start_time": "2023-08-17T19:41:11.613Z"
   },
   {
    "duration": 8,
    "start_time": "2023-08-17T19:41:11.637Z"
   },
   {
    "duration": 14,
    "start_time": "2023-08-17T19:41:11.647Z"
   },
   {
    "duration": 25,
    "start_time": "2023-08-17T19:41:11.662Z"
   },
   {
    "duration": 12,
    "start_time": "2023-08-17T19:41:11.689Z"
   },
   {
    "duration": 1123,
    "start_time": "2023-08-17T19:46:20.449Z"
   },
   {
    "duration": 37,
    "start_time": "2023-08-17T19:46:21.573Z"
   },
   {
    "duration": 14,
    "start_time": "2023-08-17T19:46:21.611Z"
   },
   {
    "duration": 12,
    "start_time": "2023-08-17T19:46:21.626Z"
   },
   {
    "duration": 52,
    "start_time": "2023-08-17T19:46:21.639Z"
   },
   {
    "duration": 11,
    "start_time": "2023-08-17T19:46:21.692Z"
   },
   {
    "duration": 15,
    "start_time": "2023-08-17T19:46:21.705Z"
   },
   {
    "duration": 35,
    "start_time": "2023-08-17T19:46:21.722Z"
   },
   {
    "duration": 9,
    "start_time": "2023-08-17T19:46:21.759Z"
   },
   {
    "duration": 4,
    "start_time": "2023-08-17T19:46:21.771Z"
   },
   {
    "duration": 270,
    "start_time": "2023-08-17T19:46:21.776Z"
   },
   {
    "duration": 10,
    "start_time": "2023-08-17T19:46:22.048Z"
   },
   {
    "duration": 14,
    "start_time": "2023-08-17T19:46:22.060Z"
   },
   {
    "duration": 269,
    "start_time": "2023-08-17T19:46:22.075Z"
   },
   {
    "duration": 196,
    "start_time": "2023-08-17T19:46:22.346Z"
   },
   {
    "duration": 333,
    "start_time": "2023-08-17T19:46:22.543Z"
   },
   {
    "duration": 193,
    "start_time": "2023-08-17T19:46:22.877Z"
   },
   {
    "duration": 289,
    "start_time": "2023-08-17T19:46:23.072Z"
   },
   {
    "duration": 172,
    "start_time": "2023-08-17T19:46:23.362Z"
   },
   {
    "duration": 4,
    "start_time": "2023-08-17T19:46:23.536Z"
   },
   {
    "duration": 162,
    "start_time": "2023-08-17T19:46:23.541Z"
   },
   {
    "duration": 4,
    "start_time": "2023-08-17T19:46:23.705Z"
   },
   {
    "duration": 238,
    "start_time": "2023-08-17T19:46:23.711Z"
   },
   {
    "duration": 147,
    "start_time": "2023-08-17T19:46:23.950Z"
   },
   {
    "duration": 6,
    "start_time": "2023-08-17T19:46:24.098Z"
   },
   {
    "duration": 65,
    "start_time": "2023-08-17T19:46:24.106Z"
   },
   {
    "duration": 10,
    "start_time": "2023-08-17T19:46:24.173Z"
   },
   {
    "duration": 24,
    "start_time": "2023-08-17T19:46:24.186Z"
   },
   {
    "duration": 44,
    "start_time": "2023-08-17T19:46:24.212Z"
   },
   {
    "duration": 54,
    "start_time": "2023-08-17T19:46:24.258Z"
   },
   {
    "duration": 16,
    "start_time": "2023-08-17T19:46:24.314Z"
   },
   {
    "duration": 68,
    "start_time": "2023-08-17T19:46:24.332Z"
   },
   {
    "duration": 1062,
    "start_time": "2023-08-17T19:46:52.031Z"
   },
   {
    "duration": 37,
    "start_time": "2023-08-17T19:46:53.094Z"
   },
   {
    "duration": 13,
    "start_time": "2023-08-17T19:46:53.133Z"
   },
   {
    "duration": 12,
    "start_time": "2023-08-17T19:46:53.148Z"
   },
   {
    "duration": 51,
    "start_time": "2023-08-17T19:46:53.162Z"
   },
   {
    "duration": 12,
    "start_time": "2023-08-17T19:46:53.215Z"
   },
   {
    "duration": 14,
    "start_time": "2023-08-17T19:46:53.228Z"
   },
   {
    "duration": 25,
    "start_time": "2023-08-17T19:46:53.244Z"
   },
   {
    "duration": 10,
    "start_time": "2023-08-17T19:46:53.270Z"
   },
   {
    "duration": 4,
    "start_time": "2023-08-17T19:46:53.284Z"
   },
   {
    "duration": 273,
    "start_time": "2023-08-17T19:46:53.290Z"
   },
   {
    "duration": 9,
    "start_time": "2023-08-17T19:46:53.565Z"
   },
   {
    "duration": 182,
    "start_time": "2023-08-17T19:46:53.575Z"
   },
   {
    "duration": 258,
    "start_time": "2023-08-17T19:46:53.759Z"
   },
   {
    "duration": 188,
    "start_time": "2023-08-17T19:46:54.019Z"
   },
   {
    "duration": 315,
    "start_time": "2023-08-17T19:46:54.209Z"
   },
   {
    "duration": 252,
    "start_time": "2023-08-17T19:46:54.533Z"
   },
   {
    "duration": 307,
    "start_time": "2023-08-17T19:46:54.787Z"
   },
   {
    "duration": 159,
    "start_time": "2023-08-17T19:46:55.095Z"
   },
   {
    "duration": 4,
    "start_time": "2023-08-17T19:46:55.256Z"
   },
   {
    "duration": 164,
    "start_time": "2023-08-17T19:46:55.261Z"
   },
   {
    "duration": 10,
    "start_time": "2023-08-17T19:46:55.427Z"
   },
   {
    "duration": 232,
    "start_time": "2023-08-17T19:46:55.439Z"
   },
   {
    "duration": 121,
    "start_time": "2023-08-17T19:46:55.673Z"
   },
   {
    "duration": 6,
    "start_time": "2023-08-17T19:46:55.797Z"
   },
   {
    "duration": 46,
    "start_time": "2023-08-17T19:46:55.805Z"
   },
   {
    "duration": 10,
    "start_time": "2023-08-17T19:46:55.853Z"
   },
   {
    "duration": 11,
    "start_time": "2023-08-17T19:46:55.867Z"
   },
   {
    "duration": 40,
    "start_time": "2023-08-17T19:46:55.879Z"
   },
   {
    "duration": 39,
    "start_time": "2023-08-17T19:46:55.921Z"
   },
   {
    "duration": 14,
    "start_time": "2023-08-17T19:46:55.962Z"
   },
   {
    "duration": 22,
    "start_time": "2023-08-17T19:47:39.051Z"
   },
   {
    "duration": 4,
    "start_time": "2023-08-17T19:55:23.521Z"
   },
   {
    "duration": 9,
    "start_time": "2023-08-17T19:57:38.905Z"
   },
   {
    "duration": 1089,
    "start_time": "2023-08-17T19:58:44.197Z"
   },
   {
    "duration": 36,
    "start_time": "2023-08-17T19:58:45.288Z"
   },
   {
    "duration": 12,
    "start_time": "2023-08-17T19:58:45.325Z"
   },
   {
    "duration": 12,
    "start_time": "2023-08-17T19:58:45.339Z"
   },
   {
    "duration": 43,
    "start_time": "2023-08-17T19:58:45.352Z"
   },
   {
    "duration": 10,
    "start_time": "2023-08-17T19:58:45.397Z"
   },
   {
    "duration": 15,
    "start_time": "2023-08-17T19:58:45.408Z"
   },
   {
    "duration": 24,
    "start_time": "2023-08-17T19:58:45.425Z"
   },
   {
    "duration": 9,
    "start_time": "2023-08-17T19:58:45.450Z"
   },
   {
    "duration": 4,
    "start_time": "2023-08-17T19:58:45.462Z"
   },
   {
    "duration": 273,
    "start_time": "2023-08-17T19:58:45.467Z"
   },
   {
    "duration": 8,
    "start_time": "2023-08-17T19:58:45.742Z"
   },
   {
    "duration": 4,
    "start_time": "2023-08-17T19:58:45.752Z"
   },
   {
    "duration": 276,
    "start_time": "2023-08-17T19:58:45.758Z"
   },
   {
    "duration": 203,
    "start_time": "2023-08-17T19:58:46.036Z"
   },
   {
    "duration": 287,
    "start_time": "2023-08-17T19:58:46.240Z"
   },
   {
    "duration": 190,
    "start_time": "2023-08-17T19:58:46.533Z"
   },
   {
    "duration": 319,
    "start_time": "2023-08-17T19:58:46.724Z"
   },
   {
    "duration": 160,
    "start_time": "2023-08-17T19:58:47.044Z"
   },
   {
    "duration": 4,
    "start_time": "2023-08-17T19:58:47.205Z"
   },
   {
    "duration": 147,
    "start_time": "2023-08-17T19:58:47.210Z"
   },
   {
    "duration": 4,
    "start_time": "2023-08-17T19:58:47.358Z"
   },
   {
    "duration": 210,
    "start_time": "2023-08-17T19:58:47.364Z"
   },
   {
    "duration": 128,
    "start_time": "2023-08-17T19:58:47.576Z"
   },
   {
    "duration": 6,
    "start_time": "2023-08-17T19:58:47.705Z"
   },
   {
    "duration": 50,
    "start_time": "2023-08-17T19:58:47.713Z"
   },
   {
    "duration": 10,
    "start_time": "2023-08-17T19:58:47.764Z"
   },
   {
    "duration": 21,
    "start_time": "2023-08-17T19:58:47.777Z"
   },
   {
    "duration": 22,
    "start_time": "2023-08-17T19:58:47.800Z"
   },
   {
    "duration": 23,
    "start_time": "2023-08-17T19:58:47.824Z"
   },
   {
    "duration": 12,
    "start_time": "2023-08-17T19:58:47.849Z"
   },
   {
    "duration": 1099,
    "start_time": "2023-08-17T20:00:16.356Z"
   },
   {
    "duration": 35,
    "start_time": "2023-08-17T20:00:17.457Z"
   },
   {
    "duration": 13,
    "start_time": "2023-08-17T20:00:17.495Z"
   },
   {
    "duration": 24,
    "start_time": "2023-08-17T20:00:17.509Z"
   },
   {
    "duration": 55,
    "start_time": "2023-08-17T20:00:17.535Z"
   },
   {
    "duration": 12,
    "start_time": "2023-08-17T20:00:17.592Z"
   },
   {
    "duration": 20,
    "start_time": "2023-08-17T20:00:17.606Z"
   },
   {
    "duration": 26,
    "start_time": "2023-08-17T20:00:17.628Z"
   },
   {
    "duration": 10,
    "start_time": "2023-08-17T20:00:17.657Z"
   },
   {
    "duration": 24,
    "start_time": "2023-08-17T20:00:17.668Z"
   },
   {
    "duration": 259,
    "start_time": "2023-08-17T20:00:17.694Z"
   },
   {
    "duration": 8,
    "start_time": "2023-08-17T20:00:17.955Z"
   },
   {
    "duration": 14,
    "start_time": "2023-08-17T20:00:17.964Z"
   },
   {
    "duration": 263,
    "start_time": "2023-08-17T20:00:17.980Z"
   },
   {
    "duration": 193,
    "start_time": "2023-08-17T20:00:18.245Z"
   },
   {
    "duration": 287,
    "start_time": "2023-08-17T20:00:18.439Z"
   },
   {
    "duration": 186,
    "start_time": "2023-08-17T20:00:18.734Z"
   },
   {
    "duration": 328,
    "start_time": "2023-08-17T20:00:18.922Z"
   },
   {
    "duration": 174,
    "start_time": "2023-08-17T20:00:19.251Z"
   },
   {
    "duration": 10,
    "start_time": "2023-08-17T20:00:19.427Z"
   },
   {
    "duration": 142,
    "start_time": "2023-08-17T20:00:19.439Z"
   },
   {
    "duration": 4,
    "start_time": "2023-08-17T20:00:19.583Z"
   },
   {
    "duration": 238,
    "start_time": "2023-08-17T20:00:19.588Z"
   },
   {
    "duration": 127,
    "start_time": "2023-08-17T20:00:19.833Z"
   },
   {
    "duration": 6,
    "start_time": "2023-08-17T20:00:19.962Z"
   },
   {
    "duration": 24,
    "start_time": "2023-08-17T20:00:19.969Z"
   },
   {
    "duration": 10,
    "start_time": "2023-08-17T20:00:19.995Z"
   },
   {
    "duration": 31,
    "start_time": "2023-08-17T20:00:20.007Z"
   },
   {
    "duration": 10,
    "start_time": "2023-08-17T20:00:20.040Z"
   },
   {
    "duration": 25,
    "start_time": "2023-08-17T20:00:20.052Z"
   },
   {
    "duration": 13,
    "start_time": "2023-08-17T20:00:20.079Z"
   }
  ],
  "kernelspec": {
   "display_name": "Python 3 (ipykernel)",
   "language": "python",
   "name": "python3"
  },
  "language_info": {
   "codemirror_mode": {
    "name": "ipython",
    "version": 3
   },
   "file_extension": ".py",
   "mimetype": "text/x-python",
   "name": "python",
   "nbconvert_exporter": "python",
   "pygments_lexer": "ipython3",
   "version": "3.11.5"
  },
  "toc": {
   "base_numbering": 1,
   "nav_menu": {},
   "number_sections": true,
   "sideBar": true,
   "skip_h1_title": true,
   "title_cell": "Table of Contents",
   "title_sidebar": "Contents",
   "toc_cell": false,
   "toc_position": {
    "height": "calc(100% - 180px)",
    "left": "10px",
    "top": "150px",
    "width": "286.188px"
   },
   "toc_section_display": true,
   "toc_window_display": false
  }
 },
 "nbformat": 4,
 "nbformat_minor": 4
}
