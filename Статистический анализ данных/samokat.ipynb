{
 "cells": [
  {
   "cell_type": "markdown",
   "id": "23cbc32d",
   "metadata": {},
   "source": [
    "# Исследование пользователей сервиса аренды самокатов\n",
    "Вам передали данные сервиса аренды самокатов GoFast о некоторых пользователях из нескольких городов, а также об их поездках. \n",
    "Чтобы совершать поездки по городу, пользователи сервиса GoFast пользуются мобильным приложением. В основных данных есть информация о пользователях, их поездках и подписках.  \n",
    "\n",
    "Проанализируем данные и проверим некоторые гипотезы, которые могут помочь бизнесу вырасти:\n",
    "1. Найдите суммарное расстояние, количество поездок и суммарное время для каждого пользователя за каждый месяц.  \n",
    "2. Найдем помесячную выручку, которую принёс каждый пользователь.  \n",
    "3. Определим сколько времени тратят пользователи с подпиской и без подписки.  \n",
    "4. Опредилим можно ли сказать, что расстояние, которое проезжают пользователи с подпиской за одну поездку, не превышает 3130 метров.  \n",
    "5. Проверим будет ли помесячная выручка от пользователей с подпиской по месяцам выше, чем выручка от пользователей без подписки."
   ]
  },
  {
   "cell_type": "code",
   "execution_count": 1,
   "id": "72576667",
   "metadata": {},
   "outputs": [],
   "source": [
    "import pandas as pd\n",
    "import matplotlib.pyplot as plt\n",
    "import numpy as np\n",
    "from scipy import stats as st\n",
    "from math import sqrt"
   ]
  },
  {
   "cell_type": "markdown",
   "id": "c42cbe00",
   "metadata": {},
   "source": [
    "## Загрузка данных"
   ]
  },
  {
   "cell_type": "code",
   "execution_count": 2,
   "id": "eff9f206",
   "metadata": {},
   "outputs": [],
   "source": [
    "# Прочитаем данные из csv-файлов в датафрейм и сохраним их в переменные user, ride и subscription.\n",
    "user = pd.read_csv(r'users_go.csv')\n",
    "ride = pd.read_csv(r'rides_go.csv')\n",
    "subscription = pd.read_csv(r'subscriptions_go.csv')"
   ]
  },
  {
   "cell_type": "code",
   "execution_count": 3,
   "id": "e3485bcb",
   "metadata": {},
   "outputs": [
    {
     "data": {
      "text/html": [
       "<div>\n",
       "<style scoped>\n",
       "    .dataframe tbody tr th:only-of-type {\n",
       "        vertical-align: middle;\n",
       "    }\n",
       "\n",
       "    .dataframe tbody tr th {\n",
       "        vertical-align: top;\n",
       "    }\n",
       "\n",
       "    .dataframe thead th {\n",
       "        text-align: right;\n",
       "    }\n",
       "</style>\n",
       "<table border=\"1\" class=\"dataframe\">\n",
       "  <thead>\n",
       "    <tr style=\"text-align: right;\">\n",
       "      <th></th>\n",
       "      <th>user_id</th>\n",
       "      <th>name</th>\n",
       "      <th>age</th>\n",
       "      <th>city</th>\n",
       "      <th>subscription_type</th>\n",
       "    </tr>\n",
       "  </thead>\n",
       "  <tbody>\n",
       "    <tr>\n",
       "      <th>0</th>\n",
       "      <td>1</td>\n",
       "      <td>Кира</td>\n",
       "      <td>22</td>\n",
       "      <td>Тюмень</td>\n",
       "      <td>ultra</td>\n",
       "    </tr>\n",
       "    <tr>\n",
       "      <th>1</th>\n",
       "      <td>2</td>\n",
       "      <td>Станислав</td>\n",
       "      <td>31</td>\n",
       "      <td>Омск</td>\n",
       "      <td>ultra</td>\n",
       "    </tr>\n",
       "    <tr>\n",
       "      <th>2</th>\n",
       "      <td>3</td>\n",
       "      <td>Алексей</td>\n",
       "      <td>20</td>\n",
       "      <td>Москва</td>\n",
       "      <td>ultra</td>\n",
       "    </tr>\n",
       "    <tr>\n",
       "      <th>3</th>\n",
       "      <td>4</td>\n",
       "      <td>Константин</td>\n",
       "      <td>26</td>\n",
       "      <td>Ростов-на-Дону</td>\n",
       "      <td>ultra</td>\n",
       "    </tr>\n",
       "    <tr>\n",
       "      <th>4</th>\n",
       "      <td>5</td>\n",
       "      <td>Адель</td>\n",
       "      <td>28</td>\n",
       "      <td>Омск</td>\n",
       "      <td>ultra</td>\n",
       "    </tr>\n",
       "  </tbody>\n",
       "</table>\n",
       "</div>"
      ],
      "text/plain": [
       "   user_id        name  age            city subscription_type\n",
       "0        1        Кира   22          Тюмень             ultra\n",
       "1        2   Станислав   31            Омск             ultra\n",
       "2        3     Алексей   20          Москва             ultra\n",
       "3        4  Константин   26  Ростов-на-Дону             ultra\n",
       "4        5       Адель   28            Омск             ultra"
      ]
     },
     "metadata": {},
     "output_type": "display_data"
    },
    {
     "name": "stdout",
     "output_type": "stream",
     "text": [
      "<class 'pandas.core.frame.DataFrame'>\n",
      "RangeIndex: 1565 entries, 0 to 1564\n",
      "Data columns (total 5 columns):\n",
      " #   Column             Non-Null Count  Dtype \n",
      "---  ------             --------------  ----- \n",
      " 0   user_id            1565 non-null   int64 \n",
      " 1   name               1565 non-null   object\n",
      " 2   age                1565 non-null   int64 \n",
      " 3   city               1565 non-null   object\n",
      " 4   subscription_type  1565 non-null   object\n",
      "dtypes: int64(2), object(3)\n",
      "memory usage: 61.3+ KB\n"
     ]
    }
   ],
   "source": [
    "# Выведем первые строки датафреймов и основную информацию по ним на экран.\n",
    "display(user.head())\n",
    "user.info()"
   ]
  },
  {
   "cell_type": "markdown",
   "id": "651b9610",
   "metadata": {},
   "source": [
    "В таблице 5 столбцов по 1565 сток, количество значений в столбцах не различается, значит пропусков нет."
   ]
  },
  {
   "cell_type": "code",
   "execution_count": 4,
   "id": "49b6c662",
   "metadata": {},
   "outputs": [
    {
     "data": {
      "text/html": [
       "<div>\n",
       "<style scoped>\n",
       "    .dataframe tbody tr th:only-of-type {\n",
       "        vertical-align: middle;\n",
       "    }\n",
       "\n",
       "    .dataframe tbody tr th {\n",
       "        vertical-align: top;\n",
       "    }\n",
       "\n",
       "    .dataframe thead th {\n",
       "        text-align: right;\n",
       "    }\n",
       "</style>\n",
       "<table border=\"1\" class=\"dataframe\">\n",
       "  <thead>\n",
       "    <tr style=\"text-align: right;\">\n",
       "      <th></th>\n",
       "      <th>user_id</th>\n",
       "      <th>distance</th>\n",
       "      <th>duration</th>\n",
       "      <th>date</th>\n",
       "    </tr>\n",
       "  </thead>\n",
       "  <tbody>\n",
       "    <tr>\n",
       "      <th>0</th>\n",
       "      <td>1</td>\n",
       "      <td>4409.919140</td>\n",
       "      <td>25.599769</td>\n",
       "      <td>2021-01-01</td>\n",
       "    </tr>\n",
       "    <tr>\n",
       "      <th>1</th>\n",
       "      <td>1</td>\n",
       "      <td>2617.592153</td>\n",
       "      <td>15.816871</td>\n",
       "      <td>2021-01-18</td>\n",
       "    </tr>\n",
       "    <tr>\n",
       "      <th>2</th>\n",
       "      <td>1</td>\n",
       "      <td>754.159807</td>\n",
       "      <td>6.232113</td>\n",
       "      <td>2021-04-20</td>\n",
       "    </tr>\n",
       "    <tr>\n",
       "      <th>3</th>\n",
       "      <td>1</td>\n",
       "      <td>2694.783254</td>\n",
       "      <td>18.511000</td>\n",
       "      <td>2021-08-11</td>\n",
       "    </tr>\n",
       "    <tr>\n",
       "      <th>4</th>\n",
       "      <td>1</td>\n",
       "      <td>4028.687306</td>\n",
       "      <td>26.265803</td>\n",
       "      <td>2021-08-28</td>\n",
       "    </tr>\n",
       "  </tbody>\n",
       "</table>\n",
       "</div>"
      ],
      "text/plain": [
       "   user_id     distance   duration        date\n",
       "0        1  4409.919140  25.599769  2021-01-01\n",
       "1        1  2617.592153  15.816871  2021-01-18\n",
       "2        1   754.159807   6.232113  2021-04-20\n",
       "3        1  2694.783254  18.511000  2021-08-11\n",
       "4        1  4028.687306  26.265803  2021-08-28"
      ]
     },
     "metadata": {},
     "output_type": "display_data"
    },
    {
     "name": "stdout",
     "output_type": "stream",
     "text": [
      "<class 'pandas.core.frame.DataFrame'>\n",
      "RangeIndex: 18068 entries, 0 to 18067\n",
      "Data columns (total 4 columns):\n",
      " #   Column    Non-Null Count  Dtype  \n",
      "---  ------    --------------  -----  \n",
      " 0   user_id   18068 non-null  int64  \n",
      " 1   distance  18068 non-null  float64\n",
      " 2   duration  18068 non-null  float64\n",
      " 3   date      18068 non-null  object \n",
      "dtypes: float64(2), int64(1), object(1)\n",
      "memory usage: 564.8+ KB\n"
     ]
    }
   ],
   "source": [
    "display(ride.head())\n",
    "ride.info()"
   ]
  },
  {
   "cell_type": "markdown",
   "id": "227956ee",
   "metadata": {},
   "source": [
    "В таблице 4 столбца по 18068 сток, количество значений в столбцах не различается, значит пропусков нет. В столбце date нужно поменять тип данных."
   ]
  },
  {
   "cell_type": "code",
   "execution_count": 5,
   "id": "7bea4cff",
   "metadata": {},
   "outputs": [
    {
     "data": {
      "text/html": [
       "<div>\n",
       "<style scoped>\n",
       "    .dataframe tbody tr th:only-of-type {\n",
       "        vertical-align: middle;\n",
       "    }\n",
       "\n",
       "    .dataframe tbody tr th {\n",
       "        vertical-align: top;\n",
       "    }\n",
       "\n",
       "    .dataframe thead th {\n",
       "        text-align: right;\n",
       "    }\n",
       "</style>\n",
       "<table border=\"1\" class=\"dataframe\">\n",
       "  <thead>\n",
       "    <tr style=\"text-align: right;\">\n",
       "      <th></th>\n",
       "      <th>subscription_type</th>\n",
       "      <th>minute_price</th>\n",
       "      <th>start_ride_price</th>\n",
       "      <th>subscription_fee</th>\n",
       "    </tr>\n",
       "  </thead>\n",
       "  <tbody>\n",
       "    <tr>\n",
       "      <th>0</th>\n",
       "      <td>free</td>\n",
       "      <td>8</td>\n",
       "      <td>50</td>\n",
       "      <td>0</td>\n",
       "    </tr>\n",
       "    <tr>\n",
       "      <th>1</th>\n",
       "      <td>ultra</td>\n",
       "      <td>6</td>\n",
       "      <td>0</td>\n",
       "      <td>199</td>\n",
       "    </tr>\n",
       "  </tbody>\n",
       "</table>\n",
       "</div>"
      ],
      "text/plain": [
       "  subscription_type  minute_price  start_ride_price  subscription_fee\n",
       "0              free             8                50                 0\n",
       "1             ultra             6                 0               199"
      ]
     },
     "metadata": {},
     "output_type": "display_data"
    },
    {
     "name": "stdout",
     "output_type": "stream",
     "text": [
      "<class 'pandas.core.frame.DataFrame'>\n",
      "RangeIndex: 2 entries, 0 to 1\n",
      "Data columns (total 4 columns):\n",
      " #   Column             Non-Null Count  Dtype \n",
      "---  ------             --------------  ----- \n",
      " 0   subscription_type  2 non-null      object\n",
      " 1   minute_price       2 non-null      int64 \n",
      " 2   start_ride_price   2 non-null      int64 \n",
      " 3   subscription_fee   2 non-null      int64 \n",
      "dtypes: int64(3), object(1)\n",
      "memory usage: 196.0+ bytes\n"
     ]
    }
   ],
   "source": [
    "display(subscription.head())\n",
    "subscription.info()"
   ]
  },
  {
   "cell_type": "markdown",
   "id": "62acd6f1",
   "metadata": {},
   "source": [
    "В таблице 4 столбца по 2 стоки, пропусков нет."
   ]
  },
  {
   "cell_type": "markdown",
   "id": "e95ebca7",
   "metadata": {},
   "source": [
    "## Предобработка данных"
   ]
  },
  {
   "cell_type": "code",
   "execution_count": 6,
   "id": "af6d202c",
   "metadata": {},
   "outputs": [
    {
     "data": {
      "text/plain": [
       "31"
      ]
     },
     "execution_count": 6,
     "metadata": {},
     "output_type": "execute_result"
    }
   ],
   "source": [
    "# Выведем на экран количество строк дубликатов в данных по таблице user и ride\n",
    "user.duplicated().sum()"
   ]
  },
  {
   "cell_type": "code",
   "execution_count": 7,
   "id": "ba7ac3fc",
   "metadata": {},
   "outputs": [],
   "source": [
    "# удалим дубликаты\n",
    "user = user.drop_duplicates()"
   ]
  },
  {
   "cell_type": "code",
   "execution_count": 8,
   "id": "30815948",
   "metadata": {},
   "outputs": [
    {
     "data": {
      "text/plain": [
       "0"
      ]
     },
     "execution_count": 8,
     "metadata": {},
     "output_type": "execute_result"
    }
   ],
   "source": [
    "# Проверим все ли удалось убрать\n",
    "ride.duplicated().sum()"
   ]
  },
  {
   "cell_type": "code",
   "execution_count": 9,
   "id": "de198910",
   "metadata": {},
   "outputs": [],
   "source": [
    "# Преобразуем тип данных в столбеце date.\n",
    "ride['date'] = pd.to_datetime(ride['date'], format='%Y-%m-%d')"
   ]
  },
  {
   "cell_type": "code",
   "execution_count": 10,
   "id": "0de8401d",
   "metadata": {},
   "outputs": [],
   "source": [
    "# Создадим новый столбец с номером месяца на основе столбца date.\n",
    "ride['month'] = ride['date'].dt.month"
   ]
  },
  {
   "cell_type": "markdown",
   "id": "b7a7bbb9",
   "metadata": {},
   "source": [
    "На данном этапе мы избавились от дубликатов, поправили формат даты и добавили столбец с номером месяца для сортировки по месяцам в дальнейшем."
   ]
  },
  {
   "cell_type": "markdown",
   "id": "212593c7",
   "metadata": {},
   "source": [
    "## Исследовательский анализ данных"
   ]
  },
  {
   "cell_type": "code",
   "execution_count": 11,
   "id": "503c240c",
   "metadata": {},
   "outputs": [
    {
     "data": {
      "text/plain": [
       "city\n",
       "Пятигорск         219\n",
       "Екатеринбург      204\n",
       "Ростов-на-Дону    198\n",
       "Краснодар         193\n",
       "Сочи              189\n",
       "Омск              183\n",
       "Тюмень            180\n",
       "Москва            168\n",
       "Name: count, dtype: int64"
      ]
     },
     "metadata": {},
     "output_type": "display_data"
    },
    {
     "data": {
      "image/png": "[encoded data removed]",
      "text/plain": [
       "<Figure size 640x480 with 1 Axes>"
      ]
     },
     "metadata": {},
     "output_type": "display_data"
    }
   ],
   "source": [
    "# Рассмотрим частоту встречаемости городов\n",
    "city_gr = user['city'].value_counts()\n",
    "display(city_gr)\n",
    "ax = city_gr.plot.bar(grid=True)\n",
    "plt.title('Частота встречаемости городов')\n",
    "plt.ylabel('Количество пользователей')\n",
    "plt.show()"
   ]
  },
  {
   "cell_type": "markdown",
   "id": "6af3e570",
   "metadata": {},
   "source": [
    "Наибольшей популярностью сервис аренды самокатов пользуется в Пятигорске, Екатеринбурге и Ростове-на-Дону."
   ]
  },
  {
   "cell_type": "code",
   "execution_count": 12,
   "id": "dd649e54",
   "metadata": {},
   "outputs": [
    {
     "data": {
      "text/plain": [
       "subscription_type\n",
       "free     835\n",
       "ultra    699\n",
       "Name: count, dtype: int64"
      ]
     },
     "metadata": {},
     "output_type": "display_data"
    },
    {
     "name": "stdout",
     "output_type": "stream",
     "text": [
      "Конверсия тарифа с подпиской: 46%\n",
      "Конверсия тарифа без подписки: 54%\n"
     ]
    },
    {
     "data": {
      "image/png": "[encoded data removed]",
      "text/plain": [
       "<Figure size 640x480 with 1 Axes>"
      ]
     },
     "metadata": {},
     "output_type": "display_data"
    }
   ],
   "source": [
    "# Определим соотношение пользователей с подпиской и без подписки. \n",
    "subscription_type_gr = user['subscription_type'].value_counts()\n",
    "display(subscription_type_gr)\n",
    "ultra = 699/(699+835)\n",
    "free = 835/(699+835)\n",
    "print(f'Конверсия тарифа с подпиской: {ultra:.0%}')\n",
    "print(f'Конверсия тарифа без подписки: {free:.0%}')\n",
    "ax = subscription_type_gr.plot.bar(grid=True)\n",
    "plt.title('Количество пользователей с подпиской и без')\n",
    "plt.ylabel('Количество пользователей')\n",
    "plt.show()"
   ]
  },
  {
   "cell_type": "markdown",
   "id": "f5e09a24",
   "metadata": {},
   "source": [
    "Чаще пользуются сервисом пользователи без подписки, несмотря на это у компании есть неплохая база постоянных клиентов."
   ]
  },
  {
   "cell_type": "code",
   "execution_count": 13,
   "id": "fd527dc0",
   "metadata": {},
   "outputs": [
    {
     "data": {
      "image/png": "[encoded data removed]",
      "text/plain": [
       "<Figure size 1500x500 with 1 Axes>"
      ]
     },
     "metadata": {},
     "output_type": "display_data"
    }
   ],
   "source": [
    "# Найдем возраст пользователей.\n",
    "age_gr = user.groupby('age')['user_id'].count()\n",
    "ax = age_gr.plot.bar(grid=True, figsize=(15,5))\n",
    "plt.title('Возраст пользователей')\n",
    "plt.ylabel('Количество пользователей')\n",
    "plt.show()"
   ]
  },
  {
   "cell_type": "markdown",
   "id": "5a8dd7e6",
   "metadata": {},
   "source": [
    "Основная часть пользователей возрастом от 22 до 28 лет. Медиана: 25 лет. Все что меньше 15 лет и больше 40 можно считать редкими значениями."
   ]
  },
  {
   "cell_type": "code",
   "execution_count": 14,
   "id": "30b8fd6e",
   "metadata": {},
   "outputs": [
    {
     "data": {
      "text/plain": [
       "age\n",
       "16     19\n",
       "17     26\n",
       "18     46\n",
       "19     47\n",
       "20     71\n",
       "21     93\n",
       "22    119\n",
       "23    129\n",
       "24    132\n",
       "25    145\n",
       "26    131\n",
       "27    119\n",
       "28    112\n",
       "29     68\n",
       "30     68\n",
       "31     48\n",
       "32     41\n",
       "33     39\n",
       "34     19\n",
       "35     15\n",
       "Name: user_id, dtype: int64"
      ]
     },
     "metadata": {},
     "output_type": "display_data"
    }
   ],
   "source": [
    "user.drop(index=user.query('age < 16').index,inplace=True)\n",
    "user.drop(index=user.query('age > 35').index,inplace=True)\n",
    "age_gr = user.groupby('age')['user_id'].count()\n",
    "display(age_gr)"
   ]
  },
  {
   "cell_type": "code",
   "execution_count": 15,
   "id": "c1edb68d",
   "metadata": {},
   "outputs": [
    {
     "data": {
      "image/png": "[encoded data removed]",
      "text/plain": [
       "<Figure size 1500x500 with 1 Axes>"
      ]
     },
     "metadata": {},
     "output_type": "display_data"
    },
    {
     "name": "stdout",
     "output_type": "stream",
     "text": [
      "count    18068.000000\n",
      "mean      3070.659976\n",
      "std       1116.831209\n",
      "min          0.855683\n",
      "25%       2543.226360\n",
      "50%       3133.609994\n",
      "75%       3776.222735\n",
      "max       7211.007745\n",
      "Name: distance, dtype: float64\n"
     ]
    }
   ],
   "source": [
    "# Представим на гистограмме и на диаграмме размаха расстояние, которое преодолевают пользователи за одну поездку.\n",
    "ride['distance'].hist(bins=100, figsize=(15,5))\n",
    "plt.title('Расстояние одной поездки')\n",
    "plt.ylabel('Количество пользователей')\n",
    "plt.xlabel('Расстояние одной поездки')\n",
    "plt.show()\n",
    "print(ride['distance'].describe())"
   ]
  },
  {
   "cell_type": "code",
   "execution_count": 16,
   "id": "7de21e8c",
   "metadata": {},
   "outputs": [
    {
     "data": {
      "image/png": "[encoded data removed]",
      "text/plain": [
       "<Figure size 640x480 with 1 Axes>"
      ]
     },
     "metadata": {},
     "output_type": "display_data"
    }
   ],
   "source": [
    "ride.boxplot('distance')\n",
    "plt.title('Длительность одной поездки')\n",
    "plt.ylabel('Метры');"
   ]
  },
  {
   "cell_type": "markdown",
   "id": "6f2cfea0",
   "metadata": {},
   "source": [
    "Основная часть поездок занимает от 2500 до 3800 метров. Медиана 3133 метра. Поездки на расстояние более 5 км редки. Однако на гистограмме видно, что некоторая часть пользователей использует самокаты для коротких поездок - до 1500 м."
   ]
  },
  {
   "cell_type": "code",
   "execution_count": 17,
   "id": "8ff27bf5",
   "metadata": {},
   "outputs": [
    {
     "data": {
      "image/png": "[encoded data removed]",
      "text/plain": [
       "<Figure size 1500x500 with 1 Axes>"
      ]
     },
     "metadata": {},
     "output_type": "display_data"
    }
   ],
   "source": [
    "# Представим на гистограмме и на диаграмме размаха продолжительность одной поездки.\n",
    "ride['duration'].hist(bins=100, figsize=(15,5))\n",
    "plt.title('Длительность одной поездки')\n",
    "plt.ylabel('Количество пользователей')\n",
    "plt.xlabel('Длительность одной поездки')\n",
    "plt.show()"
   ]
  },
  {
   "cell_type": "code",
   "execution_count": 18,
   "id": "4423064b",
   "metadata": {},
   "outputs": [
    {
     "data": {
      "image/png": "[encoded data removed]",
      "text/plain": [
       "<Figure size 640x480 with 1 Axes>"
      ]
     },
     "metadata": {},
     "output_type": "display_data"
    }
   ],
   "source": [
    "ride.boxplot('duration')\n",
    "plt.title('Длительность одной поездки')\n",
    "plt.ylabel('Минуты');"
   ]
  },
  {
   "cell_type": "markdown",
   "id": "3e0f2a32",
   "metadata": {},
   "source": [
    "Продолжительность поездок чаще составляет 14-22 мин. Медиана длительности поездок 18 мин. Присутствует выборс  по времени 0,5 мин и свыше 35 минут, уберем эти данные."
   ]
  },
  {
   "cell_type": "code",
   "execution_count": 19,
   "id": "2d1196dc",
   "metadata": {},
   "outputs": [
    {
     "data": {
      "text/plain": [
       "count    17945.000000\n",
       "mean        17.867270\n",
       "std          5.933817\n",
       "min          2.035632\n",
       "25%         13.661701\n",
       "50%         17.707151\n",
       "75%         21.725567\n",
       "max         34.962659\n",
       "Name: duration, dtype: float64"
      ]
     },
     "execution_count": 19,
     "metadata": {},
     "output_type": "execute_result"
    }
   ],
   "source": [
    "ride.drop(index=ride.query('duration < 1').index,inplace=True)\n",
    "ride.drop(index=ride.query('duration > 35').index,inplace=True)\n",
    "ride['duration'].describe()"
   ]
  },
  {
   "cell_type": "markdown",
   "id": "4ef51331",
   "metadata": {},
   "source": [
    "## Объединение данных"
   ]
  },
  {
   "cell_type": "code",
   "execution_count": 20,
   "id": "9415c839",
   "metadata": {},
   "outputs": [
    {
     "name": "stdout",
     "output_type": "stream",
     "text": [
      "(1487, 5)\n",
      "(17945, 5)\n"
     ]
    }
   ],
   "source": [
    "print(user.shape)#посмотрим размерность таблицы Пользователей\n",
    "print(ride.shape)#посмотрим размерность таблицы Поездок"
   ]
  },
  {
   "cell_type": "code",
   "execution_count": 21,
   "id": "6bf288b5",
   "metadata": {},
   "outputs": [
    {
     "data": {
      "text/html": [
       "<div>\n",
       "<style scoped>\n",
       "    .dataframe tbody tr th:only-of-type {\n",
       "        vertical-align: middle;\n",
       "    }\n",
       "\n",
       "    .dataframe tbody tr th {\n",
       "        vertical-align: top;\n",
       "    }\n",
       "\n",
       "    .dataframe thead th {\n",
       "        text-align: right;\n",
       "    }\n",
       "</style>\n",
       "<table border=\"1\" class=\"dataframe\">\n",
       "  <thead>\n",
       "    <tr style=\"text-align: right;\">\n",
       "      <th></th>\n",
       "      <th>user_id</th>\n",
       "      <th>name</th>\n",
       "      <th>age</th>\n",
       "      <th>city</th>\n",
       "      <th>subscription_type</th>\n",
       "      <th>distance</th>\n",
       "      <th>duration</th>\n",
       "      <th>date</th>\n",
       "      <th>month</th>\n",
       "    </tr>\n",
       "  </thead>\n",
       "  <tbody>\n",
       "    <tr>\n",
       "      <th>0</th>\n",
       "      <td>1</td>\n",
       "      <td>Кира</td>\n",
       "      <td>22</td>\n",
       "      <td>Тюмень</td>\n",
       "      <td>ultra</td>\n",
       "      <td>4409.919140</td>\n",
       "      <td>25.599769</td>\n",
       "      <td>2021-01-01</td>\n",
       "      <td>1</td>\n",
       "    </tr>\n",
       "    <tr>\n",
       "      <th>1</th>\n",
       "      <td>1</td>\n",
       "      <td>Кира</td>\n",
       "      <td>22</td>\n",
       "      <td>Тюмень</td>\n",
       "      <td>ultra</td>\n",
       "      <td>2617.592153</td>\n",
       "      <td>15.816871</td>\n",
       "      <td>2021-01-18</td>\n",
       "      <td>1</td>\n",
       "    </tr>\n",
       "    <tr>\n",
       "      <th>2</th>\n",
       "      <td>1</td>\n",
       "      <td>Кира</td>\n",
       "      <td>22</td>\n",
       "      <td>Тюмень</td>\n",
       "      <td>ultra</td>\n",
       "      <td>754.159807</td>\n",
       "      <td>6.232113</td>\n",
       "      <td>2021-04-20</td>\n",
       "      <td>4</td>\n",
       "    </tr>\n",
       "    <tr>\n",
       "      <th>3</th>\n",
       "      <td>1</td>\n",
       "      <td>Кира</td>\n",
       "      <td>22</td>\n",
       "      <td>Тюмень</td>\n",
       "      <td>ultra</td>\n",
       "      <td>2694.783254</td>\n",
       "      <td>18.511000</td>\n",
       "      <td>2021-08-11</td>\n",
       "      <td>8</td>\n",
       "    </tr>\n",
       "    <tr>\n",
       "      <th>4</th>\n",
       "      <td>1</td>\n",
       "      <td>Кира</td>\n",
       "      <td>22</td>\n",
       "      <td>Тюмень</td>\n",
       "      <td>ultra</td>\n",
       "      <td>4028.687306</td>\n",
       "      <td>26.265803</td>\n",
       "      <td>2021-08-28</td>\n",
       "      <td>8</td>\n",
       "    </tr>\n",
       "  </tbody>\n",
       "</table>\n",
       "</div>"
      ],
      "text/plain": [
       "   user_id  name  age    city subscription_type     distance   duration  \\\n",
       "0        1  Кира   22  Тюмень             ultra  4409.919140  25.599769   \n",
       "1        1  Кира   22  Тюмень             ultra  2617.592153  15.816871   \n",
       "2        1  Кира   22  Тюмень             ultra   754.159807   6.232113   \n",
       "3        1  Кира   22  Тюмень             ultra  2694.783254  18.511000   \n",
       "4        1  Кира   22  Тюмень             ultra  4028.687306  26.265803   \n",
       "\n",
       "        date  month  \n",
       "0 2021-01-01      1  \n",
       "1 2021-01-18      1  \n",
       "2 2021-04-20      4  \n",
       "3 2021-08-11      8  \n",
       "4 2021-08-28      8  "
      ]
     },
     "metadata": {},
     "output_type": "display_data"
    }
   ],
   "source": [
    "# Объединим данные о пользователях, поездках и подписках в один датафрейм.\n",
    "df = user.merge(ride, on='user_id')\n",
    "display(df.head())"
   ]
  },
  {
   "cell_type": "code",
   "execution_count": 22,
   "id": "2f790af9",
   "metadata": {},
   "outputs": [
    {
     "name": "stdout",
     "output_type": "stream",
     "text": [
      "(17373, 9)\n",
      "user_id              0\n",
      "name                 0\n",
      "age                  0\n",
      "city                 0\n",
      "subscription_type    0\n",
      "distance             0\n",
      "duration             0\n",
      "date                 0\n",
      "month                0\n",
      "dtype: int64\n"
     ]
    }
   ],
   "source": [
    "print(df.shape)#посмотрим размерность объединенной таблицы\n",
    "print(df.isna().sum())#и не образовались ли пропуски"
   ]
  },
  {
   "cell_type": "code",
   "execution_count": 23,
   "id": "9a22fbcc",
   "metadata": {},
   "outputs": [
    {
     "data": {
      "text/html": [
       "<div>\n",
       "<style scoped>\n",
       "    .dataframe tbody tr th:only-of-type {\n",
       "        vertical-align: middle;\n",
       "    }\n",
       "\n",
       "    .dataframe tbody tr th {\n",
       "        vertical-align: top;\n",
       "    }\n",
       "\n",
       "    .dataframe thead th {\n",
       "        text-align: right;\n",
       "    }\n",
       "</style>\n",
       "<table border=\"1\" class=\"dataframe\">\n",
       "  <thead>\n",
       "    <tr style=\"text-align: right;\">\n",
       "      <th></th>\n",
       "      <th>user_id</th>\n",
       "      <th>name</th>\n",
       "      <th>age</th>\n",
       "      <th>city</th>\n",
       "      <th>subscription_type</th>\n",
       "      <th>distance</th>\n",
       "      <th>duration</th>\n",
       "      <th>date</th>\n",
       "      <th>month</th>\n",
       "    </tr>\n",
       "  </thead>\n",
       "  <tbody>\n",
       "    <tr>\n",
       "      <th>0</th>\n",
       "      <td>1</td>\n",
       "      <td>Кира</td>\n",
       "      <td>22</td>\n",
       "      <td>Тюмень</td>\n",
       "      <td>ultra</td>\n",
       "      <td>4409.919140</td>\n",
       "      <td>25.599769</td>\n",
       "      <td>2021-01-01</td>\n",
       "      <td>1</td>\n",
       "    </tr>\n",
       "    <tr>\n",
       "      <th>1</th>\n",
       "      <td>1</td>\n",
       "      <td>Кира</td>\n",
       "      <td>22</td>\n",
       "      <td>Тюмень</td>\n",
       "      <td>ultra</td>\n",
       "      <td>2617.592153</td>\n",
       "      <td>15.816871</td>\n",
       "      <td>2021-01-18</td>\n",
       "      <td>1</td>\n",
       "    </tr>\n",
       "    <tr>\n",
       "      <th>2</th>\n",
       "      <td>1</td>\n",
       "      <td>Кира</td>\n",
       "      <td>22</td>\n",
       "      <td>Тюмень</td>\n",
       "      <td>ultra</td>\n",
       "      <td>754.159807</td>\n",
       "      <td>6.232113</td>\n",
       "      <td>2021-04-20</td>\n",
       "      <td>4</td>\n",
       "    </tr>\n",
       "    <tr>\n",
       "      <th>3</th>\n",
       "      <td>1</td>\n",
       "      <td>Кира</td>\n",
       "      <td>22</td>\n",
       "      <td>Тюмень</td>\n",
       "      <td>ultra</td>\n",
       "      <td>2694.783254</td>\n",
       "      <td>18.511000</td>\n",
       "      <td>2021-08-11</td>\n",
       "      <td>8</td>\n",
       "    </tr>\n",
       "    <tr>\n",
       "      <th>4</th>\n",
       "      <td>1</td>\n",
       "      <td>Кира</td>\n",
       "      <td>22</td>\n",
       "      <td>Тюмень</td>\n",
       "      <td>ultra</td>\n",
       "      <td>4028.687306</td>\n",
       "      <td>26.265803</td>\n",
       "      <td>2021-08-28</td>\n",
       "      <td>8</td>\n",
       "    </tr>\n",
       "  </tbody>\n",
       "</table>\n",
       "</div>"
      ],
      "text/plain": [
       "   user_id  name  age    city subscription_type     distance   duration  \\\n",
       "0        1  Кира   22  Тюмень             ultra  4409.919140  25.599769   \n",
       "1        1  Кира   22  Тюмень             ultra  2617.592153  15.816871   \n",
       "2        1  Кира   22  Тюмень             ultra   754.159807   6.232113   \n",
       "3        1  Кира   22  Тюмень             ultra  2694.783254  18.511000   \n",
       "4        1  Кира   22  Тюмень             ultra  4028.687306  26.265803   \n",
       "\n",
       "        date  month  \n",
       "0 2021-01-01      1  \n",
       "1 2021-01-18      1  \n",
       "2 2021-04-20      4  \n",
       "3 2021-08-11      8  \n",
       "4 2021-08-28      8  "
      ]
     },
     "metadata": {},
     "output_type": "display_data"
    }
   ],
   "source": [
    "# Создадим датафрейм с данными о пользователях с подпиской.\n",
    "df_ultra = df.query('subscription_type == \"ultra\"')\n",
    "display(df_ultra.head())"
   ]
  },
  {
   "cell_type": "code",
   "execution_count": 24,
   "id": "48ac8c77",
   "metadata": {},
   "outputs": [
    {
     "data": {
      "text/html": [
       "<div>\n",
       "<style scoped>\n",
       "    .dataframe tbody tr th:only-of-type {\n",
       "        vertical-align: middle;\n",
       "    }\n",
       "\n",
       "    .dataframe tbody tr th {\n",
       "        vertical-align: top;\n",
       "    }\n",
       "\n",
       "    .dataframe thead th {\n",
       "        text-align: right;\n",
       "    }\n",
       "</style>\n",
       "<table border=\"1\" class=\"dataframe\">\n",
       "  <thead>\n",
       "    <tr style=\"text-align: right;\">\n",
       "      <th></th>\n",
       "      <th>user_id</th>\n",
       "      <th>name</th>\n",
       "      <th>age</th>\n",
       "      <th>city</th>\n",
       "      <th>subscription_type</th>\n",
       "      <th>distance</th>\n",
       "      <th>duration</th>\n",
       "      <th>date</th>\n",
       "      <th>month</th>\n",
       "    </tr>\n",
       "  </thead>\n",
       "  <tbody>\n",
       "    <tr>\n",
       "      <th>6246</th>\n",
       "      <td>700</td>\n",
       "      <td>Айдар</td>\n",
       "      <td>22</td>\n",
       "      <td>Омск</td>\n",
       "      <td>free</td>\n",
       "      <td>2515.690719</td>\n",
       "      <td>14.944286</td>\n",
       "      <td>2021-01-02</td>\n",
       "      <td>1</td>\n",
       "    </tr>\n",
       "    <tr>\n",
       "      <th>6247</th>\n",
       "      <td>700</td>\n",
       "      <td>Айдар</td>\n",
       "      <td>22</td>\n",
       "      <td>Омск</td>\n",
       "      <td>free</td>\n",
       "      <td>846.932642</td>\n",
       "      <td>16.234663</td>\n",
       "      <td>2021-02-01</td>\n",
       "      <td>2</td>\n",
       "    </tr>\n",
       "    <tr>\n",
       "      <th>6248</th>\n",
       "      <td>700</td>\n",
       "      <td>Айдар</td>\n",
       "      <td>22</td>\n",
       "      <td>Омск</td>\n",
       "      <td>free</td>\n",
       "      <td>4004.434142</td>\n",
       "      <td>20.016628</td>\n",
       "      <td>2021-02-04</td>\n",
       "      <td>2</td>\n",
       "    </tr>\n",
       "    <tr>\n",
       "      <th>6249</th>\n",
       "      <td>700</td>\n",
       "      <td>Айдар</td>\n",
       "      <td>22</td>\n",
       "      <td>Омск</td>\n",
       "      <td>free</td>\n",
       "      <td>1205.911290</td>\n",
       "      <td>9.782872</td>\n",
       "      <td>2021-02-10</td>\n",
       "      <td>2</td>\n",
       "    </tr>\n",
       "    <tr>\n",
       "      <th>6250</th>\n",
       "      <td>700</td>\n",
       "      <td>Айдар</td>\n",
       "      <td>22</td>\n",
       "      <td>Омск</td>\n",
       "      <td>free</td>\n",
       "      <td>3047.379435</td>\n",
       "      <td>17.427673</td>\n",
       "      <td>2021-02-14</td>\n",
       "      <td>2</td>\n",
       "    </tr>\n",
       "  </tbody>\n",
       "</table>\n",
       "</div>"
      ],
      "text/plain": [
       "      user_id   name  age  city subscription_type     distance   duration  \\\n",
       "6246      700  Айдар   22  Омск              free  2515.690719  14.944286   \n",
       "6247      700  Айдар   22  Омск              free   846.932642  16.234663   \n",
       "6248      700  Айдар   22  Омск              free  4004.434142  20.016628   \n",
       "6249      700  Айдар   22  Омск              free  1205.911290   9.782872   \n",
       "6250      700  Айдар   22  Омск              free  3047.379435  17.427673   \n",
       "\n",
       "           date  month  \n",
       "6246 2021-01-02      1  \n",
       "6247 2021-02-01      2  \n",
       "6248 2021-02-04      2  \n",
       "6249 2021-02-10      2  \n",
       "6250 2021-02-14      2  "
      ]
     },
     "metadata": {},
     "output_type": "display_data"
    }
   ],
   "source": [
    "# Создадим датафрейм с данными о пользователях без подписки.\n",
    "df_free = df.query('subscription_type == \"free\"')\n",
    "display(df_free.head())"
   ]
  },
  {
   "cell_type": "code",
   "execution_count": 25,
   "id": "b3e26dad",
   "metadata": {},
   "outputs": [
    {
     "data": {
      "image/png": "[encoded data removed]",
      "text/plain": [
       "<Figure size 1500x500 with 1 Axes>"
      ]
     },
     "metadata": {},
     "output_type": "display_data"
    },
    {
     "name": "stdout",
     "output_type": "stream",
     "text": [
      "count    6246.000000\n",
      "mean     3110.675084\n",
      "std       831.944148\n",
      "min       244.210438\n",
      "25%      2783.615366\n",
      "50%      3145.682080\n",
      "75%      3554.451697\n",
      "max      5699.769662\n",
      "Name: distance, dtype: float64\n"
     ]
    }
   ],
   "source": [
    "# Построим гистограммы с информацие о расстоянии поездок для пользователей на  тарифе с подпиской\n",
    "df_ultra['distance'].hist(bins=100, figsize=(15,5))\n",
    "plt.xlabel('Расстояние одной поездки')\n",
    "plt.show()\n",
    "print(df_ultra['distance'].describe())"
   ]
  },
  {
   "cell_type": "code",
   "execution_count": 26,
   "id": "c7603ce5",
   "metadata": {},
   "outputs": [
    {
     "data": {
      "image/png": "[encoded data removed]",
      "text/plain": [
       "<Figure size 1500x500 with 1 Axes>"
      ]
     },
     "metadata": {},
     "output_type": "display_data"
    },
    {
     "name": "stdout",
     "output_type": "stream",
     "text": [
      "count    11127.000000\n",
      "mean      3028.068479\n",
      "std       1237.472560\n",
      "min          0.855683\n",
      "25%       2359.713130\n",
      "50%       3101.110992\n",
      "75%       3886.428646\n",
      "max       7066.003772\n",
      "Name: distance, dtype: float64\n"
     ]
    }
   ],
   "source": [
    "# Построим гистограммы с информацие о расстоянии поездок для пользователей на  тарифе без подписки\n",
    "df_free['distance'].hist(bins=100, figsize=(15,5))\n",
    "plt.xlabel('Расстояние одной поездки')\n",
    "plt.show()\n",
    "print(df_free['distance'].describe())"
   ]
  },
  {
   "cell_type": "markdown",
   "id": "483b23d7",
   "metadata": {},
   "source": [
    "У пользователей без подписки значительно больше коротких поездок - до 1 км и в целом максимальная дальность поездки выше, чем у платных пользователей. Пользователи с подпиской чаще совершают поездки на расстояние 2,8 - 3,5 км. Расстояние поездки  для пользовалетели без подписки 2,4 - 3,9 км."
   ]
  },
  {
   "cell_type": "code",
   "execution_count": 27,
   "id": "f45a2c06",
   "metadata": {},
   "outputs": [
    {
     "data": {
      "image/png": "[encoded data removed]",
      "text/plain": [
       "<Figure size 1500x500 with 1 Axes>"
      ]
     },
     "metadata": {},
     "output_type": "display_data"
    },
    {
     "data": {
      "text/plain": [
       "count    6246.000000\n",
       "mean       18.455814\n",
       "std         5.448735\n",
       "min         3.760353\n",
       "25%        14.493456\n",
       "50%        18.154184\n",
       "75%        21.809100\n",
       "max        34.962659\n",
       "Name: duration, dtype: float64"
      ]
     },
     "execution_count": 27,
     "metadata": {},
     "output_type": "execute_result"
    }
   ],
   "source": [
    "# Построим гистограммы с информацие о времени поездок для пользователей на  тарифе с подпиской\n",
    "df_ultra['duration'].hist(bins=100, figsize=(15,5))\n",
    "plt.xlabel('Длительность одной поездки')\n",
    "plt.show()\n",
    "df_ultra['duration'].describe()"
   ]
  },
  {
   "cell_type": "code",
   "execution_count": 28,
   "id": "8ae30681",
   "metadata": {},
   "outputs": [
    {
     "data": {
      "image/png": "[encoded data removed]",
      "text/plain": [
       "<Figure size 1500x500 with 1 Axes>"
      ]
     },
     "metadata": {},
     "output_type": "display_data"
    },
    {
     "data": {
      "text/plain": [
       "count    11127.000000\n",
       "mean        17.527207\n",
       "std          6.159695\n",
       "min          2.035632\n",
       "25%         13.082230\n",
       "50%         17.392830\n",
       "75%         21.641394\n",
       "max         34.948498\n",
       "Name: duration, dtype: float64"
      ]
     },
     "execution_count": 28,
     "metadata": {},
     "output_type": "execute_result"
    }
   ],
   "source": [
    "# Построим гистограммы с информацие о времени поездок для пользователей на  тарифе без подписки\n",
    "df_free['duration'].hist(bins=100, figsize=(15,5))\n",
    "plt.xlabel('Длительность одной поездки')\n",
    "plt.show()\n",
    "df_free['duration'].describe()"
   ]
  },
  {
   "cell_type": "markdown",
   "id": "d585b8fc",
   "metadata": {},
   "source": [
    "В целом картина такая же - распределение внутри категорий имеют одинаковый профиль (и одинаковый с профилем распределения до разбивки на категории - строили на ранних этапах), но в каждом из диапазонов бесплатных пользователей чуть больше, но их, как мы помним, и в целом больше.\n",
    "Краевые значения (минимум и максимум) у бесплатных пользователей смещены влево относительно платных подписчиков - стоимость минуты все-таки больше, значит часть пользователей торопится завершить поездки за меньший срок. Но при этом визуально среднее значение не сильно смещено. Длительность одной поездки для пользователей с подпиской чаще составляет 15 - 22 мин., без подписки 13 - 22 мин."
   ]
  },
  {
   "cell_type": "markdown",
   "id": "402d620f",
   "metadata": {},
   "source": [
    "## Подсчёт выручки"
   ]
  },
  {
   "cell_type": "code",
   "execution_count": 29,
   "id": "53049e0a",
   "metadata": {},
   "outputs": [
    {
     "data": {
      "text/html": [
       "<div>\n",
       "<style scoped>\n",
       "    .dataframe tbody tr th:only-of-type {\n",
       "        vertical-align: middle;\n",
       "    }\n",
       "\n",
       "    .dataframe tbody tr th {\n",
       "        vertical-align: top;\n",
       "    }\n",
       "\n",
       "    .dataframe thead th {\n",
       "        text-align: right;\n",
       "    }\n",
       "</style>\n",
       "<table border=\"1\" class=\"dataframe\">\n",
       "  <thead>\n",
       "    <tr style=\"text-align: right;\">\n",
       "      <th></th>\n",
       "      <th>user_id</th>\n",
       "      <th>month</th>\n",
       "      <th>subscription_type</th>\n",
       "      <th>distance_sum</th>\n",
       "      <th>count</th>\n",
       "      <th>duration_sum</th>\n",
       "    </tr>\n",
       "  </thead>\n",
       "  <tbody>\n",
       "    <tr>\n",
       "      <th>0</th>\n",
       "      <td>1</td>\n",
       "      <td>1</td>\n",
       "      <td>ultra</td>\n",
       "      <td>7027.511294</td>\n",
       "      <td>2</td>\n",
       "      <td>42.0</td>\n",
       "    </tr>\n",
       "    <tr>\n",
       "      <th>1</th>\n",
       "      <td>1</td>\n",
       "      <td>4</td>\n",
       "      <td>ultra</td>\n",
       "      <td>754.159807</td>\n",
       "      <td>1</td>\n",
       "      <td>7.0</td>\n",
       "    </tr>\n",
       "    <tr>\n",
       "      <th>2</th>\n",
       "      <td>1</td>\n",
       "      <td>8</td>\n",
       "      <td>ultra</td>\n",
       "      <td>6723.470560</td>\n",
       "      <td>2</td>\n",
       "      <td>45.0</td>\n",
       "    </tr>\n",
       "    <tr>\n",
       "      <th>3</th>\n",
       "      <td>1</td>\n",
       "      <td>10</td>\n",
       "      <td>ultra</td>\n",
       "      <td>5809.911100</td>\n",
       "      <td>2</td>\n",
       "      <td>32.0</td>\n",
       "    </tr>\n",
       "    <tr>\n",
       "      <th>4</th>\n",
       "      <td>1</td>\n",
       "      <td>11</td>\n",
       "      <td>ultra</td>\n",
       "      <td>7003.499363</td>\n",
       "      <td>3</td>\n",
       "      <td>54.0</td>\n",
       "    </tr>\n",
       "    <tr>\n",
       "      <th>5</th>\n",
       "      <td>1</td>\n",
       "      <td>12</td>\n",
       "      <td>ultra</td>\n",
       "      <td>6751.629942</td>\n",
       "      <td>2</td>\n",
       "      <td>28.0</td>\n",
       "    </tr>\n",
       "    <tr>\n",
       "      <th>6</th>\n",
       "      <td>2</td>\n",
       "      <td>3</td>\n",
       "      <td>ultra</td>\n",
       "      <td>10187.723006</td>\n",
       "      <td>3</td>\n",
       "      <td>61.0</td>\n",
       "    </tr>\n",
       "    <tr>\n",
       "      <th>7</th>\n",
       "      <td>2</td>\n",
       "      <td>4</td>\n",
       "      <td>ultra</td>\n",
       "      <td>6164.381824</td>\n",
       "      <td>2</td>\n",
       "      <td>40.0</td>\n",
       "    </tr>\n",
       "    <tr>\n",
       "      <th>8</th>\n",
       "      <td>2</td>\n",
       "      <td>6</td>\n",
       "      <td>ultra</td>\n",
       "      <td>3255.338202</td>\n",
       "      <td>1</td>\n",
       "      <td>14.0</td>\n",
       "    </tr>\n",
       "    <tr>\n",
       "      <th>9</th>\n",
       "      <td>2</td>\n",
       "      <td>7</td>\n",
       "      <td>ultra</td>\n",
       "      <td>6780.722964</td>\n",
       "      <td>2</td>\n",
       "      <td>47.0</td>\n",
       "    </tr>\n",
       "  </tbody>\n",
       "</table>\n",
       "</div>"
      ],
      "text/plain": [
       "   user_id  month subscription_type  distance_sum  count  duration_sum\n",
       "0        1      1             ultra   7027.511294      2          42.0\n",
       "1        1      4             ultra    754.159807      1           7.0\n",
       "2        1      8             ultra   6723.470560      2          45.0\n",
       "3        1     10             ultra   5809.911100      2          32.0\n",
       "4        1     11             ultra   7003.499363      3          54.0\n",
       "5        1     12             ultra   6751.629942      2          28.0\n",
       "6        2      3             ultra  10187.723006      3          61.0\n",
       "7        2      4             ultra   6164.381824      2          40.0\n",
       "8        2      6             ultra   3255.338202      1          14.0\n",
       "9        2      7             ultra   6780.722964      2          47.0"
      ]
     },
     "metadata": {},
     "output_type": "display_data"
    }
   ],
   "source": [
    "# Создаем датафрейм с агрегированными данными о поездках на основе датафрейма с объединёнными данными: \n",
    "# найдем суммарное расстояние, количество поездок и суммарное время для каждого пользователя за каждый месяц.\n",
    "df_grouped = df.groupby(['user_id', 'month', 'subscription_type']).agg({'distance':['sum', 'count'], \\\n",
    "                                                                                'duration': ['sum']})\n",
    "df_grouped.columns = ['distance_sum', 'count', 'duration_sum']\n",
    "# каждое значение из столбца duration округляется с помощью «потолка»: \n",
    "df_grouped['duration_sum'] = np.ceil(df_grouped['duration_sum'])\n",
    "df_grouped.reset_index(['subscription_type', 'month', 'user_id'], inplace = True)\n",
    "display(df_grouped.head(10))"
   ]
  },
  {
   "cell_type": "code",
   "execution_count": 30,
   "id": "aaf4a11f",
   "metadata": {},
   "outputs": [
    {
     "name": "stdout",
     "output_type": "stream",
     "text": [
      "user_id              0\n",
      "month                0\n",
      "subscription_type    0\n",
      "distance_sum         0\n",
      "count                0\n",
      "duration_sum         0\n",
      "dtype: int64\n"
     ]
    }
   ],
   "source": [
    "print(df_grouped.isna().sum())#проверим таблицу на наличие пропусков"
   ]
  },
  {
   "cell_type": "code",
   "execution_count": 31,
   "id": "a76fe268",
   "metadata": {
    "scrolled": true
   },
   "outputs": [
    {
     "data": {
      "text/html": [
       "<div>\n",
       "<style scoped>\n",
       "    .dataframe tbody tr th:only-of-type {\n",
       "        vertical-align: middle;\n",
       "    }\n",
       "\n",
       "    .dataframe tbody tr th {\n",
       "        vertical-align: top;\n",
       "    }\n",
       "\n",
       "    .dataframe thead th {\n",
       "        text-align: right;\n",
       "    }\n",
       "</style>\n",
       "<table border=\"1\" class=\"dataframe\">\n",
       "  <thead>\n",
       "    <tr style=\"text-align: right;\">\n",
       "      <th></th>\n",
       "      <th>user_id</th>\n",
       "      <th>month</th>\n",
       "      <th>subscription_type</th>\n",
       "      <th>distance_sum</th>\n",
       "      <th>count</th>\n",
       "      <th>duration_sum</th>\n",
       "      <th>minute_price</th>\n",
       "      <th>start_ride_price</th>\n",
       "      <th>subscription_fee</th>\n",
       "      <th>revenue_month</th>\n",
       "    </tr>\n",
       "  </thead>\n",
       "  <tbody>\n",
       "    <tr>\n",
       "      <th>0</th>\n",
       "      <td>1</td>\n",
       "      <td>1</td>\n",
       "      <td>ultra</td>\n",
       "      <td>7027.511294</td>\n",
       "      <td>2</td>\n",
       "      <td>42.0</td>\n",
       "      <td>6</td>\n",
       "      <td>0</td>\n",
       "      <td>199</td>\n",
       "      <td>451.0</td>\n",
       "    </tr>\n",
       "    <tr>\n",
       "      <th>1</th>\n",
       "      <td>1</td>\n",
       "      <td>4</td>\n",
       "      <td>ultra</td>\n",
       "      <td>754.159807</td>\n",
       "      <td>1</td>\n",
       "      <td>7.0</td>\n",
       "      <td>6</td>\n",
       "      <td>0</td>\n",
       "      <td>199</td>\n",
       "      <td>241.0</td>\n",
       "    </tr>\n",
       "    <tr>\n",
       "      <th>2</th>\n",
       "      <td>1</td>\n",
       "      <td>8</td>\n",
       "      <td>ultra</td>\n",
       "      <td>6723.470560</td>\n",
       "      <td>2</td>\n",
       "      <td>45.0</td>\n",
       "      <td>6</td>\n",
       "      <td>0</td>\n",
       "      <td>199</td>\n",
       "      <td>469.0</td>\n",
       "    </tr>\n",
       "    <tr>\n",
       "      <th>3</th>\n",
       "      <td>1</td>\n",
       "      <td>10</td>\n",
       "      <td>ultra</td>\n",
       "      <td>5809.911100</td>\n",
       "      <td>2</td>\n",
       "      <td>32.0</td>\n",
       "      <td>6</td>\n",
       "      <td>0</td>\n",
       "      <td>199</td>\n",
       "      <td>391.0</td>\n",
       "    </tr>\n",
       "    <tr>\n",
       "      <th>4</th>\n",
       "      <td>1</td>\n",
       "      <td>11</td>\n",
       "      <td>ultra</td>\n",
       "      <td>7003.499363</td>\n",
       "      <td>3</td>\n",
       "      <td>54.0</td>\n",
       "      <td>6</td>\n",
       "      <td>0</td>\n",
       "      <td>199</td>\n",
       "      <td>523.0</td>\n",
       "    </tr>\n",
       "  </tbody>\n",
       "</table>\n",
       "</div>"
      ],
      "text/plain": [
       "   user_id  month subscription_type  distance_sum  count  duration_sum  \\\n",
       "0        1      1             ultra   7027.511294      2          42.0   \n",
       "1        1      4             ultra    754.159807      1           7.0   \n",
       "2        1      8             ultra   6723.470560      2          45.0   \n",
       "3        1     10             ultra   5809.911100      2          32.0   \n",
       "4        1     11             ultra   7003.499363      3          54.0   \n",
       "\n",
       "   minute_price  start_ride_price  subscription_fee  revenue_month  \n",
       "0             6                 0               199          451.0  \n",
       "1             6                 0               199          241.0  \n",
       "2             6                 0               199          469.0  \n",
       "3             6                 0               199          391.0  \n",
       "4             6                 0               199          523.0  "
      ]
     },
     "metadata": {},
     "output_type": "display_data"
    },
    {
     "data": {
      "text/html": [
       "<div>\n",
       "<style scoped>\n",
       "    .dataframe tbody tr th:only-of-type {\n",
       "        vertical-align: middle;\n",
       "    }\n",
       "\n",
       "    .dataframe tbody tr th {\n",
       "        vertical-align: top;\n",
       "    }\n",
       "\n",
       "    .dataframe thead th {\n",
       "        text-align: right;\n",
       "    }\n",
       "</style>\n",
       "<table border=\"1\" class=\"dataframe\">\n",
       "  <thead>\n",
       "    <tr style=\"text-align: right;\">\n",
       "      <th></th>\n",
       "      <th>user_id</th>\n",
       "      <th>month</th>\n",
       "      <th>subscription_type</th>\n",
       "      <th>distance_sum</th>\n",
       "      <th>count</th>\n",
       "      <th>duration_sum</th>\n",
       "      <th>minute_price</th>\n",
       "      <th>start_ride_price</th>\n",
       "      <th>subscription_fee</th>\n",
       "      <th>revenue_month</th>\n",
       "    </tr>\n",
       "  </thead>\n",
       "  <tbody>\n",
       "    <tr>\n",
       "      <th>10923</th>\n",
       "      <td>1534</td>\n",
       "      <td>6</td>\n",
       "      <td>free</td>\n",
       "      <td>3409.468534</td>\n",
       "      <td>2</td>\n",
       "      <td>25.0</td>\n",
       "      <td>8</td>\n",
       "      <td>50</td>\n",
       "      <td>0</td>\n",
       "      <td>300.0</td>\n",
       "    </tr>\n",
       "    <tr>\n",
       "      <th>10924</th>\n",
       "      <td>1534</td>\n",
       "      <td>8</td>\n",
       "      <td>free</td>\n",
       "      <td>7622.453034</td>\n",
       "      <td>2</td>\n",
       "      <td>48.0</td>\n",
       "      <td>8</td>\n",
       "      <td>50</td>\n",
       "      <td>0</td>\n",
       "      <td>484.0</td>\n",
       "    </tr>\n",
       "    <tr>\n",
       "      <th>10925</th>\n",
       "      <td>1534</td>\n",
       "      <td>9</td>\n",
       "      <td>free</td>\n",
       "      <td>4928.173852</td>\n",
       "      <td>1</td>\n",
       "      <td>23.0</td>\n",
       "      <td>8</td>\n",
       "      <td>50</td>\n",
       "      <td>0</td>\n",
       "      <td>234.0</td>\n",
       "    </tr>\n",
       "    <tr>\n",
       "      <th>10926</th>\n",
       "      <td>1534</td>\n",
       "      <td>11</td>\n",
       "      <td>free</td>\n",
       "      <td>13350.015305</td>\n",
       "      <td>4</td>\n",
       "      <td>77.0</td>\n",
       "      <td>8</td>\n",
       "      <td>50</td>\n",
       "      <td>0</td>\n",
       "      <td>816.0</td>\n",
       "    </tr>\n",
       "    <tr>\n",
       "      <th>10927</th>\n",
       "      <td>1534</td>\n",
       "      <td>12</td>\n",
       "      <td>free</td>\n",
       "      <td>2371.711192</td>\n",
       "      <td>1</td>\n",
       "      <td>16.0</td>\n",
       "      <td>8</td>\n",
       "      <td>50</td>\n",
       "      <td>0</td>\n",
       "      <td>178.0</td>\n",
       "    </tr>\n",
       "  </tbody>\n",
       "</table>\n",
       "</div>"
      ],
      "text/plain": [
       "       user_id  month subscription_type  distance_sum  count  duration_sum  \\\n",
       "10923     1534      6              free   3409.468534      2          25.0   \n",
       "10924     1534      8              free   7622.453034      2          48.0   \n",
       "10925     1534      9              free   4928.173852      1          23.0   \n",
       "10926     1534     11              free  13350.015305      4          77.0   \n",
       "10927     1534     12              free   2371.711192      1          16.0   \n",
       "\n",
       "       minute_price  start_ride_price  subscription_fee  revenue_month  \n",
       "10923             8                50                 0          300.0  \n",
       "10924             8                50                 0          484.0  \n",
       "10925             8                50                 0          234.0  \n",
       "10926             8                50                 0          816.0  \n",
       "10927             8                50                 0          178.0  "
      ]
     },
     "metadata": {},
     "output_type": "display_data"
    }
   ],
   "source": [
    "# Добавим столбец с помесячной выручкой, которую принёс каждый пользователь.\n",
    "df_grouped = df_grouped.merge(subscription, on='subscription_type')\n",
    "df_grouped['revenue_month'] = df_grouped['start_ride_price'] * df_grouped['count'] + df_grouped['minute_price'] * df_grouped['duration_sum'] + df_grouped['subscription_fee']\n",
    "display(df_grouped.head())\n",
    "display(df_grouped.tail())"
   ]
  },
  {
   "cell_type": "markdown",
   "id": "61213c5e",
   "metadata": {},
   "source": [
    "## Проверка гипотез"
   ]
  },
  {
   "cell_type": "markdown",
   "id": "d11a017b",
   "metadata": {},
   "source": [
    "***1. Проверим тратят ли пользователи с подпиской больше времени на поездки.***  \n",
    "Для этого используем исходные данные о продолжительности каждой сессии — отдельно для подписчиков и тех, у кого нет подписки.  \n",
    "Нулевая гипотеза: Две эти группы демонстрируют одинаковую длительность.   \n",
    "Альтернативная гипотеза: Две эти группы демонстрируют разную длительность.   "
   ]
  },
  {
   "cell_type": "code",
   "execution_count": 32,
   "id": "c6e37493",
   "metadata": {},
   "outputs": [
    {
     "name": "stdout",
     "output_type": "stream",
     "text": [
      "p-значение: 5.403015208299657e-25\n",
      "Отвергаем гипотезу\n"
     ]
    }
   ],
   "source": [
    "alpha = 0.05\n",
    "results = st.ttest_ind(df_ultra['duration'], \n",
    "                       df_free['duration'], \n",
    "                       equal_var=False, \n",
    "                       alternative='greater')\n",
    "print('p-значение:', results.pvalue)\n",
    "if results.pvalue < alpha:\n",
    "    print('Отвергаем гипотезу')\n",
    "else:\n",
    "    print('Гипотеза верна')"
   ]
  },
  {
   "cell_type": "markdown",
   "id": "a1bd8835",
   "metadata": {},
   "source": [
    "Гипотеза не подтвердилась, поэтому пользователи с подпиской и без подписки представляют для компании одинаковый интерес."
   ]
  },
  {
   "cell_type": "markdown",
   "id": "e35eba6e",
   "metadata": {},
   "source": [
    "***2. Расстояние одной поездки в 3130 метров — оптимальное с точки зрения износа самоката.***   \n",
    "Нулевая гипотеза:расстояние, которое проезжают пользователи с подпиской за одну поездку, не превышает 3130 метров.   \n",
    "Альтернативна гипотеза: расстояние, которое проезжают пользователи с подпиской за одну поездку, превышает 3130 метров. "
   ]
  },
  {
   "cell_type": "code",
   "execution_count": 33,
   "id": "9c7bf66c",
   "metadata": {},
   "outputs": [
    {
     "name": "stdout",
     "output_type": "stream",
     "text": [
      "p-значение: 0.9667823263121742\n",
      "Гипотеза верна\n"
     ]
    }
   ],
   "source": [
    "optimal_distance = 3130\n",
    "alpha = 0.05\n",
    "results = st.ttest_1samp(df_ultra['distance'], \n",
    "                         optimal_distance, \n",
    "                         alternative='greater')\n",
    "print('p-значение:', results.pvalue)\n",
    "if results.pvalue < alpha:\n",
    "    print('Отвергаем гипотезу')\n",
    "else:\n",
    "    print('Гипотеза верна')"
   ]
  },
  {
   "cell_type": "markdown",
   "id": "5f041947",
   "metadata": {},
   "source": [
    "Гипотеза подтвердилась: расстояние, которое проезжают пользователи с подпиской за одну поездку, не превышает 3130 метров."
   ]
  },
  {
   "cell_type": "markdown",
   "id": "99d2beff",
   "metadata": {},
   "source": [
    "***3. Сравним выручку от пользователей с подпиской и без.***  \n",
    "Нулевая гипотеза: пользователи тарифа ulrta демонтрируют большую выручку, чем пользователи тарифа free.  \n",
    "Альтернативная гипотеза: пользователи тарифа free демонтрируют большую выручку, чем пользователи тарифа ulrta"
   ]
  },
  {
   "cell_type": "code",
   "execution_count": 34,
   "id": "4340a405",
   "metadata": {},
   "outputs": [
    {
     "name": "stdout",
     "output_type": "stream",
     "text": [
      "4.5382739872641744e-40\n",
      "Отвергаем нулевую гипотезу\n"
     ]
    }
   ],
   "source": [
    "revenue_ultra = df_grouped[df_grouped['subscription_type'] == 'ultra']['revenue_month']\n",
    "revenue_free = df_grouped[df_grouped['subscription_type'] == 'free']['revenue_month']\n",
    "results = st.ttest_ind(revenue_ultra, revenue_free, equal_var=False, alternative='greater')\n",
    "alpha = 0.05\n",
    "print(results.pvalue)\n",
    "if results.pvalue < alpha:\n",
    "    print('Отвергаем нулевую гипотезу')\n",
    "else:\n",
    "    print('Гипотеза верна')"
   ]
  },
  {
   "cell_type": "code",
   "execution_count": 35,
   "id": "41d5de8e",
   "metadata": {},
   "outputs": [
    {
     "data": {
      "image/png": "[encoded data removed]",
      "text/plain": [
       "<Figure size 1500x500 with 1 Axes>"
      ]
     },
     "metadata": {},
     "output_type": "display_data"
    }
   ],
   "source": [
    "df_grouped_month = df_grouped.groupby(['month', 'subscription_type'])['revenue_month'].sum()\n",
    "df_grouped_month.plot(kind=\"bar\", grid=True, figsize=(15,5), title = 'Заголовок');"
   ]
  },
  {
   "cell_type": "markdown",
   "id": "0a0d6482",
   "metadata": {},
   "source": [
    "Как видно из графика выручка от пользователей с подпиской каждый месяц была ниже, чем у пользователей без подписки."
   ]
  },
  {
   "cell_type": "markdown",
   "id": "aeba1803",
   "metadata": {},
   "source": [
    "###### Предположим, что техническая команда сервиса обновила сервера, с которыми взаимодействует мобильное приложение.  \n",
    "Она надеется, что из-за этого количество обращений в техподдержку значимо снизилось. Некоторый файл содержит для каждого пользователя данные о количестве обращений до обновления и после него. Для решения потребуется тест на равенство средних для зависимых выборок, до и после изменений (методом scipy.stats.ttest_rel())."
   ]
  },
  {
   "cell_type": "markdown",
   "id": "2cebede7",
   "metadata": {},
   "source": [
    "**Выводы:**  \n",
    "Наибольшей популярностью сервис аренды самокатов пользуется в Пятигорске, Екатеринбурге и Ростове-на-Дону. Чаще пользуются сервисом пользователи возростной группы 22-28 лет.  \n",
    "\n",
    "Конверсия тарифа с подпиской: 46%. Конверсия тарифа без подписки: 54%  \n",
    "\n",
    "Расстояние которое пользователи чаще преодолевают за одну поездку 2,5 - 3,7 км, некоторая часть пользователей использует самокаты для коротких поездок - до 1,5 км. Причем пользователи с подпиской совершают поездки на расстояние 2,8 - 3,5 км. Расстояние поездки для пользовалетели без подписки 2,4 - 3,9 км.У пользователей без подписки значительно больше коротких поездок - до 1 км и в целом максимальная дальность поездки выше, чем у платных пользователей.  \n",
    "\n",
    "Продолжительность поездок чаще составляет 14-22 мин. Длительность одной поездки для пользователей с подпиской составляет 15 - 22 мин., без подписки 13 - 22 мин.  \n",
    "\n",
    "Все это говорит о большей популярности тарифа без подписки, не смотря на то что пользователей с подпиской также достаточно много.\n",
    "\n",
    "Наши предположения о том, что длительность поездок, а также выручка от пользователей с подпиской больше не подтвердились. Подтвердилась гипотеза, что расстояние, которое проезжают пользователи с подпиской за одну поездку, не превышает 3130 метров.     \n",
    "\n",
    "Для привлечения новых постоянных клиентов возможно стоило бы пересмотреть тарифную сетку на тарифе с подпиской, либо предусмотреть пробные акции для привлечение клиентов.\n"
   ]
  },
  {
   "cell_type": "code",
   "execution_count": null,
   "id": "35d3d1f6",
   "metadata": {},
   "outputs": [],
   "source": []
  }
 ],
 "metadata": {
  "ExecuteTimeLog": [
   {
    "duration": 66,
    "start_time": "2023-06-08T08:39:22.668Z"
   },
   {
    "duration": 4547,
    "start_time": "2023-06-08T08:39:35.267Z"
   },
   {
    "duration": 299,
    "start_time": "2023-06-08T08:39:39.816Z"
   },
   {
    "duration": 111,
    "start_time": "2023-06-08T08:39:40.118Z"
   },
   {
    "duration": 86,
    "start_time": "2023-06-08T08:39:40.232Z"
   },
   {
    "duration": 69,
    "start_time": "2023-06-08T08:39:40.720Z"
   },
   {
    "duration": 16,
    "start_time": "2023-06-08T08:39:40.792Z"
   },
   {
    "duration": 538,
    "start_time": "2023-06-08T08:39:52.483Z"
   },
   {
    "duration": 70,
    "start_time": "2023-06-08T08:39:53.028Z"
   },
   {
    "duration": 318,
    "start_time": "2023-06-08T08:39:53.101Z"
   },
   {
    "duration": 191,
    "start_time": "2023-06-08T08:39:53.423Z"
   },
   {
    "duration": 276,
    "start_time": "2023-06-08T08:39:53.616Z"
   },
   {
    "duration": 243,
    "start_time": "2023-06-08T08:39:53.894Z"
   },
   {
    "duration": 361,
    "start_time": "2023-06-08T08:39:54.142Z"
   },
   {
    "duration": 28,
    "start_time": "2023-06-08T08:46:20.382Z"
   },
   {
    "duration": 545,
    "start_time": "2023-06-08T08:46:41.880Z"
   },
   {
    "duration": 64,
    "start_time": "2023-06-08T08:46:42.427Z"
   },
   {
    "duration": 63,
    "start_time": "2023-06-08T08:46:42.496Z"
   },
   {
    "duration": 55,
    "start_time": "2023-06-08T08:46:42.565Z"
   },
   {
    "duration": 39,
    "start_time": "2023-06-08T08:46:42.624Z"
   },
   {
    "duration": 78,
    "start_time": "2023-06-08T08:46:42.664Z"
   },
   {
    "duration": 69,
    "start_time": "2023-06-08T08:46:42.744Z"
   },
   {
    "duration": 19,
    "start_time": "2023-06-08T08:47:03.008Z"
   },
   {
    "duration": 25,
    "start_time": "2023-06-08T08:47:09.574Z"
   },
   {
    "duration": 687,
    "start_time": "2023-06-08T08:47:32.497Z"
   },
   {
    "duration": 33,
    "start_time": "2023-06-08T08:47:33.186Z"
   },
   {
    "duration": 43,
    "start_time": "2023-06-08T08:47:33.222Z"
   },
   {
    "duration": 28,
    "start_time": "2023-06-08T08:47:33.270Z"
   },
   {
    "duration": 47,
    "start_time": "2023-06-08T08:47:33.301Z"
   },
   {
    "duration": 63,
    "start_time": "2023-06-08T08:47:33.351Z"
   },
   {
    "duration": 23,
    "start_time": "2023-06-08T08:47:33.417Z"
   },
   {
    "duration": 444,
    "start_time": "2023-06-08T08:55:11.112Z"
   },
   {
    "duration": 43,
    "start_time": "2023-06-08T08:55:11.561Z"
   },
   {
    "duration": 37,
    "start_time": "2023-06-08T08:55:11.608Z"
   },
   {
    "duration": 36,
    "start_time": "2023-06-08T08:55:11.648Z"
   },
   {
    "duration": 68,
    "start_time": "2023-06-08T08:55:11.691Z"
   },
   {
    "duration": 31,
    "start_time": "2023-06-08T08:55:11.767Z"
   },
   {
    "duration": 67,
    "start_time": "2023-06-08T08:55:11.800Z"
   },
   {
    "duration": 8,
    "start_time": "2023-06-08T08:56:52.694Z"
   },
   {
    "duration": 8,
    "start_time": "2023-06-08T08:57:10.710Z"
   },
   {
    "duration": 14,
    "start_time": "2023-06-08T08:57:34.095Z"
   },
   {
    "duration": 10,
    "start_time": "2023-06-08T08:58:55.493Z"
   },
   {
    "duration": 8,
    "start_time": "2023-06-08T08:59:26.202Z"
   },
   {
    "duration": 8,
    "start_time": "2023-06-08T09:03:24.907Z"
   },
   {
    "duration": 16,
    "start_time": "2023-06-08T09:03:46.988Z"
   },
   {
    "duration": 536,
    "start_time": "2023-06-08T09:03:57.128Z"
   },
   {
    "duration": 51,
    "start_time": "2023-06-08T09:03:57.668Z"
   },
   {
    "duration": 30,
    "start_time": "2023-06-08T09:03:57.721Z"
   },
   {
    "duration": 20,
    "start_time": "2023-06-08T09:03:57.755Z"
   },
   {
    "duration": 103,
    "start_time": "2023-06-08T09:03:57.777Z"
   },
   {
    "duration": 76,
    "start_time": "2023-06-08T09:03:57.882Z"
   },
   {
    "duration": 52,
    "start_time": "2023-06-08T09:03:57.963Z"
   },
   {
    "duration": 8,
    "start_time": "2023-06-08T09:03:58.017Z"
   },
   {
    "duration": 8,
    "start_time": "2023-06-08T09:03:58.027Z"
   },
   {
    "duration": 18,
    "start_time": "2023-06-08T09:03:58.038Z"
   },
   {
    "duration": 543,
    "start_time": "2023-06-08T09:08:59.148Z"
   },
   {
    "duration": 126,
    "start_time": "2023-06-08T09:08:59.694Z"
   },
   {
    "duration": 0,
    "start_time": "2023-06-08T09:08:59.822Z"
   },
   {
    "duration": 0,
    "start_time": "2023-06-08T09:08:59.823Z"
   },
   {
    "duration": 0,
    "start_time": "2023-06-08T09:08:59.824Z"
   },
   {
    "duration": 0,
    "start_time": "2023-06-08T09:08:59.825Z"
   },
   {
    "duration": 0,
    "start_time": "2023-06-08T09:08:59.826Z"
   },
   {
    "duration": 0,
    "start_time": "2023-06-08T09:08:59.828Z"
   },
   {
    "duration": 0,
    "start_time": "2023-06-08T09:08:59.829Z"
   },
   {
    "duration": 0,
    "start_time": "2023-06-08T09:08:59.830Z"
   },
   {
    "duration": 0,
    "start_time": "2023-06-08T09:08:59.831Z"
   },
   {
    "duration": 486,
    "start_time": "2023-06-08T09:09:23.564Z"
   },
   {
    "duration": 49,
    "start_time": "2023-06-08T09:09:24.058Z"
   },
   {
    "duration": 49,
    "start_time": "2023-06-08T09:09:24.109Z"
   },
   {
    "duration": 82,
    "start_time": "2023-06-08T09:09:24.166Z"
   },
   {
    "duration": 66,
    "start_time": "2023-06-08T09:09:24.251Z"
   },
   {
    "duration": 21,
    "start_time": "2023-06-08T09:09:24.319Z"
   },
   {
    "duration": 28,
    "start_time": "2023-06-08T09:09:24.341Z"
   },
   {
    "duration": 33,
    "start_time": "2023-06-08T09:09:24.378Z"
   },
   {
    "duration": 15,
    "start_time": "2023-06-08T09:09:24.413Z"
   },
   {
    "duration": 17,
    "start_time": "2023-06-08T09:09:24.431Z"
   },
   {
    "duration": 547,
    "start_time": "2023-06-08T09:11:47.539Z"
   },
   {
    "duration": 37,
    "start_time": "2023-06-08T09:11:48.088Z"
   },
   {
    "duration": 64,
    "start_time": "2023-06-08T09:11:48.127Z"
   },
   {
    "duration": 50,
    "start_time": "2023-06-08T09:11:48.194Z"
   },
   {
    "duration": 49,
    "start_time": "2023-06-08T09:11:48.248Z"
   },
   {
    "duration": 69,
    "start_time": "2023-06-08T09:11:48.302Z"
   },
   {
    "duration": 83,
    "start_time": "2023-06-08T09:11:48.373Z"
   },
   {
    "duration": 64,
    "start_time": "2023-06-08T09:11:48.458Z"
   },
   {
    "duration": 17,
    "start_time": "2023-06-08T09:11:48.525Z"
   },
   {
    "duration": 75,
    "start_time": "2023-06-08T09:11:48.545Z"
   },
   {
    "duration": 62,
    "start_time": "2023-06-08T09:14:41.790Z"
   },
   {
    "duration": 1144,
    "start_time": "2023-06-08T09:19:01.229Z"
   },
   {
    "duration": 7,
    "start_time": "2023-06-08T09:22:47.096Z"
   },
   {
    "duration": 101,
    "start_time": "2023-06-08T09:23:15.166Z"
   },
   {
    "duration": 14,
    "start_time": "2023-06-08T09:23:25.125Z"
   },
   {
    "duration": 9,
    "start_time": "2023-06-08T09:31:28.229Z"
   },
   {
    "duration": 22,
    "start_time": "2023-06-08T09:31:49.236Z"
   },
   {
    "duration": 5,
    "start_time": "2023-06-08T09:32:06.511Z"
   },
   {
    "duration": 862,
    "start_time": "2023-06-08T09:59:56.358Z"
   },
   {
    "duration": 821,
    "start_time": "2023-06-08T10:01:03.469Z"
   },
   {
    "duration": 32,
    "start_time": "2023-06-08T10:01:04.293Z"
   },
   {
    "duration": 47,
    "start_time": "2023-06-08T10:01:04.327Z"
   },
   {
    "duration": 160,
    "start_time": "2023-06-08T10:01:04.377Z"
   },
   {
    "duration": 241,
    "start_time": "2023-06-08T10:01:04.540Z"
   },
   {
    "duration": 40,
    "start_time": "2023-06-08T10:01:04.783Z"
   },
   {
    "duration": 20,
    "start_time": "2023-06-08T10:01:04.824Z"
   },
   {
    "duration": 37,
    "start_time": "2023-06-08T10:01:04.849Z"
   },
   {
    "duration": 28,
    "start_time": "2023-06-08T10:01:04.888Z"
   },
   {
    "duration": 20,
    "start_time": "2023-06-08T10:01:04.919Z"
   },
   {
    "duration": 17,
    "start_time": "2023-06-08T10:01:04.940Z"
   },
   {
    "duration": 30,
    "start_time": "2023-06-08T10:01:04.959Z"
   },
   {
    "duration": 211,
    "start_time": "2023-06-08T10:01:04.991Z"
   },
   {
    "duration": 215,
    "start_time": "2023-06-08T10:02:02.770Z"
   },
   {
    "duration": 326,
    "start_time": "2023-06-08T10:02:23.968Z"
   },
   {
    "duration": 329,
    "start_time": "2023-06-08T10:04:16.368Z"
   },
   {
    "duration": 6,
    "start_time": "2023-06-08T10:13:03.418Z"
   },
   {
    "duration": 11,
    "start_time": "2023-06-08T10:13:25.370Z"
   },
   {
    "duration": 6,
    "start_time": "2023-06-08T14:48:57.817Z"
   },
   {
    "duration": 8,
    "start_time": "2023-06-08T14:49:16.196Z"
   },
   {
    "duration": 7,
    "start_time": "2023-06-08T14:53:24.912Z"
   },
   {
    "duration": 84,
    "start_time": "2023-06-08T14:55:56.830Z"
   },
   {
    "duration": 10,
    "start_time": "2023-06-08T14:56:16.018Z"
   },
   {
    "duration": 5,
    "start_time": "2023-06-08T14:57:33.466Z"
   },
   {
    "duration": 6,
    "start_time": "2023-06-08T14:58:00.315Z"
   },
   {
    "duration": 131,
    "start_time": "2023-06-08T14:58:47.321Z"
   },
   {
    "duration": 133,
    "start_time": "2023-06-08T15:01:18.917Z"
   },
   {
    "duration": 132,
    "start_time": "2023-06-08T15:02:32.640Z"
   },
   {
    "duration": 118,
    "start_time": "2023-06-08T15:14:54.181Z"
   },
   {
    "duration": 244,
    "start_time": "2023-06-08T15:17:45.778Z"
   },
   {
    "duration": 253,
    "start_time": "2023-06-08T15:21:59.073Z"
   },
   {
    "duration": 263,
    "start_time": "2023-06-08T15:22:55.262Z"
   },
   {
    "duration": 13,
    "start_time": "2023-06-08T15:23:51.831Z"
   },
   {
    "duration": 470,
    "start_time": "2023-06-08T15:24:01.802Z"
   },
   {
    "duration": 505,
    "start_time": "2023-06-08T15:24:46.016Z"
   },
   {
    "duration": 276,
    "start_time": "2023-06-08T15:27:30.580Z"
   },
   {
    "duration": 274,
    "start_time": "2023-06-08T15:27:59.736Z"
   },
   {
    "duration": 284,
    "start_time": "2023-06-08T15:28:48.830Z"
   },
   {
    "duration": 284,
    "start_time": "2023-06-08T15:28:57.534Z"
   },
   {
    "duration": 282,
    "start_time": "2023-06-08T15:30:06.975Z"
   },
   {
    "duration": 708,
    "start_time": "2023-06-08T15:34:26.096Z"
   },
   {
    "duration": 81,
    "start_time": "2023-06-08T15:34:26.806Z"
   },
   {
    "duration": 69,
    "start_time": "2023-06-08T15:34:26.889Z"
   },
   {
    "duration": 42,
    "start_time": "2023-06-08T15:34:26.960Z"
   },
   {
    "duration": 23,
    "start_time": "2023-06-08T15:34:27.004Z"
   },
   {
    "duration": 24,
    "start_time": "2023-06-08T15:34:27.029Z"
   },
   {
    "duration": 49,
    "start_time": "2023-06-08T15:34:27.060Z"
   },
   {
    "duration": 7,
    "start_time": "2023-06-08T15:34:27.111Z"
   },
   {
    "duration": 24,
    "start_time": "2023-06-08T15:34:27.120Z"
   },
   {
    "duration": 55,
    "start_time": "2023-06-08T15:34:27.147Z"
   },
   {
    "duration": 70,
    "start_time": "2023-06-08T15:34:27.204Z"
   },
   {
    "duration": 10,
    "start_time": "2023-06-08T15:34:27.276Z"
   },
   {
    "duration": 151,
    "start_time": "2023-06-08T15:34:27.288Z"
   },
   {
    "duration": 123,
    "start_time": "2023-06-08T15:34:27.442Z"
   },
   {
    "duration": 292,
    "start_time": "2023-06-08T15:34:27.567Z"
   },
   {
    "duration": 12,
    "start_time": "2023-06-08T15:34:27.861Z"
   },
   {
    "duration": 841,
    "start_time": "2023-06-08T16:51:44.660Z"
   },
   {
    "duration": 32,
    "start_time": "2023-06-08T16:51:45.504Z"
   },
   {
    "duration": 36,
    "start_time": "2023-06-08T16:51:45.538Z"
   },
   {
    "duration": 20,
    "start_time": "2023-06-08T16:51:45.577Z"
   },
   {
    "duration": 25,
    "start_time": "2023-06-08T16:51:45.599Z"
   },
   {
    "duration": 23,
    "start_time": "2023-06-08T16:51:45.626Z"
   },
   {
    "duration": 38,
    "start_time": "2023-06-08T16:51:45.653Z"
   },
   {
    "duration": 11,
    "start_time": "2023-06-08T16:51:45.694Z"
   },
   {
    "duration": 6,
    "start_time": "2023-06-08T16:51:45.706Z"
   },
   {
    "duration": 10,
    "start_time": "2023-06-08T16:51:45.715Z"
   },
   {
    "duration": 31,
    "start_time": "2023-06-08T16:51:45.727Z"
   },
   {
    "duration": 12,
    "start_time": "2023-06-08T16:51:45.763Z"
   },
   {
    "duration": 175,
    "start_time": "2023-06-08T16:51:45.777Z"
   },
   {
    "duration": 163,
    "start_time": "2023-06-08T16:51:45.956Z"
   },
   {
    "duration": 302,
    "start_time": "2023-06-08T16:51:46.121Z"
   },
   {
    "duration": 337907,
    "start_time": "2023-06-08T16:51:46.425Z"
   },
   {
    "duration": 269,
    "start_time": "2023-06-08T17:37:06.872Z"
   },
   {
    "duration": 753,
    "start_time": "2023-06-08T17:37:49.253Z"
   },
   {
    "duration": 396,
    "start_time": "2023-06-08T17:38:20.789Z"
   },
   {
    "duration": 424,
    "start_time": "2023-06-08T17:38:28.840Z"
   },
   {
    "duration": 239,
    "start_time": "2023-06-08T17:39:34.056Z"
   },
   {
    "duration": 492,
    "start_time": "2023-06-08T17:41:06.441Z"
   },
   {
    "duration": 612,
    "start_time": "2023-06-08T17:41:15.105Z"
   },
   {
    "duration": 529,
    "start_time": "2023-06-08T17:42:29.598Z"
   },
   {
    "duration": 583,
    "start_time": "2023-06-08T17:50:46.513Z"
   },
   {
    "duration": 451,
    "start_time": "2023-06-08T17:52:44.208Z"
   },
   {
    "duration": 449,
    "start_time": "2023-06-08T17:53:16.973Z"
   },
   {
    "duration": 486,
    "start_time": "2023-06-08T17:54:12.204Z"
   },
   {
    "duration": 488,
    "start_time": "2023-06-08T18:06:11.529Z"
   },
   {
    "duration": 1030,
    "start_time": "2023-06-08T18:06:55.277Z"
   },
   {
    "duration": 52,
    "start_time": "2023-06-08T18:06:56.316Z"
   },
   {
    "duration": 53,
    "start_time": "2023-06-08T18:06:56.370Z"
   },
   {
    "duration": 287,
    "start_time": "2023-06-08T18:06:56.427Z"
   },
   {
    "duration": 48,
    "start_time": "2023-06-08T18:06:56.717Z"
   },
   {
    "duration": 73,
    "start_time": "2023-06-08T18:06:56.767Z"
   },
   {
    "duration": 33,
    "start_time": "2023-06-08T18:06:56.854Z"
   },
   {
    "duration": 226,
    "start_time": "2023-06-08T18:06:56.891Z"
   },
   {
    "duration": 64,
    "start_time": "2023-06-08T18:06:57.119Z"
   },
   {
    "duration": 49,
    "start_time": "2023-06-08T18:06:57.188Z"
   },
   {
    "duration": 95,
    "start_time": "2023-06-08T18:06:57.240Z"
   },
   {
    "duration": 78,
    "start_time": "2023-06-08T18:06:57.337Z"
   },
   {
    "duration": 237,
    "start_time": "2023-06-08T18:06:57.418Z"
   },
   {
    "duration": 174,
    "start_time": "2023-06-08T18:06:57.660Z"
   },
   {
    "duration": 401,
    "start_time": "2023-06-08T18:06:57.835Z"
   },
   {
    "duration": 571,
    "start_time": "2023-06-08T18:06:58.242Z"
   },
   {
    "duration": 0,
    "start_time": "2023-06-08T18:06:58.820Z"
   },
   {
    "duration": 442,
    "start_time": "2023-06-08T18:07:37.170Z"
   },
   {
    "duration": 417,
    "start_time": "2023-06-08T18:08:13.368Z"
   },
   {
    "duration": 515,
    "start_time": "2023-06-08T18:08:31.356Z"
   },
   {
    "duration": 738,
    "start_time": "2023-06-08T18:09:01.025Z"
   },
   {
    "duration": 18,
    "start_time": "2023-06-08T18:20:16.102Z"
   },
   {
    "duration": 19,
    "start_time": "2023-06-08T18:20:37.315Z"
   },
   {
    "duration": 17,
    "start_time": "2023-06-08T18:26:47.167Z"
   },
   {
    "duration": 21,
    "start_time": "2023-06-08T18:27:11.564Z"
   },
   {
    "duration": 17,
    "start_time": "2023-06-08T18:27:56.493Z"
   },
   {
    "duration": 602,
    "start_time": "2023-06-08T18:30:15.698Z"
   },
   {
    "duration": 412,
    "start_time": "2023-06-08T18:31:40.158Z"
   },
   {
    "duration": 353,
    "start_time": "2023-06-08T18:32:36.109Z"
   },
   {
    "duration": 343,
    "start_time": "2023-06-08T18:33:52.254Z"
   },
   {
    "duration": 52,
    "start_time": "2023-06-08T19:35:13.832Z"
   },
   {
    "duration": 14,
    "start_time": "2023-06-08T19:36:44.331Z"
   },
   {
    "duration": 17,
    "start_time": "2023-06-08T19:37:22.710Z"
   },
   {
    "duration": 194,
    "start_time": "2023-06-08T19:38:28.911Z"
   },
   {
    "duration": 113,
    "start_time": "2023-06-08T19:39:26.146Z"
   },
   {
    "duration": 19,
    "start_time": "2023-06-08T19:39:35.892Z"
   },
   {
    "duration": 39,
    "start_time": "2023-06-08T19:43:40.574Z"
   },
   {
    "duration": 21,
    "start_time": "2023-06-08T19:44:17.417Z"
   },
   {
    "duration": 46,
    "start_time": "2023-06-08T19:44:47.899Z"
   },
   {
    "duration": 40,
    "start_time": "2023-06-08T19:45:46.489Z"
   },
   {
    "duration": 58,
    "start_time": "2023-06-08T19:47:39.438Z"
   },
   {
    "duration": 38,
    "start_time": "2023-06-08T19:48:13.411Z"
   },
   {
    "duration": 22,
    "start_time": "2023-06-08T19:49:53.880Z"
   },
   {
    "duration": 818,
    "start_time": "2023-06-08T19:50:25.023Z"
   },
   {
    "duration": 89,
    "start_time": "2023-06-08T19:50:25.857Z"
   },
   {
    "duration": 116,
    "start_time": "2023-06-08T19:50:25.952Z"
   },
   {
    "duration": 128,
    "start_time": "2023-06-08T19:50:26.091Z"
   },
   {
    "duration": 28,
    "start_time": "2023-06-08T19:50:26.221Z"
   },
   {
    "duration": 69,
    "start_time": "2023-06-08T19:50:26.251Z"
   },
   {
    "duration": 18,
    "start_time": "2023-06-08T19:50:26.322Z"
   },
   {
    "duration": 70,
    "start_time": "2023-06-08T19:50:26.342Z"
   },
   {
    "duration": 12,
    "start_time": "2023-06-08T19:50:26.415Z"
   },
   {
    "duration": 48,
    "start_time": "2023-06-08T19:50:26.431Z"
   },
   {
    "duration": 51,
    "start_time": "2023-06-08T19:50:26.482Z"
   },
   {
    "duration": 91,
    "start_time": "2023-06-08T19:50:26.535Z"
   },
   {
    "duration": 232,
    "start_time": "2023-06-08T19:50:26.628Z"
   },
   {
    "duration": 149,
    "start_time": "2023-06-08T19:50:26.862Z"
   },
   {
    "duration": 391,
    "start_time": "2023-06-08T19:50:27.013Z"
   },
   {
    "duration": 450,
    "start_time": "2023-06-08T19:50:27.409Z"
   },
   {
    "duration": 393,
    "start_time": "2023-06-08T19:50:27.861Z"
   },
   {
    "duration": 23,
    "start_time": "2023-06-08T19:50:28.259Z"
   },
   {
    "duration": 142,
    "start_time": "2023-06-08T19:50:28.288Z"
   },
   {
    "duration": 78,
    "start_time": "2023-06-08T19:50:28.433Z"
   },
   {
    "duration": 558,
    "start_time": "2023-06-08T19:50:28.513Z"
   },
   {
    "duration": 446,
    "start_time": "2023-06-08T19:50:29.082Z"
   },
   {
    "duration": 419,
    "start_time": "2023-06-08T19:50:29.530Z"
   },
   {
    "duration": 508,
    "start_time": "2023-06-08T19:50:29.953Z"
   },
   {
    "duration": 50,
    "start_time": "2023-06-08T19:50:30.468Z"
   },
   {
    "duration": 52,
    "start_time": "2023-06-08T19:58:24.842Z"
   },
   {
    "duration": 42,
    "start_time": "2023-06-08T19:58:53.781Z"
   },
   {
    "duration": 9,
    "start_time": "2023-06-08T20:03:03.623Z"
   },
   {
    "duration": 30,
    "start_time": "2023-06-08T20:03:27.200Z"
   },
   {
    "duration": 55,
    "start_time": "2023-06-09T06:10:09.330Z"
   },
   {
    "duration": 6,
    "start_time": "2023-06-09T06:11:06.893Z"
   },
   {
    "duration": 8,
    "start_time": "2023-06-09T06:11:46.489Z"
   },
   {
    "duration": 748,
    "start_time": "2023-06-09T06:12:08.538Z"
   },
   {
    "duration": 99,
    "start_time": "2023-06-09T06:12:09.288Z"
   },
   {
    "duration": 168,
    "start_time": "2023-06-09T06:12:09.388Z"
   },
   {
    "duration": 62,
    "start_time": "2023-06-09T06:12:09.558Z"
   },
   {
    "duration": 20,
    "start_time": "2023-06-09T06:12:09.622Z"
   },
   {
    "duration": 16,
    "start_time": "2023-06-09T06:12:09.644Z"
   },
   {
    "duration": 13,
    "start_time": "2023-06-09T06:12:09.661Z"
   },
   {
    "duration": 11,
    "start_time": "2023-06-09T06:12:09.677Z"
   },
   {
    "duration": 5,
    "start_time": "2023-06-09T06:12:09.690Z"
   },
   {
    "duration": 7,
    "start_time": "2023-06-09T06:12:09.697Z"
   },
   {
    "duration": 10,
    "start_time": "2023-06-09T06:12:09.706Z"
   },
   {
    "duration": 4,
    "start_time": "2023-06-09T06:12:09.717Z"
   },
   {
    "duration": 150,
    "start_time": "2023-06-09T06:12:09.723Z"
   },
   {
    "duration": 117,
    "start_time": "2023-06-09T06:12:09.882Z"
   },
   {
    "duration": 262,
    "start_time": "2023-06-09T06:12:10.001Z"
   },
   {
    "duration": 323,
    "start_time": "2023-06-09T06:12:10.265Z"
   },
   {
    "duration": 264,
    "start_time": "2023-06-09T06:12:10.589Z"
   },
   {
    "duration": 30,
    "start_time": "2023-06-09T06:12:10.855Z"
   },
   {
    "duration": 12,
    "start_time": "2023-06-09T06:12:10.890Z"
   },
   {
    "duration": 12,
    "start_time": "2023-06-09T06:12:10.904Z"
   },
   {
    "duration": 251,
    "start_time": "2023-06-09T06:12:10.917Z"
   },
   {
    "duration": 281,
    "start_time": "2023-06-09T06:12:11.176Z"
   },
   {
    "duration": 272,
    "start_time": "2023-06-09T06:12:11.459Z"
   },
   {
    "duration": 331,
    "start_time": "2023-06-09T06:12:11.733Z"
   },
   {
    "duration": 34,
    "start_time": "2023-06-09T06:12:12.066Z"
   },
   {
    "duration": 787,
    "start_time": "2023-06-09T06:12:12.102Z"
   },
   {
    "duration": 837,
    "start_time": "2023-06-09T06:12:36.027Z"
   },
   {
    "duration": 835,
    "start_time": "2023-06-09T06:13:24.817Z"
   },
   {
    "duration": 34,
    "start_time": "2023-06-09T06:15:09.862Z"
   },
   {
    "duration": 2584,
    "start_time": "2023-06-09T06:42:26.401Z"
   },
   {
    "duration": 1858,
    "start_time": "2023-06-09T06:42:37.101Z"
   },
   {
    "duration": 41,
    "start_time": "2023-06-09T06:42:51.298Z"
   },
   {
    "duration": 75,
    "start_time": "2023-06-09T06:44:57.765Z"
   },
   {
    "duration": 37,
    "start_time": "2023-06-09T06:52:19.810Z"
   },
   {
    "duration": 487,
    "start_time": "2023-06-09T06:55:33.845Z"
   },
   {
    "duration": 46,
    "start_time": "2023-06-09T06:55:45.391Z"
   },
   {
    "duration": 7,
    "start_time": "2023-06-09T07:09:46.805Z"
   },
   {
    "duration": 36,
    "start_time": "2023-06-09T07:09:53.636Z"
   },
   {
    "duration": 2365,
    "start_time": "2023-06-09T07:16:24.397Z"
   },
   {
    "duration": 53,
    "start_time": "2023-06-09T07:16:44.001Z"
   },
   {
    "duration": 3,
    "start_time": "2023-06-09T07:21:30.545Z"
   },
   {
    "duration": 1852,
    "start_time": "2023-06-09T07:23:36.193Z"
   },
   {
    "duration": 2561,
    "start_time": "2023-06-09T07:48:32.867Z"
   },
   {
    "duration": 63,
    "start_time": "2023-06-09T07:48:49.019Z"
   },
   {
    "duration": 52,
    "start_time": "2023-06-09T07:49:49.199Z"
   },
   {
    "duration": 5,
    "start_time": "2023-06-09T07:50:00.203Z"
   },
   {
    "duration": 872,
    "start_time": "2023-06-09T07:50:22.325Z"
   },
   {
    "duration": 69,
    "start_time": "2023-06-09T07:50:23.201Z"
   },
   {
    "duration": 49,
    "start_time": "2023-06-09T07:50:23.271Z"
   },
   {
    "duration": 22,
    "start_time": "2023-06-09T07:50:23.324Z"
   },
   {
    "duration": 19,
    "start_time": "2023-06-09T07:50:23.348Z"
   },
   {
    "duration": 28,
    "start_time": "2023-06-09T07:50:23.368Z"
   },
   {
    "duration": 23,
    "start_time": "2023-06-09T07:50:23.399Z"
   },
   {
    "duration": 7,
    "start_time": "2023-06-09T07:50:23.429Z"
   },
   {
    "duration": 5,
    "start_time": "2023-06-09T07:50:23.437Z"
   },
   {
    "duration": 9,
    "start_time": "2023-06-09T07:50:23.445Z"
   },
   {
    "duration": 21,
    "start_time": "2023-06-09T07:50:23.455Z"
   },
   {
    "duration": 9,
    "start_time": "2023-06-09T07:50:23.483Z"
   },
   {
    "duration": 251,
    "start_time": "2023-06-09T07:50:23.493Z"
   },
   {
    "duration": 144,
    "start_time": "2023-06-09T07:50:23.747Z"
   },
   {
    "duration": 427,
    "start_time": "2023-06-09T07:50:23.893Z"
   },
   {
    "duration": 498,
    "start_time": "2023-06-09T07:50:24.322Z"
   },
   {
    "duration": 353,
    "start_time": "2023-06-09T07:50:24.822Z"
   },
   {
    "duration": 18,
    "start_time": "2023-06-09T07:50:25.176Z"
   },
   {
    "duration": 20,
    "start_time": "2023-06-09T07:50:25.196Z"
   },
   {
    "duration": 18,
    "start_time": "2023-06-09T07:50:25.218Z"
   },
   {
    "duration": 343,
    "start_time": "2023-06-09T07:50:25.239Z"
   },
   {
    "duration": 362,
    "start_time": "2023-06-09T07:50:25.584Z"
   },
   {
    "duration": 387,
    "start_time": "2023-06-09T07:50:25.948Z"
   },
   {
    "duration": 420,
    "start_time": "2023-06-09T07:50:26.342Z"
   },
   {
    "duration": 52,
    "start_time": "2023-06-09T07:50:26.763Z"
   },
   {
    "duration": 7,
    "start_time": "2023-06-09T07:50:26.817Z"
   },
   {
    "duration": 15925,
    "start_time": "2023-06-09T07:50:26.828Z"
   },
   {
    "duration": 4,
    "start_time": "2023-06-09T07:54:56.134Z"
   },
   {
    "duration": 890,
    "start_time": "2023-06-09T07:55:21.432Z"
   },
   {
    "duration": 129,
    "start_time": "2023-06-09T07:55:22.324Z"
   },
   {
    "duration": 239,
    "start_time": "2023-06-09T07:55:22.454Z"
   },
   {
    "duration": 73,
    "start_time": "2023-06-09T07:55:22.695Z"
   },
   {
    "duration": 35,
    "start_time": "2023-06-09T07:55:22.770Z"
   },
   {
    "duration": 33,
    "start_time": "2023-06-09T07:55:22.807Z"
   },
   {
    "duration": 14,
    "start_time": "2023-06-09T07:55:22.842Z"
   },
   {
    "duration": 6,
    "start_time": "2023-06-09T07:55:22.857Z"
   },
   {
    "duration": 12,
    "start_time": "2023-06-09T07:55:22.864Z"
   },
   {
    "duration": 24,
    "start_time": "2023-06-09T07:55:22.882Z"
   },
   {
    "duration": 21,
    "start_time": "2023-06-09T07:55:22.910Z"
   },
   {
    "duration": 7,
    "start_time": "2023-06-09T07:55:22.933Z"
   },
   {
    "duration": 191,
    "start_time": "2023-06-09T07:55:22.942Z"
   },
   {
    "duration": 128,
    "start_time": "2023-06-09T07:55:23.134Z"
   },
   {
    "duration": 386,
    "start_time": "2023-06-09T07:55:23.264Z"
   },
   {
    "duration": 500,
    "start_time": "2023-06-09T07:55:23.653Z"
   },
   {
    "duration": 368,
    "start_time": "2023-06-09T07:55:24.155Z"
   },
   {
    "duration": 27,
    "start_time": "2023-06-09T07:55:24.527Z"
   },
   {
    "duration": 24,
    "start_time": "2023-06-09T07:55:24.556Z"
   },
   {
    "duration": 21,
    "start_time": "2023-06-09T07:55:24.589Z"
   },
   {
    "duration": 368,
    "start_time": "2023-06-09T07:55:24.612Z"
   },
   {
    "duration": 345,
    "start_time": "2023-06-09T07:55:24.987Z"
   },
   {
    "duration": 390,
    "start_time": "2023-06-09T07:55:25.336Z"
   },
   {
    "duration": 437,
    "start_time": "2023-06-09T07:55:25.727Z"
   },
   {
    "duration": 65,
    "start_time": "2023-06-09T07:55:26.166Z"
   },
   {
    "duration": 4,
    "start_time": "2023-06-09T07:55:26.234Z"
   },
   {
    "duration": 16341,
    "start_time": "2023-06-09T07:55:26.239Z"
   },
   {
    "duration": 129,
    "start_time": "2023-06-09T07:58:54.910Z"
   },
   {
    "duration": 18,
    "start_time": "2023-06-09T08:25:43.438Z"
   },
   {
    "duration": 8,
    "start_time": "2023-06-09T08:26:37.800Z"
   },
   {
    "duration": 19,
    "start_time": "2023-06-09T08:27:02.422Z"
   },
   {
    "duration": 160,
    "start_time": "2023-06-09T08:43:29.543Z"
   },
   {
    "duration": 33,
    "start_time": "2023-06-09T08:46:47.796Z"
   },
   {
    "duration": 24,
    "start_time": "2023-06-09T08:50:46.723Z"
   },
   {
    "duration": 48,
    "start_time": "2023-06-09T08:51:10.571Z"
   },
   {
    "duration": 24,
    "start_time": "2023-06-09T08:52:15.549Z"
   },
   {
    "duration": 25,
    "start_time": "2023-06-09T08:53:55.294Z"
   },
   {
    "duration": 26,
    "start_time": "2023-06-09T08:54:05.701Z"
   },
   {
    "duration": 17,
    "start_time": "2023-06-09T08:54:19.448Z"
   },
   {
    "duration": 21,
    "start_time": "2023-06-09T08:57:16.023Z"
   },
   {
    "duration": 2283,
    "start_time": "2023-06-09T08:57:23.876Z"
   },
   {
    "duration": 146,
    "start_time": "2023-06-09T08:57:26.161Z"
   },
   {
    "duration": 203,
    "start_time": "2023-06-09T08:57:26.313Z"
   },
   {
    "duration": 55,
    "start_time": "2023-06-09T08:57:26.518Z"
   },
   {
    "duration": 35,
    "start_time": "2023-06-09T08:57:26.574Z"
   },
   {
    "duration": 16,
    "start_time": "2023-06-09T08:57:26.614Z"
   },
   {
    "duration": 13,
    "start_time": "2023-06-09T08:57:26.632Z"
   },
   {
    "duration": 6,
    "start_time": "2023-06-09T08:57:26.646Z"
   },
   {
    "duration": 25,
    "start_time": "2023-06-09T08:57:26.654Z"
   },
   {
    "duration": 27,
    "start_time": "2023-06-09T08:57:26.684Z"
   },
   {
    "duration": 10,
    "start_time": "2023-06-09T08:57:26.713Z"
   },
   {
    "duration": 14,
    "start_time": "2023-06-09T08:57:26.725Z"
   },
   {
    "duration": 208,
    "start_time": "2023-06-09T08:57:26.740Z"
   },
   {
    "duration": 113,
    "start_time": "2023-06-09T08:57:26.950Z"
   },
   {
    "duration": 298,
    "start_time": "2023-06-09T08:57:27.065Z"
   },
   {
    "duration": 391,
    "start_time": "2023-06-09T08:57:27.365Z"
   },
   {
    "duration": 312,
    "start_time": "2023-06-09T08:57:27.757Z"
   },
   {
    "duration": 29,
    "start_time": "2023-06-09T08:57:28.075Z"
   },
   {
    "duration": 29,
    "start_time": "2023-06-09T08:57:28.106Z"
   },
   {
    "duration": 20,
    "start_time": "2023-06-09T08:57:28.137Z"
   },
   {
    "duration": 302,
    "start_time": "2023-06-09T08:57:28.159Z"
   },
   {
    "duration": 346,
    "start_time": "2023-06-09T08:57:28.463Z"
   },
   {
    "duration": 301,
    "start_time": "2023-06-09T08:57:28.815Z"
   },
   {
    "duration": 371,
    "start_time": "2023-06-09T08:57:29.118Z"
   },
   {
    "duration": 41,
    "start_time": "2023-06-09T08:57:29.490Z"
   },
   {
    "duration": 117,
    "start_time": "2023-06-09T08:57:29.533Z"
   },
   {
    "duration": 0,
    "start_time": "2023-06-09T08:57:29.652Z"
   },
   {
    "duration": 0,
    "start_time": "2023-06-09T08:57:29.654Z"
   },
   {
    "duration": 22,
    "start_time": "2023-06-09T08:57:57.018Z"
   },
   {
    "duration": 25,
    "start_time": "2023-06-09T08:58:17.194Z"
   },
   {
    "duration": 35,
    "start_time": "2023-06-09T08:58:33.898Z"
   },
   {
    "duration": 27,
    "start_time": "2023-06-09T08:58:58.602Z"
   },
   {
    "duration": 99,
    "start_time": "2023-06-09T09:03:03.708Z"
   },
   {
    "duration": 26,
    "start_time": "2023-06-09T09:04:18.420Z"
   },
   {
    "duration": 2159,
    "start_time": "2023-06-09T09:05:50.706Z"
   },
   {
    "duration": 40,
    "start_time": "2023-06-09T09:06:27.326Z"
   },
   {
    "duration": 686,
    "start_time": "2023-06-09T09:07:38.253Z"
   },
   {
    "duration": 28,
    "start_time": "2023-06-09T09:07:38.941Z"
   },
   {
    "duration": 51,
    "start_time": "2023-06-09T09:07:38.971Z"
   },
   {
    "duration": 15,
    "start_time": "2023-06-09T09:07:39.024Z"
   },
   {
    "duration": 22,
    "start_time": "2023-06-09T09:07:39.041Z"
   },
   {
    "duration": 21,
    "start_time": "2023-06-09T09:07:39.065Z"
   },
   {
    "duration": 26,
    "start_time": "2023-06-09T09:07:39.098Z"
   },
   {
    "duration": 5,
    "start_time": "2023-06-09T09:07:39.127Z"
   },
   {
    "duration": 4,
    "start_time": "2023-06-09T09:07:39.133Z"
   },
   {
    "duration": 10,
    "start_time": "2023-06-09T09:07:39.140Z"
   },
   {
    "duration": 6,
    "start_time": "2023-06-09T09:07:39.151Z"
   },
   {
    "duration": 5,
    "start_time": "2023-06-09T09:07:39.159Z"
   },
   {
    "duration": 172,
    "start_time": "2023-06-09T09:07:39.166Z"
   },
   {
    "duration": 124,
    "start_time": "2023-06-09T09:07:39.339Z"
   },
   {
    "duration": 334,
    "start_time": "2023-06-09T09:07:39.464Z"
   },
   {
    "duration": 386,
    "start_time": "2023-06-09T09:07:39.807Z"
   },
   {
    "duration": 308,
    "start_time": "2023-06-09T09:07:40.199Z"
   },
   {
    "duration": 20,
    "start_time": "2023-06-09T09:07:40.509Z"
   },
   {
    "duration": 19,
    "start_time": "2023-06-09T09:07:40.531Z"
   },
   {
    "duration": 48,
    "start_time": "2023-06-09T09:07:40.551Z"
   },
   {
    "duration": 308,
    "start_time": "2023-06-09T09:07:40.602Z"
   },
   {
    "duration": 303,
    "start_time": "2023-06-09T09:07:40.912Z"
   },
   {
    "duration": 310,
    "start_time": "2023-06-09T09:07:41.219Z"
   },
   {
    "duration": 398,
    "start_time": "2023-06-09T09:07:41.530Z"
   },
   {
    "duration": 25,
    "start_time": "2023-06-09T09:07:41.930Z"
   },
   {
    "duration": 37,
    "start_time": "2023-06-09T09:07:41.956Z"
   },
   {
    "duration": 121,
    "start_time": "2023-06-09T09:07:41.994Z"
   },
   {
    "duration": 0,
    "start_time": "2023-06-09T09:07:42.117Z"
   },
   {
    "duration": 689,
    "start_time": "2023-06-09T09:07:45.260Z"
   },
   {
    "duration": 52,
    "start_time": "2023-06-09T09:07:45.953Z"
   },
   {
    "duration": 33,
    "start_time": "2023-06-09T09:07:46.012Z"
   },
   {
    "duration": 15,
    "start_time": "2023-06-09T09:07:46.047Z"
   },
   {
    "duration": 28,
    "start_time": "2023-06-09T09:07:46.063Z"
   },
   {
    "duration": 26,
    "start_time": "2023-06-09T09:07:46.092Z"
   },
   {
    "duration": 15,
    "start_time": "2023-06-09T09:07:46.124Z"
   },
   {
    "duration": 5,
    "start_time": "2023-06-09T09:07:46.141Z"
   },
   {
    "duration": 5,
    "start_time": "2023-06-09T09:07:46.148Z"
   },
   {
    "duration": 24,
    "start_time": "2023-06-09T09:07:46.155Z"
   },
   {
    "duration": 11,
    "start_time": "2023-06-09T09:07:46.180Z"
   },
   {
    "duration": 10,
    "start_time": "2023-06-09T09:07:46.193Z"
   },
   {
    "duration": 182,
    "start_time": "2023-06-09T09:07:46.204Z"
   },
   {
    "duration": 129,
    "start_time": "2023-06-09T09:07:46.396Z"
   },
   {
    "duration": 301,
    "start_time": "2023-06-09T09:07:46.528Z"
   },
   {
    "duration": 383,
    "start_time": "2023-06-09T09:07:46.831Z"
   },
   {
    "duration": 316,
    "start_time": "2023-06-09T09:07:47.215Z"
   },
   {
    "duration": 17,
    "start_time": "2023-06-09T09:07:47.532Z"
   },
   {
    "duration": 21,
    "start_time": "2023-06-09T09:07:47.551Z"
   },
   {
    "duration": 49,
    "start_time": "2023-06-09T09:07:47.575Z"
   },
   {
    "duration": 306,
    "start_time": "2023-06-09T09:07:47.626Z"
   },
   {
    "duration": 319,
    "start_time": "2023-06-09T09:07:47.934Z"
   },
   {
    "duration": 335,
    "start_time": "2023-06-09T09:07:48.254Z"
   },
   {
    "duration": 410,
    "start_time": "2023-06-09T09:07:48.596Z"
   },
   {
    "duration": 41,
    "start_time": "2023-06-09T09:07:49.007Z"
   },
   {
    "duration": 20,
    "start_time": "2023-06-09T09:07:49.050Z"
   },
   {
    "duration": 125,
    "start_time": "2023-06-09T09:07:49.075Z"
   },
   {
    "duration": 0,
    "start_time": "2023-06-09T09:07:49.202Z"
   },
   {
    "duration": 40,
    "start_time": "2023-06-09T09:08:19.889Z"
   },
   {
    "duration": 41,
    "start_time": "2023-06-09T09:08:32.020Z"
   },
   {
    "duration": 24,
    "start_time": "2023-06-09T10:44:20.484Z"
   },
   {
    "duration": 21,
    "start_time": "2023-06-09T10:44:35.639Z"
   },
   {
    "duration": 56,
    "start_time": "2023-06-09T10:49:45.609Z"
   },
   {
    "duration": 63,
    "start_time": "2023-06-09T10:50:12.476Z"
   },
   {
    "duration": 50,
    "start_time": "2023-06-09T10:50:32.061Z"
   },
   {
    "duration": 38,
    "start_time": "2023-06-09T10:52:40.447Z"
   },
   {
    "duration": 29,
    "start_time": "2023-06-09T10:52:58.741Z"
   },
   {
    "duration": 2101,
    "start_time": "2023-06-09T10:53:33.503Z"
   },
   {
    "duration": 60,
    "start_time": "2023-06-09T10:53:46.703Z"
   },
   {
    "duration": 1645,
    "start_time": "2023-06-09T10:54:07.903Z"
   },
   {
    "duration": 45,
    "start_time": "2023-06-09T10:54:09.551Z"
   },
   {
    "duration": 52,
    "start_time": "2023-06-09T10:54:09.598Z"
   },
   {
    "duration": 37,
    "start_time": "2023-06-09T10:54:09.653Z"
   },
   {
    "duration": 45,
    "start_time": "2023-06-09T10:54:09.692Z"
   },
   {
    "duration": 49,
    "start_time": "2023-06-09T10:54:09.741Z"
   },
   {
    "duration": 31,
    "start_time": "2023-06-09T10:54:09.792Z"
   },
   {
    "duration": 8,
    "start_time": "2023-06-09T10:54:09.828Z"
   },
   {
    "duration": 9,
    "start_time": "2023-06-09T10:54:09.838Z"
   },
   {
    "duration": 15,
    "start_time": "2023-06-09T10:54:09.851Z"
   },
   {
    "duration": 15,
    "start_time": "2023-06-09T10:54:09.869Z"
   },
   {
    "duration": 22,
    "start_time": "2023-06-09T10:54:09.890Z"
   },
   {
    "duration": 270,
    "start_time": "2023-06-09T10:54:09.919Z"
   },
   {
    "duration": 195,
    "start_time": "2023-06-09T10:54:10.197Z"
   },
   {
    "duration": 376,
    "start_time": "2023-06-09T10:54:10.394Z"
   },
   {
    "duration": 441,
    "start_time": "2023-06-09T10:54:10.780Z"
   },
   {
    "duration": 382,
    "start_time": "2023-06-09T10:54:11.226Z"
   },
   {
    "duration": 39,
    "start_time": "2023-06-09T10:54:11.613Z"
   },
   {
    "duration": 24,
    "start_time": "2023-06-09T10:54:11.655Z"
   },
   {
    "duration": 31,
    "start_time": "2023-06-09T10:54:11.681Z"
   },
   {
    "duration": 577,
    "start_time": "2023-06-09T10:54:11.714Z"
   },
   {
    "duration": 461,
    "start_time": "2023-06-09T10:54:12.296Z"
   },
   {
    "duration": 449,
    "start_time": "2023-06-09T10:54:12.759Z"
   },
   {
    "duration": 445,
    "start_time": "2023-06-09T10:54:13.218Z"
   },
   {
    "duration": 76,
    "start_time": "2023-06-09T10:54:13.665Z"
   },
   {
    "duration": 47,
    "start_time": "2023-06-09T10:54:13.743Z"
   },
   {
    "duration": 12,
    "start_time": "2023-06-09T10:54:13.792Z"
   },
   {
    "duration": 19,
    "start_time": "2023-06-09T10:59:20.632Z"
   },
   {
    "duration": 19,
    "start_time": "2023-06-09T11:00:20.892Z"
   },
   {
    "duration": 297,
    "start_time": "2023-06-09T11:04:13.080Z"
   },
   {
    "duration": 118,
    "start_time": "2023-06-09T11:39:05.045Z"
   },
   {
    "duration": 158,
    "start_time": "2023-06-09T11:39:13.458Z"
   },
   {
    "duration": 15,
    "start_time": "2023-06-09T11:54:19.018Z"
   },
   {
    "duration": 17,
    "start_time": "2023-06-09T11:55:26.413Z"
   },
   {
    "duration": 1408,
    "start_time": "2023-06-09T11:55:32.689Z"
   },
   {
    "duration": 136,
    "start_time": "2023-06-09T11:55:34.113Z"
   },
   {
    "duration": 271,
    "start_time": "2023-06-09T11:55:34.251Z"
   },
   {
    "duration": 81,
    "start_time": "2023-06-09T11:55:34.524Z"
   },
   {
    "duration": 36,
    "start_time": "2023-06-09T11:55:34.620Z"
   },
   {
    "duration": 18,
    "start_time": "2023-06-09T11:55:34.658Z"
   },
   {
    "duration": 24,
    "start_time": "2023-06-09T11:55:34.677Z"
   },
   {
    "duration": 8,
    "start_time": "2023-06-09T11:55:34.702Z"
   },
   {
    "duration": 5,
    "start_time": "2023-06-09T11:55:34.712Z"
   },
   {
    "duration": 13,
    "start_time": "2023-06-09T11:55:34.720Z"
   },
   {
    "duration": 13,
    "start_time": "2023-06-09T11:55:34.735Z"
   },
   {
    "duration": 5,
    "start_time": "2023-06-09T11:55:34.750Z"
   },
   {
    "duration": 242,
    "start_time": "2023-06-09T11:55:34.785Z"
   },
   {
    "duration": 171,
    "start_time": "2023-06-09T11:55:35.030Z"
   },
   {
    "duration": 415,
    "start_time": "2023-06-09T11:55:35.207Z"
   },
   {
    "duration": 459,
    "start_time": "2023-06-09T11:55:35.630Z"
   },
   {
    "duration": 369,
    "start_time": "2023-06-09T11:55:36.094Z"
   },
   {
    "duration": 22,
    "start_time": "2023-06-09T11:55:36.464Z"
   },
   {
    "duration": 25,
    "start_time": "2023-06-09T11:55:36.491Z"
   },
   {
    "duration": 37,
    "start_time": "2023-06-09T11:55:36.518Z"
   },
   {
    "duration": 428,
    "start_time": "2023-06-09T11:55:36.558Z"
   },
   {
    "duration": 354,
    "start_time": "2023-06-09T11:55:36.992Z"
   },
   {
    "duration": 419,
    "start_time": "2023-06-09T11:55:37.352Z"
   },
   {
    "duration": 372,
    "start_time": "2023-06-09T11:55:37.773Z"
   },
   {
    "duration": 45,
    "start_time": "2023-06-09T11:55:38.150Z"
   },
   {
    "duration": 42,
    "start_time": "2023-06-09T11:55:38.200Z"
   },
   {
    "duration": 161,
    "start_time": "2023-06-09T11:55:38.248Z"
   },
   {
    "duration": 26,
    "start_time": "2023-06-09T11:56:07.099Z"
   },
   {
    "duration": 1761,
    "start_time": "2023-06-09T12:03:48.971Z"
   },
   {
    "duration": 74,
    "start_time": "2023-06-09T12:03:50.737Z"
   },
   {
    "duration": 87,
    "start_time": "2023-06-09T12:03:50.814Z"
   },
   {
    "duration": 29,
    "start_time": "2023-06-09T12:03:50.915Z"
   },
   {
    "duration": 46,
    "start_time": "2023-06-09T12:03:50.945Z"
   },
   {
    "duration": 33,
    "start_time": "2023-06-09T12:03:50.993Z"
   },
   {
    "duration": 22,
    "start_time": "2023-06-09T12:03:51.029Z"
   },
   {
    "duration": 18,
    "start_time": "2023-06-09T12:03:51.053Z"
   },
   {
    "duration": 17,
    "start_time": "2023-06-09T12:03:51.074Z"
   },
   {
    "duration": 32,
    "start_time": "2023-06-09T12:03:51.095Z"
   },
   {
    "duration": 29,
    "start_time": "2023-06-09T12:03:51.129Z"
   },
   {
    "duration": 16,
    "start_time": "2023-06-09T12:03:51.162Z"
   },
   {
    "duration": 245,
    "start_time": "2023-06-09T12:03:51.184Z"
   },
   {
    "duration": 167,
    "start_time": "2023-06-09T12:03:51.436Z"
   },
   {
    "duration": 421,
    "start_time": "2023-06-09T12:03:51.609Z"
   },
   {
    "duration": 437,
    "start_time": "2023-06-09T12:03:52.035Z"
   },
   {
    "duration": 457,
    "start_time": "2023-06-09T12:03:52.483Z"
   },
   {
    "duration": 22,
    "start_time": "2023-06-09T12:03:52.942Z"
   },
   {
    "duration": 24,
    "start_time": "2023-06-09T12:03:52.966Z"
   },
   {
    "duration": 45,
    "start_time": "2023-06-09T12:03:52.994Z"
   },
   {
    "duration": 567,
    "start_time": "2023-06-09T12:03:53.045Z"
   },
   {
    "duration": 451,
    "start_time": "2023-06-09T12:03:53.618Z"
   },
   {
    "duration": 499,
    "start_time": "2023-06-09T12:03:54.078Z"
   },
   {
    "duration": 501,
    "start_time": "2023-06-09T12:03:54.584Z"
   },
   {
    "duration": 62,
    "start_time": "2023-06-09T12:03:55.088Z"
   },
   {
    "duration": 59,
    "start_time": "2023-06-09T12:03:55.156Z"
   },
   {
    "duration": 1347,
    "start_time": "2023-06-09T12:05:26.234Z"
   },
   {
    "duration": 57,
    "start_time": "2023-06-09T12:05:27.583Z"
   },
   {
    "duration": 30,
    "start_time": "2023-06-09T12:05:27.641Z"
   },
   {
    "duration": 31,
    "start_time": "2023-06-09T12:05:27.673Z"
   },
   {
    "duration": 33,
    "start_time": "2023-06-09T12:05:27.707Z"
   },
   {
    "duration": 24,
    "start_time": "2023-06-09T12:05:27.744Z"
   },
   {
    "duration": 36,
    "start_time": "2023-06-09T12:05:27.769Z"
   },
   {
    "duration": 12,
    "start_time": "2023-06-09T12:05:27.809Z"
   },
   {
    "duration": 14,
    "start_time": "2023-06-09T12:05:27.825Z"
   },
   {
    "duration": 14,
    "start_time": "2023-06-09T12:05:27.847Z"
   },
   {
    "duration": 7,
    "start_time": "2023-06-09T12:05:27.862Z"
   },
   {
    "duration": 11,
    "start_time": "2023-06-09T12:05:27.871Z"
   },
   {
    "duration": 256,
    "start_time": "2023-06-09T12:05:27.886Z"
   },
   {
    "duration": 173,
    "start_time": "2023-06-09T12:05:28.150Z"
   },
   {
    "duration": 398,
    "start_time": "2023-06-09T12:05:28.329Z"
   },
   {
    "duration": 360,
    "start_time": "2023-06-09T12:05:28.733Z"
   },
   {
    "duration": 358,
    "start_time": "2023-06-09T12:05:29.100Z"
   },
   {
    "duration": 28,
    "start_time": "2023-06-09T12:05:29.460Z"
   },
   {
    "duration": 28,
    "start_time": "2023-06-09T12:05:29.494Z"
   },
   {
    "duration": 28,
    "start_time": "2023-06-09T12:05:29.526Z"
   },
   {
    "duration": 472,
    "start_time": "2023-06-09T12:05:29.556Z"
   },
   {
    "duration": 366,
    "start_time": "2023-06-09T12:05:30.031Z"
   },
   {
    "duration": 373,
    "start_time": "2023-06-09T12:05:30.399Z"
   },
   {
    "duration": 406,
    "start_time": "2023-06-09T12:05:30.774Z"
   },
   {
    "duration": 53,
    "start_time": "2023-06-09T12:05:31.181Z"
   },
   {
    "duration": 32,
    "start_time": "2023-06-09T12:05:31.236Z"
   },
   {
    "duration": 940,
    "start_time": "2023-06-09T12:05:31.286Z"
   },
   {
    "duration": 406,
    "start_time": "2023-06-09T12:06:01.003Z"
   },
   {
    "duration": 231,
    "start_time": "2023-06-09T12:06:36.327Z"
   },
   {
    "duration": 212,
    "start_time": "2023-06-09T12:07:19.192Z"
   },
   {
    "duration": 169,
    "start_time": "2023-06-09T12:07:25.818Z"
   },
   {
    "duration": 315,
    "start_time": "2023-06-09T12:09:49.054Z"
   },
   {
    "duration": 7,
    "start_time": "2023-06-09T12:34:13.826Z"
   },
   {
    "duration": 6,
    "start_time": "2023-06-09T12:37:15.234Z"
   },
   {
    "duration": 10,
    "start_time": "2023-06-09T12:40:15.480Z"
   },
   {
    "duration": 6,
    "start_time": "2023-06-09T14:00:10.719Z"
   },
   {
    "duration": 128,
    "start_time": "2023-06-09T14:27:30.490Z"
   },
   {
    "duration": 16,
    "start_time": "2023-06-09T14:27:42.512Z"
   },
   {
    "duration": 8,
    "start_time": "2023-06-09T18:05:23.917Z"
   },
   {
    "duration": 8,
    "start_time": "2023-06-09T18:14:55.773Z"
   },
   {
    "duration": 5,
    "start_time": "2023-06-09T18:18:13.849Z"
   },
   {
    "duration": 5,
    "start_time": "2023-06-09T18:28:29.526Z"
   },
   {
    "duration": 7,
    "start_time": "2023-06-09T18:49:22.560Z"
   },
   {
    "duration": 12,
    "start_time": "2023-06-09T18:49:43.879Z"
   },
   {
    "duration": 11,
    "start_time": "2023-06-09T18:50:14.635Z"
   },
   {
    "duration": 20,
    "start_time": "2023-06-09T18:55:05.303Z"
   },
   {
    "duration": 9,
    "start_time": "2023-06-09T18:56:01.109Z"
   },
   {
    "duration": 11,
    "start_time": "2023-06-09T18:56:14.248Z"
   },
   {
    "duration": 4,
    "start_time": "2023-06-09T19:08:32.903Z"
   },
   {
    "duration": 7,
    "start_time": "2023-06-09T19:09:00.347Z"
   },
   {
    "duration": 13,
    "start_time": "2023-06-09T19:10:39.860Z"
   },
   {
    "duration": 9,
    "start_time": "2023-06-09T19:10:52.196Z"
   },
   {
    "duration": 183,
    "start_time": "2023-06-09T19:13:05.272Z"
   },
   {
    "duration": 147,
    "start_time": "2023-06-09T19:14:47.906Z"
   },
   {
    "duration": 15,
    "start_time": "2023-06-09T19:16:25.041Z"
   },
   {
    "duration": 148,
    "start_time": "2023-06-09T19:17:25.792Z"
   },
   {
    "duration": 311,
    "start_time": "2023-06-09T19:22:28.228Z"
   },
   {
    "duration": 282,
    "start_time": "2023-06-09T19:22:56.572Z"
   },
   {
    "duration": 381,
    "start_time": "2023-06-09T19:24:42.476Z"
   },
   {
    "duration": 76,
    "start_time": "2023-06-09T19:26:58.101Z"
   },
   {
    "duration": 260,
    "start_time": "2023-06-09T19:27:05.212Z"
   },
   {
    "duration": 274,
    "start_time": "2023-06-09T19:29:04.933Z"
   },
   {
    "duration": 14,
    "start_time": "2023-06-09T19:29:22.318Z"
   },
   {
    "duration": 285,
    "start_time": "2023-06-09T19:29:32.021Z"
   },
   {
    "duration": 281,
    "start_time": "2023-06-09T19:29:56.647Z"
   },
   {
    "duration": 317,
    "start_time": "2023-06-09T19:30:16.303Z"
   },
   {
    "duration": 348,
    "start_time": "2023-06-09T19:30:34.760Z"
   },
   {
    "duration": 284,
    "start_time": "2023-06-09T19:30:41.303Z"
   },
   {
    "duration": 6,
    "start_time": "2023-06-09T19:33:44.370Z"
   },
   {
    "duration": 9,
    "start_time": "2023-06-09T19:34:06.820Z"
   },
   {
    "duration": 7,
    "start_time": "2023-06-09T19:34:26.312Z"
   },
   {
    "duration": 15,
    "start_time": "2023-06-09T19:34:48.153Z"
   },
   {
    "duration": 113,
    "start_time": "2023-06-09T19:34:59.903Z"
   },
   {
    "duration": 4,
    "start_time": "2023-06-09T19:35:07.403Z"
   },
   {
    "duration": 59,
    "start_time": "2023-06-11T18:26:19.248Z"
   },
   {
    "duration": 6,
    "start_time": "2023-06-11T18:28:29.459Z"
   },
   {
    "duration": 6,
    "start_time": "2023-06-11T18:28:36.298Z"
   },
   {
    "duration": 8,
    "start_time": "2023-06-11T18:29:29.651Z"
   },
   {
    "duration": 1284,
    "start_time": "2023-06-11T18:29:39.890Z"
   },
   {
    "duration": 88,
    "start_time": "2023-06-11T18:29:41.177Z"
   },
   {
    "duration": 167,
    "start_time": "2023-06-11T18:29:41.266Z"
   },
   {
    "duration": 57,
    "start_time": "2023-06-11T18:29:41.435Z"
   },
   {
    "duration": 21,
    "start_time": "2023-06-11T18:29:41.494Z"
   },
   {
    "duration": 17,
    "start_time": "2023-06-11T18:29:41.516Z"
   },
   {
    "duration": 20,
    "start_time": "2023-06-11T18:29:41.534Z"
   },
   {
    "duration": 10,
    "start_time": "2023-06-11T18:29:41.556Z"
   },
   {
    "duration": 13,
    "start_time": "2023-06-11T18:29:41.568Z"
   },
   {
    "duration": 13,
    "start_time": "2023-06-11T18:29:41.584Z"
   },
   {
    "duration": 10,
    "start_time": "2023-06-11T18:29:41.599Z"
   },
   {
    "duration": 11,
    "start_time": "2023-06-11T18:29:41.610Z"
   },
   {
    "duration": 180,
    "start_time": "2023-06-11T18:29:41.622Z"
   },
   {
    "duration": 129,
    "start_time": "2023-06-11T18:29:41.804Z"
   },
   {
    "duration": 284,
    "start_time": "2023-06-11T18:29:41.935Z"
   },
   {
    "duration": 309,
    "start_time": "2023-06-11T18:29:42.221Z"
   },
   {
    "duration": 326,
    "start_time": "2023-06-11T18:29:42.532Z"
   },
   {
    "duration": 18,
    "start_time": "2023-06-11T18:29:42.860Z"
   },
   {
    "duration": 18,
    "start_time": "2023-06-11T18:29:42.880Z"
   },
   {
    "duration": 16,
    "start_time": "2023-06-11T18:29:42.900Z"
   },
   {
    "duration": 425,
    "start_time": "2023-06-11T18:29:42.918Z"
   },
   {
    "duration": 336,
    "start_time": "2023-06-11T18:29:43.345Z"
   },
   {
    "duration": 282,
    "start_time": "2023-06-11T18:29:43.683Z"
   },
   {
    "duration": 272,
    "start_time": "2023-06-11T18:29:43.967Z"
   },
   {
    "duration": 41,
    "start_time": "2023-06-11T18:29:44.242Z"
   },
   {
    "duration": 32,
    "start_time": "2023-06-11T18:29:44.285Z"
   },
   {
    "duration": 6,
    "start_time": "2023-06-11T18:29:44.318Z"
   },
   {
    "duration": 5,
    "start_time": "2023-06-11T18:29:44.327Z"
   },
   {
    "duration": 298,
    "start_time": "2023-06-11T18:29:44.334Z"
   },
   {
    "duration": 76,
    "start_time": "2023-06-11T18:33:10.066Z"
   },
   {
    "duration": 96,
    "start_time": "2023-06-11T18:33:33.418Z"
   },
   {
    "duration": 13,
    "start_time": "2023-06-11T18:33:58.711Z"
   },
   {
    "duration": 13,
    "start_time": "2023-06-11T18:34:57.504Z"
   },
   {
    "duration": 1194,
    "start_time": "2023-06-11T18:35:07.416Z"
   },
   {
    "duration": 30,
    "start_time": "2023-06-11T18:35:08.613Z"
   },
   {
    "duration": 29,
    "start_time": "2023-06-11T18:35:08.645Z"
   },
   {
    "duration": 17,
    "start_time": "2023-06-11T18:35:08.676Z"
   },
   {
    "duration": 24,
    "start_time": "2023-06-11T18:35:08.695Z"
   },
   {
    "duration": 35,
    "start_time": "2023-06-11T18:35:08.721Z"
   },
   {
    "duration": 16,
    "start_time": "2023-06-11T18:35:08.759Z"
   },
   {
    "duration": 7,
    "start_time": "2023-06-11T18:35:08.777Z"
   },
   {
    "duration": 6,
    "start_time": "2023-06-11T18:35:08.786Z"
   },
   {
    "duration": 25,
    "start_time": "2023-06-11T18:35:08.794Z"
   },
   {
    "duration": 9,
    "start_time": "2023-06-11T18:35:08.821Z"
   },
   {
    "duration": 6,
    "start_time": "2023-06-11T18:35:08.858Z"
   },
   {
    "duration": 210,
    "start_time": "2023-06-11T18:35:08.866Z"
   },
   {
    "duration": 116,
    "start_time": "2023-06-11T18:35:09.078Z"
   },
   {
    "duration": 0,
    "start_time": "2023-06-11T18:35:09.196Z"
   },
   {
    "duration": 0,
    "start_time": "2023-06-11T18:35:09.198Z"
   },
   {
    "duration": 0,
    "start_time": "2023-06-11T18:35:09.199Z"
   },
   {
    "duration": 0,
    "start_time": "2023-06-11T18:35:09.200Z"
   },
   {
    "duration": 0,
    "start_time": "2023-06-11T18:35:09.201Z"
   },
   {
    "duration": 0,
    "start_time": "2023-06-11T18:35:09.202Z"
   },
   {
    "duration": 0,
    "start_time": "2023-06-11T18:35:09.204Z"
   },
   {
    "duration": 0,
    "start_time": "2023-06-11T18:35:09.205Z"
   },
   {
    "duration": 0,
    "start_time": "2023-06-11T18:35:09.206Z"
   },
   {
    "duration": 0,
    "start_time": "2023-06-11T18:35:09.208Z"
   },
   {
    "duration": 0,
    "start_time": "2023-06-11T18:35:09.209Z"
   },
   {
    "duration": 0,
    "start_time": "2023-06-11T18:35:09.211Z"
   },
   {
    "duration": 0,
    "start_time": "2023-06-11T18:35:09.213Z"
   },
   {
    "duration": 0,
    "start_time": "2023-06-11T18:35:09.215Z"
   },
   {
    "duration": 0,
    "start_time": "2023-06-11T18:35:09.216Z"
   },
   {
    "duration": 114,
    "start_time": "2023-06-11T18:35:32.530Z"
   },
   {
    "duration": 112,
    "start_time": "2023-06-11T18:53:46.999Z"
   },
   {
    "duration": 80,
    "start_time": "2023-06-11T18:56:07.444Z"
   },
   {
    "duration": 82,
    "start_time": "2023-06-11T18:56:27.340Z"
   },
   {
    "duration": 746,
    "start_time": "2023-06-11T18:57:01.251Z"
   },
   {
    "duration": 962,
    "start_time": "2023-06-11T18:57:14.162Z"
   },
   {
    "duration": 633,
    "start_time": "2023-06-11T18:57:40.349Z"
   },
   {
    "duration": 108,
    "start_time": "2023-06-11T18:58:03.692Z"
   },
   {
    "duration": 110,
    "start_time": "2023-06-11T18:58:16.288Z"
   },
   {
    "duration": 116,
    "start_time": "2023-06-11T18:59:38.058Z"
   },
   {
    "duration": 107,
    "start_time": "2023-06-11T20:17:59.932Z"
   },
   {
    "duration": 1015,
    "start_time": "2023-06-11T20:21:15.107Z"
   },
   {
    "duration": 29,
    "start_time": "2023-06-11T20:21:16.126Z"
   },
   {
    "duration": 29,
    "start_time": "2023-06-11T20:21:16.157Z"
   },
   {
    "duration": 16,
    "start_time": "2023-06-11T20:21:16.188Z"
   },
   {
    "duration": 22,
    "start_time": "2023-06-11T20:21:16.206Z"
   },
   {
    "duration": 17,
    "start_time": "2023-06-11T20:21:16.230Z"
   },
   {
    "duration": 15,
    "start_time": "2023-06-11T20:21:16.256Z"
   },
   {
    "duration": 7,
    "start_time": "2023-06-11T20:21:16.273Z"
   },
   {
    "duration": 5,
    "start_time": "2023-06-11T20:21:16.282Z"
   },
   {
    "duration": 12,
    "start_time": "2023-06-11T20:21:16.289Z"
   },
   {
    "duration": 7,
    "start_time": "2023-06-11T20:21:16.303Z"
   },
   {
    "duration": 15,
    "start_time": "2023-06-11T20:21:16.312Z"
   },
   {
    "duration": 171,
    "start_time": "2023-06-11T20:21:16.328Z"
   },
   {
    "duration": 117,
    "start_time": "2023-06-11T20:21:16.501Z"
   },
   {
    "duration": 264,
    "start_time": "2023-06-11T20:21:16.620Z"
   },
   {
    "duration": 270,
    "start_time": "2023-06-11T20:21:16.886Z"
   },
   {
    "duration": 285,
    "start_time": "2023-06-11T20:21:17.158Z"
   },
   {
    "duration": 26,
    "start_time": "2023-06-11T20:21:17.445Z"
   },
   {
    "duration": 15,
    "start_time": "2023-06-11T20:21:17.473Z"
   },
   {
    "duration": 13,
    "start_time": "2023-06-11T20:21:17.490Z"
   },
   {
    "duration": 341,
    "start_time": "2023-06-11T20:21:17.505Z"
   },
   {
    "duration": 251,
    "start_time": "2023-06-11T20:21:17.848Z"
   },
   {
    "duration": 264,
    "start_time": "2023-06-11T20:21:18.101Z"
   },
   {
    "duration": 290,
    "start_time": "2023-06-11T20:21:18.367Z"
   },
   {
    "duration": 29,
    "start_time": "2023-06-11T20:21:18.659Z"
   },
   {
    "duration": 25,
    "start_time": "2023-06-11T20:21:18.690Z"
   },
   {
    "duration": 6,
    "start_time": "2023-06-11T20:21:18.718Z"
   },
   {
    "duration": 33,
    "start_time": "2023-06-11T20:21:18.725Z"
   },
   {
    "duration": 341,
    "start_time": "2023-06-11T20:21:18.760Z"
   },
   {
    "duration": 1218,
    "start_time": "2023-06-11T21:13:16.762Z"
   },
   {
    "duration": 1136,
    "start_time": "2023-06-11T21:13:24.575Z"
   },
   {
    "duration": 30,
    "start_time": "2023-06-11T21:13:25.713Z"
   },
   {
    "duration": 25,
    "start_time": "2023-06-11T21:13:25.745Z"
   },
   {
    "duration": 17,
    "start_time": "2023-06-11T21:13:25.773Z"
   },
   {
    "duration": 19,
    "start_time": "2023-06-11T21:13:25.791Z"
   },
   {
    "duration": 15,
    "start_time": "2023-06-11T21:13:25.812Z"
   },
   {
    "duration": 12,
    "start_time": "2023-06-11T21:13:25.829Z"
   },
   {
    "duration": 5,
    "start_time": "2023-06-11T21:13:25.856Z"
   },
   {
    "duration": 5,
    "start_time": "2023-06-11T21:13:25.863Z"
   },
   {
    "duration": 14,
    "start_time": "2023-06-11T21:13:25.871Z"
   },
   {
    "duration": 9,
    "start_time": "2023-06-11T21:13:25.886Z"
   },
   {
    "duration": 6,
    "start_time": "2023-06-11T21:13:25.897Z"
   },
   {
    "duration": 176,
    "start_time": "2023-06-11T21:13:25.905Z"
   },
   {
    "duration": 119,
    "start_time": "2023-06-11T21:13:26.083Z"
   },
   {
    "duration": 264,
    "start_time": "2023-06-11T21:13:26.205Z"
   },
   {
    "duration": 286,
    "start_time": "2023-06-11T21:13:26.472Z"
   },
   {
    "duration": 258,
    "start_time": "2023-06-11T21:13:26.760Z"
   },
   {
    "duration": 17,
    "start_time": "2023-06-11T21:13:27.019Z"
   },
   {
    "duration": 31,
    "start_time": "2023-06-11T21:13:27.038Z"
   },
   {
    "duration": 22,
    "start_time": "2023-06-11T21:13:27.071Z"
   },
   {
    "duration": 361,
    "start_time": "2023-06-11T21:13:27.095Z"
   },
   {
    "duration": 259,
    "start_time": "2023-06-11T21:13:27.458Z"
   },
   {
    "duration": 258,
    "start_time": "2023-06-11T21:13:27.719Z"
   },
   {
    "duration": 260,
    "start_time": "2023-06-11T21:13:27.978Z"
   },
   {
    "duration": 35,
    "start_time": "2023-06-11T21:13:28.240Z"
   },
   {
    "duration": 23,
    "start_time": "2023-06-11T21:13:28.277Z"
   },
   {
    "duration": 12,
    "start_time": "2023-06-11T21:13:28.301Z"
   },
   {
    "duration": 6,
    "start_time": "2023-06-11T21:13:28.316Z"
   },
   {
    "duration": 329,
    "start_time": "2023-06-11T21:13:28.324Z"
   },
   {
    "duration": 5,
    "start_time": "2023-06-11T21:18:11.050Z"
   },
   {
    "duration": 1125,
    "start_time": "2023-06-11T21:27:58.304Z"
   },
   {
    "duration": 30,
    "start_time": "2023-06-11T21:27:59.430Z"
   },
   {
    "duration": 27,
    "start_time": "2023-06-11T21:27:59.462Z"
   },
   {
    "duration": 17,
    "start_time": "2023-06-11T21:27:59.491Z"
   },
   {
    "duration": 20,
    "start_time": "2023-06-11T21:27:59.510Z"
   },
   {
    "duration": 16,
    "start_time": "2023-06-11T21:27:59.532Z"
   },
   {
    "duration": 18,
    "start_time": "2023-06-11T21:27:59.550Z"
   },
   {
    "duration": 12,
    "start_time": "2023-06-11T21:27:59.570Z"
   },
   {
    "duration": 18,
    "start_time": "2023-06-11T21:27:59.583Z"
   },
   {
    "duration": 20,
    "start_time": "2023-06-11T21:27:59.603Z"
   },
   {
    "duration": 8,
    "start_time": "2023-06-11T21:27:59.625Z"
   },
   {
    "duration": 4,
    "start_time": "2023-06-11T21:27:59.635Z"
   },
   {
    "duration": 145,
    "start_time": "2023-06-11T21:27:59.640Z"
   },
   {
    "duration": 110,
    "start_time": "2023-06-11T21:27:59.787Z"
   },
   {
    "duration": 260,
    "start_time": "2023-06-11T21:27:59.899Z"
   },
   {
    "duration": 269,
    "start_time": "2023-06-11T21:28:00.161Z"
   },
   {
    "duration": 266,
    "start_time": "2023-06-11T21:28:00.432Z"
   },
   {
    "duration": 19,
    "start_time": "2023-06-11T21:28:00.700Z"
   },
   {
    "duration": 37,
    "start_time": "2023-06-11T21:28:00.721Z"
   },
   {
    "duration": 18,
    "start_time": "2023-06-11T21:28:00.760Z"
   },
   {
    "duration": 367,
    "start_time": "2023-06-11T21:28:00.779Z"
   },
   {
    "duration": 289,
    "start_time": "2023-06-11T21:28:01.148Z"
   },
   {
    "duration": 292,
    "start_time": "2023-06-11T21:28:01.438Z"
   },
   {
    "duration": 273,
    "start_time": "2023-06-11T21:28:01.732Z"
   },
   {
    "duration": 28,
    "start_time": "2023-06-11T21:28:02.007Z"
   },
   {
    "duration": 45,
    "start_time": "2023-06-11T21:28:02.037Z"
   },
   {
    "duration": 17,
    "start_time": "2023-06-11T21:28:02.084Z"
   },
   {
    "duration": 13,
    "start_time": "2023-06-11T21:28:02.104Z"
   },
   {
    "duration": 261,
    "start_time": "2023-06-11T21:28:02.119Z"
   },
   {
    "duration": 96,
    "start_time": "2023-06-11T22:06:46.445Z"
   },
   {
    "duration": 1167,
    "start_time": "2023-06-11T22:06:52.740Z"
   },
   {
    "duration": 0,
    "start_time": "2023-06-11T22:06:53.910Z"
   },
   {
    "duration": 0,
    "start_time": "2023-06-11T22:06:53.912Z"
   },
   {
    "duration": 0,
    "start_time": "2023-06-11T22:06:53.913Z"
   },
   {
    "duration": 0,
    "start_time": "2023-06-11T22:06:53.914Z"
   },
   {
    "duration": 0,
    "start_time": "2023-06-11T22:06:53.916Z"
   },
   {
    "duration": 0,
    "start_time": "2023-06-11T22:06:53.917Z"
   },
   {
    "duration": 0,
    "start_time": "2023-06-11T22:06:53.918Z"
   },
   {
    "duration": 0,
    "start_time": "2023-06-11T22:06:53.920Z"
   },
   {
    "duration": 0,
    "start_time": "2023-06-11T22:06:53.921Z"
   },
   {
    "duration": 0,
    "start_time": "2023-06-11T22:06:53.924Z"
   },
   {
    "duration": 0,
    "start_time": "2023-06-11T22:06:53.926Z"
   },
   {
    "duration": 0,
    "start_time": "2023-06-11T22:06:53.927Z"
   },
   {
    "duration": 0,
    "start_time": "2023-06-11T22:06:53.957Z"
   },
   {
    "duration": 0,
    "start_time": "2023-06-11T22:06:53.959Z"
   },
   {
    "duration": 0,
    "start_time": "2023-06-11T22:06:53.960Z"
   },
   {
    "duration": 0,
    "start_time": "2023-06-11T22:06:53.962Z"
   },
   {
    "duration": 0,
    "start_time": "2023-06-11T22:06:53.963Z"
   },
   {
    "duration": 0,
    "start_time": "2023-06-11T22:06:53.964Z"
   },
   {
    "duration": 0,
    "start_time": "2023-06-11T22:06:53.966Z"
   },
   {
    "duration": 0,
    "start_time": "2023-06-11T22:06:53.968Z"
   },
   {
    "duration": 0,
    "start_time": "2023-06-11T22:06:53.969Z"
   },
   {
    "duration": 0,
    "start_time": "2023-06-11T22:06:53.970Z"
   },
   {
    "duration": 0,
    "start_time": "2023-06-11T22:06:53.971Z"
   },
   {
    "duration": 0,
    "start_time": "2023-06-11T22:06:53.973Z"
   },
   {
    "duration": 0,
    "start_time": "2023-06-11T22:06:53.974Z"
   },
   {
    "duration": 0,
    "start_time": "2023-06-11T22:06:53.976Z"
   },
   {
    "duration": 0,
    "start_time": "2023-06-11T22:06:53.977Z"
   },
   {
    "duration": 0,
    "start_time": "2023-06-11T22:06:53.978Z"
   },
   {
    "duration": 0,
    "start_time": "2023-06-11T22:06:53.980Z"
   },
   {
    "duration": 1265,
    "start_time": "2023-06-11T22:07:21.944Z"
   },
   {
    "duration": 0,
    "start_time": "2023-06-11T22:07:23.212Z"
   },
   {
    "duration": 0,
    "start_time": "2023-06-11T22:07:23.212Z"
   },
   {
    "duration": 0,
    "start_time": "2023-06-11T22:07:23.214Z"
   },
   {
    "duration": 0,
    "start_time": "2023-06-11T22:07:23.215Z"
   },
   {
    "duration": 0,
    "start_time": "2023-06-11T22:07:23.216Z"
   },
   {
    "duration": 0,
    "start_time": "2023-06-11T22:07:23.218Z"
   },
   {
    "duration": 0,
    "start_time": "2023-06-11T22:07:23.219Z"
   },
   {
    "duration": 0,
    "start_time": "2023-06-11T22:07:23.220Z"
   },
   {
    "duration": 0,
    "start_time": "2023-06-11T22:07:23.221Z"
   },
   {
    "duration": 0,
    "start_time": "2023-06-11T22:07:23.224Z"
   },
   {
    "duration": 0,
    "start_time": "2023-06-11T22:07:23.226Z"
   },
   {
    "duration": 0,
    "start_time": "2023-06-11T22:07:23.227Z"
   },
   {
    "duration": 0,
    "start_time": "2023-06-11T22:07:23.228Z"
   },
   {
    "duration": 0,
    "start_time": "2023-06-11T22:07:23.256Z"
   },
   {
    "duration": 0,
    "start_time": "2023-06-11T22:07:23.258Z"
   },
   {
    "duration": 0,
    "start_time": "2023-06-11T22:07:23.261Z"
   },
   {
    "duration": 0,
    "start_time": "2023-06-11T22:07:23.262Z"
   },
   {
    "duration": 0,
    "start_time": "2023-06-11T22:07:23.263Z"
   },
   {
    "duration": 0,
    "start_time": "2023-06-11T22:07:23.264Z"
   },
   {
    "duration": 0,
    "start_time": "2023-06-11T22:07:23.265Z"
   },
   {
    "duration": 0,
    "start_time": "2023-06-11T22:07:23.265Z"
   },
   {
    "duration": 0,
    "start_time": "2023-06-11T22:07:23.266Z"
   },
   {
    "duration": 0,
    "start_time": "2023-06-11T22:07:23.268Z"
   },
   {
    "duration": 0,
    "start_time": "2023-06-11T22:07:23.269Z"
   },
   {
    "duration": 0,
    "start_time": "2023-06-11T22:07:23.270Z"
   },
   {
    "duration": 0,
    "start_time": "2023-06-11T22:07:23.271Z"
   },
   {
    "duration": 0,
    "start_time": "2023-06-11T22:07:23.272Z"
   },
   {
    "duration": 0,
    "start_time": "2023-06-11T22:07:23.273Z"
   },
   {
    "duration": 0,
    "start_time": "2023-06-11T22:07:23.274Z"
   },
   {
    "duration": 3,
    "start_time": "2023-06-11T22:08:39.133Z"
   },
   {
    "duration": 1057,
    "start_time": "2023-06-11T22:08:46.662Z"
   },
   {
    "duration": 28,
    "start_time": "2023-06-11T22:08:47.721Z"
   },
   {
    "duration": 26,
    "start_time": "2023-06-11T22:08:47.751Z"
   },
   {
    "duration": 15,
    "start_time": "2023-06-11T22:08:47.779Z"
   },
   {
    "duration": 20,
    "start_time": "2023-06-11T22:08:47.796Z"
   },
   {
    "duration": 17,
    "start_time": "2023-06-11T22:08:47.818Z"
   },
   {
    "duration": 22,
    "start_time": "2023-06-11T22:08:47.836Z"
   },
   {
    "duration": 5,
    "start_time": "2023-06-11T22:08:47.860Z"
   },
   {
    "duration": 7,
    "start_time": "2023-06-11T22:08:47.867Z"
   },
   {
    "duration": 10,
    "start_time": "2023-06-11T22:08:47.876Z"
   },
   {
    "duration": 7,
    "start_time": "2023-06-11T22:08:47.887Z"
   },
   {
    "duration": 8,
    "start_time": "2023-06-11T22:08:47.896Z"
   },
   {
    "duration": 156,
    "start_time": "2023-06-11T22:08:47.906Z"
   },
   {
    "duration": 109,
    "start_time": "2023-06-11T22:08:48.063Z"
   },
   {
    "duration": 276,
    "start_time": "2023-06-11T22:08:48.174Z"
   },
   {
    "duration": 291,
    "start_time": "2023-06-11T22:08:48.456Z"
   },
   {
    "duration": 302,
    "start_time": "2023-06-11T22:08:48.757Z"
   },
   {
    "duration": 17,
    "start_time": "2023-06-11T22:08:49.062Z"
   },
   {
    "duration": 16,
    "start_time": "2023-06-11T22:08:49.081Z"
   },
   {
    "duration": 13,
    "start_time": "2023-06-11T22:08:49.098Z"
   },
   {
    "duration": 356,
    "start_time": "2023-06-11T22:08:49.113Z"
   },
   {
    "duration": 256,
    "start_time": "2023-06-11T22:08:49.470Z"
   },
   {
    "duration": 270,
    "start_time": "2023-06-11T22:08:49.728Z"
   },
   {
    "duration": 260,
    "start_time": "2023-06-11T22:08:49.999Z"
   },
   {
    "duration": 28,
    "start_time": "2023-06-11T22:08:50.260Z"
   },
   {
    "duration": 24,
    "start_time": "2023-06-11T22:08:50.289Z"
   },
   {
    "duration": 5,
    "start_time": "2023-06-11T22:08:50.314Z"
   },
   {
    "duration": 5,
    "start_time": "2023-06-11T22:08:50.321Z"
   },
   {
    "duration": 254,
    "start_time": "2023-06-11T22:08:50.357Z"
   },
   {
    "duration": 2,
    "start_time": "2023-06-11T22:08:50.613Z"
   },
   {
    "duration": 89,
    "start_time": "2023-06-11T22:17:43.386Z"
   },
   {
    "duration": 5,
    "start_time": "2023-06-11T22:18:22.110Z"
   },
   {
    "duration": 6,
    "start_time": "2023-06-11T22:19:54.093Z"
   },
   {
    "duration": 1030,
    "start_time": "2023-06-11T22:39:21.988Z"
   },
   {
    "duration": 28,
    "start_time": "2023-06-11T22:39:23.020Z"
   },
   {
    "duration": 26,
    "start_time": "2023-06-11T22:39:23.050Z"
   },
   {
    "duration": 16,
    "start_time": "2023-06-11T22:39:23.078Z"
   },
   {
    "duration": 22,
    "start_time": "2023-06-11T22:39:23.096Z"
   },
   {
    "duration": 15,
    "start_time": "2023-06-11T22:39:23.119Z"
   },
   {
    "duration": 16,
    "start_time": "2023-06-11T22:39:23.136Z"
   },
   {
    "duration": 8,
    "start_time": "2023-06-11T22:39:23.157Z"
   },
   {
    "duration": 17,
    "start_time": "2023-06-11T22:39:23.167Z"
   },
   {
    "duration": 9,
    "start_time": "2023-06-11T22:39:23.186Z"
   },
   {
    "duration": 14,
    "start_time": "2023-06-11T22:39:23.197Z"
   },
   {
    "duration": 17,
    "start_time": "2023-06-11T22:39:23.212Z"
   },
   {
    "duration": 148,
    "start_time": "2023-06-11T22:39:23.231Z"
   },
   {
    "duration": 108,
    "start_time": "2023-06-11T22:39:23.381Z"
   },
   {
    "duration": 243,
    "start_time": "2023-06-11T22:39:23.491Z"
   },
   {
    "duration": 267,
    "start_time": "2023-06-11T22:39:23.736Z"
   },
   {
    "duration": 263,
    "start_time": "2023-06-11T22:39:24.005Z"
   },
   {
    "duration": 17,
    "start_time": "2023-06-11T22:39:24.270Z"
   },
   {
    "duration": 15,
    "start_time": "2023-06-11T22:39:24.289Z"
   },
   {
    "duration": 14,
    "start_time": "2023-06-11T22:39:24.306Z"
   },
   {
    "duration": 362,
    "start_time": "2023-06-11T22:39:24.321Z"
   },
   {
    "duration": 241,
    "start_time": "2023-06-11T22:39:24.685Z"
   },
   {
    "duration": 265,
    "start_time": "2023-06-11T22:39:24.927Z"
   },
   {
    "duration": 270,
    "start_time": "2023-06-11T22:39:25.194Z"
   },
   {
    "duration": 27,
    "start_time": "2023-06-11T22:39:25.466Z"
   },
   {
    "duration": 24,
    "start_time": "2023-06-11T22:39:25.495Z"
   },
   {
    "duration": 27,
    "start_time": "2023-06-11T22:39:25.520Z"
   },
   {
    "duration": 29,
    "start_time": "2023-06-11T22:39:25.556Z"
   },
   {
    "duration": 251,
    "start_time": "2023-06-11T22:39:25.586Z"
   },
   {
    "duration": 1152,
    "start_time": "2023-06-11T23:01:14.300Z"
   },
   {
    "duration": 103,
    "start_time": "2023-06-11T23:01:15.454Z"
   },
   {
    "duration": 104,
    "start_time": "2023-06-11T23:01:15.558Z"
   },
   {
    "duration": 81,
    "start_time": "2023-06-11T23:01:15.664Z"
   },
   {
    "duration": 22,
    "start_time": "2023-06-11T23:01:15.747Z"
   },
   {
    "duration": 52,
    "start_time": "2023-06-11T23:01:15.771Z"
   },
   {
    "duration": 42,
    "start_time": "2023-06-11T23:01:15.825Z"
   },
   {
    "duration": 29,
    "start_time": "2023-06-11T23:01:15.869Z"
   },
   {
    "duration": 37,
    "start_time": "2023-06-11T23:01:15.905Z"
   },
   {
    "duration": 11,
    "start_time": "2023-06-11T23:01:15.944Z"
   },
   {
    "duration": 9,
    "start_time": "2023-06-11T23:01:15.956Z"
   },
   {
    "duration": 8,
    "start_time": "2023-06-11T23:01:15.967Z"
   },
   {
    "duration": 225,
    "start_time": "2023-06-11T23:01:15.977Z"
   },
   {
    "duration": 124,
    "start_time": "2023-06-11T23:01:16.203Z"
   },
   {
    "duration": 276,
    "start_time": "2023-06-11T23:01:16.330Z"
   },
   {
    "duration": 253,
    "start_time": "2023-06-11T23:01:16.607Z"
   },
   {
    "duration": 279,
    "start_time": "2023-06-11T23:01:16.862Z"
   },
   {
    "duration": 19,
    "start_time": "2023-06-11T23:01:17.143Z"
   },
   {
    "duration": 48,
    "start_time": "2023-06-11T23:01:17.163Z"
   },
   {
    "duration": 32,
    "start_time": "2023-06-11T23:01:17.222Z"
   },
   {
    "duration": 319,
    "start_time": "2023-06-11T23:01:17.256Z"
   },
   {
    "duration": 258,
    "start_time": "2023-06-11T23:01:17.577Z"
   },
   {
    "duration": 292,
    "start_time": "2023-06-11T23:01:17.837Z"
   },
   {
    "duration": 279,
    "start_time": "2023-06-11T23:01:18.131Z"
   },
   {
    "duration": 32,
    "start_time": "2023-06-11T23:01:18.420Z"
   },
   {
    "duration": 36,
    "start_time": "2023-06-11T23:01:18.454Z"
   },
   {
    "duration": 4,
    "start_time": "2023-06-11T23:01:18.492Z"
   },
   {
    "duration": 4,
    "start_time": "2023-06-11T23:01:18.499Z"
   },
   {
    "duration": 294,
    "start_time": "2023-06-11T23:01:18.504Z"
   },
   {
    "duration": 84,
    "start_time": "2023-06-12T13:51:03.953Z"
   },
   {
    "duration": 1516,
    "start_time": "2023-06-12T13:51:21.562Z"
   },
   {
    "duration": 106,
    "start_time": "2023-06-12T13:51:23.080Z"
   },
   {
    "duration": 114,
    "start_time": "2023-06-12T13:51:23.188Z"
   },
   {
    "duration": 90,
    "start_time": "2023-06-12T13:51:23.304Z"
   },
   {
    "duration": 25,
    "start_time": "2023-06-12T13:51:23.396Z"
   },
   {
    "duration": 50,
    "start_time": "2023-06-12T13:51:23.430Z"
   },
   {
    "duration": 14,
    "start_time": "2023-06-12T13:51:23.481Z"
   },
   {
    "duration": 6,
    "start_time": "2023-06-12T13:51:23.497Z"
   },
   {
    "duration": 24,
    "start_time": "2023-06-12T13:51:23.505Z"
   },
   {
    "duration": 43,
    "start_time": "2023-06-12T13:51:23.531Z"
   },
   {
    "duration": 6,
    "start_time": "2023-06-12T13:51:23.576Z"
   },
   {
    "duration": 9,
    "start_time": "2023-06-12T13:51:23.584Z"
   },
   {
    "duration": 7,
    "start_time": "2023-06-12T13:51:23.594Z"
   },
   {
    "duration": 162,
    "start_time": "2023-06-12T13:51:23.602Z"
   },
   {
    "duration": 130,
    "start_time": "2023-06-12T13:51:23.766Z"
   },
   {
    "duration": 295,
    "start_time": "2023-06-12T13:51:23.897Z"
   },
   {
    "duration": 404,
    "start_time": "2023-06-12T13:51:24.193Z"
   },
   {
    "duration": 298,
    "start_time": "2023-06-12T13:51:24.599Z"
   },
   {
    "duration": 47,
    "start_time": "2023-06-12T13:51:24.898Z"
   },
   {
    "duration": 15,
    "start_time": "2023-06-12T13:51:24.950Z"
   },
   {
    "duration": 19,
    "start_time": "2023-06-12T13:51:24.967Z"
   },
   {
    "duration": 395,
    "start_time": "2023-06-12T13:51:24.988Z"
   },
   {
    "duration": 339,
    "start_time": "2023-06-12T13:51:25.385Z"
   },
   {
    "duration": 383,
    "start_time": "2023-06-12T13:51:25.726Z"
   },
   {
    "duration": 329,
    "start_time": "2023-06-12T13:51:26.114Z"
   },
   {
    "duration": 39,
    "start_time": "2023-06-12T13:51:26.449Z"
   },
   {
    "duration": 67,
    "start_time": "2023-06-12T13:51:26.490Z"
   },
   {
    "duration": 7,
    "start_time": "2023-06-12T13:51:26.561Z"
   },
   {
    "duration": 9,
    "start_time": "2023-06-12T13:51:26.570Z"
   },
   {
    "duration": 390,
    "start_time": "2023-06-12T13:51:26.580Z"
   },
   {
    "duration": 8,
    "start_time": "2023-06-12T13:52:50.056Z"
   },
   {
    "duration": 13,
    "start_time": "2023-06-12T14:19:09.549Z"
   },
   {
    "duration": 125,
    "start_time": "2023-06-12T14:41:00.476Z"
   },
   {
    "duration": 118,
    "start_time": "2023-06-12T14:41:58.876Z"
   },
   {
    "duration": 154,
    "start_time": "2023-06-12T14:43:01.047Z"
   },
   {
    "duration": 208,
    "start_time": "2023-06-12T14:44:26.044Z"
   },
   {
    "duration": 137,
    "start_time": "2023-06-12T14:45:08.207Z"
   },
   {
    "duration": 130,
    "start_time": "2023-06-12T14:46:18.103Z"
   },
   {
    "duration": 264,
    "start_time": "2023-06-12T14:47:20.443Z"
   },
   {
    "duration": 137,
    "start_time": "2023-06-12T14:50:40.473Z"
   },
   {
    "duration": 11,
    "start_time": "2023-06-12T14:50:50.172Z"
   },
   {
    "duration": 966,
    "start_time": "2023-06-12T14:50:58.484Z"
   },
   {
    "duration": 28,
    "start_time": "2023-06-12T14:50:59.451Z"
   },
   {
    "duration": 26,
    "start_time": "2023-06-12T14:50:59.481Z"
   },
   {
    "duration": 35,
    "start_time": "2023-06-12T14:50:59.509Z"
   },
   {
    "duration": 20,
    "start_time": "2023-06-12T14:50:59.546Z"
   },
   {
    "duration": 14,
    "start_time": "2023-06-12T14:50:59.567Z"
   },
   {
    "duration": 13,
    "start_time": "2023-06-12T14:50:59.582Z"
   },
   {
    "duration": 4,
    "start_time": "2023-06-12T14:50:59.597Z"
   },
   {
    "duration": 7,
    "start_time": "2023-06-12T14:50:59.603Z"
   },
   {
    "duration": 11,
    "start_time": "2023-06-12T14:50:59.625Z"
   },
   {
    "duration": 22,
    "start_time": "2023-06-12T14:50:59.637Z"
   },
   {
    "duration": 5,
    "start_time": "2023-06-12T14:50:59.661Z"
   },
   {
    "duration": 162,
    "start_time": "2023-06-12T14:50:59.668Z"
   },
   {
    "duration": 155,
    "start_time": "2023-06-12T14:50:59.834Z"
   },
   {
    "duration": 275,
    "start_time": "2023-06-12T14:50:59.990Z"
   },
   {
    "duration": 125,
    "start_time": "2023-06-12T14:51:00.267Z"
   },
   {
    "duration": 0,
    "start_time": "2023-06-12T14:51:00.395Z"
   },
   {
    "duration": 0,
    "start_time": "2023-06-12T14:51:00.395Z"
   },
   {
    "duration": 0,
    "start_time": "2023-06-12T14:51:00.397Z"
   },
   {
    "duration": 0,
    "start_time": "2023-06-12T14:51:00.398Z"
   },
   {
    "duration": 0,
    "start_time": "2023-06-12T14:51:00.400Z"
   },
   {
    "duration": 0,
    "start_time": "2023-06-12T14:51:00.401Z"
   },
   {
    "duration": 0,
    "start_time": "2023-06-12T14:51:00.419Z"
   },
   {
    "duration": 0,
    "start_time": "2023-06-12T14:51:00.420Z"
   },
   {
    "duration": 0,
    "start_time": "2023-06-12T14:51:00.425Z"
   },
   {
    "duration": 0,
    "start_time": "2023-06-12T14:51:00.425Z"
   },
   {
    "duration": 0,
    "start_time": "2023-06-12T14:51:00.426Z"
   },
   {
    "duration": 0,
    "start_time": "2023-06-12T14:51:00.426Z"
   },
   {
    "duration": 0,
    "start_time": "2023-06-12T14:51:00.427Z"
   },
   {
    "duration": 0,
    "start_time": "2023-06-12T14:51:00.428Z"
   },
   {
    "duration": 0,
    "start_time": "2023-06-12T14:51:00.428Z"
   },
   {
    "duration": 36,
    "start_time": "2023-06-12T14:51:51.907Z"
   },
   {
    "duration": 988,
    "start_time": "2023-06-12T14:52:19.573Z"
   },
   {
    "duration": 29,
    "start_time": "2023-06-12T14:52:20.563Z"
   },
   {
    "duration": 88,
    "start_time": "2023-06-12T14:52:20.593Z"
   },
   {
    "duration": 46,
    "start_time": "2023-06-12T14:52:20.683Z"
   },
   {
    "duration": 41,
    "start_time": "2023-06-12T14:52:20.730Z"
   },
   {
    "duration": 14,
    "start_time": "2023-06-12T14:52:20.772Z"
   },
   {
    "duration": 72,
    "start_time": "2023-06-12T14:52:20.787Z"
   },
   {
    "duration": 25,
    "start_time": "2023-06-12T14:52:20.860Z"
   },
   {
    "duration": 40,
    "start_time": "2023-06-12T14:52:20.886Z"
   },
   {
    "duration": 80,
    "start_time": "2023-06-12T14:52:20.929Z"
   },
   {
    "duration": 69,
    "start_time": "2023-06-12T14:52:21.011Z"
   },
   {
    "duration": 17,
    "start_time": "2023-06-12T14:52:21.081Z"
   },
   {
    "duration": 185,
    "start_time": "2023-06-12T14:52:21.100Z"
   },
   {
    "duration": 116,
    "start_time": "2023-06-12T14:52:21.287Z"
   },
   {
    "duration": 265,
    "start_time": "2023-06-12T14:52:21.404Z"
   },
   {
    "duration": 263,
    "start_time": "2023-06-12T14:52:21.670Z"
   },
   {
    "duration": 293,
    "start_time": "2023-06-12T14:52:21.942Z"
   },
   {
    "duration": 14,
    "start_time": "2023-06-12T14:52:22.237Z"
   },
   {
    "duration": 24,
    "start_time": "2023-06-12T14:52:22.253Z"
   },
   {
    "duration": 26,
    "start_time": "2023-06-12T14:52:22.278Z"
   },
   {
    "duration": 44,
    "start_time": "2023-06-12T14:52:22.305Z"
   },
   {
    "duration": 296,
    "start_time": "2023-06-12T14:52:22.351Z"
   },
   {
    "duration": 230,
    "start_time": "2023-06-12T14:52:22.648Z"
   },
   {
    "duration": 274,
    "start_time": "2023-06-12T14:52:22.880Z"
   },
   {
    "duration": 228,
    "start_time": "2023-06-12T14:52:23.155Z"
   },
   {
    "duration": 57,
    "start_time": "2023-06-12T14:52:23.385Z"
   },
   {
    "duration": 28,
    "start_time": "2023-06-12T14:52:23.445Z"
   },
   {
    "duration": 26,
    "start_time": "2023-06-12T14:52:23.476Z"
   },
   {
    "duration": 62,
    "start_time": "2023-06-12T14:52:23.504Z"
   },
   {
    "duration": 285,
    "start_time": "2023-06-12T14:52:23.568Z"
   },
   {
    "duration": 277,
    "start_time": "2023-06-12T14:59:51.956Z"
   },
   {
    "duration": 19,
    "start_time": "2023-06-12T15:01:36.226Z"
   },
   {
    "duration": 9,
    "start_time": "2023-06-12T15:01:57.705Z"
   },
   {
    "duration": 1013,
    "start_time": "2023-06-12T15:02:12.128Z"
   },
   {
    "duration": 29,
    "start_time": "2023-06-12T15:02:13.142Z"
   },
   {
    "duration": 26,
    "start_time": "2023-06-12T15:02:13.172Z"
   },
   {
    "duration": 14,
    "start_time": "2023-06-12T15:02:13.200Z"
   },
   {
    "duration": 27,
    "start_time": "2023-06-12T15:02:13.224Z"
   },
   {
    "duration": 17,
    "start_time": "2023-06-12T15:02:13.252Z"
   },
   {
    "duration": 26,
    "start_time": "2023-06-12T15:02:13.270Z"
   },
   {
    "duration": 16,
    "start_time": "2023-06-12T15:02:13.297Z"
   },
   {
    "duration": 44,
    "start_time": "2023-06-12T15:02:13.314Z"
   },
   {
    "duration": 8,
    "start_time": "2023-06-12T15:02:13.360Z"
   },
   {
    "duration": 9,
    "start_time": "2023-06-12T15:02:13.369Z"
   },
   {
    "duration": 10,
    "start_time": "2023-06-12T15:02:13.379Z"
   },
   {
    "duration": 169,
    "start_time": "2023-06-12T15:02:13.390Z"
   },
   {
    "duration": 126,
    "start_time": "2023-06-12T15:02:13.560Z"
   },
   {
    "duration": 274,
    "start_time": "2023-06-12T15:02:13.687Z"
   },
   {
    "duration": 11,
    "start_time": "2023-06-12T15:02:13.962Z"
   },
   {
    "duration": 292,
    "start_time": "2023-06-12T15:02:13.974Z"
   },
   {
    "duration": 240,
    "start_time": "2023-06-12T15:02:14.267Z"
   },
   {
    "duration": 25,
    "start_time": "2023-06-12T15:02:14.508Z"
   },
   {
    "duration": 27,
    "start_time": "2023-06-12T15:02:14.541Z"
   },
   {
    "duration": 15,
    "start_time": "2023-06-12T15:02:14.569Z"
   },
   {
    "duration": 19,
    "start_time": "2023-06-12T15:02:14.585Z"
   },
   {
    "duration": 279,
    "start_time": "2023-06-12T15:02:14.605Z"
   },
   {
    "duration": 254,
    "start_time": "2023-06-12T15:02:14.886Z"
   },
   {
    "duration": 254,
    "start_time": "2023-06-12T15:02:15.141Z"
   },
   {
    "duration": 292,
    "start_time": "2023-06-12T15:02:15.396Z"
   },
   {
    "duration": 56,
    "start_time": "2023-06-12T15:02:15.690Z"
   },
   {
    "duration": 30,
    "start_time": "2023-06-12T15:02:15.763Z"
   },
   {
    "duration": 6,
    "start_time": "2023-06-12T15:02:15.795Z"
   },
   {
    "duration": 53,
    "start_time": "2023-06-12T15:02:15.803Z"
   },
   {
    "duration": 330,
    "start_time": "2023-06-12T15:02:15.858Z"
   },
   {
    "duration": 14,
    "start_time": "2023-06-12T15:02:52.153Z"
   },
   {
    "duration": 28,
    "start_time": "2023-06-12T15:03:49.415Z"
   },
   {
    "duration": 12,
    "start_time": "2023-06-12T15:04:15.976Z"
   },
   {
    "duration": 8,
    "start_time": "2023-06-12T15:13:04.279Z"
   },
   {
    "duration": 6,
    "start_time": "2023-06-12T15:16:29.201Z"
   },
   {
    "duration": 8,
    "start_time": "2023-06-12T15:16:55.384Z"
   },
   {
    "duration": 6,
    "start_time": "2023-06-12T15:17:05.791Z"
   },
   {
    "duration": 212,
    "start_time": "2023-06-12T15:18:39.242Z"
   },
   {
    "duration": 9,
    "start_time": "2023-06-12T15:20:40.169Z"
   },
   {
    "duration": 8,
    "start_time": "2023-06-12T15:20:58.222Z"
   },
   {
    "duration": 1044,
    "start_time": "2023-06-12T15:24:12.385Z"
   },
   {
    "duration": 29,
    "start_time": "2023-06-12T15:24:13.431Z"
   },
   {
    "duration": 26,
    "start_time": "2023-06-12T15:24:13.462Z"
   },
   {
    "duration": 15,
    "start_time": "2023-06-12T15:24:13.490Z"
   },
   {
    "duration": 44,
    "start_time": "2023-06-12T15:24:13.506Z"
   },
   {
    "duration": 17,
    "start_time": "2023-06-12T15:24:13.552Z"
   },
   {
    "duration": 33,
    "start_time": "2023-06-12T15:24:13.570Z"
   },
   {
    "duration": 15,
    "start_time": "2023-06-12T15:24:13.604Z"
   },
   {
    "duration": 24,
    "start_time": "2023-06-12T15:24:13.621Z"
   },
   {
    "duration": 25,
    "start_time": "2023-06-12T15:24:13.648Z"
   },
   {
    "duration": 44,
    "start_time": "2023-06-12T15:24:13.675Z"
   },
   {
    "duration": 25,
    "start_time": "2023-06-12T15:24:13.721Z"
   },
   {
    "duration": 179,
    "start_time": "2023-06-12T15:24:13.748Z"
   },
   {
    "duration": 129,
    "start_time": "2023-06-12T15:24:13.929Z"
   },
   {
    "duration": 249,
    "start_time": "2023-06-12T15:24:14.059Z"
   },
   {
    "duration": 15,
    "start_time": "2023-06-12T15:24:14.309Z"
   },
   {
    "duration": 257,
    "start_time": "2023-06-12T15:24:14.326Z"
   },
   {
    "duration": 261,
    "start_time": "2023-06-12T15:24:14.585Z"
   },
   {
    "duration": 13,
    "start_time": "2023-06-12T15:24:14.847Z"
   },
   {
    "duration": 37,
    "start_time": "2023-06-12T15:24:14.862Z"
   },
   {
    "duration": 15,
    "start_time": "2023-06-12T15:24:14.901Z"
   },
   {
    "duration": 24,
    "start_time": "2023-06-12T15:24:14.917Z"
   },
   {
    "duration": 294,
    "start_time": "2023-06-12T15:24:14.943Z"
   },
   {
    "duration": 319,
    "start_time": "2023-06-12T15:24:15.239Z"
   },
   {
    "duration": 258,
    "start_time": "2023-06-12T15:24:15.559Z"
   },
   {
    "duration": 232,
    "start_time": "2023-06-12T15:24:15.819Z"
   },
   {
    "duration": 26,
    "start_time": "2023-06-12T15:24:16.052Z"
   },
   {
    "duration": 42,
    "start_time": "2023-06-12T15:24:16.082Z"
   },
   {
    "duration": 5,
    "start_time": "2023-06-12T15:24:16.126Z"
   },
   {
    "duration": 8,
    "start_time": "2023-06-12T15:24:16.132Z"
   },
   {
    "duration": 252,
    "start_time": "2023-06-12T15:24:16.142Z"
   },
   {
    "duration": 15,
    "start_time": "2023-06-12T15:25:05.963Z"
   },
   {
    "duration": 202,
    "start_time": "2023-06-12T15:25:23.448Z"
   },
   {
    "duration": 1097,
    "start_time": "2023-06-12T15:25:28.351Z"
   },
   {
    "duration": 30,
    "start_time": "2023-06-12T15:25:29.450Z"
   },
   {
    "duration": 28,
    "start_time": "2023-06-12T15:25:29.482Z"
   },
   {
    "duration": 16,
    "start_time": "2023-06-12T15:25:29.513Z"
   },
   {
    "duration": 43,
    "start_time": "2023-06-12T15:25:29.531Z"
   },
   {
    "duration": 14,
    "start_time": "2023-06-12T15:25:29.576Z"
   },
   {
    "duration": 28,
    "start_time": "2023-06-12T15:25:29.592Z"
   },
   {
    "duration": 7,
    "start_time": "2023-06-12T15:25:29.622Z"
   },
   {
    "duration": 32,
    "start_time": "2023-06-12T15:25:29.631Z"
   },
   {
    "duration": 11,
    "start_time": "2023-06-12T15:25:29.666Z"
   },
   {
    "duration": 14,
    "start_time": "2023-06-12T15:25:29.679Z"
   },
   {
    "duration": 9,
    "start_time": "2023-06-12T15:25:29.695Z"
   },
   {
    "duration": 186,
    "start_time": "2023-06-12T15:25:29.706Z"
   },
   {
    "duration": 140,
    "start_time": "2023-06-12T15:25:29.894Z"
   },
   {
    "duration": 257,
    "start_time": "2023-06-12T15:25:30.036Z"
   },
   {
    "duration": 12,
    "start_time": "2023-06-12T15:25:30.295Z"
   },
   {
    "duration": 289,
    "start_time": "2023-06-12T15:25:30.316Z"
   },
   {
    "duration": 238,
    "start_time": "2023-06-12T15:25:30.606Z"
   },
   {
    "duration": 11,
    "start_time": "2023-06-12T15:25:30.846Z"
   },
   {
    "duration": 41,
    "start_time": "2023-06-12T15:25:30.858Z"
   },
   {
    "duration": 44,
    "start_time": "2023-06-12T15:25:30.901Z"
   },
   {
    "duration": 61,
    "start_time": "2023-06-12T15:25:30.947Z"
   },
   {
    "duration": 336,
    "start_time": "2023-06-12T15:25:31.011Z"
   },
   {
    "duration": 248,
    "start_time": "2023-06-12T15:25:31.348Z"
   },
   {
    "duration": 327,
    "start_time": "2023-06-12T15:25:31.597Z"
   },
   {
    "duration": 493,
    "start_time": "2023-06-12T15:25:31.925Z"
   },
   {
    "duration": 25,
    "start_time": "2023-06-12T15:25:32.419Z"
   },
   {
    "duration": 113,
    "start_time": "2023-06-12T15:25:32.447Z"
   },
   {
    "duration": 4,
    "start_time": "2023-06-12T15:25:32.562Z"
   },
   {
    "duration": 50,
    "start_time": "2023-06-12T15:25:32.567Z"
   },
   {
    "duration": 602,
    "start_time": "2023-06-12T15:25:32.619Z"
   },
   {
    "duration": 242,
    "start_time": "2023-06-12T15:26:40.034Z"
   },
   {
    "duration": 100,
    "start_time": "2023-06-12T15:34:51.124Z"
   },
   {
    "duration": 1152,
    "start_time": "2023-06-12T15:35:04.230Z"
   },
   {
    "duration": 32,
    "start_time": "2023-06-12T15:35:05.386Z"
   },
   {
    "duration": 31,
    "start_time": "2023-06-12T15:35:05.422Z"
   },
   {
    "duration": 19,
    "start_time": "2023-06-12T15:35:05.456Z"
   },
   {
    "duration": 37,
    "start_time": "2023-06-12T15:35:05.477Z"
   },
   {
    "duration": 37,
    "start_time": "2023-06-12T15:35:05.516Z"
   },
   {
    "duration": 48,
    "start_time": "2023-06-12T15:35:05.555Z"
   },
   {
    "duration": 33,
    "start_time": "2023-06-12T15:35:05.605Z"
   },
   {
    "duration": 22,
    "start_time": "2023-06-12T15:35:05.639Z"
   },
   {
    "duration": 25,
    "start_time": "2023-06-12T15:35:05.663Z"
   },
   {
    "duration": 27,
    "start_time": "2023-06-12T15:35:05.690Z"
   },
   {
    "duration": 18,
    "start_time": "2023-06-12T15:35:05.718Z"
   },
   {
    "duration": 184,
    "start_time": "2023-06-12T15:35:05.738Z"
   },
   {
    "duration": 139,
    "start_time": "2023-06-12T15:35:05.923Z"
   },
   {
    "duration": 272,
    "start_time": "2023-06-12T15:35:06.064Z"
   },
   {
    "duration": 12,
    "start_time": "2023-06-12T15:35:06.337Z"
   },
   {
    "duration": 288,
    "start_time": "2023-06-12T15:35:06.350Z"
   },
   {
    "duration": 309,
    "start_time": "2023-06-12T15:35:06.640Z"
   },
   {
    "duration": 11,
    "start_time": "2023-06-12T15:35:06.951Z"
   },
   {
    "duration": 199,
    "start_time": "2023-06-12T15:35:06.963Z"
   },
   {
    "duration": 16,
    "start_time": "2023-06-12T15:35:07.163Z"
   },
   {
    "duration": 28,
    "start_time": "2023-06-12T15:35:07.180Z"
   },
   {
    "duration": 25,
    "start_time": "2023-06-12T15:35:07.210Z"
   },
   {
    "duration": 312,
    "start_time": "2023-06-12T15:35:07.237Z"
   },
   {
    "duration": 250,
    "start_time": "2023-06-12T15:35:07.550Z"
   },
   {
    "duration": 284,
    "start_time": "2023-06-12T15:35:07.802Z"
   },
   {
    "duration": 265,
    "start_time": "2023-06-12T15:35:08.088Z"
   },
   {
    "duration": 24,
    "start_time": "2023-06-12T15:35:08.356Z"
   },
   {
    "duration": 43,
    "start_time": "2023-06-12T15:35:08.382Z"
   },
   {
    "duration": 6,
    "start_time": "2023-06-12T15:35:08.427Z"
   },
   {
    "duration": 12,
    "start_time": "2023-06-12T15:35:08.435Z"
   },
   {
    "duration": 255,
    "start_time": "2023-06-12T15:35:08.448Z"
   },
   {
    "duration": 138,
    "start_time": "2023-06-12T15:36:02.312Z"
   },
   {
    "duration": 111,
    "start_time": "2023-06-12T15:37:13.182Z"
   },
   {
    "duration": 260,
    "start_time": "2023-06-12T15:38:05.245Z"
   },
   {
    "duration": 13,
    "start_time": "2023-06-12T15:40:14.860Z"
   },
   {
    "duration": 1071,
    "start_time": "2023-06-12T15:40:30.002Z"
   },
   {
    "duration": 36,
    "start_time": "2023-06-12T15:40:31.075Z"
   },
   {
    "duration": 93,
    "start_time": "2023-06-12T15:40:31.113Z"
   },
   {
    "duration": 99,
    "start_time": "2023-06-12T15:40:31.208Z"
   },
   {
    "duration": 105,
    "start_time": "2023-06-12T15:40:31.308Z"
   },
   {
    "duration": 29,
    "start_time": "2023-06-12T15:40:31.415Z"
   },
   {
    "duration": 47,
    "start_time": "2023-06-12T15:40:31.447Z"
   },
   {
    "duration": 42,
    "start_time": "2023-06-12T15:40:31.496Z"
   },
   {
    "duration": 36,
    "start_time": "2023-06-12T15:40:31.539Z"
   },
   {
    "duration": 23,
    "start_time": "2023-06-12T15:40:31.579Z"
   },
   {
    "duration": 34,
    "start_time": "2023-06-12T15:40:31.604Z"
   },
   {
    "duration": 41,
    "start_time": "2023-06-12T15:40:31.641Z"
   },
   {
    "duration": 231,
    "start_time": "2023-06-12T15:40:31.684Z"
   },
   {
    "duration": 127,
    "start_time": "2023-06-12T15:40:31.917Z"
   },
   {
    "duration": 259,
    "start_time": "2023-06-12T15:40:32.047Z"
   },
   {
    "duration": 13,
    "start_time": "2023-06-12T15:40:32.308Z"
   },
   {
    "duration": 276,
    "start_time": "2023-06-12T15:40:32.323Z"
   },
   {
    "duration": 246,
    "start_time": "2023-06-12T15:40:32.601Z"
   },
   {
    "duration": 294,
    "start_time": "2023-06-12T15:40:32.849Z"
   },
   {
    "duration": 15,
    "start_time": "2023-06-12T15:40:33.145Z"
   },
   {
    "duration": 85,
    "start_time": "2023-06-12T15:40:33.162Z"
   },
   {
    "duration": 73,
    "start_time": "2023-06-12T15:40:33.250Z"
   },
   {
    "duration": 23,
    "start_time": "2023-06-12T15:40:33.325Z"
   },
   {
    "duration": 704,
    "start_time": "2023-06-12T15:40:33.349Z"
   },
   {
    "duration": 576,
    "start_time": "2023-06-12T15:40:34.055Z"
   },
   {
    "duration": 518,
    "start_time": "2023-06-12T15:40:34.633Z"
   },
   {
    "duration": 574,
    "start_time": "2023-06-12T15:40:35.153Z"
   },
   {
    "duration": 27,
    "start_time": "2023-06-12T15:40:35.729Z"
   },
   {
    "duration": 33,
    "start_time": "2023-06-12T15:40:35.758Z"
   },
   {
    "duration": 6,
    "start_time": "2023-06-12T15:40:35.815Z"
   },
   {
    "duration": 8,
    "start_time": "2023-06-12T15:40:35.823Z"
   },
   {
    "duration": 318,
    "start_time": "2023-06-12T15:40:35.833Z"
   },
   {
    "duration": 120,
    "start_time": "2023-06-12T15:40:58.409Z"
   },
   {
    "duration": 1236,
    "start_time": "2023-06-12T15:41:05.231Z"
   },
   {
    "duration": 29,
    "start_time": "2023-06-12T15:41:06.469Z"
   },
   {
    "duration": 34,
    "start_time": "2023-06-12T15:41:06.500Z"
   },
   {
    "duration": 15,
    "start_time": "2023-06-12T15:41:06.536Z"
   },
   {
    "duration": 20,
    "start_time": "2023-06-12T15:41:06.553Z"
   },
   {
    "duration": 31,
    "start_time": "2023-06-12T15:41:06.575Z"
   },
   {
    "duration": 25,
    "start_time": "2023-06-12T15:41:06.608Z"
   },
   {
    "duration": 13,
    "start_time": "2023-06-12T15:41:06.635Z"
   },
   {
    "duration": 16,
    "start_time": "2023-06-12T15:41:06.650Z"
   },
   {
    "duration": 46,
    "start_time": "2023-06-12T15:41:06.668Z"
   },
   {
    "duration": 12,
    "start_time": "2023-06-12T15:41:06.721Z"
   },
   {
    "duration": 19,
    "start_time": "2023-06-12T15:41:06.735Z"
   },
   {
    "duration": 181,
    "start_time": "2023-06-12T15:41:06.755Z"
   },
   {
    "duration": 142,
    "start_time": "2023-06-12T15:41:06.938Z"
   },
   {
    "duration": 288,
    "start_time": "2023-06-12T15:41:07.082Z"
   },
   {
    "duration": 13,
    "start_time": "2023-06-12T15:41:07.371Z"
   },
   {
    "duration": 286,
    "start_time": "2023-06-12T15:41:07.385Z"
   },
   {
    "duration": 271,
    "start_time": "2023-06-12T15:41:07.672Z"
   },
   {
    "duration": 137,
    "start_time": "2023-06-12T15:41:07.945Z"
   },
   {
    "duration": 15,
    "start_time": "2023-06-12T15:41:08.084Z"
   },
   {
    "duration": 46,
    "start_time": "2023-06-12T15:41:08.101Z"
   },
   {
    "duration": 18,
    "start_time": "2023-06-12T15:41:08.149Z"
   },
   {
    "duration": 80,
    "start_time": "2023-06-12T15:41:08.169Z"
   },
   {
    "duration": 244,
    "start_time": "2023-06-12T15:41:08.253Z"
   },
   {
    "duration": 248,
    "start_time": "2023-06-12T15:41:08.499Z"
   },
   {
    "duration": 242,
    "start_time": "2023-06-12T15:41:08.749Z"
   },
   {
    "duration": 241,
    "start_time": "2023-06-12T15:41:08.993Z"
   },
   {
    "duration": 24,
    "start_time": "2023-06-12T15:41:09.237Z"
   },
   {
    "duration": 30,
    "start_time": "2023-06-12T15:41:09.263Z"
   },
   {
    "duration": 7,
    "start_time": "2023-06-12T15:41:09.316Z"
   },
   {
    "duration": 29,
    "start_time": "2023-06-12T15:41:09.324Z"
   },
   {
    "duration": 401,
    "start_time": "2023-06-12T15:41:09.355Z"
   },
   {
    "duration": 4,
    "start_time": "2023-06-12T15:46:37.579Z"
   },
   {
    "duration": 3,
    "start_time": "2023-06-12T15:47:37.275Z"
   },
   {
    "duration": 8,
    "start_time": "2023-06-12T15:48:36.911Z"
   },
   {
    "duration": 3,
    "start_time": "2023-06-12T15:51:56.119Z"
   },
   {
    "duration": 29,
    "start_time": "2023-06-12T18:10:30.789Z"
   },
   {
    "duration": 5,
    "start_time": "2023-06-12T18:46:22.200Z"
   },
   {
    "duration": 6,
    "start_time": "2023-06-12T18:54:39.308Z"
   },
   {
    "duration": 6,
    "start_time": "2023-06-12T18:59:35.554Z"
   },
   {
    "duration": 5,
    "start_time": "2023-06-12T19:01:19.182Z"
   },
   {
    "duration": 5,
    "start_time": "2023-06-12T19:02:29.239Z"
   },
   {
    "duration": 996,
    "start_time": "2023-06-12T19:02:45.964Z"
   },
   {
    "duration": 67,
    "start_time": "2023-06-12T19:02:46.962Z"
   },
   {
    "duration": 124,
    "start_time": "2023-06-12T19:02:47.031Z"
   },
   {
    "duration": 16,
    "start_time": "2023-06-12T19:02:47.157Z"
   },
   {
    "duration": 17,
    "start_time": "2023-06-12T19:02:47.175Z"
   },
   {
    "duration": 13,
    "start_time": "2023-06-12T19:02:47.193Z"
   },
   {
    "duration": 13,
    "start_time": "2023-06-12T19:02:47.207Z"
   },
   {
    "duration": 6,
    "start_time": "2023-06-12T19:02:47.221Z"
   },
   {
    "duration": 12,
    "start_time": "2023-06-12T19:02:47.229Z"
   },
   {
    "duration": 13,
    "start_time": "2023-06-12T19:02:47.243Z"
   },
   {
    "duration": 6,
    "start_time": "2023-06-12T19:02:47.257Z"
   },
   {
    "duration": 8,
    "start_time": "2023-06-12T19:02:47.264Z"
   },
   {
    "duration": 162,
    "start_time": "2023-06-12T19:02:47.273Z"
   },
   {
    "duration": 121,
    "start_time": "2023-06-12T19:02:47.437Z"
   },
   {
    "duration": 259,
    "start_time": "2023-06-12T19:02:47.560Z"
   },
   {
    "duration": 19,
    "start_time": "2023-06-12T19:02:47.821Z"
   },
   {
    "duration": 276,
    "start_time": "2023-06-12T19:02:47.842Z"
   },
   {
    "duration": 277,
    "start_time": "2023-06-12T19:02:48.121Z"
   },
   {
    "duration": 115,
    "start_time": "2023-06-12T19:02:48.399Z"
   },
   {
    "duration": 22,
    "start_time": "2023-06-12T19:02:48.518Z"
   },
   {
    "duration": 6,
    "start_time": "2023-06-12T19:02:48.542Z"
   },
   {
    "duration": 22,
    "start_time": "2023-06-12T19:02:48.549Z"
   },
   {
    "duration": 7,
    "start_time": "2023-06-12T19:02:48.572Z"
   },
   {
    "duration": 16,
    "start_time": "2023-06-12T19:02:48.580Z"
   },
   {
    "duration": 67,
    "start_time": "2023-06-12T19:02:48.618Z"
   },
   {
    "duration": 239,
    "start_time": "2023-06-12T19:02:48.687Z"
   },
   {
    "duration": 243,
    "start_time": "2023-06-12T19:02:48.927Z"
   },
   {
    "duration": 243,
    "start_time": "2023-06-12T19:02:49.173Z"
   },
   {
    "duration": 235,
    "start_time": "2023-06-12T19:02:49.418Z"
   },
   {
    "duration": 26,
    "start_time": "2023-06-12T19:02:49.654Z"
   },
   {
    "duration": 36,
    "start_time": "2023-06-12T19:02:49.682Z"
   },
   {
    "duration": 7,
    "start_time": "2023-06-12T19:02:49.719Z"
   },
   {
    "duration": 19,
    "start_time": "2023-06-12T19:02:49.728Z"
   },
   {
    "duration": 252,
    "start_time": "2023-06-12T19:02:49.749Z"
   },
   {
    "duration": 8,
    "start_time": "2023-06-12T19:10:08.705Z"
   },
   {
    "duration": 5,
    "start_time": "2023-06-12T19:13:56.127Z"
   },
   {
    "duration": 4,
    "start_time": "2023-06-12T19:16:21.248Z"
   },
   {
    "duration": 7,
    "start_time": "2023-06-12T19:17:20.385Z"
   },
   {
    "duration": 1217,
    "start_time": "2023-06-12T20:45:59.431Z"
   },
   {
    "duration": 41,
    "start_time": "2023-06-12T20:46:00.650Z"
   },
   {
    "duration": 45,
    "start_time": "2023-06-12T20:46:00.693Z"
   },
   {
    "duration": 21,
    "start_time": "2023-06-12T20:46:00.740Z"
   },
   {
    "duration": 41,
    "start_time": "2023-06-12T20:46:00.765Z"
   },
   {
    "duration": 23,
    "start_time": "2023-06-12T20:46:00.808Z"
   },
   {
    "duration": 38,
    "start_time": "2023-06-12T20:46:00.833Z"
   },
   {
    "duration": 10,
    "start_time": "2023-06-12T20:46:00.875Z"
   },
   {
    "duration": 39,
    "start_time": "2023-06-12T20:46:00.887Z"
   },
   {
    "duration": 47,
    "start_time": "2023-06-12T20:46:00.929Z"
   },
   {
    "duration": 23,
    "start_time": "2023-06-12T20:46:00.978Z"
   },
   {
    "duration": 23,
    "start_time": "2023-06-12T20:46:01.002Z"
   },
   {
    "duration": 192,
    "start_time": "2023-06-12T20:46:01.027Z"
   },
   {
    "duration": 158,
    "start_time": "2023-06-12T20:46:01.221Z"
   },
   {
    "duration": 316,
    "start_time": "2023-06-12T20:46:01.381Z"
   },
   {
    "duration": 18,
    "start_time": "2023-06-12T20:46:01.699Z"
   },
   {
    "duration": 347,
    "start_time": "2023-06-12T20:46:01.719Z"
   },
   {
    "duration": 296,
    "start_time": "2023-06-12T20:46:02.067Z"
   },
   {
    "duration": 134,
    "start_time": "2023-06-12T20:46:02.365Z"
   },
   {
    "duration": 18,
    "start_time": "2023-06-12T20:46:02.501Z"
   },
   {
    "duration": 4,
    "start_time": "2023-06-12T20:46:02.522Z"
   },
   {
    "duration": 42,
    "start_time": "2023-06-12T20:46:02.527Z"
   },
   {
    "duration": 10,
    "start_time": "2023-06-12T20:46:02.571Z"
   },
   {
    "duration": 21,
    "start_time": "2023-06-12T20:46:02.583Z"
   },
   {
    "duration": 143,
    "start_time": "2023-06-12T20:46:02.606Z"
   },
   {
    "duration": 261,
    "start_time": "2023-06-12T20:46:02.760Z"
   },
   {
    "duration": 287,
    "start_time": "2023-06-12T20:46:03.022Z"
   },
   {
    "duration": 304,
    "start_time": "2023-06-12T20:46:03.313Z"
   },
   {
    "duration": 287,
    "start_time": "2023-06-12T20:46:03.619Z"
   },
   {
    "duration": 51,
    "start_time": "2023-06-12T20:46:03.908Z"
   },
   {
    "duration": 32,
    "start_time": "2023-06-12T20:46:03.963Z"
   },
   {
    "duration": 5,
    "start_time": "2023-06-12T20:46:03.997Z"
   },
   {
    "duration": 12,
    "start_time": "2023-06-12T20:46:04.004Z"
   },
   {
    "duration": 10,
    "start_time": "2023-06-12T20:46:04.018Z"
   },
   {
    "duration": 305,
    "start_time": "2023-06-12T20:46:04.029Z"
   },
   {
    "duration": 271,
    "start_time": "2023-06-12T20:51:54.914Z"
   },
   {
    "duration": 46,
    "start_time": "2023-06-13T06:25:42.770Z"
   },
   {
    "duration": 1286,
    "start_time": "2023-06-13T06:26:05.655Z"
   },
   {
    "duration": 79,
    "start_time": "2023-06-13T06:26:06.942Z"
   },
   {
    "duration": 68,
    "start_time": "2023-06-13T06:26:07.022Z"
   },
   {
    "duration": 54,
    "start_time": "2023-06-13T06:26:07.092Z"
   },
   {
    "duration": 18,
    "start_time": "2023-06-13T06:26:07.147Z"
   },
   {
    "duration": 13,
    "start_time": "2023-06-13T06:26:07.167Z"
   },
   {
    "duration": 12,
    "start_time": "2023-06-13T06:26:07.182Z"
   },
   {
    "duration": 23,
    "start_time": "2023-06-13T06:26:07.196Z"
   },
   {
    "duration": 11,
    "start_time": "2023-06-13T06:26:07.220Z"
   },
   {
    "duration": 8,
    "start_time": "2023-06-13T06:26:07.233Z"
   },
   {
    "duration": 8,
    "start_time": "2023-06-13T06:26:07.242Z"
   },
   {
    "duration": 6,
    "start_time": "2023-06-13T06:26:07.251Z"
   },
   {
    "duration": 133,
    "start_time": "2023-06-13T06:26:07.259Z"
   },
   {
    "duration": 117,
    "start_time": "2023-06-13T06:26:07.393Z"
   },
   {
    "duration": 261,
    "start_time": "2023-06-13T06:26:07.512Z"
   },
   {
    "duration": 18,
    "start_time": "2023-06-13T06:26:07.774Z"
   },
   {
    "duration": 243,
    "start_time": "2023-06-13T06:26:07.794Z"
   },
   {
    "duration": 112,
    "start_time": "2023-06-13T06:26:08.039Z"
   },
   {
    "duration": 236,
    "start_time": "2023-06-13T06:26:08.153Z"
   },
   {
    "duration": 174,
    "start_time": "2023-06-13T06:26:08.392Z"
   },
   {
    "duration": 20,
    "start_time": "2023-06-13T06:26:08.567Z"
   },
   {
    "duration": 7,
    "start_time": "2023-06-13T06:26:08.589Z"
   },
   {
    "duration": 37,
    "start_time": "2023-06-13T06:26:08.597Z"
   },
   {
    "duration": 13,
    "start_time": "2023-06-13T06:26:08.635Z"
   },
   {
    "duration": 14,
    "start_time": "2023-06-13T06:26:08.649Z"
   },
   {
    "duration": 12,
    "start_time": "2023-06-13T06:26:08.664Z"
   },
   {
    "duration": 247,
    "start_time": "2023-06-13T06:26:08.677Z"
   },
   {
    "duration": 238,
    "start_time": "2023-06-13T06:26:08.927Z"
   },
   {
    "duration": 254,
    "start_time": "2023-06-13T06:26:09.166Z"
   },
   {
    "duration": 227,
    "start_time": "2023-06-13T06:26:09.421Z"
   },
   {
    "duration": 41,
    "start_time": "2023-06-13T06:26:09.650Z"
   },
   {
    "duration": 33,
    "start_time": "2023-06-13T06:26:09.694Z"
   },
   {
    "duration": 5,
    "start_time": "2023-06-13T06:26:09.728Z"
   },
   {
    "duration": 16,
    "start_time": "2023-06-13T06:26:09.735Z"
   },
   {
    "duration": 11,
    "start_time": "2023-06-13T06:26:09.752Z"
   },
   {
    "duration": 274,
    "start_time": "2023-06-13T06:26:09.764Z"
   },
   {
    "duration": 118,
    "start_time": "2023-06-13T06:26:30.537Z"
   },
   {
    "duration": 5,
    "start_time": "2023-06-13T06:30:20.754Z"
   },
   {
    "duration": 27,
    "start_time": "2023-06-13T06:30:25.251Z"
   },
   {
    "duration": 7,
    "start_time": "2023-06-13T06:30:55.075Z"
   },
   {
    "duration": 1631,
    "start_time": "2023-06-13T06:31:00.329Z"
   },
   {
    "duration": 32,
    "start_time": "2023-06-13T06:31:01.962Z"
   },
   {
    "duration": 180,
    "start_time": "2023-06-13T06:31:01.996Z"
   },
   {
    "duration": 231,
    "start_time": "2023-06-13T06:31:02.178Z"
   },
   {
    "duration": 127,
    "start_time": "2023-06-13T06:31:02.411Z"
   },
   {
    "duration": 30,
    "start_time": "2023-06-13T06:31:02.539Z"
   },
   {
    "duration": 68,
    "start_time": "2023-06-13T06:31:02.571Z"
   },
   {
    "duration": 60,
    "start_time": "2023-06-13T06:31:02.641Z"
   },
   {
    "duration": 65,
    "start_time": "2023-06-13T06:31:02.703Z"
   },
   {
    "duration": 42,
    "start_time": "2023-06-13T06:31:02.772Z"
   },
   {
    "duration": 29,
    "start_time": "2023-06-13T06:31:02.815Z"
   },
   {
    "duration": 45,
    "start_time": "2023-06-13T06:31:02.846Z"
   },
   {
    "duration": 166,
    "start_time": "2023-06-13T06:31:02.893Z"
   },
   {
    "duration": 116,
    "start_time": "2023-06-13T06:31:03.060Z"
   },
   {
    "duration": 263,
    "start_time": "2023-06-13T06:31:03.177Z"
   },
   {
    "duration": 10,
    "start_time": "2023-06-13T06:31:03.441Z"
   },
   {
    "duration": 258,
    "start_time": "2023-06-13T06:31:03.453Z"
   },
   {
    "duration": 129,
    "start_time": "2023-06-13T06:31:03.713Z"
   },
   {
    "duration": 281,
    "start_time": "2023-06-13T06:31:03.844Z"
   },
   {
    "duration": 192,
    "start_time": "2023-06-13T06:31:04.127Z"
   },
   {
    "duration": 14,
    "start_time": "2023-06-13T06:31:04.321Z"
   },
   {
    "duration": 7,
    "start_time": "2023-06-13T06:31:04.336Z"
   },
   {
    "duration": 31,
    "start_time": "2023-06-13T06:31:04.344Z"
   },
   {
    "duration": 12,
    "start_time": "2023-06-13T06:31:04.376Z"
   },
   {
    "duration": 38,
    "start_time": "2023-06-13T06:31:04.391Z"
   },
   {
    "duration": 12,
    "start_time": "2023-06-13T06:31:04.431Z"
   },
   {
    "duration": 225,
    "start_time": "2023-06-13T06:31:04.444Z"
   },
   {
    "duration": 232,
    "start_time": "2023-06-13T06:31:04.672Z"
   },
   {
    "duration": 263,
    "start_time": "2023-06-13T06:31:04.906Z"
   },
   {
    "duration": 236,
    "start_time": "2023-06-13T06:31:05.171Z"
   },
   {
    "duration": 27,
    "start_time": "2023-06-13T06:31:05.409Z"
   },
   {
    "duration": 6,
    "start_time": "2023-06-13T06:31:05.438Z"
   },
   {
    "duration": 59,
    "start_time": "2023-06-13T06:31:05.445Z"
   },
   {
    "duration": 18,
    "start_time": "2023-06-13T06:31:05.505Z"
   },
   {
    "duration": 28,
    "start_time": "2023-06-13T06:31:05.524Z"
   },
   {
    "duration": 14,
    "start_time": "2023-06-13T06:31:05.554Z"
   },
   {
    "duration": 286,
    "start_time": "2023-06-13T06:31:05.570Z"
   },
   {
    "duration": 5,
    "start_time": "2023-06-13T06:39:03.359Z"
   },
   {
    "duration": 1197,
    "start_time": "2023-06-13T13:18:21.298Z"
   },
   {
    "duration": 30,
    "start_time": "2023-06-13T13:18:22.497Z"
   },
   {
    "duration": 26,
    "start_time": "2023-06-13T13:18:22.528Z"
   },
   {
    "duration": 17,
    "start_time": "2023-06-13T13:18:22.556Z"
   },
   {
    "duration": 21,
    "start_time": "2023-06-13T13:18:22.575Z"
   },
   {
    "duration": 27,
    "start_time": "2023-06-13T13:18:22.598Z"
   },
   {
    "duration": 42,
    "start_time": "2023-06-13T13:18:22.627Z"
   },
   {
    "duration": 11,
    "start_time": "2023-06-13T13:18:22.671Z"
   },
   {
    "duration": 12,
    "start_time": "2023-06-13T13:18:22.683Z"
   },
   {
    "duration": 21,
    "start_time": "2023-06-13T13:18:22.698Z"
   },
   {
    "duration": 29,
    "start_time": "2023-06-13T13:18:22.720Z"
   },
   {
    "duration": 23,
    "start_time": "2023-06-13T13:18:22.751Z"
   },
   {
    "duration": 174,
    "start_time": "2023-06-13T13:18:22.776Z"
   },
   {
    "duration": 145,
    "start_time": "2023-06-13T13:18:22.952Z"
   },
   {
    "duration": 312,
    "start_time": "2023-06-13T13:18:23.099Z"
   },
   {
    "duration": 21,
    "start_time": "2023-06-13T13:18:23.412Z"
   },
   {
    "duration": 293,
    "start_time": "2023-06-13T13:18:23.435Z"
   },
   {
    "duration": 166,
    "start_time": "2023-06-13T13:18:23.729Z"
   },
   {
    "duration": 261,
    "start_time": "2023-06-13T13:18:23.897Z"
   },
   {
    "duration": 200,
    "start_time": "2023-06-13T13:18:24.159Z"
   },
   {
    "duration": 15,
    "start_time": "2023-06-13T13:18:24.360Z"
   },
   {
    "duration": 50,
    "start_time": "2023-06-13T13:18:24.376Z"
   },
   {
    "duration": 27,
    "start_time": "2023-06-13T13:18:24.428Z"
   },
   {
    "duration": 19,
    "start_time": "2023-06-13T13:18:24.457Z"
   },
   {
    "duration": 48,
    "start_time": "2023-06-13T13:18:24.478Z"
   },
   {
    "duration": 36,
    "start_time": "2023-06-13T13:18:24.529Z"
   },
   {
    "duration": 264,
    "start_time": "2023-06-13T13:18:24.567Z"
   },
   {
    "duration": 396,
    "start_time": "2023-06-13T13:18:24.834Z"
   },
   {
    "duration": 265,
    "start_time": "2023-06-13T13:18:25.232Z"
   },
   {
    "duration": 271,
    "start_time": "2023-06-13T13:18:25.499Z"
   },
   {
    "duration": 32,
    "start_time": "2023-06-13T13:18:25.772Z"
   },
   {
    "duration": 23,
    "start_time": "2023-06-13T13:18:25.806Z"
   },
   {
    "duration": 60,
    "start_time": "2023-06-13T13:18:25.832Z"
   },
   {
    "duration": 7,
    "start_time": "2023-06-13T13:18:25.894Z"
   },
   {
    "duration": 10,
    "start_time": "2023-06-13T13:18:25.903Z"
   },
   {
    "duration": 17,
    "start_time": "2023-06-13T13:18:25.914Z"
   },
   {
    "duration": 269,
    "start_time": "2023-06-13T13:18:25.933Z"
   },
   {
    "duration": 1808,
    "start_time": "2023-06-13T14:36:39.850Z"
   },
   {
    "duration": 120,
    "start_time": "2023-06-13T14:36:41.659Z"
   },
   {
    "duration": 138,
    "start_time": "2023-06-13T14:36:41.780Z"
   },
   {
    "duration": 93,
    "start_time": "2023-06-13T14:36:41.920Z"
   },
   {
    "duration": 40,
    "start_time": "2023-06-13T14:36:42.015Z"
   },
   {
    "duration": 46,
    "start_time": "2023-06-13T14:36:42.057Z"
   },
   {
    "duration": 71,
    "start_time": "2023-06-13T14:36:42.105Z"
   },
   {
    "duration": 29,
    "start_time": "2023-06-13T14:36:42.178Z"
   },
   {
    "duration": 61,
    "start_time": "2023-06-13T14:36:42.208Z"
   },
   {
    "duration": 11,
    "start_time": "2023-06-13T14:36:42.272Z"
   },
   {
    "duration": 23,
    "start_time": "2023-06-13T14:36:42.302Z"
   },
   {
    "duration": 30,
    "start_time": "2023-06-13T14:36:42.331Z"
   },
   {
    "duration": 211,
    "start_time": "2023-06-13T14:36:42.362Z"
   },
   {
    "duration": 153,
    "start_time": "2023-06-13T14:36:42.575Z"
   },
   {
    "duration": 286,
    "start_time": "2023-06-13T14:36:42.729Z"
   },
   {
    "duration": 14,
    "start_time": "2023-06-13T14:36:43.017Z"
   },
   {
    "duration": 342,
    "start_time": "2023-06-13T14:36:43.032Z"
   },
   {
    "duration": 190,
    "start_time": "2023-06-13T14:36:43.378Z"
   },
   {
    "duration": 443,
    "start_time": "2023-06-13T14:36:43.574Z"
   },
   {
    "duration": 262,
    "start_time": "2023-06-13T14:36:44.020Z"
   },
   {
    "duration": 34,
    "start_time": "2023-06-13T14:36:44.284Z"
   },
   {
    "duration": 152,
    "start_time": "2023-06-13T14:36:44.322Z"
   },
   {
    "duration": 202,
    "start_time": "2023-06-13T14:36:44.476Z"
   },
   {
    "duration": 42,
    "start_time": "2023-06-13T14:36:44.680Z"
   },
   {
    "duration": 63,
    "start_time": "2023-06-13T14:36:44.731Z"
   },
   {
    "duration": 78,
    "start_time": "2023-06-13T14:36:44.797Z"
   },
   {
    "duration": 297,
    "start_time": "2023-06-13T14:36:44.876Z"
   },
   {
    "duration": 300,
    "start_time": "2023-06-13T14:36:45.177Z"
   },
   {
    "duration": 384,
    "start_time": "2023-06-13T14:36:45.478Z"
   },
   {
    "duration": 342,
    "start_time": "2023-06-13T14:36:45.867Z"
   },
   {
    "duration": 30,
    "start_time": "2023-06-13T14:36:46.210Z"
   },
   {
    "duration": 116,
    "start_time": "2023-06-13T14:36:46.242Z"
   },
   {
    "duration": 91,
    "start_time": "2023-06-13T14:36:46.363Z"
   },
   {
    "duration": 113,
    "start_time": "2023-06-13T14:36:46.456Z"
   },
   {
    "duration": 67,
    "start_time": "2023-06-13T14:36:46.570Z"
   },
   {
    "duration": 88,
    "start_time": "2023-06-13T14:36:46.648Z"
   },
   {
    "duration": 419,
    "start_time": "2023-06-13T14:36:46.751Z"
   },
   {
    "duration": 1478,
    "start_time": "2023-06-13T14:42:00.067Z"
   },
   {
    "duration": 66,
    "start_time": "2023-06-13T14:42:01.551Z"
   },
   {
    "duration": 132,
    "start_time": "2023-06-13T14:42:01.622Z"
   },
   {
    "duration": 58,
    "start_time": "2023-06-13T14:42:01.759Z"
   },
   {
    "duration": 109,
    "start_time": "2023-06-13T14:42:01.822Z"
   },
   {
    "duration": 165,
    "start_time": "2023-06-13T14:42:01.939Z"
   },
   {
    "duration": 168,
    "start_time": "2023-06-13T14:42:02.115Z"
   },
   {
    "duration": 166,
    "start_time": "2023-06-13T14:42:02.284Z"
   },
   {
    "duration": 108,
    "start_time": "2023-06-13T14:42:02.454Z"
   },
   {
    "duration": 50,
    "start_time": "2023-06-13T14:42:02.572Z"
   },
   {
    "duration": 153,
    "start_time": "2023-06-13T14:42:02.623Z"
   },
   {
    "duration": 101,
    "start_time": "2023-06-13T14:42:02.778Z"
   },
   {
    "duration": 353,
    "start_time": "2023-06-13T14:42:02.881Z"
   },
   {
    "duration": 175,
    "start_time": "2023-06-13T14:42:03.247Z"
   },
   {
    "duration": 358,
    "start_time": "2023-06-13T14:42:03.424Z"
   },
   {
    "duration": 18,
    "start_time": "2023-06-13T14:42:03.783Z"
   },
   {
    "duration": 535,
    "start_time": "2023-06-13T14:42:03.803Z"
   },
   {
    "duration": 198,
    "start_time": "2023-06-13T14:42:04.340Z"
   },
   {
    "duration": 367,
    "start_time": "2023-06-13T14:42:04.540Z"
   },
   {
    "duration": 301,
    "start_time": "2023-06-13T14:42:04.909Z"
   },
   {
    "duration": 43,
    "start_time": "2023-06-13T14:42:05.217Z"
   },
   {
    "duration": 118,
    "start_time": "2023-06-13T14:42:05.264Z"
   },
   {
    "duration": 120,
    "start_time": "2023-06-13T14:42:05.402Z"
   },
   {
    "duration": 19,
    "start_time": "2023-06-13T14:42:05.535Z"
   },
   {
    "duration": 121,
    "start_time": "2023-06-13T14:42:05.555Z"
   },
   {
    "duration": 176,
    "start_time": "2023-06-13T14:42:05.678Z"
   },
   {
    "duration": 383,
    "start_time": "2023-06-13T14:42:05.859Z"
   },
   {
    "duration": 464,
    "start_time": "2023-06-13T14:42:06.248Z"
   },
   {
    "duration": 401,
    "start_time": "2023-06-13T14:42:06.717Z"
   },
   {
    "duration": 418,
    "start_time": "2023-06-13T14:42:07.124Z"
   },
   {
    "duration": 49,
    "start_time": "2023-06-13T14:42:07.548Z"
   },
   {
    "duration": 47,
    "start_time": "2023-06-13T14:42:07.606Z"
   },
   {
    "duration": 120,
    "start_time": "2023-06-13T14:42:07.659Z"
   },
   {
    "duration": 23,
    "start_time": "2023-06-13T14:42:07.785Z"
   },
   {
    "duration": 105,
    "start_time": "2023-06-13T14:42:07.813Z"
   },
   {
    "duration": 250,
    "start_time": "2023-06-13T14:42:07.920Z"
   },
   {
    "duration": 544,
    "start_time": "2023-06-13T14:42:08.184Z"
   }
  ],
  "kernelspec": {
   "display_name": "Python 3 (ipykernel)",
   "language": "python",
   "name": "python3"
  },
  "language_info": {
   "codemirror_mode": {
    "name": "ipython",
    "version": 3
   },
   "file_extension": ".py",
   "mimetype": "text/x-python",
   "name": "python",
   "nbconvert_exporter": "python",
   "pygments_lexer": "ipython3",
   "version": "3.11.5"
  },
  "toc": {
   "base_numbering": 1,
   "nav_menu": {},
   "number_sections": true,
   "sideBar": true,
   "skip_h1_title": true,
   "title_cell": "Table of Contents",
   "title_sidebar": "Contents",
   "toc_cell": false,
   "toc_position": {
    "height": "calc(100% - 180px)",
    "left": "10px",
    "top": "150px",
    "width": "509px"
   },
   "toc_section_display": true,
   "toc_window_display": false
  }
 },
 "nbformat": 4,
 "nbformat_minor": 5
}
