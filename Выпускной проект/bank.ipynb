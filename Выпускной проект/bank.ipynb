{
 "cells": [
  {
   "cell_type": "markdown",
   "metadata": {},
   "source": [
    "# Анализ оттока клиентов банка \"Метанпром\""
   ]
  },
  {
   "cell_type": "markdown",
   "metadata": {},
   "source": [
    "Представленны данные о клиентах банка \"Метанпром\". Банк располагается в Ярославле и областных городах: Ростов Велирий и Рыбинск.\n",
    "\n",
    "**Заказчик:** маркетинговый отдел банка \"Метанпром\".\n",
    "\n",
    "**Задача:** проанализировать клиентов регионального банка и выделить сегменты клиентов, которые склонны уходить из банка.  \n",
    "\n",
    "**Ход исследования:**\n",
    "\n",
    "1. Загрузка и описание данных\n",
    "2. Подготовка данных:\n",
    "- замена названий столбцов на более корректные\n",
    "- обработка пропусков\n",
    "- проверка дубликатов\n",
    "3. Исследовательский анализ данных\n",
    "- анализ портретов клиентов в разрезе оттока\n",
    "- анализ распределения признаков в разрезе оттока клиентов\n",
    "- исследование коррелирующих признаков\n",
    "4. Проверка гипотез:\n",
    "- различия дохода у отточных клиентов и клиентов которые остались\n",
    "- возрастные различия у отточных клиентов и клиентов которые остались\n",
    "5. Промежуточные итоги: определиния признаков для клиентов с наибольшими показателями оттока\n",
    "6. Сегментация: сегментация на основе выделенных признаков, выделение приоритетных сигментов\n",
    "7. Выводы и рекомендации для заказчика."
   ]
  },
  {
   "cell_type": "markdown",
   "metadata": {},
   "source": [
    "## Обзор данных"
   ]
  },
  {
   "cell_type": "code",
   "execution_count": 1,
   "metadata": {},
   "outputs": [],
   "source": [
    "import pandas as pd\n",
    "import matplotlib.pyplot as plt\n",
    "import seaborn as sns\n",
    "import numpy as np\n",
    "from scipy import stats as st\n",
    "import warnings\n",
    "warnings.filterwarnings(\"ignore\")\n"
   ]
  },
  {
   "cell_type": "code",
   "execution_count": 2,
   "metadata": {},
   "outputs": [],
   "source": [
    "data = pd.read_csv('/datasets/bank_scrooge.csv')"
   ]
  },
  {
   "cell_type": "code",
   "execution_count": 3,
   "metadata": {},
   "outputs": [
    {
     "data": {
      "text/html": [
       "<div>\n",
       "<style scoped>\n",
       "    .dataframe tbody tr th:only-of-type {\n",
       "        vertical-align: middle;\n",
       "    }\n",
       "\n",
       "    .dataframe tbody tr th {\n",
       "        vertical-align: top;\n",
       "    }\n",
       "\n",
       "    .dataframe thead th {\n",
       "        text-align: right;\n",
       "    }\n",
       "</style>\n",
       "<table border=\"1\" class=\"dataframe\">\n",
       "  <thead>\n",
       "    <tr style=\"text-align: right;\">\n",
       "      <th></th>\n",
       "      <th>USERID</th>\n",
       "      <th>score</th>\n",
       "      <th>city</th>\n",
       "      <th>gender</th>\n",
       "      <th>age</th>\n",
       "      <th>equity</th>\n",
       "      <th>balance</th>\n",
       "      <th>products</th>\n",
       "      <th>credit_card</th>\n",
       "      <th>last_activity</th>\n",
       "      <th>EST_SALARY</th>\n",
       "      <th>churn</th>\n",
       "    </tr>\n",
       "  </thead>\n",
       "  <tbody>\n",
       "    <tr>\n",
       "      <th>0</th>\n",
       "      <td>183012</td>\n",
       "      <td>850.0</td>\n",
       "      <td>Рыбинск</td>\n",
       "      <td>Ж</td>\n",
       "      <td>25.0</td>\n",
       "      <td>1</td>\n",
       "      <td>59214.82</td>\n",
       "      <td>2</td>\n",
       "      <td>0</td>\n",
       "      <td>1</td>\n",
       "      <td>75719.14</td>\n",
       "      <td>1</td>\n",
       "    </tr>\n",
       "    <tr>\n",
       "      <th>1</th>\n",
       "      <td>146556</td>\n",
       "      <td>861.0</td>\n",
       "      <td>Рыбинск</td>\n",
       "      <td>Ж</td>\n",
       "      <td>37.0</td>\n",
       "      <td>5</td>\n",
       "      <td>850594.33</td>\n",
       "      <td>3</td>\n",
       "      <td>1</td>\n",
       "      <td>0</td>\n",
       "      <td>86621.77</td>\n",
       "      <td>0</td>\n",
       "    </tr>\n",
       "    <tr>\n",
       "      <th>2</th>\n",
       "      <td>120722</td>\n",
       "      <td>892.0</td>\n",
       "      <td>Рыбинск</td>\n",
       "      <td>Ж</td>\n",
       "      <td>30.0</td>\n",
       "      <td>0</td>\n",
       "      <td>NaN</td>\n",
       "      <td>1</td>\n",
       "      <td>1</td>\n",
       "      <td>1</td>\n",
       "      <td>107683.34</td>\n",
       "      <td>0</td>\n",
       "    </tr>\n",
       "    <tr>\n",
       "      <th>3</th>\n",
       "      <td>225363</td>\n",
       "      <td>866.0</td>\n",
       "      <td>Ярославль</td>\n",
       "      <td>Ж</td>\n",
       "      <td>51.0</td>\n",
       "      <td>5</td>\n",
       "      <td>1524746.26</td>\n",
       "      <td>2</td>\n",
       "      <td>0</td>\n",
       "      <td>1</td>\n",
       "      <td>174423.53</td>\n",
       "      <td>1</td>\n",
       "    </tr>\n",
       "    <tr>\n",
       "      <th>4</th>\n",
       "      <td>157978</td>\n",
       "      <td>730.0</td>\n",
       "      <td>Ярославль</td>\n",
       "      <td>М</td>\n",
       "      <td>34.0</td>\n",
       "      <td>5</td>\n",
       "      <td>174.00</td>\n",
       "      <td>1</td>\n",
       "      <td>1</td>\n",
       "      <td>0</td>\n",
       "      <td>67353.16</td>\n",
       "      <td>1</td>\n",
       "    </tr>\n",
       "    <tr>\n",
       "      <th>5</th>\n",
       "      <td>202305</td>\n",
       "      <td>856.0</td>\n",
       "      <td>Рыбинск</td>\n",
       "      <td>М</td>\n",
       "      <td>56.0</td>\n",
       "      <td>4</td>\n",
       "      <td>863687.24</td>\n",
       "      <td>3</td>\n",
       "      <td>1</td>\n",
       "      <td>0</td>\n",
       "      <td>156619.80</td>\n",
       "      <td>0</td>\n",
       "    </tr>\n",
       "    <tr>\n",
       "      <th>6</th>\n",
       "      <td>177259</td>\n",
       "      <td>807.0</td>\n",
       "      <td>Ярославль</td>\n",
       "      <td>Ж</td>\n",
       "      <td>39.0</td>\n",
       "      <td>3</td>\n",
       "      <td>405042.44</td>\n",
       "      <td>3</td>\n",
       "      <td>0</td>\n",
       "      <td>1</td>\n",
       "      <td>103838.32</td>\n",
       "      <td>0</td>\n",
       "    </tr>\n",
       "    <tr>\n",
       "      <th>7</th>\n",
       "      <td>218868</td>\n",
       "      <td>825.0</td>\n",
       "      <td>Ярославль</td>\n",
       "      <td>Ж</td>\n",
       "      <td>38.0</td>\n",
       "      <td>4</td>\n",
       "      <td>458145.40</td>\n",
       "      <td>2</td>\n",
       "      <td>1</td>\n",
       "      <td>1</td>\n",
       "      <td>68085.48</td>\n",
       "      <td>0</td>\n",
       "    </tr>\n",
       "    <tr>\n",
       "      <th>8</th>\n",
       "      <td>211686</td>\n",
       "      <td>923.0</td>\n",
       "      <td>Ярославль</td>\n",
       "      <td>М</td>\n",
       "      <td>54.0</td>\n",
       "      <td>5</td>\n",
       "      <td>1206337.87</td>\n",
       "      <td>2</td>\n",
       "      <td>1</td>\n",
       "      <td>0</td>\n",
       "      <td>155371.79</td>\n",
       "      <td>0</td>\n",
       "    </tr>\n",
       "    <tr>\n",
       "      <th>9</th>\n",
       "      <td>133130</td>\n",
       "      <td>906.0</td>\n",
       "      <td>Ярославль</td>\n",
       "      <td>Ж</td>\n",
       "      <td>67.0</td>\n",
       "      <td>0</td>\n",
       "      <td>NaN</td>\n",
       "      <td>1</td>\n",
       "      <td>0</td>\n",
       "      <td>1</td>\n",
       "      <td>238055.53</td>\n",
       "      <td>0</td>\n",
       "    </tr>\n",
       "  </tbody>\n",
       "</table>\n",
       "</div>"
      ],
      "text/plain": [
       "   USERID  score       city gender   age  equity     balance  products  \\\n",
       "0  183012  850.0    Рыбинск      Ж  25.0       1    59214.82         2   \n",
       "1  146556  861.0    Рыбинск      Ж  37.0       5   850594.33         3   \n",
       "2  120722  892.0    Рыбинск      Ж  30.0       0         NaN         1   \n",
       "3  225363  866.0  Ярославль      Ж  51.0       5  1524746.26         2   \n",
       "4  157978  730.0  Ярославль      М  34.0       5      174.00         1   \n",
       "5  202305  856.0    Рыбинск      М  56.0       4   863687.24         3   \n",
       "6  177259  807.0  Ярославль      Ж  39.0       3   405042.44         3   \n",
       "7  218868  825.0  Ярославль      Ж  38.0       4   458145.40         2   \n",
       "8  211686  923.0  Ярославль      М  54.0       5  1206337.87         2   \n",
       "9  133130  906.0  Ярославль      Ж  67.0       0         NaN         1   \n",
       "\n",
       "   credit_card  last_activity  EST_SALARY  churn  \n",
       "0            0              1    75719.14      1  \n",
       "1            1              0    86621.77      0  \n",
       "2            1              1   107683.34      0  \n",
       "3            0              1   174423.53      1  \n",
       "4            1              0    67353.16      1  \n",
       "5            1              0   156619.80      0  \n",
       "6            0              1   103838.32      0  \n",
       "7            1              1    68085.48      0  \n",
       "8            1              0   155371.79      0  \n",
       "9            0              1   238055.53      0  "
      ]
     },
     "metadata": {},
     "output_type": "display_data"
    }
   ],
   "source": [
    "# выведем первые 10 строк \n",
    "display(data.head(10))"
   ]
  },
  {
   "cell_type": "code",
   "execution_count": 4,
   "metadata": {},
   "outputs": [
    {
     "name": "stdout",
     "output_type": "stream",
     "text": [
      "<class 'pandas.core.frame.DataFrame'>\n",
      "RangeIndex: 10000 entries, 0 to 9999\n",
      "Data columns (total 12 columns):\n",
      " #   Column         Non-Null Count  Dtype  \n",
      "---  ------         --------------  -----  \n",
      " 0   USERID         10000 non-null  int64  \n",
      " 1   score          10000 non-null  float64\n",
      " 2   city           10000 non-null  object \n",
      " 3   gender         10000 non-null  object \n",
      " 4   age            9974 non-null   float64\n",
      " 5   equity         10000 non-null  int64  \n",
      " 6   balance        7705 non-null   float64\n",
      " 7   products       10000 non-null  int64  \n",
      " 8   credit_card    10000 non-null  int64  \n",
      " 9   last_activity  10000 non-null  int64  \n",
      " 10  EST_SALARY     10000 non-null  float64\n",
      " 11  churn          10000 non-null  int64  \n",
      "dtypes: float64(4), int64(6), object(2)\n",
      "memory usage: 937.6+ KB\n"
     ]
    }
   ],
   "source": [
    "#выведем основную информацию о датафрейме\n",
    "data.info()"
   ]
  },
  {
   "cell_type": "markdown",
   "metadata": {},
   "source": [
    "В таблице 11 колонок. **Согласно документации к данным:**\n",
    "\n",
    "*USERID* - идентификатор пользователя;  \n",
    "*score* - баллы кредитного скоринга;  \n",
    "*city* - город;  \n",
    "*gender* - пол;  \n",
    "*age* - возраст;  \n",
    "*equity* - количество балов собственности;  \n",
    "*balance* - баланс на счете;  \n",
    "*products* - количество продуктов банка, которыми пользуется клиент;  \n",
    "*credit_card* - есть ли кредитная карта;  \n",
    "*last_activity* - активный клиент;  \n",
    "*EST_SALARY* - оценочный доход клиента;  \n",
    "*churn* - признак оттока.  \n",
    "\n",
    "Количество значений в столбцах age и balance различается. Значит в данных есть пропущенные значения.  \n",
    "Названия колонок USERID и EST_SALARY требуется привести к нижнему регистру."
   ]
  },
  {
   "cell_type": "markdown",
   "metadata": {},
   "source": [
    "## Подготовка данных"
   ]
  },
  {
   "cell_type": "code",
   "execution_count": 5,
   "metadata": {},
   "outputs": [],
   "source": [
    "# Приведем названия столбцов к нижнему рекистру\n",
    "data.columns = data.columns.str.lower()"
   ]
  },
  {
   "cell_type": "code",
   "execution_count": 6,
   "metadata": {},
   "outputs": [
    {
     "name": "stdout",
     "output_type": "stream",
     "text": [
      "Количество явных дубликатов: 0\n"
     ]
    }
   ],
   "source": [
    "print('Количество явных дубликатов:', data.duplicated().sum())"
   ]
  },
  {
   "cell_type": "code",
   "execution_count": 7,
   "metadata": {},
   "outputs": [
    {
     "name": "stdout",
     "output_type": "stream",
     "text": [
      "Количество дубликатов по столбцу userid: 146\n"
     ]
    }
   ],
   "source": [
    "# дополнительно рассмотрим количесто дубликатов по столбцу userid\n",
    "print('Количество дубликатов по столбцу userid:', data.duplicated(['userid'], keep=False).sum())"
   ]
  },
  {
   "cell_type": "code",
   "execution_count": 8,
   "metadata": {},
   "outputs": [
    {
     "data": {
      "text/html": [
       "<div>\n",
       "<style scoped>\n",
       "    .dataframe tbody tr th:only-of-type {\n",
       "        vertical-align: middle;\n",
       "    }\n",
       "\n",
       "    .dataframe tbody tr th {\n",
       "        vertical-align: top;\n",
       "    }\n",
       "\n",
       "    .dataframe thead th {\n",
       "        text-align: right;\n",
       "    }\n",
       "</style>\n",
       "<table border=\"1\" class=\"dataframe\">\n",
       "  <thead>\n",
       "    <tr style=\"text-align: right;\">\n",
       "      <th></th>\n",
       "      <th>userid</th>\n",
       "      <th>score</th>\n",
       "      <th>city</th>\n",
       "      <th>gender</th>\n",
       "      <th>age</th>\n",
       "      <th>equity</th>\n",
       "      <th>balance</th>\n",
       "      <th>products</th>\n",
       "      <th>credit_card</th>\n",
       "      <th>last_activity</th>\n",
       "      <th>est_salary</th>\n",
       "      <th>churn</th>\n",
       "    </tr>\n",
       "  </thead>\n",
       "  <tbody>\n",
       "    <tr>\n",
       "      <th>1893</th>\n",
       "      <td>116540</td>\n",
       "      <td>883.0</td>\n",
       "      <td>Рыбинск</td>\n",
       "      <td>Ж</td>\n",
       "      <td>55.0</td>\n",
       "      <td>1</td>\n",
       "      <td>362756.49</td>\n",
       "      <td>3</td>\n",
       "      <td>0</td>\n",
       "      <td>1</td>\n",
       "      <td>175920.48</td>\n",
       "      <td>1</td>\n",
       "    </tr>\n",
       "    <tr>\n",
       "      <th>7694</th>\n",
       "      <td>116540</td>\n",
       "      <td>887.0</td>\n",
       "      <td>Ярославль</td>\n",
       "      <td>Ж</td>\n",
       "      <td>38.0</td>\n",
       "      <td>0</td>\n",
       "      <td>NaN</td>\n",
       "      <td>1</td>\n",
       "      <td>0</td>\n",
       "      <td>1</td>\n",
       "      <td>119247.61</td>\n",
       "      <td>0</td>\n",
       "    </tr>\n",
       "    <tr>\n",
       "      <th>7542</th>\n",
       "      <td>117943</td>\n",
       "      <td>880.0</td>\n",
       "      <td>Ярославль</td>\n",
       "      <td>Ж</td>\n",
       "      <td>40.0</td>\n",
       "      <td>0</td>\n",
       "      <td>NaN</td>\n",
       "      <td>1</td>\n",
       "      <td>1</td>\n",
       "      <td>0</td>\n",
       "      <td>137718.93</td>\n",
       "      <td>0</td>\n",
       "    </tr>\n",
       "    <tr>\n",
       "      <th>4866</th>\n",
       "      <td>117943</td>\n",
       "      <td>855.0</td>\n",
       "      <td>Рыбинск</td>\n",
       "      <td>Ж</td>\n",
       "      <td>32.0</td>\n",
       "      <td>6</td>\n",
       "      <td>1036832.93</td>\n",
       "      <td>4</td>\n",
       "      <td>1</td>\n",
       "      <td>1</td>\n",
       "      <td>107792.71</td>\n",
       "      <td>1</td>\n",
       "    </tr>\n",
       "    <tr>\n",
       "      <th>5896</th>\n",
       "      <td>120258</td>\n",
       "      <td>905.0</td>\n",
       "      <td>Ярославль</td>\n",
       "      <td>М</td>\n",
       "      <td>30.0</td>\n",
       "      <td>0</td>\n",
       "      <td>NaN</td>\n",
       "      <td>1</td>\n",
       "      <td>1</td>\n",
       "      <td>1</td>\n",
       "      <td>146427.96</td>\n",
       "      <td>0</td>\n",
       "    </tr>\n",
       "    <tr>\n",
       "      <th>5863</th>\n",
       "      <td>120258</td>\n",
       "      <td>908.0</td>\n",
       "      <td>Рыбинск</td>\n",
       "      <td>Ж</td>\n",
       "      <td>38.0</td>\n",
       "      <td>4</td>\n",
       "      <td>2213581.63</td>\n",
       "      <td>2</td>\n",
       "      <td>0</td>\n",
       "      <td>1</td>\n",
       "      <td>160327.77</td>\n",
       "      <td>1</td>\n",
       "    </tr>\n",
       "    <tr>\n",
       "      <th>1411</th>\n",
       "      <td>123461</td>\n",
       "      <td>829.0</td>\n",
       "      <td>Ярославль</td>\n",
       "      <td>Ж</td>\n",
       "      <td>59.0</td>\n",
       "      <td>0</td>\n",
       "      <td>96222.44</td>\n",
       "      <td>2</td>\n",
       "      <td>0</td>\n",
       "      <td>1</td>\n",
       "      <td>102771.55</td>\n",
       "      <td>1</td>\n",
       "    </tr>\n",
       "    <tr>\n",
       "      <th>8638</th>\n",
       "      <td>123461</td>\n",
       "      <td>934.0</td>\n",
       "      <td>Рыбинск</td>\n",
       "      <td>М</td>\n",
       "      <td>34.0</td>\n",
       "      <td>0</td>\n",
       "      <td>NaN</td>\n",
       "      <td>2</td>\n",
       "      <td>1</td>\n",
       "      <td>0</td>\n",
       "      <td>291619.27</td>\n",
       "      <td>0</td>\n",
       "    </tr>\n",
       "    <tr>\n",
       "      <th>8164</th>\n",
       "      <td>124450</td>\n",
       "      <td>859.0</td>\n",
       "      <td>Ярославль</td>\n",
       "      <td>Ж</td>\n",
       "      <td>38.0</td>\n",
       "      <td>6</td>\n",
       "      <td>516811.20</td>\n",
       "      <td>1</td>\n",
       "      <td>1</td>\n",
       "      <td>1</td>\n",
       "      <td>95144.63</td>\n",
       "      <td>1</td>\n",
       "    </tr>\n",
       "    <tr>\n",
       "      <th>9775</th>\n",
       "      <td>124450</td>\n",
       "      <td>758.0</td>\n",
       "      <td>Рыбинск</td>\n",
       "      <td>Ж</td>\n",
       "      <td>36.0</td>\n",
       "      <td>0</td>\n",
       "      <td>73574.07</td>\n",
       "      <td>2</td>\n",
       "      <td>0</td>\n",
       "      <td>1</td>\n",
       "      <td>79963.59</td>\n",
       "      <td>0</td>\n",
       "    </tr>\n",
       "  </tbody>\n",
       "</table>\n",
       "</div>"
      ],
      "text/plain": [
       "      userid  score       city gender   age  equity     balance  products  \\\n",
       "1893  116540  883.0    Рыбинск      Ж  55.0       1   362756.49         3   \n",
       "7694  116540  887.0  Ярославль      Ж  38.0       0         NaN         1   \n",
       "7542  117943  880.0  Ярославль      Ж  40.0       0         NaN         1   \n",
       "4866  117943  855.0    Рыбинск      Ж  32.0       6  1036832.93         4   \n",
       "5896  120258  905.0  Ярославль      М  30.0       0         NaN         1   \n",
       "5863  120258  908.0    Рыбинск      Ж  38.0       4  2213581.63         2   \n",
       "1411  123461  829.0  Ярославль      Ж  59.0       0    96222.44         2   \n",
       "8638  123461  934.0    Рыбинск      М  34.0       0         NaN         2   \n",
       "8164  124450  859.0  Ярославль      Ж  38.0       6   516811.20         1   \n",
       "9775  124450  758.0    Рыбинск      Ж  36.0       0    73574.07         2   \n",
       "\n",
       "      credit_card  last_activity  est_salary  churn  \n",
       "1893            0              1   175920.48      1  \n",
       "7694            0              1   119247.61      0  \n",
       "7542            1              0   137718.93      0  \n",
       "4866            1              1   107792.71      1  \n",
       "5896            1              1   146427.96      0  \n",
       "5863            0              1   160327.77      1  \n",
       "1411            0              1   102771.55      1  \n",
       "8638            1              0   291619.27      0  \n",
       "8164            1              1    95144.63      1  \n",
       "9775            0              1    79963.59      0  "
      ]
     },
     "execution_count": 8,
     "metadata": {},
     "output_type": "execute_result"
    }
   ],
   "source": [
    "# выведем дубликаты по столбцу userid\n",
    "data_double = data[data['userid'].isin(data[data.duplicated(['userid'])]['userid'])].sort_values(['userid'])\n",
    "data_double.head(10)"
   ]
  },
  {
   "cell_type": "code",
   "execution_count": 9,
   "metadata": {},
   "outputs": [
    {
     "data": {
      "text/plain": [
       "churn\n",
       "0    96\n",
       "1    50\n",
       "Name: churn, dtype: int64"
      ]
     },
     "execution_count": 9,
     "metadata": {},
     "output_type": "execute_result"
    }
   ],
   "source": [
    "# рассмотрим отточность и лояльность в таблице с дубликатами\n",
    "data_double.groupby('churn')['churn'].count()"
   ]
  },
  {
   "cell_type": "code",
   "execution_count": 10,
   "metadata": {},
   "outputs": [
    {
     "name": "stdout",
     "output_type": "stream",
     "text": [
      "Отточных клиентов в Рыбинске: 21\n",
      "Отточных клиентов в Ярославле: 29\n"
     ]
    }
   ],
   "source": [
    "print('Отточных клиентов в Рыбинске:', \n",
    "      data_double[(data_double['city'] == 'Рыбинск')&(data_double['churn'] == 1)]['churn'].count())\n",
    "print('Отточных клиентов в Ярославле:', \n",
    "      data_double[(data_double['city'] == 'Ярославль')&(data_double['churn'] == 1)]['churn'].count())"
   ]
  },
  {
   "cell_type": "code",
   "execution_count": 11,
   "metadata": {},
   "outputs": [
    {
     "data": {
      "text/plain": [
       "0"
      ]
     },
     "execution_count": 11,
     "metadata": {},
     "output_type": "execute_result"
    }
   ],
   "source": [
    "# проверим есть ли дубликаты пользователй из одного города\n",
    "data.duplicated(['userid','city']).sum()"
   ]
  },
  {
   "cell_type": "markdown",
   "metadata": {},
   "source": [
    "Полные дубликаты строк отсутствуют. Дубликаты в столбце userid встречаются только в городах: Ярославль и Рыбинск. Каких либо четких взаимосвязей не выявленно, скорее всего технический сбой при выгрузках из разных баз.  \n",
    "В том числе мы посмотрели по таблице с дубликатами отточных и лояльных клиентов, обе категории равны, но отточных клиентов по Ярославлю оказалось больше. "
   ]
  },
  {
   "cell_type": "code",
   "execution_count": 12,
   "metadata": {},
   "outputs": [
    {
     "name": "stdout",
     "output_type": "stream",
     "text": [
      "Количество пропусков:\n"
     ]
    },
    {
     "data": {
      "text/plain": [
       "userid              0\n",
       "score               0\n",
       "city                0\n",
       "gender              0\n",
       "age                26\n",
       "equity              0\n",
       "balance          2295\n",
       "products            0\n",
       "credit_card         0\n",
       "last_activity       0\n",
       "est_salary          0\n",
       "churn               0\n",
       "dtype: int64"
      ]
     },
     "execution_count": 12,
     "metadata": {},
     "output_type": "execute_result"
    }
   ],
   "source": [
    "# посчитаем количество пропусков\n",
    "print('Количество пропусков:')\n",
    "data.isna().sum()"
   ]
  },
  {
   "cell_type": "markdown",
   "metadata": {},
   "source": [
    "В датафрейме имеются пропуски в столбцах age (26 пропусков) и balance (2295 пропусков). Пропусков по столбцу age не много и их можно удалить. В столбце balance пропусков значительная часть, их нужно будет проанализировать. "
   ]
  },
  {
   "cell_type": "code",
   "execution_count": 13,
   "metadata": {},
   "outputs": [],
   "source": [
    "# удалим пропуски по столбцу age\n",
    "data = data.dropna(subset=['age'])"
   ]
  },
  {
   "cell_type": "code",
   "execution_count": 14,
   "metadata": {},
   "outputs": [
    {
     "data": {
      "text/html": [
       "<div>\n",
       "<style scoped>\n",
       "    .dataframe tbody tr th:only-of-type {\n",
       "        vertical-align: middle;\n",
       "    }\n",
       "\n",
       "    .dataframe tbody tr th {\n",
       "        vertical-align: top;\n",
       "    }\n",
       "\n",
       "    .dataframe thead th {\n",
       "        text-align: right;\n",
       "    }\n",
       "</style>\n",
       "<table border=\"1\" class=\"dataframe\">\n",
       "  <thead>\n",
       "    <tr style=\"text-align: right;\">\n",
       "      <th></th>\n",
       "      <th>userid</th>\n",
       "      <th>score</th>\n",
       "      <th>city</th>\n",
       "      <th>gender</th>\n",
       "      <th>age</th>\n",
       "      <th>equity</th>\n",
       "      <th>balance</th>\n",
       "      <th>products</th>\n",
       "      <th>credit_card</th>\n",
       "      <th>last_activity</th>\n",
       "      <th>est_salary</th>\n",
       "      <th>churn</th>\n",
       "    </tr>\n",
       "  </thead>\n",
       "  <tbody>\n",
       "    <tr>\n",
       "      <th>2</th>\n",
       "      <td>120722</td>\n",
       "      <td>892.0</td>\n",
       "      <td>Рыбинск</td>\n",
       "      <td>Ж</td>\n",
       "      <td>30.0</td>\n",
       "      <td>0</td>\n",
       "      <td>NaN</td>\n",
       "      <td>1</td>\n",
       "      <td>1</td>\n",
       "      <td>1</td>\n",
       "      <td>107683.34</td>\n",
       "      <td>0</td>\n",
       "    </tr>\n",
       "    <tr>\n",
       "      <th>9</th>\n",
       "      <td>133130</td>\n",
       "      <td>906.0</td>\n",
       "      <td>Ярославль</td>\n",
       "      <td>Ж</td>\n",
       "      <td>67.0</td>\n",
       "      <td>0</td>\n",
       "      <td>NaN</td>\n",
       "      <td>1</td>\n",
       "      <td>0</td>\n",
       "      <td>1</td>\n",
       "      <td>238055.53</td>\n",
       "      <td>0</td>\n",
       "    </tr>\n",
       "    <tr>\n",
       "      <th>10</th>\n",
       "      <td>148929</td>\n",
       "      <td>927.0</td>\n",
       "      <td>Ростов</td>\n",
       "      <td>М</td>\n",
       "      <td>52.0</td>\n",
       "      <td>0</td>\n",
       "      <td>NaN</td>\n",
       "      <td>1</td>\n",
       "      <td>1</td>\n",
       "      <td>1</td>\n",
       "      <td>196820.07</td>\n",
       "      <td>0</td>\n",
       "    </tr>\n",
       "    <tr>\n",
       "      <th>11</th>\n",
       "      <td>172184</td>\n",
       "      <td>921.0</td>\n",
       "      <td>Ростов</td>\n",
       "      <td>М</td>\n",
       "      <td>41.0</td>\n",
       "      <td>0</td>\n",
       "      <td>NaN</td>\n",
       "      <td>1</td>\n",
       "      <td>1</td>\n",
       "      <td>1</td>\n",
       "      <td>217469.48</td>\n",
       "      <td>0</td>\n",
       "    </tr>\n",
       "    <tr>\n",
       "      <th>19</th>\n",
       "      <td>127034</td>\n",
       "      <td>922.0</td>\n",
       "      <td>Рыбинск</td>\n",
       "      <td>Ж</td>\n",
       "      <td>53.0</td>\n",
       "      <td>0</td>\n",
       "      <td>NaN</td>\n",
       "      <td>1</td>\n",
       "      <td>0</td>\n",
       "      <td>0</td>\n",
       "      <td>147094.82</td>\n",
       "      <td>0</td>\n",
       "    </tr>\n",
       "    <tr>\n",
       "      <th>...</th>\n",
       "      <td>...</td>\n",
       "      <td>...</td>\n",
       "      <td>...</td>\n",
       "      <td>...</td>\n",
       "      <td>...</td>\n",
       "      <td>...</td>\n",
       "      <td>...</td>\n",
       "      <td>...</td>\n",
       "      <td>...</td>\n",
       "      <td>...</td>\n",
       "      <td>...</td>\n",
       "      <td>...</td>\n",
       "    </tr>\n",
       "    <tr>\n",
       "      <th>9976</th>\n",
       "      <td>208085</td>\n",
       "      <td>876.0</td>\n",
       "      <td>Ростов</td>\n",
       "      <td>М</td>\n",
       "      <td>38.0</td>\n",
       "      <td>0</td>\n",
       "      <td>NaN</td>\n",
       "      <td>1</td>\n",
       "      <td>0</td>\n",
       "      <td>0</td>\n",
       "      <td>171763.69</td>\n",
       "      <td>0</td>\n",
       "    </tr>\n",
       "    <tr>\n",
       "      <th>9984</th>\n",
       "      <td>125941</td>\n",
       "      <td>729.0</td>\n",
       "      <td>Ярославль</td>\n",
       "      <td>Ж</td>\n",
       "      <td>42.0</td>\n",
       "      <td>0</td>\n",
       "      <td>NaN</td>\n",
       "      <td>1</td>\n",
       "      <td>1</td>\n",
       "      <td>1</td>\n",
       "      <td>687538.70</td>\n",
       "      <td>0</td>\n",
       "    </tr>\n",
       "    <tr>\n",
       "      <th>9993</th>\n",
       "      <td>219924</td>\n",
       "      <td>884.0</td>\n",
       "      <td>Рыбинск</td>\n",
       "      <td>Ж</td>\n",
       "      <td>36.0</td>\n",
       "      <td>0</td>\n",
       "      <td>NaN</td>\n",
       "      <td>1</td>\n",
       "      <td>1</td>\n",
       "      <td>1</td>\n",
       "      <td>169844.88</td>\n",
       "      <td>0</td>\n",
       "    </tr>\n",
       "    <tr>\n",
       "      <th>9996</th>\n",
       "      <td>139170</td>\n",
       "      <td>894.0</td>\n",
       "      <td>Ярославль</td>\n",
       "      <td>М</td>\n",
       "      <td>46.0</td>\n",
       "      <td>0</td>\n",
       "      <td>NaN</td>\n",
       "      <td>1</td>\n",
       "      <td>1</td>\n",
       "      <td>0</td>\n",
       "      <td>196898.29</td>\n",
       "      <td>0</td>\n",
       "    </tr>\n",
       "    <tr>\n",
       "      <th>9997</th>\n",
       "      <td>115639</td>\n",
       "      <td>903.0</td>\n",
       "      <td>Ярославль</td>\n",
       "      <td>М</td>\n",
       "      <td>24.0</td>\n",
       "      <td>0</td>\n",
       "      <td>NaN</td>\n",
       "      <td>2</td>\n",
       "      <td>1</td>\n",
       "      <td>1</td>\n",
       "      <td>108905.09</td>\n",
       "      <td>0</td>\n",
       "    </tr>\n",
       "  </tbody>\n",
       "</table>\n",
       "<p>2279 rows × 12 columns</p>\n",
       "</div>"
      ],
      "text/plain": [
       "      userid  score       city gender   age  equity  balance  products  \\\n",
       "2     120722  892.0    Рыбинск      Ж  30.0       0      NaN         1   \n",
       "9     133130  906.0  Ярославль      Ж  67.0       0      NaN         1   \n",
       "10    148929  927.0     Ростов      М  52.0       0      NaN         1   \n",
       "11    172184  921.0     Ростов      М  41.0       0      NaN         1   \n",
       "19    127034  922.0    Рыбинск      Ж  53.0       0      NaN         1   \n",
       "...      ...    ...        ...    ...   ...     ...      ...       ...   \n",
       "9976  208085  876.0     Ростов      М  38.0       0      NaN         1   \n",
       "9984  125941  729.0  Ярославль      Ж  42.0       0      NaN         1   \n",
       "9993  219924  884.0    Рыбинск      Ж  36.0       0      NaN         1   \n",
       "9996  139170  894.0  Ярославль      М  46.0       0      NaN         1   \n",
       "9997  115639  903.0  Ярославль      М  24.0       0      NaN         2   \n",
       "\n",
       "      credit_card  last_activity  est_salary  churn  \n",
       "2               1              1   107683.34      0  \n",
       "9               0              1   238055.53      0  \n",
       "10              1              1   196820.07      0  \n",
       "11              1              1   217469.48      0  \n",
       "19              0              0   147094.82      0  \n",
       "...           ...            ...         ...    ...  \n",
       "9976            0              0   171763.69      0  \n",
       "9984            1              1   687538.70      0  \n",
       "9993            1              1   169844.88      0  \n",
       "9996            1              0   196898.29      0  \n",
       "9997            1              1   108905.09      0  \n",
       "\n",
       "[2279 rows x 12 columns]"
      ]
     },
     "execution_count": 14,
     "metadata": {},
     "output_type": "execute_result"
    }
   ],
   "source": [
    "balance_nan = data.query('balance.isna()')\n",
    "balance_nan"
   ]
  },
  {
   "cell_type": "code",
   "execution_count": 15,
   "metadata": {},
   "outputs": [
    {
     "data": {
      "text/html": [
       "<div>\n",
       "<style scoped>\n",
       "    .dataframe tbody tr th:only-of-type {\n",
       "        vertical-align: middle;\n",
       "    }\n",
       "\n",
       "    .dataframe tbody tr th {\n",
       "        vertical-align: top;\n",
       "    }\n",
       "\n",
       "    .dataframe thead th {\n",
       "        text-align: right;\n",
       "    }\n",
       "</style>\n",
       "<table border=\"1\" class=\"dataframe\">\n",
       "  <thead>\n",
       "    <tr style=\"text-align: right;\">\n",
       "      <th></th>\n",
       "      <th>churn</th>\n",
       "      <th>count</th>\n",
       "      <th>%</th>\n",
       "    </tr>\n",
       "  </thead>\n",
       "  <tbody>\n",
       "    <tr>\n",
       "      <th>0</th>\n",
       "      <td>0</td>\n",
       "      <td>2266</td>\n",
       "      <td>99.43</td>\n",
       "    </tr>\n",
       "    <tr>\n",
       "      <th>1</th>\n",
       "      <td>1</td>\n",
       "      <td>13</td>\n",
       "      <td>0.57</td>\n",
       "    </tr>\n",
       "  </tbody>\n",
       "</table>\n",
       "</div>"
      ],
      "text/plain": [
       "   churn  count      %\n",
       "0      0   2266  99.43\n",
       "1      1     13   0.57"
      ]
     },
     "execution_count": 15,
     "metadata": {},
     "output_type": "execute_result"
    }
   ],
   "source": [
    "# сгруппируем строки с пропущенными значениями по признаку отткока \n",
    "balance_nan_churn = balance_nan.pivot_table (index = 'churn', values = 'userid', aggfunc = ['count']).reset_index()\n",
    "balance_nan_churn.columns = ['churn', 'count']\n",
    "balance_nan_churn['%'] = round(balance_nan_churn['count']/balance_nan_churn['count'].sum()*100, 2)\n",
    "balance_nan_churn"
   ]
  },
  {
   "cell_type": "code",
   "execution_count": 16,
   "metadata": {},
   "outputs": [
    {
     "data": {
      "text/html": [
       "<div>\n",
       "<style scoped>\n",
       "    .dataframe tbody tr th:only-of-type {\n",
       "        vertical-align: middle;\n",
       "    }\n",
       "\n",
       "    .dataframe tbody tr th {\n",
       "        vertical-align: top;\n",
       "    }\n",
       "\n",
       "    .dataframe thead th {\n",
       "        text-align: right;\n",
       "    }\n",
       "</style>\n",
       "<table border=\"1\" class=\"dataframe\">\n",
       "  <thead>\n",
       "    <tr style=\"text-align: right;\">\n",
       "      <th></th>\n",
       "      <th>credit_card</th>\n",
       "      <th>count</th>\n",
       "      <th>%</th>\n",
       "    </tr>\n",
       "  </thead>\n",
       "  <tbody>\n",
       "    <tr>\n",
       "      <th>0</th>\n",
       "      <td>0</td>\n",
       "      <td>421</td>\n",
       "      <td>18.47</td>\n",
       "    </tr>\n",
       "    <tr>\n",
       "      <th>1</th>\n",
       "      <td>1</td>\n",
       "      <td>1858</td>\n",
       "      <td>81.53</td>\n",
       "    </tr>\n",
       "  </tbody>\n",
       "</table>\n",
       "</div>"
      ],
      "text/plain": [
       "   credit_card  count      %\n",
       "0            0    421  18.47\n",
       "1            1   1858  81.53"
      ]
     },
     "execution_count": 16,
     "metadata": {},
     "output_type": "execute_result"
    }
   ],
   "source": [
    "# проверим связано ли наличие пропусков наличием кредитных карт \n",
    "credit_card_churn = balance_nan.pivot_table (index = 'credit_card', values = 'churn', aggfunc = ['count']).reset_index()\n",
    "credit_card_churn.columns = ['credit_card', 'count']\n",
    "credit_card_churn['%'] = round(credit_card_churn['count']/credit_card_churn['count'].sum()*100, 2)\n",
    "credit_card_churn"
   ]
  },
  {
   "cell_type": "code",
   "execution_count": 17,
   "metadata": {},
   "outputs": [
    {
     "data": {
      "text/html": [
       "<div>\n",
       "<style scoped>\n",
       "    .dataframe tbody tr th:only-of-type {\n",
       "        vertical-align: middle;\n",
       "    }\n",
       "\n",
       "    .dataframe tbody tr th {\n",
       "        vertical-align: top;\n",
       "    }\n",
       "\n",
       "    .dataframe thead th {\n",
       "        text-align: right;\n",
       "    }\n",
       "</style>\n",
       "<table border=\"1\" class=\"dataframe\">\n",
       "  <thead>\n",
       "    <tr style=\"text-align: right;\">\n",
       "      <th></th>\n",
       "      <th>last_activity</th>\n",
       "      <th>count</th>\n",
       "      <th>%</th>\n",
       "    </tr>\n",
       "  </thead>\n",
       "  <tbody>\n",
       "    <tr>\n",
       "      <th>0</th>\n",
       "      <td>0</td>\n",
       "      <td>1028</td>\n",
       "      <td>45.11</td>\n",
       "    </tr>\n",
       "    <tr>\n",
       "      <th>1</th>\n",
       "      <td>1</td>\n",
       "      <td>1251</td>\n",
       "      <td>54.89</td>\n",
       "    </tr>\n",
       "  </tbody>\n",
       "</table>\n",
       "</div>"
      ],
      "text/plain": [
       "   last_activity  count      %\n",
       "0              0   1028  45.11\n",
       "1              1   1251  54.89"
      ]
     },
     "execution_count": 17,
     "metadata": {},
     "output_type": "execute_result"
    }
   ],
   "source": [
    "# посмотрим также как распределенны пропуски в зависимости от активности клиента\n",
    "last_activity_churn = balance_nan.pivot_table (index = 'last_activity', values = 'churn', aggfunc = ['count']).reset_index()\n",
    "last_activity_churn.columns = ['last_activity', 'count']\n",
    "last_activity_churn['%'] = round(last_activity_churn['count']/last_activity_churn['count'].sum()*100, 2)\n",
    "last_activity_churn"
   ]
  },
  {
   "cell_type": "markdown",
   "metadata": {},
   "source": [
    "Таким образом наличие пропусков в столбце balance не связано с признаком отточности клиента. Также нельзя сказать, что активность клиентов влияет на пропуски в этом столбце. Пропуски скорее связаны с клиентами взяшими кредиты или кредитные карты."
   ]
  },
  {
   "cell_type": "code",
   "execution_count": 18,
   "metadata": {},
   "outputs": [
    {
     "data": {
      "text/plain": [
       "1"
      ]
     },
     "execution_count": 18,
     "metadata": {},
     "output_type": "execute_result"
    }
   ],
   "source": [
    "# посмотрим количство записей с нулевым значением products\n",
    "data[data['products'] == 0]['userid'].count()"
   ]
  },
  {
   "cell_type": "code",
   "execution_count": 19,
   "metadata": {},
   "outputs": [],
   "source": [
    "# найдена одна запись, скорее всего это ошибка исключим ее из данных\n",
    "data = data.loc[data['products'] != 0]"
   ]
  },
  {
   "cell_type": "code",
   "execution_count": 20,
   "metadata": {},
   "outputs": [
    {
     "data": {
      "text/html": [
       "<div>\n",
       "<style scoped>\n",
       "    .dataframe tbody tr th:only-of-type {\n",
       "        vertical-align: middle;\n",
       "    }\n",
       "\n",
       "    .dataframe tbody tr th {\n",
       "        vertical-align: top;\n",
       "    }\n",
       "\n",
       "    .dataframe thead th {\n",
       "        text-align: right;\n",
       "    }\n",
       "</style>\n",
       "<table border=\"1\" class=\"dataframe\">\n",
       "  <thead>\n",
       "    <tr style=\"text-align: right;\">\n",
       "      <th></th>\n",
       "      <th>userid</th>\n",
       "      <th>score</th>\n",
       "      <th>age</th>\n",
       "      <th>equity</th>\n",
       "      <th>balance</th>\n",
       "      <th>products</th>\n",
       "      <th>credit_card</th>\n",
       "      <th>last_activity</th>\n",
       "      <th>est_salary</th>\n",
       "      <th>churn</th>\n",
       "    </tr>\n",
       "  </thead>\n",
       "  <tbody>\n",
       "    <tr>\n",
       "      <th>count</th>\n",
       "      <td>9973.00</td>\n",
       "      <td>9973.00</td>\n",
       "      <td>9973.00</td>\n",
       "      <td>9973.00</td>\n",
       "      <td>7695.00</td>\n",
       "      <td>9973.00</td>\n",
       "      <td>9973.00</td>\n",
       "      <td>9973.00</td>\n",
       "      <td>9973.00</td>\n",
       "      <td>9973.00</td>\n",
       "    </tr>\n",
       "    <tr>\n",
       "      <th>mean</th>\n",
       "      <td>171757.62</td>\n",
       "      <td>848.67</td>\n",
       "      <td>42.73</td>\n",
       "      <td>2.63</td>\n",
       "      <td>827245.59</td>\n",
       "      <td>1.87</td>\n",
       "      <td>0.68</td>\n",
       "      <td>0.52</td>\n",
       "      <td>147799.12</td>\n",
       "      <td>0.18</td>\n",
       "    </tr>\n",
       "    <tr>\n",
       "      <th>std</th>\n",
       "      <td>33696.37</td>\n",
       "      <td>65.39</td>\n",
       "      <td>12.18</td>\n",
       "      <td>1.98</td>\n",
       "      <td>1980327.41</td>\n",
       "      <td>0.79</td>\n",
       "      <td>0.47</td>\n",
       "      <td>0.50</td>\n",
       "      <td>139287.08</td>\n",
       "      <td>0.39</td>\n",
       "    </tr>\n",
       "    <tr>\n",
       "      <th>min</th>\n",
       "      <td>94561.00</td>\n",
       "      <td>642.00</td>\n",
       "      <td>18.00</td>\n",
       "      <td>0.00</td>\n",
       "      <td>0.00</td>\n",
       "      <td>1.00</td>\n",
       "      <td>0.00</td>\n",
       "      <td>0.00</td>\n",
       "      <td>2546.30</td>\n",
       "      <td>0.00</td>\n",
       "    </tr>\n",
       "    <tr>\n",
       "      <th>25%</th>\n",
       "      <td>142757.00</td>\n",
       "      <td>802.00</td>\n",
       "      <td>33.00</td>\n",
       "      <td>0.00</td>\n",
       "      <td>295698.71</td>\n",
       "      <td>1.00</td>\n",
       "      <td>0.00</td>\n",
       "      <td>0.00</td>\n",
       "      <td>75252.02</td>\n",
       "      <td>0.00</td>\n",
       "    </tr>\n",
       "    <tr>\n",
       "      <th>50%</th>\n",
       "      <td>172651.00</td>\n",
       "      <td>853.00</td>\n",
       "      <td>40.00</td>\n",
       "      <td>3.00</td>\n",
       "      <td>524295.33</td>\n",
       "      <td>2.00</td>\n",
       "      <td>1.00</td>\n",
       "      <td>1.00</td>\n",
       "      <td>119643.06</td>\n",
       "      <td>0.00</td>\n",
       "    </tr>\n",
       "    <tr>\n",
       "      <th>75%</th>\n",
       "      <td>201164.00</td>\n",
       "      <td>900.00</td>\n",
       "      <td>51.00</td>\n",
       "      <td>4.00</td>\n",
       "      <td>980051.21</td>\n",
       "      <td>2.00</td>\n",
       "      <td>1.00</td>\n",
       "      <td>1.00</td>\n",
       "      <td>174499.96</td>\n",
       "      <td>0.00</td>\n",
       "    </tr>\n",
       "    <tr>\n",
       "      <th>max</th>\n",
       "      <td>229145.00</td>\n",
       "      <td>1000.00</td>\n",
       "      <td>86.00</td>\n",
       "      <td>9.00</td>\n",
       "      <td>119113552.01</td>\n",
       "      <td>5.00</td>\n",
       "      <td>1.00</td>\n",
       "      <td>1.00</td>\n",
       "      <td>1395064.45</td>\n",
       "      <td>1.00</td>\n",
       "    </tr>\n",
       "  </tbody>\n",
       "</table>\n",
       "</div>"
      ],
      "text/plain": [
       "         userid   score     age  equity      balance  products  credit_card  \\\n",
       "count   9973.00 9973.00 9973.00 9973.00      7695.00   9973.00      9973.00   \n",
       "mean  171757.62  848.67   42.73    2.63    827245.59      1.87         0.68   \n",
       "std    33696.37   65.39   12.18    1.98   1980327.41      0.79         0.47   \n",
       "min    94561.00  642.00   18.00    0.00         0.00      1.00         0.00   \n",
       "25%   142757.00  802.00   33.00    0.00    295698.71      1.00         0.00   \n",
       "50%   172651.00  853.00   40.00    3.00    524295.33      2.00         1.00   \n",
       "75%   201164.00  900.00   51.00    4.00    980051.21      2.00         1.00   \n",
       "max   229145.00 1000.00   86.00    9.00 119113552.01      5.00         1.00   \n",
       "\n",
       "       last_activity  est_salary   churn  \n",
       "count        9973.00     9973.00 9973.00  \n",
       "mean            0.52   147799.12    0.18  \n",
       "std             0.50   139287.08    0.39  \n",
       "min             0.00     2546.30    0.00  \n",
       "25%             0.00    75252.02    0.00  \n",
       "50%             1.00   119643.06    0.00  \n",
       "75%             1.00   174499.96    0.00  \n",
       "max             1.00  1395064.45    1.00  "
      ]
     },
     "execution_count": 20,
     "metadata": {},
     "output_type": "execute_result"
    }
   ],
   "source": [
    "# рассмотри распределение данных\n",
    "pd.set_option('display.float_format', '{:.2f}'.format)\n",
    "data.describe()"
   ]
  },
  {
   "cell_type": "markdown",
   "metadata": {},
   "source": [
    "В целом данные нормально распределены."
   ]
  },
  {
   "cell_type": "code",
   "execution_count": 21,
   "metadata": {},
   "outputs": [
    {
     "data": {
      "text/html": [
       "<div>\n",
       "<style scoped>\n",
       "    .dataframe tbody tr th:only-of-type {\n",
       "        vertical-align: middle;\n",
       "    }\n",
       "\n",
       "    .dataframe tbody tr th {\n",
       "        vertical-align: top;\n",
       "    }\n",
       "\n",
       "    .dataframe thead th {\n",
       "        text-align: right;\n",
       "    }\n",
       "</style>\n",
       "<table border=\"1\" class=\"dataframe\">\n",
       "  <thead>\n",
       "    <tr style=\"text-align: right;\">\n",
       "      <th></th>\n",
       "      <th>userid</th>\n",
       "      <th>score</th>\n",
       "      <th>city</th>\n",
       "      <th>gender</th>\n",
       "      <th>age</th>\n",
       "      <th>equity</th>\n",
       "      <th>balance</th>\n",
       "      <th>products</th>\n",
       "      <th>credit_card</th>\n",
       "      <th>last_activity</th>\n",
       "      <th>est_salary</th>\n",
       "      <th>churn</th>\n",
       "      <th>female</th>\n",
       "      <th>male</th>\n",
       "      <th>Ростов</th>\n",
       "      <th>Рыбинск</th>\n",
       "      <th>Ярославль</th>\n",
       "    </tr>\n",
       "  </thead>\n",
       "  <tbody>\n",
       "    <tr>\n",
       "      <th>3611</th>\n",
       "      <td>120653</td>\n",
       "      <td>769.00</td>\n",
       "      <td>Ярославль</td>\n",
       "      <td>Ж</td>\n",
       "      <td>33.00</td>\n",
       "      <td>3</td>\n",
       "      <td>852812.94</td>\n",
       "      <td>2</td>\n",
       "      <td>0</td>\n",
       "      <td>0</td>\n",
       "      <td>136130.23</td>\n",
       "      <td>0</td>\n",
       "      <td>1</td>\n",
       "      <td>0</td>\n",
       "      <td>0</td>\n",
       "      <td>0</td>\n",
       "      <td>1</td>\n",
       "    </tr>\n",
       "    <tr>\n",
       "      <th>345</th>\n",
       "      <td>216874</td>\n",
       "      <td>885.00</td>\n",
       "      <td>Ростов</td>\n",
       "      <td>М</td>\n",
       "      <td>27.00</td>\n",
       "      <td>0</td>\n",
       "      <td>NaN</td>\n",
       "      <td>1</td>\n",
       "      <td>1</td>\n",
       "      <td>1</td>\n",
       "      <td>33806.01</td>\n",
       "      <td>0</td>\n",
       "      <td>0</td>\n",
       "      <td>1</td>\n",
       "      <td>1</td>\n",
       "      <td>0</td>\n",
       "      <td>0</td>\n",
       "    </tr>\n",
       "    <tr>\n",
       "      <th>7046</th>\n",
       "      <td>139950</td>\n",
       "      <td>811.00</td>\n",
       "      <td>Ростов</td>\n",
       "      <td>М</td>\n",
       "      <td>58.00</td>\n",
       "      <td>5</td>\n",
       "      <td>423518.43</td>\n",
       "      <td>2</td>\n",
       "      <td>1</td>\n",
       "      <td>1</td>\n",
       "      <td>74538.50</td>\n",
       "      <td>0</td>\n",
       "      <td>0</td>\n",
       "      <td>1</td>\n",
       "      <td>1</td>\n",
       "      <td>0</td>\n",
       "      <td>0</td>\n",
       "    </tr>\n",
       "    <tr>\n",
       "      <th>4875</th>\n",
       "      <td>134030</td>\n",
       "      <td>810.00</td>\n",
       "      <td>Ярославль</td>\n",
       "      <td>М</td>\n",
       "      <td>39.00</td>\n",
       "      <td>1</td>\n",
       "      <td>173617.37</td>\n",
       "      <td>4</td>\n",
       "      <td>0</td>\n",
       "      <td>0</td>\n",
       "      <td>162484.35</td>\n",
       "      <td>1</td>\n",
       "      <td>0</td>\n",
       "      <td>1</td>\n",
       "      <td>0</td>\n",
       "      <td>0</td>\n",
       "      <td>1</td>\n",
       "    </tr>\n",
       "    <tr>\n",
       "      <th>3007</th>\n",
       "      <td>140951</td>\n",
       "      <td>873.00</td>\n",
       "      <td>Рыбинск</td>\n",
       "      <td>М</td>\n",
       "      <td>31.00</td>\n",
       "      <td>2</td>\n",
       "      <td>805445.62</td>\n",
       "      <td>4</td>\n",
       "      <td>1</td>\n",
       "      <td>1</td>\n",
       "      <td>193062.46</td>\n",
       "      <td>1</td>\n",
       "      <td>0</td>\n",
       "      <td>1</td>\n",
       "      <td>0</td>\n",
       "      <td>1</td>\n",
       "      <td>0</td>\n",
       "    </tr>\n",
       "    <tr>\n",
       "      <th>4773</th>\n",
       "      <td>201707</td>\n",
       "      <td>905.00</td>\n",
       "      <td>Ярославль</td>\n",
       "      <td>Ж</td>\n",
       "      <td>75.00</td>\n",
       "      <td>5</td>\n",
       "      <td>665382.31</td>\n",
       "      <td>3</td>\n",
       "      <td>0</td>\n",
       "      <td>1</td>\n",
       "      <td>22227.84</td>\n",
       "      <td>0</td>\n",
       "      <td>1</td>\n",
       "      <td>0</td>\n",
       "      <td>0</td>\n",
       "      <td>0</td>\n",
       "      <td>1</td>\n",
       "    </tr>\n",
       "    <tr>\n",
       "      <th>905</th>\n",
       "      <td>125376</td>\n",
       "      <td>853.00</td>\n",
       "      <td>Ярославль</td>\n",
       "      <td>Ж</td>\n",
       "      <td>63.00</td>\n",
       "      <td>2</td>\n",
       "      <td>351088.73</td>\n",
       "      <td>1</td>\n",
       "      <td>1</td>\n",
       "      <td>0</td>\n",
       "      <td>53005.72</td>\n",
       "      <td>0</td>\n",
       "      <td>1</td>\n",
       "      <td>0</td>\n",
       "      <td>0</td>\n",
       "      <td>0</td>\n",
       "      <td>1</td>\n",
       "    </tr>\n",
       "    <tr>\n",
       "      <th>5366</th>\n",
       "      <td>127661</td>\n",
       "      <td>712.00</td>\n",
       "      <td>Ярославль</td>\n",
       "      <td>М</td>\n",
       "      <td>69.00</td>\n",
       "      <td>0</td>\n",
       "      <td>NaN</td>\n",
       "      <td>1</td>\n",
       "      <td>1</td>\n",
       "      <td>0</td>\n",
       "      <td>149795.32</td>\n",
       "      <td>0</td>\n",
       "      <td>0</td>\n",
       "      <td>1</td>\n",
       "      <td>0</td>\n",
       "      <td>0</td>\n",
       "      <td>1</td>\n",
       "    </tr>\n",
       "    <tr>\n",
       "      <th>6202</th>\n",
       "      <td>228050</td>\n",
       "      <td>826.00</td>\n",
       "      <td>Ярославль</td>\n",
       "      <td>Ж</td>\n",
       "      <td>44.00</td>\n",
       "      <td>2</td>\n",
       "      <td>1147362.07</td>\n",
       "      <td>1</td>\n",
       "      <td>1</td>\n",
       "      <td>0</td>\n",
       "      <td>179202.23</td>\n",
       "      <td>0</td>\n",
       "      <td>1</td>\n",
       "      <td>0</td>\n",
       "      <td>0</td>\n",
       "      <td>0</td>\n",
       "      <td>1</td>\n",
       "    </tr>\n",
       "    <tr>\n",
       "      <th>2926</th>\n",
       "      <td>157956</td>\n",
       "      <td>898.00</td>\n",
       "      <td>Ярославль</td>\n",
       "      <td>Ж</td>\n",
       "      <td>33.00</td>\n",
       "      <td>4</td>\n",
       "      <td>1004794.19</td>\n",
       "      <td>2</td>\n",
       "      <td>1</td>\n",
       "      <td>1</td>\n",
       "      <td>130216.69</td>\n",
       "      <td>1</td>\n",
       "      <td>1</td>\n",
       "      <td>0</td>\n",
       "      <td>0</td>\n",
       "      <td>0</td>\n",
       "      <td>1</td>\n",
       "    </tr>\n",
       "  </tbody>\n",
       "</table>\n",
       "</div>"
      ],
      "text/plain": [
       "      userid  score       city gender   age  equity    balance  products  \\\n",
       "3611  120653 769.00  Ярославль      Ж 33.00       3  852812.94         2   \n",
       "345   216874 885.00     Ростов      М 27.00       0        NaN         1   \n",
       "7046  139950 811.00     Ростов      М 58.00       5  423518.43         2   \n",
       "4875  134030 810.00  Ярославль      М 39.00       1  173617.37         4   \n",
       "3007  140951 873.00    Рыбинск      М 31.00       2  805445.62         4   \n",
       "4773  201707 905.00  Ярославль      Ж 75.00       5  665382.31         3   \n",
       "905   125376 853.00  Ярославль      Ж 63.00       2  351088.73         1   \n",
       "5366  127661 712.00  Ярославль      М 69.00       0        NaN         1   \n",
       "6202  228050 826.00  Ярославль      Ж 44.00       2 1147362.07         1   \n",
       "2926  157956 898.00  Ярославль      Ж 33.00       4 1004794.19         2   \n",
       "\n",
       "      credit_card  last_activity  est_salary  churn  female  male  Ростов  \\\n",
       "3611            0              0   136130.23      0       1     0       0   \n",
       "345             1              1    33806.01      0       0     1       1   \n",
       "7046            1              1    74538.50      0       0     1       1   \n",
       "4875            0              0   162484.35      1       0     1       0   \n",
       "3007            1              1   193062.46      1       0     1       0   \n",
       "4773            0              1    22227.84      0       1     0       0   \n",
       "905             1              0    53005.72      0       1     0       0   \n",
       "5366            1              0   149795.32      0       0     1       0   \n",
       "6202            1              0   179202.23      0       1     0       0   \n",
       "2926            1              1   130216.69      1       1     0       0   \n",
       "\n",
       "      Рыбинск  Ярославль  \n",
       "3611        0          1  \n",
       "345         0          0  \n",
       "7046        0          0  \n",
       "4875        0          1  \n",
       "3007        1          0  \n",
       "4773        0          1  \n",
       "905         0          1  \n",
       "5366        0          1  \n",
       "6202        0          1  \n",
       "2926        0          1  "
      ]
     },
     "metadata": {},
     "output_type": "display_data"
    }
   ],
   "source": [
    "# создадим копии столбцов 'city' и 'gender' и закодируем данные\n",
    "data['city_kod']=data['city']\n",
    "data['gender_kod']=data['gender']\n",
    "data = pd.get_dummies(data, columns=['gender_kod', 'city_kod'])\n",
    "data = data.rename(columns={'city_kod_Ростов':'Ростов', \n",
    "                            'city_kod_Рыбинск':'Рыбинск',\n",
    "                            'city_kod_Ярославль':'Ярославль',\n",
    "                            'gender_kod_Ж':'female', \n",
    "                            'gender_kod_М':'male'})\n",
    "display(data.sample(10))"
   ]
  },
  {
   "cell_type": "markdown",
   "metadata": {},
   "source": [
    "Полные дубликаты строк отсутствуют. Дубликаты в столбце userid встречаются только в городах: Ярославль и Рыбинск. Каких либо четких взаимосвязей не выявленно, скорее всего произошел технический сбой при выгрузках из разных баз.  \n",
    "В датафрейме имеются пропуски в столбцах age (26 пропусков) и balance (2295 пропусков). Пропусков по столбцу age не много было решено удалить. Наличие пропусков в столбце balance было решено оставить как есть. Пропуски в данном столбце не связаны с признаком отточности клиента. Также нельзя сказать, что активность клиентов влияет на пропуски. Это скорее связано с клиентами взяшими кредиты или кредитные карты. Была найдена и исключена запись с нулевым значением products, так как это больше похоже на аномалию.   \n",
    "Также мы закодировали столбцы 'city' и 'gender' для удобства дальнейшего анализа."
   ]
  },
  {
   "cell_type": "markdown",
   "metadata": {},
   "source": [
    "## Исследовательский анализ данных"
   ]
  },
  {
   "cell_type": "code",
   "execution_count": 22,
   "metadata": {},
   "outputs": [
    {
     "data": {
      "text/plain": [
       "0    8155\n",
       "1    1818\n",
       "Name: churn, dtype: int64"
      ]
     },
     "execution_count": 22,
     "metadata": {},
     "output_type": "execute_result"
    }
   ],
   "source": [
    "# Посмотрим на значения оттока и оставшихся клиентов\n",
    "data['churn'].value_counts()"
   ]
  },
  {
   "cell_type": "code",
   "execution_count": 23,
   "metadata": {},
   "outputs": [
    {
     "data": {
      "image/png": "[encoded data removed]",
      "text/plain": [
       "<Figure size 720x360 with 1 Axes>"
      ]
     },
     "metadata": {
      "needs_background": "light"
     },
     "output_type": "display_data"
    }
   ],
   "source": [
    "# рассмотрим взаимосвязь непрерывных значений с оттоком клиентов\n",
    "plt.figure(figsize=(10,5))\n",
    "sns.histplot(data[data['churn'] == 0], x='score', common_norm=False, color='orange', alpha = 0.5, stat=\"density\")\n",
    "sns.histplot(data[data['churn'] == 1], x='score', common_norm=False, color='red', alpha = 0.5, stat=\"density\")\n",
    "plt.grid()\n",
    "plt.legend(['Лояльный', 'Отточные'])\n",
    "plt.title('Распределение клиентов по признаку кредитного скоринга')\n",
    "plt.xlabel('Количество клиентов')\n",
    "plt.ylabel('Баллы кредитного скоринга')\n",
    "plt.show()"
   ]
  },
  {
   "cell_type": "code",
   "execution_count": 24,
   "metadata": {},
   "outputs": [
    {
     "data": {
      "image/png": "[encoded data removed]",
      "text/plain": [
       "<Figure size 720x360 with 1 Axes>"
      ]
     },
     "metadata": {
      "needs_background": "light"
     },
     "output_type": "display_data"
    }
   ],
   "source": [
    "plt.figure(figsize=(10,5))\n",
    "sns.histplot(data[data['churn'] == 0], x='est_salary', common_norm=False, color='orange', alpha = 0.5, stat=\"density\")\n",
    "sns.histplot(data[data['churn'] == 1], x='est_salary', common_norm=False, color='red', alpha = 0.5, stat=\"density\")\n",
    "plt.xlim(0,400000)\n",
    "plt.grid()\n",
    "plt.legend(['Лояльный', 'Отточные'])\n",
    "plt.title('Распределение клиентов по оценочному доходу')\n",
    "plt.show()"
   ]
  },
  {
   "cell_type": "code",
   "execution_count": 25,
   "metadata": {},
   "outputs": [
    {
     "data": {
      "image/png": "[encoded data removed]",
      "text/plain": [
       "<Figure size 720x360 with 1 Axes>"
      ]
     },
     "metadata": {
      "needs_background": "light"
     },
     "output_type": "display_data"
    }
   ],
   "source": [
    "plt.figure(figsize=(10,5))\n",
    "sns.histplot(data[data['churn'] == 0], x='balance', common_norm=False, color='orange', alpha = 0.5, stat=\"density\")\n",
    "sns.histplot(data[data['churn'] == 1], x='balance', common_norm=False, color='red', alpha = 0.5, stat=\"density\")\n",
    "plt.xlim(0,3000000)\n",
    "plt.grid()\n",
    "plt.legend(['Лояльный', 'Отточные'])\n",
    "plt.title('Распределение клиентов по балансу на счете')\n",
    "plt.show()"
   ]
  },
  {
   "cell_type": "code",
   "execution_count": 26,
   "metadata": {},
   "outputs": [
    {
     "data": {
      "image/png": "[encoded data removed]",
      "text/plain": [
       "<Figure size 720x360 with 1 Axes>"
      ]
     },
     "metadata": {
      "needs_background": "light"
     },
     "output_type": "display_data"
    }
   ],
   "source": [
    "plt.figure(figsize=(10,5))\n",
    "#bins=data.age.max()-data.age.min()+1\n",
    "sns.histplot(data[data['churn'] == 0], x='age', common_norm=False, color='orange', alpha = 0.5, bins=62, stat=\"density\")\n",
    "sns.histplot(data[data['churn'] == 1], x='age', common_norm=False, color='red', alpha = 0.5, bins=62, stat=\"density\")\n",
    "plt.xlim(18,80)\n",
    "plt.grid()\n",
    "plt.legend(['Лояльный', 'Отточные'])\n",
    "plt.title('Распределение клиентов по возрасту')\n",
    "plt.show()"
   ]
  },
  {
   "cell_type": "code",
   "execution_count": 27,
   "metadata": {},
   "outputs": [
    {
     "data": {
      "image/png": "[encoded data removed]",
      "text/plain": [
       "<Figure size 720x432 with 1 Axes>"
      ]
     },
     "metadata": {
      "needs_background": "light"
     },
     "output_type": "display_data"
    }
   ],
   "source": [
    "# построим гистограмму по признаку score\n",
    "plt.figure(figsize = (10,6))\n",
    "sns.histplot(data=data, x=\"score\", hue=\"churn\", stat=\"density\", bins=50, common_norm=False)\n",
    "plt.title('Гистограмма признака score', fontsize=16)\n",
    "plt.show()"
   ]
  },
  {
   "cell_type": "markdown",
   "metadata": {},
   "source": [
    "Из графиков выше можно сделать вывод, что для отточных клиентов более характеры показатели score 850-900, возрастные группы 30-40 лет и 50-60 лет, оценочный доход 70000-170000, баланс на счете 150000-650000."
   ]
  },
  {
   "cell_type": "code",
   "execution_count": 28,
   "metadata": {},
   "outputs": [
    {
     "data": {
      "image/png": "[encoded data removed]",
      "text/plain": [
       "<Figure size 864x288 with 1 Axes>"
      ]
     },
     "metadata": {
      "needs_background": "light"
     },
     "output_type": "display_data"
    },
    {
     "data": {
      "image/png": "[encoded data removed]",
      "text/plain": [
       "<Figure size 864x288 with 1 Axes>"
      ]
     },
     "metadata": {
      "needs_background": "light"
     },
     "output_type": "display_data"
    },
    {
     "data": {
      "image/png": "[encoded data removed]",
      "text/plain": [
       "<Figure size 864x288 with 1 Axes>"
      ]
     },
     "metadata": {
      "needs_background": "light"
     },
     "output_type": "display_data"
    },
    {
     "data": {
      "image/png": "[encoded data removed]",
      "text/plain": [
       "<Figure size 864x288 with 1 Axes>"
      ]
     },
     "metadata": {
      "needs_background": "light"
     },
     "output_type": "display_data"
    },
    {
     "data": {
      "image/png": "[encoded data removed]",
      "text/plain": [
       "<Figure size 864x288 with 1 Axes>"
      ]
     },
     "metadata": {
      "needs_background": "light"
     },
     "output_type": "display_data"
    },
    {
     "data": {
      "image/png": "[encoded data removed]",
      "text/plain": [
       "<Figure size 864x288 with 1 Axes>"
      ]
     },
     "metadata": {
      "needs_background": "light"
     },
     "output_type": "display_data"
    }
   ],
   "source": [
    "# рассмотрим взаимосвязь дискретных значений с оттоком клиентов\n",
    "churn_mean=data['churn'].mean()\n",
    "\n",
    "for column in ['city','gender', 'equity', 'products', 'credit_card', 'last_activity']:\n",
    "    fig = plt.figure(figsize=(12,4))\n",
    "    sns.barplot(data=data, x=column, y='churn', ci= None, );\n",
    "    plt.axhline(y=churn_mean, linestyle='--', label='Средняя доля отточных пользователей')\n",
    "    plt.legend()\n",
    "    plt.title(f'Распределение клиентов по признаку {column}')\n",
    "    plt.show()"
   ]
  },
  {
   "cell_type": "markdown",
   "metadata": {},
   "source": [
    "Из графиков представленных выше видно, что город не сильно влияет на показатель оттока клиентов. Мужчин среди отточных пользователей больше, также для подобных клиентов характерно наличие более 3 баллов собственности, использование более 3 банковских продуктов, они не имеют кредитных карт и являются активными пользователями."
   ]
  },
  {
   "cell_type": "code",
   "execution_count": 29,
   "metadata": {},
   "outputs": [
    {
     "data": {
      "image/png": "[encoded data removed]",
      "text/plain": [
       "<Figure size 720x720 with 2 Axes>"
      ]
     },
     "metadata": {
      "needs_background": "light"
     },
     "output_type": "display_data"
    }
   ],
   "source": [
    "#построим тепловую карту  и посмотрим корреляцию \n",
    "correlation = data.drop('userid', axis=1).corr()\n",
    "plt.figure(figsize=(10,10))\n",
    "sns.heatmap(correlation, annot=True, cmap='coolwarm', center=0, fmt=\".2f\")\n",
    "plt.title(f'Корреляция признаков')\n",
    "plt.show()"
   ]
  },
  {
   "cell_type": "markdown",
   "metadata": {},
   "source": [
    "Корреляцию оттока с характеристиками equity, products можно оценить как умеренная, с остальными признаками корреляция слабая."
   ]
  },
  {
   "cell_type": "code",
   "execution_count": 30,
   "metadata": {},
   "outputs": [
    {
     "data": {
      "text/html": [
       "<div>\n",
       "<style scoped>\n",
       "    .dataframe tbody tr th:only-of-type {\n",
       "        vertical-align: middle;\n",
       "    }\n",
       "\n",
       "    .dataframe tbody tr th {\n",
       "        vertical-align: top;\n",
       "    }\n",
       "\n",
       "    .dataframe thead th {\n",
       "        text-align: right;\n",
       "    }\n",
       "</style>\n",
       "<table border=\"1\" class=\"dataframe\">\n",
       "  <thead>\n",
       "    <tr style=\"text-align: right;\">\n",
       "      <th></th>\n",
       "      <th>score</th>\n",
       "      <th>age</th>\n",
       "      <th>balance</th>\n",
       "      <th>est_salary</th>\n",
       "      <th>equity</th>\n",
       "      <th>products</th>\n",
       "      <th>credit_card</th>\n",
       "      <th>last_activity</th>\n",
       "      <th>female</th>\n",
       "      <th>male</th>\n",
       "      <th>Ростов</th>\n",
       "      <th>Рыбинск</th>\n",
       "      <th>Ярославль</th>\n",
       "    </tr>\n",
       "    <tr>\n",
       "      <th>churn</th>\n",
       "      <th></th>\n",
       "      <th></th>\n",
       "      <th></th>\n",
       "      <th></th>\n",
       "      <th></th>\n",
       "      <th></th>\n",
       "      <th></th>\n",
       "      <th></th>\n",
       "      <th></th>\n",
       "      <th></th>\n",
       "      <th></th>\n",
       "      <th></th>\n",
       "      <th></th>\n",
       "    </tr>\n",
       "  </thead>\n",
       "  <tbody>\n",
       "    <tr>\n",
       "      <th>0</th>\n",
       "      <td>845.40</td>\n",
       "      <td>40.00</td>\n",
       "      <td>733031.63</td>\n",
       "      <td>147674.64</td>\n",
       "      <td>3</td>\n",
       "      <td>2</td>\n",
       "      <td>1</td>\n",
       "      <td>0</td>\n",
       "      <td>0.53</td>\n",
       "      <td>0.47</td>\n",
       "      <td>0.14</td>\n",
       "      <td>0.28</td>\n",
       "      <td>0.58</td>\n",
       "    </tr>\n",
       "    <tr>\n",
       "      <th>1</th>\n",
       "      <td>863.36</td>\n",
       "      <td>39.00</td>\n",
       "      <td>1134458.21</td>\n",
       "      <td>148357.48</td>\n",
       "      <td>4</td>\n",
       "      <td>2</td>\n",
       "      <td>1</td>\n",
       "      <td>1</td>\n",
       "      <td>0.35</td>\n",
       "      <td>0.65</td>\n",
       "      <td>0.15</td>\n",
       "      <td>0.24</td>\n",
       "      <td>0.61</td>\n",
       "    </tr>\n",
       "  </tbody>\n",
       "</table>\n",
       "</div>"
      ],
      "text/plain": [
       "       score   age    balance  est_salary  equity  products  credit_card  \\\n",
       "churn                                                                      \n",
       "0     845.40 40.00  733031.63   147674.64       3         2            1   \n",
       "1     863.36 39.00 1134458.21   148357.48       4         2            1   \n",
       "\n",
       "       last_activity  female  male  Ростов  Рыбинск  Ярославль  \n",
       "churn                                                           \n",
       "0                  0    0.53  0.47    0.14     0.28       0.58  \n",
       "1                  1    0.35  0.65    0.15     0.24       0.61  "
      ]
     },
     "execution_count": 30,
     "metadata": {},
     "output_type": "execute_result"
    }
   ],
   "source": [
    "# составим портрет отточного и лояльного клиента\n",
    "tab_churn = data.groupby('churn').agg({'score': 'mean',\n",
    "                                      'age': 'median',\n",
    "                                      'balance': 'mean',\n",
    "                                      'est_salary': 'mean',\n",
    "                                      'equity': 'median',\n",
    "                                      'products': 'median',\n",
    "                                      'credit_card': 'median',\n",
    "                                      'last_activity': 'median',\n",
    "                                      'female': 'mean',\n",
    "                                       'male': 'mean',\n",
    "                                       'Ростов': 'mean',\n",
    "                                       'Рыбинск': 'mean',\n",
    "                                       'Ярославль': 'mean'})\n",
    "tab_churn"
   ]
  },
  {
   "cell_type": "code",
   "execution_count": 31,
   "metadata": {},
   "outputs": [
    {
     "data": {
      "text/html": [
       "<div>\n",
       "<style scoped>\n",
       "    .dataframe tbody tr th:only-of-type {\n",
       "        vertical-align: middle;\n",
       "    }\n",
       "\n",
       "    .dataframe tbody tr th {\n",
       "        vertical-align: top;\n",
       "    }\n",
       "\n",
       "    .dataframe thead th {\n",
       "        text-align: right;\n",
       "    }\n",
       "</style>\n",
       "<table border=\"1\" class=\"dataframe\">\n",
       "  <thead>\n",
       "    <tr style=\"text-align: right;\">\n",
       "      <th></th>\n",
       "      <th>Лоятьные</th>\n",
       "      <th>Отточные</th>\n",
       "      <th>Разница %</th>\n",
       "    </tr>\n",
       "  </thead>\n",
       "  <tbody>\n",
       "    <tr>\n",
       "      <th>score</th>\n",
       "      <td>845.40</td>\n",
       "      <td>863.36</td>\n",
       "      <td>2.13</td>\n",
       "    </tr>\n",
       "    <tr>\n",
       "      <th>age</th>\n",
       "      <td>40.00</td>\n",
       "      <td>39.00</td>\n",
       "      <td>-2.50</td>\n",
       "    </tr>\n",
       "    <tr>\n",
       "      <th>balance</th>\n",
       "      <td>733031.63</td>\n",
       "      <td>1134458.21</td>\n",
       "      <td>54.76</td>\n",
       "    </tr>\n",
       "    <tr>\n",
       "      <th>est_salary</th>\n",
       "      <td>147674.64</td>\n",
       "      <td>148357.48</td>\n",
       "      <td>0.46</td>\n",
       "    </tr>\n",
       "    <tr>\n",
       "      <th>equity</th>\n",
       "      <td>3.00</td>\n",
       "      <td>4.00</td>\n",
       "      <td>33.33</td>\n",
       "    </tr>\n",
       "    <tr>\n",
       "      <th>products</th>\n",
       "      <td>2.00</td>\n",
       "      <td>2.00</td>\n",
       "      <td>0.00</td>\n",
       "    </tr>\n",
       "    <tr>\n",
       "      <th>credit_card</th>\n",
       "      <td>1.00</td>\n",
       "      <td>1.00</td>\n",
       "      <td>0.00</td>\n",
       "    </tr>\n",
       "    <tr>\n",
       "      <th>last_activity</th>\n",
       "      <td>0.00</td>\n",
       "      <td>1.00</td>\n",
       "      <td>inf</td>\n",
       "    </tr>\n",
       "    <tr>\n",
       "      <th>female</th>\n",
       "      <td>0.53</td>\n",
       "      <td>0.35</td>\n",
       "      <td>-34.47</td>\n",
       "    </tr>\n",
       "    <tr>\n",
       "      <th>male</th>\n",
       "      <td>0.47</td>\n",
       "      <td>0.65</td>\n",
       "      <td>39.35</td>\n",
       "    </tr>\n",
       "    <tr>\n",
       "      <th>Ростов</th>\n",
       "      <td>0.14</td>\n",
       "      <td>0.15</td>\n",
       "      <td>3.28</td>\n",
       "    </tr>\n",
       "    <tr>\n",
       "      <th>Рыбинск</th>\n",
       "      <td>0.28</td>\n",
       "      <td>0.24</td>\n",
       "      <td>-12.92</td>\n",
       "    </tr>\n",
       "    <tr>\n",
       "      <th>Ярославль</th>\n",
       "      <td>0.58</td>\n",
       "      <td>0.61</td>\n",
       "      <td>5.31</td>\n",
       "    </tr>\n",
       "  </tbody>\n",
       "</table>\n",
       "</div>"
      ],
      "text/plain": [
       "               Лоятьные   Отточные  Разница %\n",
       "score            845.40     863.36       2.13\n",
       "age               40.00      39.00      -2.50\n",
       "balance       733031.63 1134458.21      54.76\n",
       "est_salary    147674.64  148357.48       0.46\n",
       "equity             3.00       4.00      33.33\n",
       "products           2.00       2.00       0.00\n",
       "credit_card        1.00       1.00       0.00\n",
       "last_activity      0.00       1.00        inf\n",
       "female             0.53       0.35     -34.47\n",
       "male               0.47       0.65      39.35\n",
       "Ростов             0.14       0.15       3.28\n",
       "Рыбинск            0.28       0.24     -12.92\n",
       "Ярославль          0.58       0.61       5.31"
      ]
     },
     "execution_count": 31,
     "metadata": {},
     "output_type": "execute_result"
    }
   ],
   "source": [
    "pd.concat({\n",
    "    'Лоятьные': tab_churn.loc[0],\n",
    "    'Отточные': tab_churn.loc[1],\n",
    "    'Разница %': (tab_churn.loc[1]/tab_churn.loc[0]-1)*100}, axis=1)"
   ]
  },
  {
   "cell_type": "markdown",
   "metadata": {},
   "source": [
    "Портрет отточного клиента: Зарплата 148357 руб., возраст 39 год, баланс 1134458 руб., пользуется 2 продуктами банка, количество баллов собственности: 4.\n",
    "\n",
    "Портрет неотточного клиента: Зарплата 147674 руб., возраст 40 года, баланс 733031 руб., пользуется 2 продуктами банка, количество баллов собственности: 3."
   ]
  },
  {
   "cell_type": "markdown",
   "metadata": {},
   "source": [
    "## Праверка статистических гипотез"
   ]
  },
  {
   "cell_type": "markdown",
   "metadata": {},
   "source": [
    "Нулевая гипотеза: доходы лояльных и отточных клиентов равны.  \n",
    "Альтернитивная гипотеза: доходы лояльных и отточных клиентов не равны."
   ]
  },
  {
   "cell_type": "code",
   "execution_count": 32,
   "metadata": {},
   "outputs": [
    {
     "name": "stdout",
     "output_type": "stream",
     "text": [
      "p-значение:  0.0\n",
      "Распределение не нормально\n"
     ]
    }
   ],
   "source": [
    "# проведём тест на соотвествие данных о доходах лояльных клиентов нормальному распределеню\n",
    "churn_0 = data[data['churn'] == 0]['est_salary']\n",
    "\n",
    "alpha = 0.05  # критический уровень статистической значимости\n",
    "\n",
    "shapiro_test_stat, p_value = st.shapiro(churn_0)\n",
    "\n",
    "print('p-значение: ', p_value)\n",
    "if p_value < alpha:\n",
    "    print('Распределение не нормально')\n",
    "else:\n",
    "    print('Нормальное распределение')  "
   ]
  },
  {
   "cell_type": "code",
   "execution_count": 33,
   "metadata": {},
   "outputs": [
    {
     "name": "stdout",
     "output_type": "stream",
     "text": [
      "p-значение:  0.0\n",
      "Распределение не нормально\n"
     ]
    }
   ],
   "source": [
    "# проведём тест на соотвествие данных о доходах отточных клиентов нормальному распределеню\n",
    "churn_1 = data[data['churn'] == 1]['est_salary']\n",
    "\n",
    "alpha = 0.05  # критический уровень статистической значимости\n",
    "\n",
    "shapiro_test_stat, p_value = st.shapiro(churn_1)\n",
    "\n",
    "print('p-значение: ', p_value)\n",
    "if p_value < alpha:\n",
    "    print('Распределение не нормально')\n",
    "else:\n",
    "    print('Нормальное распределение')  "
   ]
  },
  {
   "cell_type": "code",
   "execution_count": 34,
   "metadata": {},
   "outputs": [
    {
     "name": "stdout",
     "output_type": "stream",
     "text": [
      "20358839437.943962\n",
      "15112272166.883385\n"
     ]
    }
   ],
   "source": [
    "# оценим дисперсии\n",
    "print(data[data['churn'] == 0]['est_salary'].var())\n",
    "print(data[data['churn'] == 1]['est_salary'].var())"
   ]
  },
  {
   "cell_type": "markdown",
   "metadata": {},
   "source": [
    "Распределение значений не является нормальным, дисперсии не равны, поэтому вместо t-теста Стьюдента используются аналогичные методы непараметрический тест Манна — Уитни."
   ]
  },
  {
   "cell_type": "code",
   "execution_count": 35,
   "metadata": {},
   "outputs": [
    {
     "name": "stdout",
     "output_type": "stream",
     "text": [
      "p-значение:  0.00016830729188229058\n",
      "Отвергаем нулевую гипотезу\n"
     ]
    }
   ],
   "source": [
    "# проведем u-test\n",
    "\n",
    "alpha = 0.05  \n",
    "\n",
    "results = st.mannwhitneyu(churn_1, churn_0)\n",
    "\n",
    "print('p-значение: ', results.pvalue)\n",
    "\n",
    "if results.pvalue < alpha:\n",
    "    print('Отвергаем нулевую гипотезу')\n",
    "else:\n",
    "    print('Не получилось отвергнуть нулевую гипотезу') "
   ]
  },
  {
   "cell_type": "markdown",
   "metadata": {},
   "source": [
    "Таким образом, отвергаем нулевую гипотезу, доходы оставшихся и отточных клиентов не равны."
   ]
  },
  {
   "cell_type": "markdown",
   "metadata": {},
   "source": [
    "Нулевая гипотеза: возраст отточного клиента больше возраста неотточного клиента  \n",
    "Альтернативная гипотеза: возраст отточного клиента меньше возраста неотточного клиента"
   ]
  },
  {
   "cell_type": "code",
   "execution_count": 36,
   "metadata": {},
   "outputs": [
    {
     "name": "stdout",
     "output_type": "stream",
     "text": [
      "p-значение:  2.1159606811304738e-43\n",
      "Распределение не нормально\n"
     ]
    }
   ],
   "source": [
    "# проведём тест на соотвествие данных о возрасте лояльных клиентов нормальному распределеню\n",
    "churn_0 = data[data['churn'] == 0]['age']\n",
    "\n",
    "alpha = 0.05  # критический уровень статистической значимости\n",
    "\n",
    "shapiro_test_stat, p_value = st.shapiro(churn_0)\n",
    "\n",
    "print('p-значение: ', p_value)\n",
    "if p_value < alpha:\n",
    "    print('Распределение не нормально')\n",
    "else:\n",
    "    print('Нормальное распределение')  "
   ]
  },
  {
   "cell_type": "code",
   "execution_count": 37,
   "metadata": {},
   "outputs": [
    {
     "name": "stdout",
     "output_type": "stream",
     "text": [
      "p-значение:  6.457381867311257e-24\n",
      "Распределение не нормально\n"
     ]
    }
   ],
   "source": [
    "# проведём тест на соотвествие данных о возрасте отточных клиентов нормальному распределеню\n",
    "churn_1 = data[data['churn'] == 1]['age']\n",
    "\n",
    "alpha = 0.05  # критический уровень статистической значимости\n",
    "\n",
    "shapiro_test_stat, p_value = st.shapiro(churn_1)\n",
    "\n",
    "print('p-значение: ', p_value)\n",
    "if p_value < alpha:\n",
    "    print('Распределение не нормально')\n",
    "else:\n",
    "    print('Нормальное распределение') "
   ]
  },
  {
   "cell_type": "code",
   "execution_count": 38,
   "metadata": {},
   "outputs": [
    {
     "name": "stdout",
     "output_type": "stream",
     "text": [
      "153.14575130756242\n",
      "124.20555195310395\n"
     ]
    }
   ],
   "source": [
    "# оценим дисперсии\n",
    "print(data[data['churn'] == 0]['age'].var())\n",
    "print(data[data['churn'] == 1]['age'].var())"
   ]
  },
  {
   "cell_type": "markdown",
   "metadata": {},
   "source": [
    "Аналогично распределение значений не является нормальным, дисперсии не равны, поэтому вместо t-теста Стьюдента используются аналогичные методы непараметрический тест Манна — Уитни."
   ]
  },
  {
   "cell_type": "code",
   "execution_count": 39,
   "metadata": {},
   "outputs": [
    {
     "name": "stdout",
     "output_type": "stream",
     "text": [
      "p-значение:  0.9999980941264217\n",
      "Не получилось отвергнуть нулевую гипотезу\n"
     ]
    }
   ],
   "source": [
    "# проведем u-test\n",
    "\n",
    "alpha = 0.05  \n",
    "\n",
    "results = st.mannwhitneyu(churn_1, churn_0, alternative='greater')\n",
    "\n",
    "print('p-значение: ', results.pvalue)\n",
    "\n",
    "if results.pvalue < alpha:\n",
    "    print('Отвергаем нулевую гипотезу')\n",
    "else:\n",
    "    print('Не получилось отвергнуть нулевую гипотезу') "
   ]
  },
  {
   "cell_type": "markdown",
   "metadata": {},
   "source": [
    "Таким обраразом, не полчилось отвергнуть нулевую гипотезу, возраст отточного клиента больше возраста неотточного клиента"
   ]
  },
  {
   "cell_type": "markdown",
   "metadata": {},
   "source": []
  },
  {
   "cell_type": "markdown",
   "metadata": {},
   "source": [
    "## Подведение промежуточных итогов"
   ]
  },
  {
   "cell_type": "markdown",
   "metadata": {},
   "source": [
    "Для отточных клиентов более характеры показатели score 850-900, возрастные группы 30-40 лет и 50-60 лет, оценочный доход 70000-170000, баланс по счету 150000-650000. Город не сильно влияет на показатель оттока клиентов. Мужчин среди отточных пользователей больше, также для подобных клиентов характерно наличие более 3 баллов собственности, использование более 3 банковских продуктов, они не имеют кредитных карт и являются активными пользователями.  \n",
    "\n",
    "Корреляцию оттока с характеристиками equity, products можно оценить как умеренная, с остальными признаками корреляция слабая.  \n",
    "\n",
    "Портрет отточного клиента: Зарплата 148357 руб., возраст 41 год, баланс 1134458 руб., пользуется 2 продуктами банка, количество баллов собственности: 4.\n",
    "\n",
    "Портрет неотточного клиента: Зарплата 147674 руб., возраст 43 года, баланс 733031 руб., пользуется 2 продуктами банка, количество баллов собственности: 3.  \n",
    "\n",
    "В результате проверки гипотезы принято, что доходы оставшихся и отточных клиентов не равны, также возраст отточного клиента больше возраста неотточного клиента"
   ]
  },
  {
   "cell_type": "markdown",
   "metadata": {},
   "source": [
    "## Сегментация на основе выделенных признаков"
   ]
  },
  {
   "cell_type": "markdown",
   "metadata": {},
   "source": [
    "В результате проведенного анализа мы выделили наиболее характерные показатели отточных клиентов. Данные характеристики мы будем использвать для сигментации пользвателей."
   ]
  },
  {
   "cell_type": "markdown",
   "metadata": {},
   "source": [
    "Сегмент №1  \n",
    "Пол: мужской  \n",
    "Возраст: 30-40 лет  \n",
    "Баланс: 150000-650000"
   ]
  },
  {
   "cell_type": "code",
   "execution_count": 40,
   "metadata": {},
   "outputs": [
    {
     "name": "stdout",
     "output_type": "stream",
     "text": [
      "Общее число пользователей в сегменте №1: 780\n",
      "Число отточных пользователей в сегменте №1: 161\n",
      "Доля отточных пользователей в сегменте №1: 20.64102564102564\n"
     ]
    }
   ],
   "source": [
    "# Рассчитаем общее число пользователей в этом сегменте:\n",
    "print ('Общее число пользователей в сегменте №1:', \n",
    "       data.query ('male==1 and 30<=age<=40 and 150000<balance<650000')['userid'].count())\n",
    "\n",
    "\n",
    "# Рассчитаем число отточных пользователей в этом сегменте:\n",
    "print ('Число отточных пользователей в сегменте №1:', \n",
    "       data.query ('male==1 and 30<=age<=40 and 150000<balance<650000 and churn==1')['userid'].count())\n",
    "\n",
    "#  Рассчитаем долю отточных пользователей:\n",
    "print ('Доля отточных пользователей в сегменте №1:', data.query (\n",
    "    'male==1 and 30<=age<=40 and 150000<balance<650000  and churn==1')['userid'].count() / data.query (\n",
    "    'male==1 and 30<=age<=40 and 150000<balance<650000')['userid'].count()*100)"
   ]
  },
  {
   "cell_type": "markdown",
   "metadata": {},
   "source": [
    "Сегмент №2  \n",
    "Пол: мужской  \n",
    "Возраст: 50-60 лет  \n",
    "Количество баллов собственности: 3 и выше  "
   ]
  },
  {
   "cell_type": "code",
   "execution_count": 41,
   "metadata": {},
   "outputs": [
    {
     "name": "stdout",
     "output_type": "stream",
     "text": [
      "Общее число пользователей в сегменте №2: 470\n",
      "Число отточных пользователей в сегменте №2: 219\n",
      "Доля отточных пользователей в сегменте №2: 46.59574468085106\n"
     ]
    }
   ],
   "source": [
    "# Рассчитаем общее число пользователей в этом сегменте:\n",
    "print ('Общее число пользователей в сегменте №2:', \n",
    "       data.query ('male==1 and 50<=age<=60 and equity>=3')['userid'].count())\n",
    "\n",
    "\n",
    "# Рассчитаем число отточных пользователей в этом сегменте:\n",
    "print ('Число отточных пользователей в сегменте №2:', \n",
    "       data.query ('male==1 and 50<=age<=60 and equity>=3 and churn==1')['userid'].count())\n",
    "\n",
    "#  Рассчитаем долю отточных пользователей:\n",
    "print ('Доля отточных пользователей в сегменте №2:', data.query (\n",
    "    'male==1 and 50<=age<=60 and equity>=3  and churn==1')['userid'].count() / data.query (\n",
    "    'male==1 and 50<=age<=60 and equity>=3')['userid'].count()*100)"
   ]
  },
  {
   "cell_type": "raw",
   "metadata": {},
   "source": [
    "Сегмент №3  \n",
    "Активный клиент  \n",
    "Количество баллов собственности: 3 и выше  \n",
    "Количество используемых продуктов: 3 и больше  "
   ]
  },
  {
   "cell_type": "code",
   "execution_count": 42,
   "metadata": {},
   "outputs": [
    {
     "name": "stdout",
     "output_type": "stream",
     "text": [
      "Общее число пользователей в сегменте №3: 676\n",
      "Число отточных пользователей в сегменте №3: 343\n",
      "Доля отточных пользователей в сегменте №3: 50.7396449704142\n"
     ]
    }
   ],
   "source": [
    "# Рассчитаем общее число пользователей в этом сегменте:\n",
    "print ('Общее число пользователей в сегменте №3:', \n",
    "       data.query ('last_activity==1 and products>=3 and equity>=3')['userid'].count())\n",
    "\n",
    "\n",
    "# Рассчитаем число отточных пользователей в этом сегменте:\n",
    "print ('Число отточных пользователей в сегменте №3:', \n",
    "       data.query ('last_activity==1 and products>=3 and equity>=3 and churn==1')['userid'].count())\n",
    "\n",
    "#  Рассчитаем долю отточных пользователей:\n",
    "print ('Доля отточных пользователей в сегменте №3:', data.query (\n",
    "    'last_activity==1 and products>=3 and equity>=3  and churn==1')['userid'].count() / data.query (\n",
    "    'last_activity==1 and products>=3 and equity>=3')['userid'].count()*100)"
   ]
  },
  {
   "cell_type": "markdown",
   "metadata": {},
   "source": [
    "Если располагать сегменты в порядке приоритетности, то расположим их в порядке убывания доли отточных клиентов."
   ]
  },
  {
   "cell_type": "markdown",
   "metadata": {},
   "source": [
    "1. Сегмент №3 - 51% отточных клиентов  \n",
    "Активный клиент  \n",
    "Количество баллов собственности: 3 и выше  \n",
    "Количество используемых продуктов: 3 и больше   \n",
    "  \n",
    "  \n",
    "2. Сегмент №2 - 46% отточных клиентов  \n",
    "Пол: мужской  \n",
    "Возраст: 50-60 лет  \n",
    "Количество баллов собственности: 3 и выше  \n",
    "  \n",
    "  \n",
    "3. Сегмент №1 - 21% отточных клиентов  \n",
    "Пол: мужской  \n",
    "Возраст: 30-40 лет  \n",
    "Баланс: 150000-650000  "
   ]
  },
  {
   "cell_type": "markdown",
   "metadata": {},
   "source": [
    "## Выводы и рекомендации"
   ]
  },
  {
   "cell_type": "markdown",
   "metadata": {},
   "source": [
    "Для отточных клиентов более характеры показатели score 850-900, возрастные группы 30-40 лет и 50-60 лет, оценочный доход 70000-170000, баланс по счету 150000-650000. Город не сильно влияет на показатель оттока клиентов. Мужчин среди отточных пользователей больше, также для подобных клиентов характерно наличие более 3 баллов собственности, использование более 3 банковских продуктов, они не имеют кредитных карт и являются активными пользователями.  \n",
    "\n",
    "Корреляцию оттока с характеристиками equity, products можно оценить как умеренная, с остальными признаками корреляция слабая.  \n",
    "\n",
    "Портрет отточного клиента: Зарплата 148357 руб., возраст 41 год, баланс 1134458 руб., пользуется 2 продуктами банка, количество баллов собственности: 4.  \n",
    "\n",
    "Портрет неотточного клиента: Зарплата 147674 руб., возраст 43 года, баланс 733031 руб., пользуется 2 продуктами банка, количество баллов собственности: 3.  \n",
    "\n",
    "В результате проверки гипотезы принято, что доходы оставшихся и отточных клиентов не равны, также возраст отточного клиента больше возраста неотточного клиента.  \n",
    "\n",
    "На основании этих данных мы выделили три сегмента отточных клиентов:\n",
    "\n",
    "1. Сегмент №3 - 51% отточных клиентов  \n",
    "Активный клиент  \n",
    "Количество баллов собственности: 3 и выше  \n",
    "Количество используемых продуктов: 3 и больше   \n",
    "  \n",
    "  \n",
    "2. Сегмент №2 - 46% отточных клиентов  \n",
    "Пол: мужской  \n",
    "Возраст: 50-60 лет  \n",
    "Количество баллов собственности: 3 и выше  \n",
    "  \n",
    "  \n",
    "3. Сегмент №1 - 21% отточных клиентов  \n",
    "Пол: мужской  \n",
    "Возраст: 30-40 лет  \n",
    "Баланс: 150000-650000  \n",
    "\n",
    "С учетом выделенных сегментов, можно предложить следующие рекомендации по удержанию отточных клиентов:\n",
    "\n",
    "- для отточных клиентов сегмента №3 можно предложить более выгодные услуги страхования собственности: недвижимость, автомобиль\n",
    "- для отточных клиентов сегмента №2 можно предложить более выгодные программы перевода накопительной части пенсии\n",
    "- для отточных клиентов сегмента №1 можно предложить программы кешбека, ипотечные программы и выдачу кредитных карт."
   ]
  },
  {
   "cell_type": "code",
   "execution_count": null,
   "metadata": {},
   "outputs": [],
   "source": []
  }
 ],
 "metadata": {
  "ExecuteTimeLog": [
   {
    "duration": 372,
    "start_time": "2023-10-25T06:16:26.099Z"
   },
   {
    "duration": 90,
    "start_time": "2023-10-25T06:17:49.853Z"
   },
   {
    "duration": 63,
    "start_time": "2023-10-25T06:18:17.269Z"
   },
   {
    "duration": 21,
    "start_time": "2023-10-25T06:18:26.996Z"
   },
   {
    "duration": 12,
    "start_time": "2023-10-25T06:31:42.276Z"
   },
   {
    "duration": 3,
    "start_time": "2023-10-25T06:51:23.569Z"
   },
   {
    "duration": 12,
    "start_time": "2023-10-25T07:06:45.733Z"
   },
   {
    "duration": 8,
    "start_time": "2023-10-25T07:14:48.659Z"
   },
   {
    "duration": 257,
    "start_time": "2023-10-25T07:15:50.229Z"
   },
   {
    "duration": 7,
    "start_time": "2023-10-25T07:15:56.538Z"
   },
   {
    "duration": 8,
    "start_time": "2023-10-25T07:16:22.332Z"
   },
   {
    "duration": 8,
    "start_time": "2023-10-25T07:27:34.637Z"
   },
   {
    "duration": 7,
    "start_time": "2023-10-25T07:37:14.109Z"
   },
   {
    "duration": 6,
    "start_time": "2023-10-25T07:38:09.550Z"
   },
   {
    "duration": 16,
    "start_time": "2023-10-25T07:41:47.053Z"
   },
   {
    "duration": 9,
    "start_time": "2023-10-25T07:48:47.363Z"
   },
   {
    "duration": 22,
    "start_time": "2023-10-25T07:54:06.240Z"
   },
   {
    "duration": 25,
    "start_time": "2023-10-25T08:09:05.558Z"
   },
   {
    "duration": 25,
    "start_time": "2023-10-25T08:09:14.953Z"
   },
   {
    "duration": 20,
    "start_time": "2023-10-25T08:09:24.377Z"
   },
   {
    "duration": 22,
    "start_time": "2023-10-25T08:09:33.693Z"
   },
   {
    "duration": 15,
    "start_time": "2023-10-25T08:10:26.436Z"
   },
   {
    "duration": 1378,
    "start_time": "2023-10-25T08:10:37.455Z"
   },
   {
    "duration": 31,
    "start_time": "2023-10-25T08:12:37.330Z"
   },
   {
    "duration": 21,
    "start_time": "2023-10-25T08:15:10.110Z"
   },
   {
    "duration": 48,
    "start_time": "2023-10-26T06:23:25.692Z"
   },
   {
    "duration": 425,
    "start_time": "2023-10-26T06:23:35.207Z"
   },
   {
    "duration": 145,
    "start_time": "2023-10-26T06:23:35.634Z"
   },
   {
    "duration": 21,
    "start_time": "2023-10-26T06:23:35.781Z"
   },
   {
    "duration": 44,
    "start_time": "2023-10-26T06:23:35.804Z"
   },
   {
    "duration": 18,
    "start_time": "2023-10-26T06:23:35.850Z"
   },
   {
    "duration": 45,
    "start_time": "2023-10-26T06:23:35.869Z"
   },
   {
    "duration": 27,
    "start_time": "2023-10-26T06:23:35.916Z"
   },
   {
    "duration": 34,
    "start_time": "2023-10-26T06:23:35.945Z"
   },
   {
    "duration": 8,
    "start_time": "2023-10-26T06:23:35.981Z"
   },
   {
    "duration": 7,
    "start_time": "2023-10-26T06:23:35.991Z"
   },
   {
    "duration": 47,
    "start_time": "2023-10-26T06:23:36.000Z"
   },
   {
    "duration": 2,
    "start_time": "2023-10-26T06:46:09.426Z"
   },
   {
    "duration": 70,
    "start_time": "2023-10-26T06:47:26.349Z"
   },
   {
    "duration": 7,
    "start_time": "2023-10-26T06:48:22.442Z"
   },
   {
    "duration": 388,
    "start_time": "2023-10-26T06:48:28.543Z"
   },
   {
    "duration": 51,
    "start_time": "2023-10-26T06:48:28.934Z"
   },
   {
    "duration": 23,
    "start_time": "2023-10-26T06:48:28.987Z"
   },
   {
    "duration": 22,
    "start_time": "2023-10-26T06:48:29.013Z"
   },
   {
    "duration": 5,
    "start_time": "2023-10-26T06:48:29.038Z"
   },
   {
    "duration": 21,
    "start_time": "2023-10-26T06:48:29.045Z"
   },
   {
    "duration": 6,
    "start_time": "2023-10-26T06:48:29.068Z"
   },
   {
    "duration": 40,
    "start_time": "2023-10-26T06:48:29.076Z"
   },
   {
    "duration": 9,
    "start_time": "2023-10-26T06:48:29.118Z"
   },
   {
    "duration": 28,
    "start_time": "2023-10-26T06:48:29.130Z"
   },
   {
    "duration": 27,
    "start_time": "2023-10-26T06:48:29.159Z"
   },
   {
    "duration": 18,
    "start_time": "2023-10-26T06:48:29.188Z"
   },
   {
    "duration": 6,
    "start_time": "2023-10-26T06:49:27.684Z"
   },
   {
    "duration": 9,
    "start_time": "2023-10-26T09:14:15.326Z"
   },
   {
    "duration": 1547,
    "start_time": "2023-10-26T13:18:30.302Z"
   },
   {
    "duration": 423,
    "start_time": "2023-10-26T13:18:48.321Z"
   },
   {
    "duration": 42,
    "start_time": "2023-10-26T13:18:48.746Z"
   },
   {
    "duration": 22,
    "start_time": "2023-10-26T13:18:48.790Z"
   },
   {
    "duration": 64,
    "start_time": "2023-10-26T13:18:48.814Z"
   },
   {
    "duration": 20,
    "start_time": "2023-10-26T13:18:48.879Z"
   },
   {
    "duration": 36,
    "start_time": "2023-10-26T13:18:48.901Z"
   },
   {
    "duration": 17,
    "start_time": "2023-10-26T13:18:48.939Z"
   },
   {
    "duration": 93,
    "start_time": "2023-10-26T13:18:48.958Z"
   },
   {
    "duration": 8,
    "start_time": "2023-10-26T13:18:49.053Z"
   },
   {
    "duration": 42,
    "start_time": "2023-10-26T13:18:49.063Z"
   },
   {
    "duration": 35,
    "start_time": "2023-10-26T13:18:49.106Z"
   },
   {
    "duration": 7,
    "start_time": "2023-10-26T13:18:49.143Z"
   },
   {
    "duration": 21,
    "start_time": "2023-10-26T13:18:49.151Z"
   },
   {
    "duration": 1401,
    "start_time": "2023-10-26T13:18:49.174Z"
   },
   {
    "duration": 3,
    "start_time": "2023-10-26T13:19:26.311Z"
   },
   {
    "duration": 1018,
    "start_time": "2023-10-26T13:19:38.104Z"
   },
   {
    "duration": 3,
    "start_time": "2023-10-26T13:20:24.428Z"
   },
   {
    "duration": 1064,
    "start_time": "2023-10-26T13:20:34.804Z"
   },
   {
    "duration": 9,
    "start_time": "2023-10-26T13:33:23.867Z"
   },
   {
    "duration": 6,
    "start_time": "2023-10-26T13:38:03.590Z"
   },
   {
    "duration": 7,
    "start_time": "2023-10-26T13:39:25.603Z"
   },
   {
    "duration": 6,
    "start_time": "2023-10-26T13:40:39.943Z"
   },
   {
    "duration": 7,
    "start_time": "2023-10-26T13:49:37.529Z"
   },
   {
    "duration": 5,
    "start_time": "2023-10-26T13:57:19.843Z"
   },
   {
    "duration": 5,
    "start_time": "2023-10-26T14:00:35.425Z"
   },
   {
    "duration": 669,
    "start_time": "2023-10-26T14:00:39.442Z"
   },
   {
    "duration": 43,
    "start_time": "2023-10-26T14:00:40.117Z"
   },
   {
    "duration": 20,
    "start_time": "2023-10-26T14:00:40.162Z"
   },
   {
    "duration": 20,
    "start_time": "2023-10-26T14:00:40.184Z"
   },
   {
    "duration": 28,
    "start_time": "2023-10-26T14:00:40.207Z"
   },
   {
    "duration": 51,
    "start_time": "2023-10-26T14:00:40.237Z"
   },
   {
    "duration": 17,
    "start_time": "2023-10-26T14:00:40.290Z"
   },
   {
    "duration": 61,
    "start_time": "2023-10-26T14:00:40.311Z"
   },
   {
    "duration": 9,
    "start_time": "2023-10-26T14:00:40.374Z"
   },
   {
    "duration": 9,
    "start_time": "2023-10-26T14:00:40.385Z"
   },
   {
    "duration": 48,
    "start_time": "2023-10-26T14:00:40.396Z"
   },
   {
    "duration": 29,
    "start_time": "2023-10-26T14:00:40.447Z"
   },
   {
    "duration": 18,
    "start_time": "2023-10-26T14:00:40.478Z"
   },
   {
    "duration": 27,
    "start_time": "2023-10-26T14:00:40.498Z"
   },
   {
    "duration": 13,
    "start_time": "2023-10-26T14:00:40.527Z"
   },
   {
    "duration": 1016,
    "start_time": "2023-10-26T14:00:40.542Z"
   },
   {
    "duration": 1060,
    "start_time": "2023-10-26T14:00:41.559Z"
   },
   {
    "duration": 6,
    "start_time": "2023-10-26T14:05:00.017Z"
   },
   {
    "duration": 6,
    "start_time": "2023-10-26T14:06:03.386Z"
   },
   {
    "duration": 264,
    "start_time": "2023-10-26T14:13:29.560Z"
   },
   {
    "duration": 246,
    "start_time": "2023-10-26T14:19:07.586Z"
   },
   {
    "duration": 303,
    "start_time": "2023-10-26T14:21:10.799Z"
   },
   {
    "duration": 14,
    "start_time": "2023-10-27T07:05:32.708Z"
   },
   {
    "duration": 40,
    "start_time": "2023-10-27T07:06:05.867Z"
   },
   {
    "duration": 1265,
    "start_time": "2023-10-27T07:06:36.540Z"
   },
   {
    "duration": 6,
    "start_time": "2023-10-27T07:06:48.354Z"
   },
   {
    "duration": 62,
    "start_time": "2023-10-27T07:06:49.109Z"
   },
   {
    "duration": 5,
    "start_time": "2023-10-27T07:09:35.223Z"
   },
   {
    "duration": 8,
    "start_time": "2023-10-27T07:09:36.312Z"
   },
   {
    "duration": 1168,
    "start_time": "2023-10-27T07:09:44.797Z"
   },
   {
    "duration": 156,
    "start_time": "2023-10-27T07:09:45.967Z"
   },
   {
    "duration": 18,
    "start_time": "2023-10-27T07:09:46.124Z"
   },
   {
    "duration": 12,
    "start_time": "2023-10-27T07:09:46.144Z"
   },
   {
    "duration": 4,
    "start_time": "2023-10-27T07:09:46.158Z"
   },
   {
    "duration": 16,
    "start_time": "2023-10-27T07:09:46.163Z"
   },
   {
    "duration": 8,
    "start_time": "2023-10-27T07:09:46.181Z"
   },
   {
    "duration": 36,
    "start_time": "2023-10-27T07:09:46.190Z"
   },
   {
    "duration": 18,
    "start_time": "2023-10-27T07:09:46.227Z"
   },
   {
    "duration": 9,
    "start_time": "2023-10-27T07:09:46.247Z"
   },
   {
    "duration": 34,
    "start_time": "2023-10-27T07:09:46.258Z"
   },
   {
    "duration": 9,
    "start_time": "2023-10-27T07:09:46.294Z"
   },
   {
    "duration": 8,
    "start_time": "2023-10-27T07:09:46.305Z"
   },
   {
    "duration": 26,
    "start_time": "2023-10-27T07:09:46.315Z"
   },
   {
    "duration": 8,
    "start_time": "2023-10-27T07:09:46.345Z"
   },
   {
    "duration": 841,
    "start_time": "2023-10-27T07:09:46.355Z"
   },
   {
    "duration": 255,
    "start_time": "2023-10-27T07:09:47.197Z"
   },
   {
    "duration": 5,
    "start_time": "2023-10-27T07:09:47.453Z"
   },
   {
    "duration": 499,
    "start_time": "2023-10-27T07:09:47.460Z"
   },
   {
    "duration": 4,
    "start_time": "2023-10-27T07:11:06.077Z"
   },
   {
    "duration": 9,
    "start_time": "2023-10-27T07:11:09.899Z"
   },
   {
    "duration": 12,
    "start_time": "2023-10-27T07:20:21.365Z"
   },
   {
    "duration": 21,
    "start_time": "2023-10-27T07:22:02.605Z"
   },
   {
    "duration": 3,
    "start_time": "2023-10-27T07:22:45.197Z"
   },
   {
    "duration": 6731,
    "start_time": "2023-10-27T07:22:54.278Z"
   },
   {
    "duration": 7,
    "start_time": "2023-10-27T07:41:50.534Z"
   },
   {
    "duration": 26,
    "start_time": "2023-10-27T07:50:04.585Z"
   },
   {
    "duration": 5,
    "start_time": "2023-10-27T08:04:18.521Z"
   },
   {
    "duration": 5,
    "start_time": "2023-10-27T08:04:39.103Z"
   },
   {
    "duration": 5,
    "start_time": "2023-10-27T08:05:20.826Z"
   },
   {
    "duration": 12,
    "start_time": "2023-10-27T08:51:46.901Z"
   },
   {
    "duration": 49,
    "start_time": "2023-10-27T08:56:20.537Z"
   },
   {
    "duration": 1257,
    "start_time": "2023-10-27T08:56:47.560Z"
   },
   {
    "duration": 49,
    "start_time": "2023-10-27T08:56:48.819Z"
   },
   {
    "duration": 26,
    "start_time": "2023-10-27T08:56:48.873Z"
   },
   {
    "duration": 15,
    "start_time": "2023-10-27T08:56:48.900Z"
   },
   {
    "duration": 3,
    "start_time": "2023-10-27T08:56:48.917Z"
   },
   {
    "duration": 28,
    "start_time": "2023-10-27T08:56:48.922Z"
   },
   {
    "duration": 5,
    "start_time": "2023-10-27T08:56:48.952Z"
   },
   {
    "duration": 37,
    "start_time": "2023-10-27T08:56:48.959Z"
   },
   {
    "duration": 7,
    "start_time": "2023-10-27T08:56:48.999Z"
   },
   {
    "duration": 12,
    "start_time": "2023-10-27T08:56:49.007Z"
   },
   {
    "duration": 58,
    "start_time": "2023-10-27T08:56:49.020Z"
   },
   {
    "duration": 11,
    "start_time": "2023-10-27T08:56:49.079Z"
   },
   {
    "duration": 21,
    "start_time": "2023-10-27T08:56:49.092Z"
   },
   {
    "duration": 12,
    "start_time": "2023-10-27T08:56:49.115Z"
   },
   {
    "duration": 24,
    "start_time": "2023-10-27T08:56:49.129Z"
   },
   {
    "duration": 103,
    "start_time": "2023-10-27T08:58:27.983Z"
   },
   {
    "duration": 871,
    "start_time": "2023-10-27T08:58:58.285Z"
   },
   {
    "duration": 3,
    "start_time": "2023-10-27T09:06:44.123Z"
   },
   {
    "duration": 2500,
    "start_time": "2023-10-27T09:07:18.773Z"
   },
   {
    "duration": 4,
    "start_time": "2023-10-27T09:12:53.166Z"
   },
   {
    "duration": 3,
    "start_time": "2023-10-27T09:17:39.175Z"
   },
   {
    "duration": 2697,
    "start_time": "2023-10-27T09:17:56.366Z"
   },
   {
    "duration": 4,
    "start_time": "2023-10-27T09:18:37.957Z"
   },
   {
    "duration": 119,
    "start_time": "2023-10-27T09:18:42.005Z"
   },
   {
    "duration": 5,
    "start_time": "2023-10-27T09:18:52.041Z"
   },
   {
    "duration": 2700,
    "start_time": "2023-10-27T09:18:53.900Z"
   },
   {
    "duration": 3,
    "start_time": "2023-10-27T09:19:21.741Z"
   },
   {
    "duration": 2762,
    "start_time": "2023-10-27T09:19:23.167Z"
   },
   {
    "duration": 3,
    "start_time": "2023-10-27T09:21:32.372Z"
   },
   {
    "duration": 2900,
    "start_time": "2023-10-27T09:21:33.183Z"
   },
   {
    "duration": 4,
    "start_time": "2023-10-27T09:25:47.583Z"
   },
   {
    "duration": 149,
    "start_time": "2023-10-27T09:25:49.303Z"
   },
   {
    "duration": 19,
    "start_time": "2023-10-27T09:26:35.137Z"
   },
   {
    "duration": 3075,
    "start_time": "2023-10-27T09:26:36.488Z"
   },
   {
    "duration": 6,
    "start_time": "2023-10-27T09:30:12.127Z"
   },
   {
    "duration": 3012,
    "start_time": "2023-10-27T09:30:15.569Z"
   },
   {
    "duration": 8,
    "start_time": "2023-10-27T09:44:32.940Z"
   },
   {
    "duration": 3494,
    "start_time": "2023-10-27T09:44:34.440Z"
   },
   {
    "duration": 7,
    "start_time": "2023-10-27T09:48:54.957Z"
   },
   {
    "duration": 3752,
    "start_time": "2023-10-27T09:48:56.015Z"
   },
   {
    "duration": 3486,
    "start_time": "2023-10-27T09:49:21.870Z"
   },
   {
    "duration": 5,
    "start_time": "2023-10-27T09:51:38.206Z"
   },
   {
    "duration": 3987,
    "start_time": "2023-10-27T09:51:39.173Z"
   },
   {
    "duration": 5,
    "start_time": "2023-10-27T09:52:16.527Z"
   },
   {
    "duration": 3714,
    "start_time": "2023-10-27T09:52:17.920Z"
   },
   {
    "duration": 1257,
    "start_time": "2023-10-27T09:53:13.899Z"
   },
   {
    "duration": 64,
    "start_time": "2023-10-27T09:53:15.157Z"
   },
   {
    "duration": 40,
    "start_time": "2023-10-27T09:53:15.222Z"
   },
   {
    "duration": 20,
    "start_time": "2023-10-27T09:53:15.268Z"
   },
   {
    "duration": 8,
    "start_time": "2023-10-27T09:53:15.290Z"
   },
   {
    "duration": 15,
    "start_time": "2023-10-27T09:53:15.300Z"
   },
   {
    "duration": 5,
    "start_time": "2023-10-27T09:53:15.317Z"
   },
   {
    "duration": 56,
    "start_time": "2023-10-27T09:53:15.324Z"
   },
   {
    "duration": 12,
    "start_time": "2023-10-27T09:53:15.382Z"
   },
   {
    "duration": 13,
    "start_time": "2023-10-27T09:53:15.397Z"
   },
   {
    "duration": 25,
    "start_time": "2023-10-27T09:53:15.412Z"
   },
   {
    "duration": 10,
    "start_time": "2023-10-27T09:53:15.448Z"
   },
   {
    "duration": 7,
    "start_time": "2023-10-27T09:53:15.462Z"
   },
   {
    "duration": 13,
    "start_time": "2023-10-27T09:53:15.477Z"
   },
   {
    "duration": 10,
    "start_time": "2023-10-27T09:53:15.492Z"
   },
   {
    "duration": 5,
    "start_time": "2023-10-27T09:53:15.504Z"
   },
   {
    "duration": 3708,
    "start_time": "2023-10-27T09:53:15.512Z"
   },
   {
    "duration": 1292,
    "start_time": "2023-10-27T09:53:19.221Z"
   },
   {
    "duration": 10,
    "start_time": "2023-10-27T09:55:41.558Z"
   },
   {
    "duration": 4074,
    "start_time": "2023-10-27T09:55:42.858Z"
   },
   {
    "duration": 11,
    "start_time": "2023-10-27T09:59:33.580Z"
   },
   {
    "duration": 4350,
    "start_time": "2023-10-27T09:59:35.218Z"
   },
   {
    "duration": 6,
    "start_time": "2023-10-27T10:04:09.923Z"
   },
   {
    "duration": 4144,
    "start_time": "2023-10-27T10:04:10.717Z"
   },
   {
    "duration": 7,
    "start_time": "2023-10-27T10:05:37.807Z"
   },
   {
    "duration": 3682,
    "start_time": "2023-10-27T10:05:39.226Z"
   },
   {
    "duration": 7,
    "start_time": "2023-10-27T10:14:36.203Z"
   },
   {
    "duration": 18,
    "start_time": "2023-10-27T10:14:40.214Z"
   },
   {
    "duration": 7,
    "start_time": "2023-10-27T10:15:01.124Z"
   },
   {
    "duration": 42,
    "start_time": "2023-10-27T10:15:02.618Z"
   },
   {
    "duration": 6,
    "start_time": "2023-10-27T10:15:15.998Z"
   },
   {
    "duration": 3717,
    "start_time": "2023-10-27T10:15:17.522Z"
   },
   {
    "duration": 11,
    "start_time": "2023-10-27T10:20:24.769Z"
   },
   {
    "duration": 3519,
    "start_time": "2023-10-27T10:20:26.808Z"
   },
   {
    "duration": 4,
    "start_time": "2023-10-27T10:20:58.909Z"
   },
   {
    "duration": 34,
    "start_time": "2023-10-27T10:21:00.034Z"
   },
   {
    "duration": 24,
    "start_time": "2023-10-27T10:21:08.944Z"
   },
   {
    "duration": 55,
    "start_time": "2023-10-27T10:29:48.400Z"
   },
   {
    "duration": 102,
    "start_time": "2023-10-27T10:35:10.050Z"
   },
   {
    "duration": 253,
    "start_time": "2023-10-27T11:23:06.067Z"
   },
   {
    "duration": 1822,
    "start_time": "2023-10-27T11:25:35.430Z"
   },
   {
    "duration": 8,
    "start_time": "2023-10-27T11:26:00.397Z"
   },
   {
    "duration": 8,
    "start_time": "2023-10-27T11:26:35.801Z"
   },
   {
    "duration": 8,
    "start_time": "2023-10-27T11:31:52.099Z"
   },
   {
    "duration": 0,
    "start_time": "2023-10-27T11:45:54.272Z"
   },
   {
    "duration": 0,
    "start_time": "2023-10-27T11:45:54.273Z"
   },
   {
    "duration": 0,
    "start_time": "2023-10-27T11:45:54.273Z"
   },
   {
    "duration": 0,
    "start_time": "2023-10-27T11:45:54.274Z"
   },
   {
    "duration": 0,
    "start_time": "2023-10-27T11:45:54.275Z"
   },
   {
    "duration": 0,
    "start_time": "2023-10-27T11:45:54.280Z"
   },
   {
    "duration": 0,
    "start_time": "2023-10-27T11:45:54.281Z"
   },
   {
    "duration": 0,
    "start_time": "2023-10-27T11:45:54.281Z"
   },
   {
    "duration": 0,
    "start_time": "2023-10-27T11:45:54.282Z"
   },
   {
    "duration": 0,
    "start_time": "2023-10-27T11:45:54.283Z"
   },
   {
    "duration": 0,
    "start_time": "2023-10-27T11:45:54.283Z"
   },
   {
    "duration": 0,
    "start_time": "2023-10-27T11:45:54.284Z"
   },
   {
    "duration": 0,
    "start_time": "2023-10-27T11:45:54.285Z"
   },
   {
    "duration": 0,
    "start_time": "2023-10-27T11:45:54.286Z"
   },
   {
    "duration": 0,
    "start_time": "2023-10-27T11:45:54.287Z"
   },
   {
    "duration": 0,
    "start_time": "2023-10-27T11:45:54.288Z"
   },
   {
    "duration": 0,
    "start_time": "2023-10-27T11:45:54.289Z"
   },
   {
    "duration": 0,
    "start_time": "2023-10-27T11:45:54.290Z"
   },
   {
    "duration": 0,
    "start_time": "2023-10-27T11:45:54.290Z"
   },
   {
    "duration": 0,
    "start_time": "2023-10-27T11:45:54.291Z"
   },
   {
    "duration": 1181,
    "start_time": "2023-10-27T11:46:18.828Z"
   },
   {
    "duration": 45,
    "start_time": "2023-10-27T11:46:20.011Z"
   },
   {
    "duration": 48,
    "start_time": "2023-10-27T11:46:20.057Z"
   },
   {
    "duration": 15,
    "start_time": "2023-10-27T11:46:20.108Z"
   },
   {
    "duration": 4,
    "start_time": "2023-10-27T11:46:20.125Z"
   },
   {
    "duration": 25,
    "start_time": "2023-10-27T11:46:20.131Z"
   },
   {
    "duration": 10,
    "start_time": "2023-10-27T11:46:20.173Z"
   },
   {
    "duration": 21,
    "start_time": "2023-10-27T11:46:20.194Z"
   },
   {
    "duration": 8,
    "start_time": "2023-10-27T11:46:20.217Z"
   },
   {
    "duration": 7,
    "start_time": "2023-10-27T11:46:20.227Z"
   },
   {
    "duration": 65,
    "start_time": "2023-10-27T11:46:20.235Z"
   },
   {
    "duration": 8,
    "start_time": "2023-10-27T11:46:20.302Z"
   },
   {
    "duration": 6,
    "start_time": "2023-10-27T11:46:20.312Z"
   },
   {
    "duration": 5,
    "start_time": "2023-10-27T11:46:20.319Z"
   },
   {
    "duration": 47,
    "start_time": "2023-10-27T11:46:20.325Z"
   },
   {
    "duration": 15,
    "start_time": "2023-10-27T11:46:20.373Z"
   },
   {
    "duration": 10,
    "start_time": "2023-10-27T11:46:20.390Z"
   },
   {
    "duration": 119,
    "start_time": "2023-10-27T11:46:20.402Z"
   },
   {
    "duration": 0,
    "start_time": "2023-10-27T11:46:20.523Z"
   },
   {
    "duration": 0,
    "start_time": "2023-10-27T11:46:20.524Z"
   },
   {
    "duration": 3149,
    "start_time": "2023-10-27T11:46:48.077Z"
   },
   {
    "duration": 10,
    "start_time": "2023-10-27T11:47:02.985Z"
   },
   {
    "duration": 15,
    "start_time": "2023-10-27T11:47:17.090Z"
   },
   {
    "duration": 9,
    "start_time": "2023-10-27T11:50:48.016Z"
   },
   {
    "duration": 304,
    "start_time": "2023-10-27T11:50:58.682Z"
   },
   {
    "duration": 8,
    "start_time": "2023-10-27T11:52:16.673Z"
   },
   {
    "duration": 340,
    "start_time": "2023-10-27T11:52:33.064Z"
   },
   {
    "duration": 48,
    "start_time": "2023-10-27T17:45:56.268Z"
   },
   {
    "duration": 11,
    "start_time": "2023-10-27T17:46:13.796Z"
   },
   {
    "duration": 70,
    "start_time": "2023-10-27T17:46:13.808Z"
   },
   {
    "duration": 13,
    "start_time": "2023-10-27T17:46:13.880Z"
   },
   {
    "duration": 34,
    "start_time": "2023-10-27T17:46:13.894Z"
   },
   {
    "duration": 18,
    "start_time": "2023-10-27T17:46:13.929Z"
   },
   {
    "duration": 34,
    "start_time": "2023-10-27T17:46:13.949Z"
   },
   {
    "duration": 19,
    "start_time": "2023-10-27T17:46:13.984Z"
   },
   {
    "duration": 49,
    "start_time": "2023-10-27T17:46:14.007Z"
   },
   {
    "duration": 9,
    "start_time": "2023-10-27T17:46:14.058Z"
   },
   {
    "duration": 31,
    "start_time": "2023-10-27T17:46:14.069Z"
   },
   {
    "duration": 38,
    "start_time": "2023-10-27T17:46:14.101Z"
   },
   {
    "duration": 24,
    "start_time": "2023-10-27T17:46:14.141Z"
   },
   {
    "duration": 39,
    "start_time": "2023-10-27T17:46:14.167Z"
   },
   {
    "duration": 34,
    "start_time": "2023-10-27T17:46:14.207Z"
   },
   {
    "duration": 62,
    "start_time": "2023-10-27T17:46:14.243Z"
   },
   {
    "duration": 10,
    "start_time": "2023-10-27T17:46:14.307Z"
   },
   {
    "duration": 24,
    "start_time": "2023-10-27T17:46:14.319Z"
   },
   {
    "duration": 3230,
    "start_time": "2023-10-27T17:46:14.345Z"
   },
   {
    "duration": 966,
    "start_time": "2023-10-27T17:46:17.577Z"
   },
   {
    "duration": 935,
    "start_time": "2023-10-27T17:46:18.544Z"
   },
   {
    "duration": 49,
    "start_time": "2023-10-28T07:46:21.180Z"
   },
   {
    "duration": 1357,
    "start_time": "2023-10-28T07:46:27.174Z"
   },
   {
    "duration": 156,
    "start_time": "2023-10-28T07:46:28.533Z"
   },
   {
    "duration": 18,
    "start_time": "2023-10-28T07:46:28.690Z"
   },
   {
    "duration": 26,
    "start_time": "2023-10-28T07:46:28.709Z"
   },
   {
    "duration": 9,
    "start_time": "2023-10-28T07:46:28.737Z"
   },
   {
    "duration": 23,
    "start_time": "2023-10-28T07:46:28.748Z"
   },
   {
    "duration": 23,
    "start_time": "2023-10-28T07:46:28.772Z"
   },
   {
    "duration": 30,
    "start_time": "2023-10-28T07:46:28.797Z"
   },
   {
    "duration": 7,
    "start_time": "2023-10-28T07:46:28.829Z"
   },
   {
    "duration": 17,
    "start_time": "2023-10-28T07:46:28.838Z"
   },
   {
    "duration": 55,
    "start_time": "2023-10-28T07:46:28.856Z"
   },
   {
    "duration": 7,
    "start_time": "2023-10-28T07:46:28.913Z"
   },
   {
    "duration": 15,
    "start_time": "2023-10-28T07:46:28.921Z"
   },
   {
    "duration": 26,
    "start_time": "2023-10-28T07:46:28.937Z"
   },
   {
    "duration": 44,
    "start_time": "2023-10-28T07:46:28.964Z"
   },
   {
    "duration": 13,
    "start_time": "2023-10-28T07:46:29.009Z"
   },
   {
    "duration": 15,
    "start_time": "2023-10-28T07:46:29.023Z"
   },
   {
    "duration": 3047,
    "start_time": "2023-10-28T07:46:29.040Z"
   },
   {
    "duration": 940,
    "start_time": "2023-10-28T07:46:32.089Z"
   },
   {
    "duration": 912,
    "start_time": "2023-10-28T07:46:33.030Z"
   },
   {
    "duration": 98,
    "start_time": "2023-10-28T07:46:33.943Z"
   },
   {
    "duration": 13,
    "start_time": "2023-10-28T07:47:08.931Z"
   },
   {
    "duration": 13,
    "start_time": "2023-10-28T07:47:31.004Z"
   },
   {
    "duration": 383,
    "start_time": "2023-10-28T07:47:39.756Z"
   },
   {
    "duration": 366,
    "start_time": "2023-10-28T07:48:01.691Z"
   },
   {
    "duration": 433,
    "start_time": "2023-10-28T07:48:17.789Z"
   },
   {
    "duration": 16,
    "start_time": "2023-10-28T07:57:15.617Z"
   },
   {
    "duration": 21,
    "start_time": "2023-10-28T07:57:45.751Z"
   },
   {
    "duration": 20,
    "start_time": "2023-10-28T08:12:31.458Z"
   },
   {
    "duration": 20,
    "start_time": "2023-10-28T08:12:49.951Z"
   },
   {
    "duration": 3147,
    "start_time": "2023-10-28T08:13:03.842Z"
   },
   {
    "duration": 3432,
    "start_time": "2023-10-28T08:26:57.053Z"
   },
   {
    "duration": 3082,
    "start_time": "2023-10-28T08:27:28.113Z"
   },
   {
    "duration": 3156,
    "start_time": "2023-10-28T08:27:53.998Z"
   },
   {
    "duration": 16,
    "start_time": "2023-10-28T08:33:06.809Z"
   },
   {
    "duration": 403,
    "start_time": "2023-10-28T08:33:20.832Z"
   },
   {
    "duration": 645,
    "start_time": "2023-10-28T08:33:28.669Z"
   },
   {
    "duration": 439,
    "start_time": "2023-10-28T08:33:32.260Z"
   },
   {
    "duration": 445,
    "start_time": "2023-10-28T08:34:06.672Z"
   },
   {
    "duration": 25,
    "start_time": "2023-10-28T08:41:53.585Z"
   },
   {
    "duration": 16,
    "start_time": "2023-10-28T08:42:14.181Z"
   },
   {
    "duration": 18,
    "start_time": "2023-10-28T08:42:36.252Z"
   },
   {
    "duration": 19,
    "start_time": "2023-10-28T08:43:28.778Z"
   },
   {
    "duration": 231,
    "start_time": "2023-10-28T08:43:45.466Z"
   },
   {
    "duration": 1116,
    "start_time": "2023-10-28T08:44:46.750Z"
   },
   {
    "duration": 139,
    "start_time": "2023-10-28T08:45:39.218Z"
   },
   {
    "duration": 1115,
    "start_time": "2023-10-28T08:45:51.485Z"
   },
   {
    "duration": 970,
    "start_time": "2023-10-28T08:46:28.540Z"
   },
   {
    "duration": 15,
    "start_time": "2023-10-28T08:53:19.619Z"
   },
   {
    "duration": 83,
    "start_time": "2023-10-28T08:53:33.592Z"
   },
   {
    "duration": 10,
    "start_time": "2023-10-28T08:53:42.522Z"
   },
   {
    "duration": 972,
    "start_time": "2023-10-28T08:53:56.911Z"
   },
   {
    "duration": 1742,
    "start_time": "2023-10-28T09:02:53.674Z"
   },
   {
    "duration": 1387,
    "start_time": "2023-10-28T09:03:40.270Z"
   },
   {
    "duration": 17,
    "start_time": "2023-10-28T09:04:30.169Z"
   },
   {
    "duration": 15,
    "start_time": "2023-10-28T09:04:48.673Z"
   },
   {
    "duration": 15,
    "start_time": "2023-10-28T09:05:23.499Z"
   },
   {
    "duration": 1537,
    "start_time": "2023-10-28T09:05:50.155Z"
   },
   {
    "duration": 158,
    "start_time": "2023-10-28T09:54:54.500Z"
   },
   {
    "duration": 3178,
    "start_time": "2023-10-28T09:59:48.029Z"
   },
   {
    "duration": 157,
    "start_time": "2023-10-28T10:00:42.466Z"
   },
   {
    "duration": 250,
    "start_time": "2023-10-28T10:01:22.068Z"
   },
   {
    "duration": 1926,
    "start_time": "2023-10-28T10:04:25.506Z"
   },
   {
    "duration": 1200,
    "start_time": "2023-10-28T10:04:47.839Z"
   },
   {
    "duration": 1040,
    "start_time": "2023-10-28T10:05:22.530Z"
   },
   {
    "duration": 5032,
    "start_time": "2023-10-28T10:09:48.032Z"
   },
   {
    "duration": 5480,
    "start_time": "2023-10-28T10:10:16.232Z"
   },
   {
    "duration": 5521,
    "start_time": "2023-10-28T10:12:37.359Z"
   },
   {
    "duration": 5738,
    "start_time": "2023-10-28T10:14:58.298Z"
   },
   {
    "duration": 170,
    "start_time": "2023-10-28T10:38:02.498Z"
   },
   {
    "duration": 130,
    "start_time": "2023-10-28T10:38:51.569Z"
   },
   {
    "duration": 126,
    "start_time": "2023-10-28T10:38:58.069Z"
   },
   {
    "duration": 5512,
    "start_time": "2023-10-28T10:40:31.421Z"
   },
   {
    "duration": 5765,
    "start_time": "2023-10-28T10:42:45.433Z"
   },
   {
    "duration": 2297,
    "start_time": "2023-10-28T10:43:25.822Z"
   },
   {
    "duration": 1626,
    "start_time": "2023-10-28T10:43:50.217Z"
   },
   {
    "duration": 1666,
    "start_time": "2023-10-28T10:45:45.616Z"
   },
   {
    "duration": 909,
    "start_time": "2023-10-28T10:45:57.322Z"
   },
   {
    "duration": 12,
    "start_time": "2023-10-28T10:49:17.354Z"
   },
   {
    "duration": 105,
    "start_time": "2023-10-28T10:49:41.552Z"
   },
   {
    "duration": 128,
    "start_time": "2023-10-28T10:50:03.329Z"
   },
   {
    "duration": 790,
    "start_time": "2023-10-28T10:50:20.303Z"
   },
   {
    "duration": 5380,
    "start_time": "2023-10-28T10:51:01.822Z"
   },
   {
    "duration": 554,
    "start_time": "2023-10-28T10:51:53.874Z"
   },
   {
    "duration": 187,
    "start_time": "2023-10-28T10:52:05.895Z"
   },
   {
    "duration": 137,
    "start_time": "2023-10-28T10:52:24.054Z"
   },
   {
    "duration": 143,
    "start_time": "2023-10-28T10:52:32.502Z"
   },
   {
    "duration": 159,
    "start_time": "2023-10-28T10:52:51.207Z"
   },
   {
    "duration": 146,
    "start_time": "2023-10-28T10:53:01.715Z"
   },
   {
    "duration": 1408,
    "start_time": "2023-10-28T10:53:27.112Z"
   },
   {
    "duration": 43,
    "start_time": "2023-10-28T10:53:28.522Z"
   },
   {
    "duration": 19,
    "start_time": "2023-10-28T10:53:28.566Z"
   },
   {
    "duration": 36,
    "start_time": "2023-10-28T10:53:28.587Z"
   },
   {
    "duration": 4,
    "start_time": "2023-10-28T10:53:28.624Z"
   },
   {
    "duration": 14,
    "start_time": "2023-10-28T10:53:28.630Z"
   },
   {
    "duration": 5,
    "start_time": "2023-10-28T10:53:28.647Z"
   },
   {
    "duration": 23,
    "start_time": "2023-10-28T10:53:28.655Z"
   },
   {
    "duration": 32,
    "start_time": "2023-10-28T10:53:28.680Z"
   },
   {
    "duration": 11,
    "start_time": "2023-10-28T10:53:28.714Z"
   },
   {
    "duration": 39,
    "start_time": "2023-10-28T10:53:28.727Z"
   },
   {
    "duration": 6,
    "start_time": "2023-10-28T10:53:28.768Z"
   },
   {
    "duration": 7,
    "start_time": "2023-10-28T10:53:28.775Z"
   },
   {
    "duration": 5,
    "start_time": "2023-10-28T10:53:28.784Z"
   },
   {
    "duration": 44,
    "start_time": "2023-10-28T10:53:28.790Z"
   },
   {
    "duration": 8,
    "start_time": "2023-10-28T10:53:28.836Z"
   },
   {
    "duration": 9,
    "start_time": "2023-10-28T10:53:28.845Z"
   },
   {
    "duration": 287,
    "start_time": "2023-10-28T10:53:28.855Z"
   },
   {
    "duration": 0,
    "start_time": "2023-10-28T10:53:29.143Z"
   },
   {
    "duration": 146,
    "start_time": "2023-10-28T10:54:14.979Z"
   },
   {
    "duration": 5,
    "start_time": "2023-10-28T10:54:29.341Z"
   },
   {
    "duration": 137,
    "start_time": "2023-10-28T10:54:30.237Z"
   },
   {
    "duration": 172,
    "start_time": "2023-10-28T10:55:07.578Z"
   },
   {
    "duration": 5202,
    "start_time": "2023-10-28T10:55:21.072Z"
   },
   {
    "duration": 220,
    "start_time": "2023-10-28T10:56:04.951Z"
   },
   {
    "duration": 575,
    "start_time": "2023-10-28T10:56:12.973Z"
   },
   {
    "duration": 236,
    "start_time": "2023-10-28T10:56:20.303Z"
   },
   {
    "duration": 4923,
    "start_time": "2023-10-28T10:58:56.441Z"
   },
   {
    "duration": 5305,
    "start_time": "2023-10-28T10:59:44.705Z"
   },
   {
    "duration": 718,
    "start_time": "2023-10-28T11:07:34.196Z"
   },
   {
    "duration": 1806,
    "start_time": "2023-10-28T11:08:04.724Z"
   },
   {
    "duration": 287,
    "start_time": "2023-10-28T11:09:23.700Z"
   },
   {
    "duration": 280,
    "start_time": "2023-10-28T11:10:12.239Z"
   },
   {
    "duration": 833,
    "start_time": "2023-10-28T11:11:17.389Z"
   },
   {
    "duration": 990,
    "start_time": "2023-10-28T11:12:46.622Z"
   },
   {
    "duration": 24,
    "start_time": "2023-10-28T11:13:14.128Z"
   },
   {
    "duration": 2518,
    "start_time": "2023-10-28T11:13:55.531Z"
   },
   {
    "duration": 758,
    "start_time": "2023-10-28T11:17:20.824Z"
   },
   {
    "duration": 1613,
    "start_time": "2023-10-28T11:19:37.644Z"
   },
   {
    "duration": 1626,
    "start_time": "2023-10-28T11:20:25.627Z"
   },
   {
    "duration": 139,
    "start_time": "2023-10-28T11:20:57.890Z"
   },
   {
    "duration": 1605,
    "start_time": "2023-10-28T11:21:09.757Z"
   },
   {
    "duration": 1545,
    "start_time": "2023-10-28T11:22:07.617Z"
   },
   {
    "duration": 1413,
    "start_time": "2023-10-28T11:23:34.246Z"
   },
   {
    "duration": 1573,
    "start_time": "2023-10-28T11:24:22.663Z"
   },
   {
    "duration": 77,
    "start_time": "2023-10-28T11:26:26.278Z"
   },
   {
    "duration": 1631,
    "start_time": "2023-10-28T11:26:36.941Z"
   },
   {
    "duration": 24,
    "start_time": "2023-10-28T11:27:01.548Z"
   },
   {
    "duration": 1816,
    "start_time": "2023-10-28T11:27:10.597Z"
   },
   {
    "duration": 1497,
    "start_time": "2023-10-28T11:29:19.974Z"
   },
   {
    "duration": 142,
    "start_time": "2023-10-28T11:33:01.818Z"
   },
   {
    "duration": 1998,
    "start_time": "2023-10-28T11:33:45.894Z"
   },
   {
    "duration": 1702,
    "start_time": "2023-10-28T11:36:49.124Z"
   },
   {
    "duration": 108,
    "start_time": "2023-10-28T11:40:57.380Z"
   },
   {
    "duration": 259,
    "start_time": "2023-10-28T11:41:08.316Z"
   },
   {
    "duration": 284,
    "start_time": "2023-10-28T11:41:23.893Z"
   },
   {
    "duration": 1660,
    "start_time": "2023-10-28T11:41:38.004Z"
   },
   {
    "duration": 1313,
    "start_time": "2023-10-28T11:42:47.828Z"
   },
   {
    "duration": 1358,
    "start_time": "2023-10-28T11:43:26.876Z"
   },
   {
    "duration": 1580,
    "start_time": "2023-10-28T11:44:23.147Z"
   },
   {
    "duration": 1429,
    "start_time": "2023-10-28T11:54:01.509Z"
   },
   {
    "duration": 22,
    "start_time": "2023-10-28T11:59:05.081Z"
   },
   {
    "duration": 1687,
    "start_time": "2023-10-28T11:59:12.144Z"
   },
   {
    "duration": 44,
    "start_time": "2023-10-28T11:59:28.721Z"
   },
   {
    "duration": 46,
    "start_time": "2023-10-28T11:59:33.149Z"
   },
   {
    "duration": 49,
    "start_time": "2023-10-28T11:59:50.378Z"
   },
   {
    "duration": 1029,
    "start_time": "2023-10-28T12:03:03.929Z"
   },
   {
    "duration": 560,
    "start_time": "2023-10-28T12:04:40.574Z"
   },
   {
    "duration": 1056,
    "start_time": "2023-10-28T12:04:58.039Z"
   },
   {
    "duration": 1060,
    "start_time": "2023-10-28T12:05:14.927Z"
   },
   {
    "duration": 1154,
    "start_time": "2023-10-28T12:06:20.791Z"
   },
   {
    "duration": 1639,
    "start_time": "2023-10-28T12:18:04.208Z"
   },
   {
    "duration": 1650,
    "start_time": "2023-10-28T12:18:23.525Z"
   },
   {
    "duration": 1699,
    "start_time": "2023-10-28T12:18:39.056Z"
   },
   {
    "duration": 11,
    "start_time": "2023-10-28T12:25:00.376Z"
   },
   {
    "duration": 1390,
    "start_time": "2023-10-28T12:25:50.958Z"
   },
   {
    "duration": 0,
    "start_time": "2023-10-28T12:25:52.351Z"
   },
   {
    "duration": 0,
    "start_time": "2023-10-28T12:25:52.352Z"
   },
   {
    "duration": 0,
    "start_time": "2023-10-28T12:25:52.353Z"
   },
   {
    "duration": 0,
    "start_time": "2023-10-28T12:25:52.354Z"
   },
   {
    "duration": 0,
    "start_time": "2023-10-28T12:25:52.355Z"
   },
   {
    "duration": 0,
    "start_time": "2023-10-28T12:25:52.356Z"
   },
   {
    "duration": 0,
    "start_time": "2023-10-28T12:25:52.358Z"
   },
   {
    "duration": 0,
    "start_time": "2023-10-28T12:25:52.359Z"
   },
   {
    "duration": 0,
    "start_time": "2023-10-28T12:25:52.361Z"
   },
   {
    "duration": 0,
    "start_time": "2023-10-28T12:25:52.362Z"
   },
   {
    "duration": 0,
    "start_time": "2023-10-28T12:25:52.364Z"
   },
   {
    "duration": 0,
    "start_time": "2023-10-28T12:25:52.365Z"
   },
   {
    "duration": 0,
    "start_time": "2023-10-28T12:25:52.366Z"
   },
   {
    "duration": 0,
    "start_time": "2023-10-28T12:25:52.368Z"
   },
   {
    "duration": 0,
    "start_time": "2023-10-28T12:25:52.369Z"
   },
   {
    "duration": 1,
    "start_time": "2023-10-28T12:25:52.370Z"
   },
   {
    "duration": 0,
    "start_time": "2023-10-28T12:25:52.372Z"
   },
   {
    "duration": 0,
    "start_time": "2023-10-28T12:25:52.407Z"
   },
   {
    "duration": 0,
    "start_time": "2023-10-28T12:25:52.411Z"
   },
   {
    "duration": 1311,
    "start_time": "2023-10-28T12:26:14.393Z"
   },
   {
    "duration": 44,
    "start_time": "2023-10-28T12:26:15.707Z"
   },
   {
    "duration": 22,
    "start_time": "2023-10-28T12:26:15.753Z"
   },
   {
    "duration": 33,
    "start_time": "2023-10-28T12:26:15.778Z"
   },
   {
    "duration": 8,
    "start_time": "2023-10-28T12:26:15.814Z"
   },
   {
    "duration": 26,
    "start_time": "2023-10-28T12:26:15.824Z"
   },
   {
    "duration": 6,
    "start_time": "2023-10-28T12:26:15.852Z"
   },
   {
    "duration": 52,
    "start_time": "2023-10-28T12:26:15.860Z"
   },
   {
    "duration": 10,
    "start_time": "2023-10-28T12:26:15.914Z"
   },
   {
    "duration": 7,
    "start_time": "2023-10-28T12:26:15.927Z"
   },
   {
    "duration": 28,
    "start_time": "2023-10-28T12:26:15.936Z"
   },
   {
    "duration": 8,
    "start_time": "2023-10-28T12:26:15.966Z"
   },
   {
    "duration": 41,
    "start_time": "2023-10-28T12:26:15.975Z"
   },
   {
    "duration": 15,
    "start_time": "2023-10-28T12:26:16.018Z"
   },
   {
    "duration": 54,
    "start_time": "2023-10-28T12:26:16.035Z"
   },
   {
    "duration": 26,
    "start_time": "2023-10-28T12:26:16.091Z"
   },
   {
    "duration": 7,
    "start_time": "2023-10-28T12:26:16.120Z"
   },
   {
    "duration": 5772,
    "start_time": "2023-10-28T12:26:16.129Z"
   },
   {
    "duration": 1826,
    "start_time": "2023-10-28T12:26:21.904Z"
   },
   {
    "duration": 950,
    "start_time": "2023-10-28T12:26:23.732Z"
   },
   {
    "duration": 1328,
    "start_time": "2023-10-28T12:26:34.905Z"
   },
   {
    "duration": 43,
    "start_time": "2023-10-28T12:26:36.235Z"
   },
   {
    "duration": 20,
    "start_time": "2023-10-28T12:26:36.279Z"
   },
   {
    "duration": 13,
    "start_time": "2023-10-28T12:26:36.302Z"
   },
   {
    "duration": 6,
    "start_time": "2023-10-28T12:26:36.317Z"
   },
   {
    "duration": 17,
    "start_time": "2023-10-28T12:26:36.324Z"
   },
   {
    "duration": 5,
    "start_time": "2023-10-28T12:26:36.343Z"
   },
   {
    "duration": 23,
    "start_time": "2023-10-28T12:26:36.350Z"
   },
   {
    "duration": 37,
    "start_time": "2023-10-28T12:26:36.375Z"
   },
   {
    "duration": 6,
    "start_time": "2023-10-28T12:26:36.414Z"
   },
   {
    "duration": 35,
    "start_time": "2023-10-28T12:26:36.422Z"
   },
   {
    "duration": 5,
    "start_time": "2023-10-28T12:26:36.459Z"
   },
   {
    "duration": 11,
    "start_time": "2023-10-28T12:26:36.466Z"
   },
   {
    "duration": 35,
    "start_time": "2023-10-28T12:26:36.478Z"
   },
   {
    "duration": 38,
    "start_time": "2023-10-28T12:26:36.515Z"
   },
   {
    "duration": 14,
    "start_time": "2023-10-28T12:26:36.555Z"
   },
   {
    "duration": 11,
    "start_time": "2023-10-28T12:26:36.571Z"
   },
   {
    "duration": 5467,
    "start_time": "2023-10-28T12:26:36.584Z"
   },
   {
    "duration": 1698,
    "start_time": "2023-10-28T12:26:42.052Z"
   },
   {
    "duration": 882,
    "start_time": "2023-10-28T12:26:43.752Z"
   },
   {
    "duration": 1369,
    "start_time": "2023-10-28T17:58:12.205Z"
   },
   {
    "duration": 79,
    "start_time": "2023-10-28T17:58:13.575Z"
   },
   {
    "duration": 16,
    "start_time": "2023-10-28T17:58:13.656Z"
   },
   {
    "duration": 25,
    "start_time": "2023-10-28T17:58:13.674Z"
   },
   {
    "duration": 20,
    "start_time": "2023-10-28T17:58:13.700Z"
   },
   {
    "duration": 36,
    "start_time": "2023-10-28T17:58:13.721Z"
   },
   {
    "duration": 54,
    "start_time": "2023-10-28T17:58:13.759Z"
   },
   {
    "duration": 66,
    "start_time": "2023-10-28T17:58:13.814Z"
   },
   {
    "duration": 10,
    "start_time": "2023-10-28T17:58:13.882Z"
   },
   {
    "duration": 55,
    "start_time": "2023-10-28T17:58:13.894Z"
   },
   {
    "duration": 85,
    "start_time": "2023-10-28T17:58:13.951Z"
   },
   {
    "duration": 28,
    "start_time": "2023-10-28T17:58:14.038Z"
   },
   {
    "duration": 47,
    "start_time": "2023-10-28T17:58:14.069Z"
   },
   {
    "duration": 38,
    "start_time": "2023-10-28T17:58:14.118Z"
   },
   {
    "duration": 71,
    "start_time": "2023-10-28T17:58:14.158Z"
   },
   {
    "duration": 40,
    "start_time": "2023-10-28T17:58:14.231Z"
   },
   {
    "duration": 38,
    "start_time": "2023-10-28T17:58:14.274Z"
   },
   {
    "duration": 4723,
    "start_time": "2023-10-28T17:58:14.314Z"
   },
   {
    "duration": 1625,
    "start_time": "2023-10-28T17:58:19.039Z"
   },
   {
    "duration": 824,
    "start_time": "2023-10-28T17:58:20.666Z"
   },
   {
    "duration": 842,
    "start_time": "2023-10-28T17:59:58.594Z"
   },
   {
    "duration": 27,
    "start_time": "2023-10-28T18:06:51.522Z"
   },
   {
    "duration": 22,
    "start_time": "2023-10-28T18:08:03.155Z"
   },
   {
    "duration": 25,
    "start_time": "2023-10-28T18:12:02.571Z"
   },
   {
    "duration": 97,
    "start_time": "2023-10-28T18:12:55.515Z"
   },
   {
    "duration": 98,
    "start_time": "2023-10-28T18:13:51.468Z"
   },
   {
    "duration": 1204,
    "start_time": "2023-10-28T18:13:55.533Z"
   },
   {
    "duration": 41,
    "start_time": "2023-10-28T18:13:56.739Z"
   },
   {
    "duration": 17,
    "start_time": "2023-10-28T18:13:56.781Z"
   },
   {
    "duration": 10,
    "start_time": "2023-10-28T18:13:56.800Z"
   },
   {
    "duration": 2,
    "start_time": "2023-10-28T18:13:56.812Z"
   },
   {
    "duration": 11,
    "start_time": "2023-10-28T18:13:56.816Z"
   },
   {
    "duration": 8,
    "start_time": "2023-10-28T18:13:56.828Z"
   },
   {
    "duration": 33,
    "start_time": "2023-10-28T18:13:56.837Z"
   },
   {
    "duration": 6,
    "start_time": "2023-10-28T18:13:56.872Z"
   },
   {
    "duration": 14,
    "start_time": "2023-10-28T18:13:56.880Z"
   },
   {
    "duration": 20,
    "start_time": "2023-10-28T18:13:56.896Z"
   },
   {
    "duration": 10,
    "start_time": "2023-10-28T18:13:56.917Z"
   },
   {
    "duration": 17,
    "start_time": "2023-10-28T18:13:56.928Z"
   },
   {
    "duration": 5,
    "start_time": "2023-10-28T18:13:56.946Z"
   },
   {
    "duration": 50,
    "start_time": "2023-10-28T18:13:56.952Z"
   },
   {
    "duration": 9,
    "start_time": "2023-10-28T18:13:57.004Z"
   },
   {
    "duration": 131,
    "start_time": "2023-10-28T18:13:57.015Z"
   },
   {
    "duration": 0,
    "start_time": "2023-10-28T18:13:57.148Z"
   },
   {
    "duration": 0,
    "start_time": "2023-10-28T18:13:57.149Z"
   },
   {
    "duration": 0,
    "start_time": "2023-10-28T18:13:57.150Z"
   },
   {
    "duration": 0,
    "start_time": "2023-10-28T18:13:57.151Z"
   },
   {
    "duration": 361,
    "start_time": "2023-10-28T18:14:18.072Z"
   },
   {
    "duration": 24,
    "start_time": "2023-10-28T18:15:01.275Z"
   },
   {
    "duration": 21,
    "start_time": "2023-10-28T18:16:03.398Z"
   },
   {
    "duration": 22,
    "start_time": "2023-10-28T18:17:22.976Z"
   },
   {
    "duration": 1112,
    "start_time": "2023-10-28T18:17:46.233Z"
   },
   {
    "duration": 42,
    "start_time": "2023-10-28T18:17:47.346Z"
   },
   {
    "duration": 21,
    "start_time": "2023-10-28T18:17:47.389Z"
   },
   {
    "duration": 14,
    "start_time": "2023-10-28T18:17:47.412Z"
   },
   {
    "duration": 3,
    "start_time": "2023-10-28T18:17:47.427Z"
   },
   {
    "duration": 15,
    "start_time": "2023-10-28T18:17:47.432Z"
   },
   {
    "duration": 5,
    "start_time": "2023-10-28T18:17:47.449Z"
   },
   {
    "duration": 30,
    "start_time": "2023-10-28T18:17:47.456Z"
   },
   {
    "duration": 25,
    "start_time": "2023-10-28T18:17:47.487Z"
   },
   {
    "duration": 44,
    "start_time": "2023-10-28T18:17:47.515Z"
   },
   {
    "duration": 41,
    "start_time": "2023-10-28T18:17:47.560Z"
   },
   {
    "duration": 5,
    "start_time": "2023-10-28T18:17:47.603Z"
   },
   {
    "duration": 9,
    "start_time": "2023-10-28T18:17:47.610Z"
   },
   {
    "duration": 5,
    "start_time": "2023-10-28T18:17:47.621Z"
   },
   {
    "duration": 39,
    "start_time": "2023-10-28T18:17:47.628Z"
   },
   {
    "duration": 9,
    "start_time": "2023-10-28T18:17:47.669Z"
   },
   {
    "duration": 24,
    "start_time": "2023-10-28T18:17:47.679Z"
   },
   {
    "duration": 6,
    "start_time": "2023-10-28T18:17:47.705Z"
   },
   {
    "duration": 4761,
    "start_time": "2023-10-28T18:17:47.712Z"
   },
   {
    "duration": 1580,
    "start_time": "2023-10-28T18:17:52.474Z"
   },
   {
    "duration": 1474,
    "start_time": "2023-10-28T18:17:54.056Z"
   },
   {
    "duration": 1207,
    "start_time": "2023-10-28T18:21:06.561Z"
   },
   {
    "duration": 1396,
    "start_time": "2023-10-28T18:24:55.397Z"
   },
   {
    "duration": 4,
    "start_time": "2023-10-28T18:26:03.830Z"
   },
   {
    "duration": 1401,
    "start_time": "2023-10-28T18:26:19.594Z"
   },
   {
    "duration": 1558,
    "start_time": "2023-10-28T18:26:53.620Z"
   },
   {
    "duration": 1441,
    "start_time": "2023-10-28T18:27:07.005Z"
   },
   {
    "duration": 1524,
    "start_time": "2023-10-28T18:27:17.587Z"
   },
   {
    "duration": 11,
    "start_time": "2023-10-28T19:11:22.378Z"
   },
   {
    "duration": 106,
    "start_time": "2023-10-28T19:24:47.427Z"
   },
   {
    "duration": 105,
    "start_time": "2023-10-28T19:25:11.376Z"
   },
   {
    "duration": 90,
    "start_time": "2023-10-28T19:25:35.627Z"
   },
   {
    "duration": 100,
    "start_time": "2023-10-28T19:26:16.472Z"
   },
   {
    "duration": 89,
    "start_time": "2023-10-28T19:26:38.272Z"
   },
   {
    "duration": 105,
    "start_time": "2023-10-28T19:34:00.307Z"
   },
   {
    "duration": 151,
    "start_time": "2023-10-28T19:34:36.517Z"
   },
   {
    "duration": 112,
    "start_time": "2023-10-28T19:35:06.601Z"
   },
   {
    "duration": 1116,
    "start_time": "2023-10-28T19:35:13.092Z"
   },
   {
    "duration": 47,
    "start_time": "2023-10-28T19:35:14.214Z"
   },
   {
    "duration": 24,
    "start_time": "2023-10-28T19:35:14.263Z"
   },
   {
    "duration": 28,
    "start_time": "2023-10-28T19:35:14.289Z"
   },
   {
    "duration": 24,
    "start_time": "2023-10-28T19:35:14.318Z"
   },
   {
    "duration": 28,
    "start_time": "2023-10-28T19:35:14.344Z"
   },
   {
    "duration": 34,
    "start_time": "2023-10-28T19:35:14.373Z"
   },
   {
    "duration": 40,
    "start_time": "2023-10-28T19:35:14.408Z"
   },
   {
    "duration": 49,
    "start_time": "2023-10-28T19:35:14.451Z"
   },
   {
    "duration": 25,
    "start_time": "2023-10-28T19:35:14.502Z"
   },
   {
    "duration": 60,
    "start_time": "2023-10-28T19:35:14.528Z"
   },
   {
    "duration": 5,
    "start_time": "2023-10-28T19:35:14.589Z"
   },
   {
    "duration": 39,
    "start_time": "2023-10-28T19:35:14.596Z"
   },
   {
    "duration": 42,
    "start_time": "2023-10-28T19:35:14.636Z"
   },
   {
    "duration": 49,
    "start_time": "2023-10-28T19:35:14.680Z"
   },
   {
    "duration": 10,
    "start_time": "2023-10-28T19:35:14.731Z"
   },
   {
    "duration": 27,
    "start_time": "2023-10-28T19:35:14.743Z"
   },
   {
    "duration": 6,
    "start_time": "2023-10-28T19:35:14.771Z"
   },
   {
    "duration": 4958,
    "start_time": "2023-10-28T19:35:14.779Z"
   },
   {
    "duration": 1836,
    "start_time": "2023-10-28T19:35:19.743Z"
   },
   {
    "duration": 1482,
    "start_time": "2023-10-28T19:35:21.580Z"
   },
   {
    "duration": 102,
    "start_time": "2023-10-28T19:35:23.063Z"
   },
   {
    "duration": 22,
    "start_time": "2023-10-28T19:37:17.314Z"
   },
   {
    "duration": 17,
    "start_time": "2023-10-28T19:37:40.621Z"
   },
   {
    "duration": 9,
    "start_time": "2023-10-28T20:00:46.154Z"
   },
   {
    "duration": 11,
    "start_time": "2023-10-28T20:01:02.254Z"
   },
   {
    "duration": 10,
    "start_time": "2023-10-28T20:01:15.854Z"
   },
   {
    "duration": 9,
    "start_time": "2023-10-28T20:01:24.801Z"
   },
   {
    "duration": 10,
    "start_time": "2023-10-28T20:01:34.609Z"
   },
   {
    "duration": 16,
    "start_time": "2023-10-28T20:04:21.268Z"
   },
   {
    "duration": 9,
    "start_time": "2023-10-28T20:04:28.254Z"
   },
   {
    "duration": 16,
    "start_time": "2023-10-28T20:06:43.850Z"
   },
   {
    "duration": 9,
    "start_time": "2023-10-28T20:07:21.398Z"
   },
   {
    "duration": 9,
    "start_time": "2023-10-28T20:07:28.867Z"
   },
   {
    "duration": 4,
    "start_time": "2023-10-28T20:11:59.091Z"
   },
   {
    "duration": 11,
    "start_time": "2023-10-28T20:12:08.753Z"
   },
   {
    "duration": 1103,
    "start_time": "2023-10-28T20:12:37.963Z"
   },
   {
    "duration": 43,
    "start_time": "2023-10-28T20:12:39.068Z"
   },
   {
    "duration": 20,
    "start_time": "2023-10-28T20:12:39.112Z"
   },
   {
    "duration": 13,
    "start_time": "2023-10-28T20:12:39.134Z"
   },
   {
    "duration": 22,
    "start_time": "2023-10-28T20:12:39.149Z"
   },
   {
    "duration": 21,
    "start_time": "2023-10-28T20:12:39.173Z"
   },
   {
    "duration": 23,
    "start_time": "2023-10-28T20:12:39.196Z"
   },
   {
    "duration": 30,
    "start_time": "2023-10-28T20:12:39.221Z"
   },
   {
    "duration": 8,
    "start_time": "2023-10-28T20:12:39.254Z"
   },
   {
    "duration": 8,
    "start_time": "2023-10-28T20:12:39.265Z"
   },
   {
    "duration": 23,
    "start_time": "2023-10-28T20:12:39.275Z"
   },
   {
    "duration": 6,
    "start_time": "2023-10-28T20:12:39.300Z"
   },
   {
    "duration": 16,
    "start_time": "2023-10-28T20:12:39.307Z"
   },
   {
    "duration": 6,
    "start_time": "2023-10-28T20:12:39.344Z"
   },
   {
    "duration": 40,
    "start_time": "2023-10-28T20:12:39.351Z"
   },
   {
    "duration": 8,
    "start_time": "2023-10-28T20:12:39.392Z"
   },
   {
    "duration": 43,
    "start_time": "2023-10-28T20:12:39.402Z"
   },
   {
    "duration": 5,
    "start_time": "2023-10-28T20:12:39.447Z"
   },
   {
    "duration": 4944,
    "start_time": "2023-10-28T20:12:39.453Z"
   },
   {
    "duration": 1705,
    "start_time": "2023-10-28T20:12:44.399Z"
   },
   {
    "duration": 1516,
    "start_time": "2023-10-28T20:12:46.106Z"
   },
   {
    "duration": 16,
    "start_time": "2023-10-28T20:12:47.624Z"
   },
   {
    "duration": 10,
    "start_time": "2023-10-28T20:12:47.641Z"
   },
   {
    "duration": 1209,
    "start_time": "2023-10-28T20:13:44.555Z"
   },
   {
    "duration": 42,
    "start_time": "2023-10-28T20:13:45.767Z"
   },
   {
    "duration": 19,
    "start_time": "2023-10-28T20:13:45.811Z"
   },
   {
    "duration": 19,
    "start_time": "2023-10-28T20:13:45.833Z"
   },
   {
    "duration": 3,
    "start_time": "2023-10-28T20:13:45.854Z"
   },
   {
    "duration": 14,
    "start_time": "2023-10-28T20:13:45.859Z"
   },
   {
    "duration": 8,
    "start_time": "2023-10-28T20:13:45.875Z"
   },
   {
    "duration": 29,
    "start_time": "2023-10-28T20:13:45.884Z"
   },
   {
    "duration": 37,
    "start_time": "2023-10-28T20:13:45.915Z"
   },
   {
    "duration": 19,
    "start_time": "2023-10-28T20:13:45.954Z"
   },
   {
    "duration": 25,
    "start_time": "2023-10-28T20:13:45.974Z"
   },
   {
    "duration": 6,
    "start_time": "2023-10-28T20:13:46.001Z"
   },
   {
    "duration": 17,
    "start_time": "2023-10-28T20:13:46.008Z"
   },
   {
    "duration": 20,
    "start_time": "2023-10-28T20:13:46.026Z"
   },
   {
    "duration": 44,
    "start_time": "2023-10-28T20:13:46.048Z"
   },
   {
    "duration": 10,
    "start_time": "2023-10-28T20:13:46.095Z"
   },
   {
    "duration": 62,
    "start_time": "2023-10-28T20:13:46.107Z"
   },
   {
    "duration": 8,
    "start_time": "2023-10-28T20:13:46.171Z"
   },
   {
    "duration": 5140,
    "start_time": "2023-10-28T20:13:46.181Z"
   },
   {
    "duration": 1785,
    "start_time": "2023-10-28T20:13:51.322Z"
   },
   {
    "duration": 1809,
    "start_time": "2023-10-28T20:13:53.109Z"
   },
   {
    "duration": 18,
    "start_time": "2023-10-28T20:13:54.920Z"
   },
   {
    "duration": 11,
    "start_time": "2023-10-28T20:13:54.939Z"
   },
   {
    "duration": 110,
    "start_time": "2023-10-28T20:14:03.967Z"
   },
   {
    "duration": 5,
    "start_time": "2023-10-28T20:14:11.096Z"
   },
   {
    "duration": 10,
    "start_time": "2023-10-28T20:22:46.227Z"
   },
   {
    "duration": 18,
    "start_time": "2023-10-28T20:22:53.810Z"
   },
   {
    "duration": 25,
    "start_time": "2023-10-28T20:23:24.261Z"
   },
   {
    "duration": 11,
    "start_time": "2023-10-28T20:23:25.209Z"
   },
   {
    "duration": 11,
    "start_time": "2023-10-28T20:24:14.389Z"
   },
   {
    "duration": 11,
    "start_time": "2023-10-28T20:31:56.930Z"
   },
   {
    "duration": 16,
    "start_time": "2023-10-28T20:32:44.795Z"
   },
   {
    "duration": 11,
    "start_time": "2023-10-28T20:32:45.741Z"
   },
   {
    "duration": 1333,
    "start_time": "2023-10-29T10:50:48.503Z"
   },
   {
    "duration": 79,
    "start_time": "2023-10-29T10:50:49.838Z"
   },
   {
    "duration": 18,
    "start_time": "2023-10-29T10:50:49.919Z"
   },
   {
    "duration": 14,
    "start_time": "2023-10-29T10:50:49.939Z"
   },
   {
    "duration": 23,
    "start_time": "2023-10-29T10:50:49.955Z"
   },
   {
    "duration": 24,
    "start_time": "2023-10-29T10:50:49.980Z"
   },
   {
    "duration": 28,
    "start_time": "2023-10-29T10:50:50.005Z"
   },
   {
    "duration": 95,
    "start_time": "2023-10-29T10:50:50.035Z"
   },
   {
    "duration": 10,
    "start_time": "2023-10-29T10:50:50.132Z"
   },
   {
    "duration": 6,
    "start_time": "2023-10-29T10:50:50.145Z"
   },
   {
    "duration": 47,
    "start_time": "2023-10-29T10:50:50.153Z"
   },
   {
    "duration": 16,
    "start_time": "2023-10-29T10:50:50.201Z"
   },
   {
    "duration": 45,
    "start_time": "2023-10-29T10:50:50.219Z"
   },
   {
    "duration": 8,
    "start_time": "2023-10-29T10:50:50.266Z"
   },
   {
    "duration": 52,
    "start_time": "2023-10-29T10:50:50.276Z"
   },
   {
    "duration": 24,
    "start_time": "2023-10-29T10:50:50.330Z"
   },
   {
    "duration": 86,
    "start_time": "2023-10-29T10:50:50.356Z"
   },
   {
    "duration": 5,
    "start_time": "2023-10-29T10:50:50.444Z"
   },
   {
    "duration": 5075,
    "start_time": "2023-10-29T10:50:50.450Z"
   },
   {
    "duration": 1924,
    "start_time": "2023-10-29T10:50:55.527Z"
   },
   {
    "duration": 1545,
    "start_time": "2023-10-29T10:50:57.453Z"
   },
   {
    "duration": 16,
    "start_time": "2023-10-29T10:50:59.000Z"
   },
   {
    "duration": 29,
    "start_time": "2023-10-29T10:50:59.017Z"
   },
   {
    "duration": 102,
    "start_time": "2023-10-29T11:07:50.704Z"
   },
   {
    "duration": 654,
    "start_time": "2023-10-29T11:16:06.195Z"
   },
   {
    "duration": 6,
    "start_time": "2023-10-29T12:39:28.582Z"
   },
   {
    "duration": 22,
    "start_time": "2023-10-29T12:41:25.167Z"
   },
   {
    "duration": 1254,
    "start_time": "2023-10-29T12:41:44.541Z"
   },
   {
    "duration": 40,
    "start_time": "2023-10-29T12:41:45.797Z"
   },
   {
    "duration": 29,
    "start_time": "2023-10-29T12:41:45.838Z"
   },
   {
    "duration": 15,
    "start_time": "2023-10-29T12:41:45.870Z"
   },
   {
    "duration": 7,
    "start_time": "2023-10-29T12:41:45.886Z"
   },
   {
    "duration": 20,
    "start_time": "2023-10-29T12:41:45.895Z"
   },
   {
    "duration": 10,
    "start_time": "2023-10-29T12:41:45.916Z"
   },
   {
    "duration": 43,
    "start_time": "2023-10-29T12:41:45.928Z"
   },
   {
    "duration": 8,
    "start_time": "2023-10-29T12:41:45.973Z"
   },
   {
    "duration": 6,
    "start_time": "2023-10-29T12:41:45.985Z"
   },
   {
    "duration": 23,
    "start_time": "2023-10-29T12:41:45.993Z"
   },
   {
    "duration": 29,
    "start_time": "2023-10-29T12:41:46.017Z"
   },
   {
    "duration": 10,
    "start_time": "2023-10-29T12:41:46.048Z"
   },
   {
    "duration": 9,
    "start_time": "2023-10-29T12:41:46.061Z"
   },
   {
    "duration": 36,
    "start_time": "2023-10-29T12:41:46.071Z"
   },
   {
    "duration": 37,
    "start_time": "2023-10-29T12:41:46.108Z"
   },
   {
    "duration": 32,
    "start_time": "2023-10-29T12:41:46.147Z"
   },
   {
    "duration": 5,
    "start_time": "2023-10-29T12:41:46.180Z"
   },
   {
    "duration": 5306,
    "start_time": "2023-10-29T12:41:46.186Z"
   },
   {
    "duration": 1915,
    "start_time": "2023-10-29T12:41:51.494Z"
   },
   {
    "duration": 1731,
    "start_time": "2023-10-29T12:41:53.411Z"
   },
   {
    "duration": 27,
    "start_time": "2023-10-29T12:41:55.144Z"
   },
   {
    "duration": 10,
    "start_time": "2023-10-29T12:41:55.172Z"
   },
   {
    "duration": 8,
    "start_time": "2023-10-29T12:41:55.184Z"
   },
   {
    "duration": 18,
    "start_time": "2023-10-29T12:41:55.194Z"
   },
   {
    "duration": 111,
    "start_time": "2023-10-29T12:42:32.440Z"
   },
   {
    "duration": 4,
    "start_time": "2023-10-29T12:45:08.499Z"
   },
   {
    "duration": 4,
    "start_time": "2023-10-29T12:45:35.341Z"
   },
   {
    "duration": 8,
    "start_time": "2023-10-29T12:45:45.033Z"
   },
   {
    "duration": 48,
    "start_time": "2023-10-29T18:28:18.310Z"
   },
   {
    "duration": 1343,
    "start_time": "2023-10-29T18:32:20.679Z"
   },
   {
    "duration": 146,
    "start_time": "2023-10-29T18:32:22.024Z"
   },
   {
    "duration": 19,
    "start_time": "2023-10-29T18:32:22.172Z"
   },
   {
    "duration": 36,
    "start_time": "2023-10-29T18:32:22.193Z"
   },
   {
    "duration": 5,
    "start_time": "2023-10-29T18:32:22.231Z"
   },
   {
    "duration": 18,
    "start_time": "2023-10-29T18:32:22.238Z"
   },
   {
    "duration": 16,
    "start_time": "2023-10-29T18:32:22.257Z"
   },
   {
    "duration": 40,
    "start_time": "2023-10-29T18:32:22.274Z"
   },
   {
    "duration": 8,
    "start_time": "2023-10-29T18:32:22.316Z"
   },
   {
    "duration": 16,
    "start_time": "2023-10-29T18:32:22.326Z"
   },
   {
    "duration": 40,
    "start_time": "2023-10-29T18:32:22.344Z"
   },
   {
    "duration": 6,
    "start_time": "2023-10-29T18:32:22.387Z"
   },
   {
    "duration": 27,
    "start_time": "2023-10-29T18:32:22.394Z"
   },
   {
    "duration": 29,
    "start_time": "2023-10-29T18:32:22.423Z"
   },
   {
    "duration": 39,
    "start_time": "2023-10-29T18:32:22.454Z"
   },
   {
    "duration": 9,
    "start_time": "2023-10-29T18:32:22.495Z"
   },
   {
    "duration": 50,
    "start_time": "2023-10-29T18:32:22.505Z"
   },
   {
    "duration": 8,
    "start_time": "2023-10-29T18:32:22.557Z"
   },
   {
    "duration": 5273,
    "start_time": "2023-10-29T18:32:22.567Z"
   },
   {
    "duration": 1830,
    "start_time": "2023-10-29T18:32:27.841Z"
   },
   {
    "duration": 1573,
    "start_time": "2023-10-29T18:32:29.673Z"
   },
   {
    "duration": 17,
    "start_time": "2023-10-29T18:32:31.248Z"
   },
   {
    "duration": 96,
    "start_time": "2023-10-29T18:32:31.267Z"
   },
   {
    "duration": 199,
    "start_time": "2023-10-29T18:32:31.365Z"
   },
   {
    "duration": 110,
    "start_time": "2023-10-29T18:32:31.565Z"
   },
   {
    "duration": 58,
    "start_time": "2023-10-29T18:32:31.677Z"
   },
   {
    "duration": 28,
    "start_time": "2023-10-29T18:32:31.736Z"
   },
   {
    "duration": 32,
    "start_time": "2023-10-29T18:32:31.767Z"
   },
   {
    "duration": 18,
    "start_time": "2023-10-29T18:32:31.801Z"
   },
   {
    "duration": 44,
    "start_time": "2023-10-29T18:32:31.821Z"
   },
   {
    "duration": 18,
    "start_time": "2023-10-29T18:32:31.867Z"
   },
   {
    "duration": 11,
    "start_time": "2023-10-29T18:44:07.992Z"
   },
   {
    "duration": 10,
    "start_time": "2023-10-29T19:00:23.524Z"
   },
   {
    "duration": 1198,
    "start_time": "2023-10-29T19:02:29.622Z"
   },
   {
    "duration": 41,
    "start_time": "2023-10-29T19:02:30.822Z"
   },
   {
    "duration": 24,
    "start_time": "2023-10-29T19:02:30.865Z"
   },
   {
    "duration": 72,
    "start_time": "2023-10-29T19:02:30.891Z"
   },
   {
    "duration": 75,
    "start_time": "2023-10-29T19:02:30.965Z"
   },
   {
    "duration": 153,
    "start_time": "2023-10-29T19:02:31.042Z"
   },
   {
    "duration": 310,
    "start_time": "2023-10-29T19:02:31.197Z"
   },
   {
    "duration": 136,
    "start_time": "2023-10-29T19:02:31.509Z"
   },
   {
    "duration": 29,
    "start_time": "2023-10-29T19:02:31.647Z"
   },
   {
    "duration": 82,
    "start_time": "2023-10-29T19:02:31.679Z"
   },
   {
    "duration": 37,
    "start_time": "2023-10-29T19:02:31.763Z"
   },
   {
    "duration": 30,
    "start_time": "2023-10-29T19:02:31.802Z"
   },
   {
    "duration": 36,
    "start_time": "2023-10-29T19:02:31.834Z"
   },
   {
    "duration": 31,
    "start_time": "2023-10-29T19:02:31.872Z"
   },
   {
    "duration": 66,
    "start_time": "2023-10-29T19:02:31.904Z"
   },
   {
    "duration": 43,
    "start_time": "2023-10-29T19:02:31.972Z"
   },
   {
    "duration": 89,
    "start_time": "2023-10-29T19:02:32.017Z"
   },
   {
    "duration": 30,
    "start_time": "2023-10-29T19:02:32.108Z"
   },
   {
    "duration": 5091,
    "start_time": "2023-10-29T19:02:32.140Z"
   },
   {
    "duration": 1808,
    "start_time": "2023-10-29T19:02:37.233Z"
   },
   {
    "duration": 1588,
    "start_time": "2023-10-29T19:02:39.042Z"
   },
   {
    "duration": 18,
    "start_time": "2023-10-29T19:02:40.632Z"
   },
   {
    "duration": 14,
    "start_time": "2023-10-29T19:02:40.651Z"
   },
   {
    "duration": 18,
    "start_time": "2023-10-29T19:02:40.666Z"
   },
   {
    "duration": 7,
    "start_time": "2023-10-29T19:02:40.685Z"
   },
   {
    "duration": 25,
    "start_time": "2023-10-29T19:02:40.694Z"
   },
   {
    "duration": 11,
    "start_time": "2023-10-29T19:02:40.721Z"
   },
   {
    "duration": 7,
    "start_time": "2023-10-29T19:02:40.735Z"
   },
   {
    "duration": 22,
    "start_time": "2023-10-29T19:02:40.743Z"
   },
   {
    "duration": 11,
    "start_time": "2023-10-29T19:02:40.767Z"
   },
   {
    "duration": 13,
    "start_time": "2023-10-29T19:02:40.780Z"
   },
   {
    "duration": 1165,
    "start_time": "2023-10-29T19:03:04.439Z"
   },
   {
    "duration": 42,
    "start_time": "2023-10-29T19:03:05.606Z"
   },
   {
    "duration": 18,
    "start_time": "2023-10-29T19:03:05.649Z"
   },
   {
    "duration": 17,
    "start_time": "2023-10-29T19:03:05.669Z"
   },
   {
    "duration": 5,
    "start_time": "2023-10-29T19:03:05.687Z"
   },
   {
    "duration": 35,
    "start_time": "2023-10-29T19:03:05.694Z"
   },
   {
    "duration": 15,
    "start_time": "2023-10-29T19:03:05.731Z"
   },
   {
    "duration": 29,
    "start_time": "2023-10-29T19:03:05.748Z"
   },
   {
    "duration": 7,
    "start_time": "2023-10-29T19:03:05.779Z"
   },
   {
    "duration": 28,
    "start_time": "2023-10-29T19:03:05.790Z"
   },
   {
    "duration": 82,
    "start_time": "2023-10-29T19:03:05.820Z"
   },
   {
    "duration": 6,
    "start_time": "2023-10-29T19:03:05.904Z"
   },
   {
    "duration": 31,
    "start_time": "2023-10-29T19:03:05.911Z"
   },
   {
    "duration": 15,
    "start_time": "2023-10-29T19:03:05.944Z"
   },
   {
    "duration": 44,
    "start_time": "2023-10-29T19:03:05.960Z"
   },
   {
    "duration": 8,
    "start_time": "2023-10-29T19:03:06.005Z"
   },
   {
    "duration": 31,
    "start_time": "2023-10-29T19:03:06.015Z"
   },
   {
    "duration": 5,
    "start_time": "2023-10-29T19:03:06.048Z"
   },
   {
    "duration": 5047,
    "start_time": "2023-10-29T19:03:06.054Z"
   },
   {
    "duration": 1811,
    "start_time": "2023-10-29T19:03:11.102Z"
   },
   {
    "duration": 1547,
    "start_time": "2023-10-29T19:03:12.915Z"
   },
   {
    "duration": 16,
    "start_time": "2023-10-29T19:03:14.463Z"
   },
   {
    "duration": 22,
    "start_time": "2023-10-29T19:03:14.480Z"
   },
   {
    "duration": 29,
    "start_time": "2023-10-29T19:03:14.504Z"
   },
   {
    "duration": 45,
    "start_time": "2023-10-29T19:03:14.535Z"
   },
   {
    "duration": 17,
    "start_time": "2023-10-29T19:03:14.582Z"
   },
   {
    "duration": 22,
    "start_time": "2023-10-29T19:03:14.602Z"
   },
   {
    "duration": 39,
    "start_time": "2023-10-29T19:03:14.629Z"
   },
   {
    "duration": 48,
    "start_time": "2023-10-29T19:03:14.670Z"
   },
   {
    "duration": 26,
    "start_time": "2023-10-29T19:03:14.720Z"
   },
   {
    "duration": 44,
    "start_time": "2023-10-29T19:03:14.748Z"
   },
   {
    "duration": 61,
    "start_time": "2023-10-30T06:40:31.923Z"
   },
   {
    "duration": 1438,
    "start_time": "2023-10-30T06:40:38.257Z"
   },
   {
    "duration": 158,
    "start_time": "2023-10-30T06:40:39.697Z"
   },
   {
    "duration": 21,
    "start_time": "2023-10-30T06:40:39.861Z"
   },
   {
    "duration": 14,
    "start_time": "2023-10-30T06:40:39.885Z"
   },
   {
    "duration": 4,
    "start_time": "2023-10-30T06:40:39.901Z"
   },
   {
    "duration": 16,
    "start_time": "2023-10-30T06:40:39.908Z"
   },
   {
    "duration": 11,
    "start_time": "2023-10-30T06:40:39.948Z"
   },
   {
    "duration": 33,
    "start_time": "2023-10-30T06:40:39.965Z"
   },
   {
    "duration": 10,
    "start_time": "2023-10-30T06:40:40.001Z"
   },
   {
    "duration": 21,
    "start_time": "2023-10-30T06:40:40.015Z"
   },
   {
    "duration": 49,
    "start_time": "2023-10-30T06:40:40.038Z"
   },
   {
    "duration": 8,
    "start_time": "2023-10-30T06:40:40.089Z"
   },
   {
    "duration": 8,
    "start_time": "2023-10-30T06:40:40.098Z"
   },
   {
    "duration": 11,
    "start_time": "2023-10-30T06:40:40.108Z"
   },
   {
    "duration": 55,
    "start_time": "2023-10-30T06:40:40.121Z"
   },
   {
    "duration": 9,
    "start_time": "2023-10-30T06:40:40.178Z"
   },
   {
    "duration": 27,
    "start_time": "2023-10-30T06:40:40.189Z"
   },
   {
    "duration": 31,
    "start_time": "2023-10-30T06:40:40.217Z"
   },
   {
    "duration": 7015,
    "start_time": "2023-10-30T06:40:40.254Z"
   },
   {
    "duration": 2053,
    "start_time": "2023-10-30T06:40:47.272Z"
   },
   {
    "duration": 1835,
    "start_time": "2023-10-30T06:40:49.327Z"
   },
   {
    "duration": 19,
    "start_time": "2023-10-30T06:40:51.164Z"
   },
   {
    "duration": 11,
    "start_time": "2023-10-30T06:40:51.185Z"
   },
   {
    "duration": 16,
    "start_time": "2023-10-30T06:40:51.198Z"
   },
   {
    "duration": 9,
    "start_time": "2023-10-30T06:40:51.215Z"
   },
   {
    "duration": 32,
    "start_time": "2023-10-30T06:40:51.226Z"
   },
   {
    "duration": 23,
    "start_time": "2023-10-30T06:40:51.259Z"
   },
   {
    "duration": 7,
    "start_time": "2023-10-30T06:40:51.286Z"
   },
   {
    "duration": 11,
    "start_time": "2023-10-30T06:40:51.295Z"
   },
   {
    "duration": 7,
    "start_time": "2023-10-30T06:40:51.308Z"
   },
   {
    "duration": 17,
    "start_time": "2023-10-30T06:40:51.317Z"
   },
   {
    "duration": 8,
    "start_time": "2023-10-30T07:28:00.857Z"
   },
   {
    "duration": 5940,
    "start_time": "2023-10-30T07:32:29.442Z"
   },
   {
    "duration": 6289,
    "start_time": "2023-10-30T07:34:18.081Z"
   },
   {
    "duration": 6260,
    "start_time": "2023-10-30T07:35:11.581Z"
   },
   {
    "duration": 322,
    "start_time": "2023-10-30T07:36:15.942Z"
   },
   {
    "duration": 6102,
    "start_time": "2023-10-30T07:36:36.462Z"
   },
   {
    "duration": 2108,
    "start_time": "2023-10-30T07:38:32.028Z"
   },
   {
    "duration": 1829,
    "start_time": "2023-10-30T07:39:15.049Z"
   },
   {
    "duration": 147,
    "start_time": "2023-10-30T07:48:44.685Z"
   },
   {
    "duration": 6029,
    "start_time": "2023-10-30T07:49:09.473Z"
   },
   {
    "duration": 1761,
    "start_time": "2023-10-30T07:49:57.840Z"
   },
   {
    "duration": 1409,
    "start_time": "2023-10-30T07:50:19.890Z"
   },
   {
    "duration": 59,
    "start_time": "2023-10-30T07:50:21.301Z"
   },
   {
    "duration": 20,
    "start_time": "2023-10-30T07:50:21.362Z"
   },
   {
    "duration": 14,
    "start_time": "2023-10-30T07:50:21.385Z"
   },
   {
    "duration": 4,
    "start_time": "2023-10-30T07:50:21.401Z"
   },
   {
    "duration": 22,
    "start_time": "2023-10-30T07:50:21.407Z"
   },
   {
    "duration": 5,
    "start_time": "2023-10-30T07:50:21.431Z"
   },
   {
    "duration": 22,
    "start_time": "2023-10-30T07:50:21.450Z"
   },
   {
    "duration": 7,
    "start_time": "2023-10-30T07:50:21.473Z"
   },
   {
    "duration": 13,
    "start_time": "2023-10-30T07:50:21.482Z"
   },
   {
    "duration": 7,
    "start_time": "2023-10-30T07:50:21.496Z"
   },
   {
    "duration": 61,
    "start_time": "2023-10-30T07:50:21.505Z"
   },
   {
    "duration": 8,
    "start_time": "2023-10-30T07:50:21.568Z"
   },
   {
    "duration": 9,
    "start_time": "2023-10-30T07:50:21.577Z"
   },
   {
    "duration": 18,
    "start_time": "2023-10-30T07:50:21.588Z"
   },
   {
    "duration": 57,
    "start_time": "2023-10-30T07:50:21.608Z"
   },
   {
    "duration": 25,
    "start_time": "2023-10-30T07:50:21.666Z"
   },
   {
    "duration": 7,
    "start_time": "2023-10-30T07:50:21.692Z"
   },
   {
    "duration": 6171,
    "start_time": "2023-10-30T07:50:21.700Z"
   },
   {
    "duration": 2042,
    "start_time": "2023-10-30T07:50:27.873Z"
   },
   {
    "duration": 3544,
    "start_time": "2023-10-30T07:50:29.918Z"
   },
   {
    "duration": 25,
    "start_time": "2023-10-30T07:50:33.465Z"
   },
   {
    "duration": 14,
    "start_time": "2023-10-30T07:50:33.492Z"
   },
   {
    "duration": 14,
    "start_time": "2023-10-30T07:50:33.508Z"
   },
   {
    "duration": 7,
    "start_time": "2023-10-30T07:50:33.525Z"
   },
   {
    "duration": 14,
    "start_time": "2023-10-30T07:50:33.547Z"
   },
   {
    "duration": 22,
    "start_time": "2023-10-30T07:50:33.564Z"
   },
   {
    "duration": 9,
    "start_time": "2023-10-30T07:50:33.589Z"
   },
   {
    "duration": 8,
    "start_time": "2023-10-30T07:50:33.599Z"
   },
   {
    "duration": 40,
    "start_time": "2023-10-30T07:50:33.608Z"
   },
   {
    "duration": 28,
    "start_time": "2023-10-30T07:50:33.653Z"
   },
   {
    "duration": 1790,
    "start_time": "2023-10-30T07:51:33.944Z"
   },
   {
    "duration": 125,
    "start_time": "2023-10-30T07:57:27.881Z"
   },
   {
    "duration": 1814,
    "start_time": "2023-10-30T07:57:54.803Z"
   },
   {
    "duration": 44,
    "start_time": "2023-10-30T07:58:16.738Z"
   },
   {
    "duration": 1699,
    "start_time": "2023-10-30T07:58:29.871Z"
   },
   {
    "duration": 1738,
    "start_time": "2023-10-30T08:22:30.689Z"
   },
   {
    "duration": 5,
    "start_time": "2023-10-30T08:22:37.727Z"
   },
   {
    "duration": 14,
    "start_time": "2023-10-30T08:23:51.167Z"
   },
   {
    "duration": 13,
    "start_time": "2023-10-30T08:26:55.735Z"
   },
   {
    "duration": 5,
    "start_time": "2023-10-30T08:28:11.424Z"
   },
   {
    "duration": 1256,
    "start_time": "2023-10-30T08:28:19.449Z"
   },
   {
    "duration": 42,
    "start_time": "2023-10-30T08:28:20.707Z"
   },
   {
    "duration": 19,
    "start_time": "2023-10-30T08:28:20.751Z"
   },
   {
    "duration": 25,
    "start_time": "2023-10-30T08:28:20.773Z"
   },
   {
    "duration": 15,
    "start_time": "2023-10-30T08:28:20.800Z"
   },
   {
    "duration": 36,
    "start_time": "2023-10-30T08:28:20.817Z"
   },
   {
    "duration": 7,
    "start_time": "2023-10-30T08:28:20.855Z"
   },
   {
    "duration": 50,
    "start_time": "2023-10-30T08:28:20.864Z"
   },
   {
    "duration": 7,
    "start_time": "2023-10-30T08:28:20.916Z"
   },
   {
    "duration": 21,
    "start_time": "2023-10-30T08:28:20.926Z"
   },
   {
    "duration": 32,
    "start_time": "2023-10-30T08:28:20.949Z"
   },
   {
    "duration": 50,
    "start_time": "2023-10-30T08:28:20.982Z"
   },
   {
    "duration": 6,
    "start_time": "2023-10-30T08:28:21.034Z"
   },
   {
    "duration": 29,
    "start_time": "2023-10-30T08:28:21.041Z"
   },
   {
    "duration": 6,
    "start_time": "2023-10-30T08:28:21.072Z"
   },
   {
    "duration": 22,
    "start_time": "2023-10-30T08:28:21.079Z"
   },
   {
    "duration": 16,
    "start_time": "2023-10-30T08:28:21.103Z"
   },
   {
    "duration": 61,
    "start_time": "2023-10-30T08:28:21.120Z"
   },
   {
    "duration": 25,
    "start_time": "2023-10-30T08:28:21.184Z"
   },
   {
    "duration": 7,
    "start_time": "2023-10-30T08:28:21.211Z"
   },
   {
    "duration": 1218,
    "start_time": "2023-10-30T08:28:26.771Z"
   },
   {
    "duration": 43,
    "start_time": "2023-10-30T08:28:27.991Z"
   },
   {
    "duration": 20,
    "start_time": "2023-10-30T08:28:28.036Z"
   },
   {
    "duration": 25,
    "start_time": "2023-10-30T08:28:28.057Z"
   },
   {
    "duration": 8,
    "start_time": "2023-10-30T08:28:28.084Z"
   },
   {
    "duration": 24,
    "start_time": "2023-10-30T08:28:28.093Z"
   },
   {
    "duration": 6,
    "start_time": "2023-10-30T08:28:28.119Z"
   },
   {
    "duration": 23,
    "start_time": "2023-10-30T08:28:28.127Z"
   },
   {
    "duration": 17,
    "start_time": "2023-10-30T08:28:28.152Z"
   },
   {
    "duration": 18,
    "start_time": "2023-10-30T08:28:28.172Z"
   },
   {
    "duration": 16,
    "start_time": "2023-10-30T08:28:28.192Z"
   },
   {
    "duration": 46,
    "start_time": "2023-10-30T08:28:28.210Z"
   },
   {
    "duration": 6,
    "start_time": "2023-10-30T08:28:28.257Z"
   },
   {
    "duration": 15,
    "start_time": "2023-10-30T08:28:28.265Z"
   },
   {
    "duration": 21,
    "start_time": "2023-10-30T08:28:28.281Z"
   },
   {
    "duration": 28,
    "start_time": "2023-10-30T08:28:28.304Z"
   },
   {
    "duration": 19,
    "start_time": "2023-10-30T08:28:28.334Z"
   },
   {
    "duration": 53,
    "start_time": "2023-10-30T08:28:28.355Z"
   },
   {
    "duration": 25,
    "start_time": "2023-10-30T08:28:28.410Z"
   },
   {
    "duration": 11,
    "start_time": "2023-10-30T08:28:28.437Z"
   },
   {
    "duration": 5865,
    "start_time": "2023-10-30T08:28:28.449Z"
   },
   {
    "duration": 2054,
    "start_time": "2023-10-30T08:28:34.317Z"
   },
   {
    "duration": 1733,
    "start_time": "2023-10-30T08:28:36.373Z"
   },
   {
    "duration": 19,
    "start_time": "2023-10-30T08:28:38.109Z"
   },
   {
    "duration": 65,
    "start_time": "2023-10-30T08:28:38.130Z"
   },
   {
    "duration": 24,
    "start_time": "2023-10-30T08:28:38.197Z"
   },
   {
    "duration": 13,
    "start_time": "2023-10-30T08:28:38.223Z"
   },
   {
    "duration": 38,
    "start_time": "2023-10-30T08:28:38.240Z"
   },
   {
    "duration": 40,
    "start_time": "2023-10-30T08:28:38.279Z"
   },
   {
    "duration": 48,
    "start_time": "2023-10-30T08:28:38.320Z"
   },
   {
    "duration": 21,
    "start_time": "2023-10-30T08:28:38.370Z"
   },
   {
    "duration": 23,
    "start_time": "2023-10-30T08:28:38.393Z"
   },
   {
    "duration": 14,
    "start_time": "2023-10-30T08:28:38.418Z"
   },
   {
    "duration": 5,
    "start_time": "2023-10-30T08:30:44.788Z"
   },
   {
    "duration": 1724,
    "start_time": "2023-10-30T08:52:41.828Z"
   },
   {
    "duration": 1298,
    "start_time": "2023-10-30T12:21:27.025Z"
   },
   {
    "duration": 49,
    "start_time": "2023-10-30T12:21:28.325Z"
   },
   {
    "duration": 20,
    "start_time": "2023-10-30T12:21:28.376Z"
   },
   {
    "duration": 13,
    "start_time": "2023-10-30T12:21:28.398Z"
   },
   {
    "duration": 11,
    "start_time": "2023-10-30T12:21:28.413Z"
   },
   {
    "duration": 32,
    "start_time": "2023-10-30T12:21:28.426Z"
   },
   {
    "duration": 10,
    "start_time": "2023-10-30T12:21:28.460Z"
   },
   {
    "duration": 30,
    "start_time": "2023-10-30T12:21:28.472Z"
   },
   {
    "duration": 15,
    "start_time": "2023-10-30T12:21:28.505Z"
   },
   {
    "duration": 31,
    "start_time": "2023-10-30T12:21:28.522Z"
   },
   {
    "duration": 8,
    "start_time": "2023-10-30T12:21:28.556Z"
   },
   {
    "duration": 58,
    "start_time": "2023-10-30T12:21:28.566Z"
   },
   {
    "duration": 25,
    "start_time": "2023-10-30T12:21:28.626Z"
   },
   {
    "duration": 27,
    "start_time": "2023-10-30T12:21:28.653Z"
   },
   {
    "duration": 29,
    "start_time": "2023-10-30T12:21:28.682Z"
   },
   {
    "duration": 26,
    "start_time": "2023-10-30T12:21:28.712Z"
   },
   {
    "duration": 22,
    "start_time": "2023-10-30T12:21:28.740Z"
   },
   {
    "duration": 55,
    "start_time": "2023-10-30T12:21:28.764Z"
   },
   {
    "duration": 25,
    "start_time": "2023-10-30T12:21:28.821Z"
   },
   {
    "duration": 7,
    "start_time": "2023-10-30T12:21:28.848Z"
   },
   {
    "duration": 6148,
    "start_time": "2023-10-30T12:21:28.858Z"
   },
   {
    "duration": 2092,
    "start_time": "2023-10-30T12:21:35.008Z"
   },
   {
    "duration": 1768,
    "start_time": "2023-10-30T12:21:37.102Z"
   },
   {
    "duration": 18,
    "start_time": "2023-10-30T12:21:38.871Z"
   },
   {
    "duration": 11,
    "start_time": "2023-10-30T12:21:38.890Z"
   },
   {
    "duration": 28,
    "start_time": "2023-10-30T12:21:38.905Z"
   },
   {
    "duration": 7,
    "start_time": "2023-10-30T12:21:38.935Z"
   },
   {
    "duration": 11,
    "start_time": "2023-10-30T12:21:38.944Z"
   },
   {
    "duration": 15,
    "start_time": "2023-10-30T12:21:38.957Z"
   },
   {
    "duration": 146,
    "start_time": "2023-10-30T12:21:38.973Z"
   },
   {
    "duration": 26,
    "start_time": "2023-10-30T12:21:39.120Z"
   },
   {
    "duration": 15,
    "start_time": "2023-10-30T12:21:39.149Z"
   },
   {
    "duration": 28,
    "start_time": "2023-10-30T12:21:39.167Z"
   },
   {
    "duration": 13,
    "start_time": "2023-10-30T12:21:39.196Z"
   },
   {
    "duration": 160,
    "start_time": "2023-10-30T13:17:29.998Z"
   },
   {
    "duration": 26,
    "start_time": "2023-10-30T13:23:20.139Z"
   },
   {
    "duration": 1382,
    "start_time": "2023-10-30T13:23:36.621Z"
   },
   {
    "duration": 42,
    "start_time": "2023-10-30T13:23:38.005Z"
   },
   {
    "duration": 19,
    "start_time": "2023-10-30T13:23:38.049Z"
   },
   {
    "duration": 13,
    "start_time": "2023-10-30T13:23:38.070Z"
   },
   {
    "duration": 3,
    "start_time": "2023-10-30T13:23:38.084Z"
   },
   {
    "duration": 15,
    "start_time": "2023-10-30T13:23:38.089Z"
   },
   {
    "duration": 31,
    "start_time": "2023-10-30T13:23:38.106Z"
   },
   {
    "duration": 32,
    "start_time": "2023-10-30T13:23:38.139Z"
   },
   {
    "duration": 7,
    "start_time": "2023-10-30T13:23:38.173Z"
   },
   {
    "duration": 8,
    "start_time": "2023-10-30T13:23:38.182Z"
   },
   {
    "duration": 20,
    "start_time": "2023-10-30T13:23:38.192Z"
   },
   {
    "duration": 52,
    "start_time": "2023-10-30T13:23:38.213Z"
   },
   {
    "duration": 6,
    "start_time": "2023-10-30T13:23:38.266Z"
   },
   {
    "duration": 5,
    "start_time": "2023-10-30T13:23:38.273Z"
   },
   {
    "duration": 5,
    "start_time": "2023-10-30T13:23:38.280Z"
   },
   {
    "duration": 5,
    "start_time": "2023-10-30T13:23:38.287Z"
   },
   {
    "duration": 5,
    "start_time": "2023-10-30T13:23:38.294Z"
   },
   {
    "duration": 66,
    "start_time": "2023-10-30T13:23:38.300Z"
   },
   {
    "duration": 24,
    "start_time": "2023-10-30T13:23:38.368Z"
   },
   {
    "duration": 81,
    "start_time": "2023-10-30T13:23:38.394Z"
   },
   {
    "duration": 0,
    "start_time": "2023-10-30T13:23:38.477Z"
   },
   {
    "duration": 0,
    "start_time": "2023-10-30T13:23:38.478Z"
   },
   {
    "duration": 0,
    "start_time": "2023-10-30T13:23:38.479Z"
   },
   {
    "duration": 0,
    "start_time": "2023-10-30T13:23:38.480Z"
   },
   {
    "duration": 0,
    "start_time": "2023-10-30T13:23:38.482Z"
   },
   {
    "duration": 0,
    "start_time": "2023-10-30T13:23:38.483Z"
   },
   {
    "duration": 0,
    "start_time": "2023-10-30T13:23:38.484Z"
   },
   {
    "duration": 0,
    "start_time": "2023-10-30T13:23:38.485Z"
   },
   {
    "duration": 0,
    "start_time": "2023-10-30T13:23:38.486Z"
   },
   {
    "duration": 0,
    "start_time": "2023-10-30T13:23:38.487Z"
   },
   {
    "duration": 0,
    "start_time": "2023-10-30T13:23:38.488Z"
   },
   {
    "duration": 0,
    "start_time": "2023-10-30T13:23:38.490Z"
   },
   {
    "duration": 0,
    "start_time": "2023-10-30T13:23:38.491Z"
   },
   {
    "duration": 0,
    "start_time": "2023-10-30T13:23:38.492Z"
   },
   {
    "duration": 0,
    "start_time": "2023-10-30T13:23:38.493Z"
   },
   {
    "duration": 29,
    "start_time": "2023-10-30T14:10:49.102Z"
   },
   {
    "duration": 113,
    "start_time": "2023-10-30T14:17:41.212Z"
   },
   {
    "duration": 20,
    "start_time": "2023-10-30T14:20:21.054Z"
   },
   {
    "duration": 1791,
    "start_time": "2023-10-30T14:20:34.339Z"
   },
   {
    "duration": 43,
    "start_time": "2023-10-30T14:20:36.132Z"
   },
   {
    "duration": 20,
    "start_time": "2023-10-30T14:20:36.177Z"
   },
   {
    "duration": 24,
    "start_time": "2023-10-30T14:20:36.199Z"
   },
   {
    "duration": 3,
    "start_time": "2023-10-30T14:20:36.225Z"
   },
   {
    "duration": 20,
    "start_time": "2023-10-30T14:20:36.230Z"
   },
   {
    "duration": 5,
    "start_time": "2023-10-30T14:20:36.252Z"
   },
   {
    "duration": 29,
    "start_time": "2023-10-30T14:20:36.258Z"
   },
   {
    "duration": 7,
    "start_time": "2023-10-30T14:20:36.289Z"
   },
   {
    "duration": 9,
    "start_time": "2023-10-30T14:20:36.298Z"
   },
   {
    "duration": 42,
    "start_time": "2023-10-30T14:20:36.308Z"
   },
   {
    "duration": 25,
    "start_time": "2023-10-30T14:20:36.352Z"
   },
   {
    "duration": 6,
    "start_time": "2023-10-30T14:20:36.379Z"
   },
   {
    "duration": 10,
    "start_time": "2023-10-30T14:20:36.386Z"
   },
   {
    "duration": 9,
    "start_time": "2023-10-30T14:20:36.398Z"
   },
   {
    "duration": 8,
    "start_time": "2023-10-30T14:20:36.446Z"
   },
   {
    "duration": 14,
    "start_time": "2023-10-30T14:20:36.456Z"
   },
   {
    "duration": 41,
    "start_time": "2023-10-30T14:20:36.472Z"
   },
   {
    "duration": 35,
    "start_time": "2023-10-30T14:20:36.515Z"
   },
   {
    "duration": 23,
    "start_time": "2023-10-30T14:20:36.552Z"
   },
   {
    "duration": 7,
    "start_time": "2023-10-30T14:20:36.577Z"
   },
   {
    "duration": 1313,
    "start_time": "2023-10-30T14:20:41.713Z"
   },
   {
    "duration": 44,
    "start_time": "2023-10-30T14:20:43.028Z"
   },
   {
    "duration": 22,
    "start_time": "2023-10-30T14:20:43.074Z"
   },
   {
    "duration": 39,
    "start_time": "2023-10-30T14:20:43.099Z"
   },
   {
    "duration": 6,
    "start_time": "2023-10-30T14:20:43.139Z"
   },
   {
    "duration": 18,
    "start_time": "2023-10-30T14:20:43.146Z"
   },
   {
    "duration": 5,
    "start_time": "2023-10-30T14:20:43.166Z"
   },
   {
    "duration": 21,
    "start_time": "2023-10-30T14:20:43.173Z"
   },
   {
    "duration": 8,
    "start_time": "2023-10-30T14:20:43.196Z"
   },
   {
    "duration": 43,
    "start_time": "2023-10-30T14:20:43.207Z"
   },
   {
    "duration": 8,
    "start_time": "2023-10-30T14:20:43.252Z"
   },
   {
    "duration": 26,
    "start_time": "2023-10-30T14:20:43.261Z"
   },
   {
    "duration": 7,
    "start_time": "2023-10-30T14:20:43.290Z"
   },
   {
    "duration": 12,
    "start_time": "2023-10-30T14:20:43.299Z"
   },
   {
    "duration": 38,
    "start_time": "2023-10-30T14:20:43.312Z"
   },
   {
    "duration": 6,
    "start_time": "2023-10-30T14:20:43.351Z"
   },
   {
    "duration": 10,
    "start_time": "2023-10-30T14:20:43.358Z"
   },
   {
    "duration": 42,
    "start_time": "2023-10-30T14:20:43.369Z"
   },
   {
    "duration": 38,
    "start_time": "2023-10-30T14:20:43.412Z"
   },
   {
    "duration": 27,
    "start_time": "2023-10-30T14:20:43.452Z"
   },
   {
    "duration": 6,
    "start_time": "2023-10-30T14:20:43.480Z"
   },
   {
    "duration": 5864,
    "start_time": "2023-10-30T14:20:43.488Z"
   },
   {
    "duration": 1976,
    "start_time": "2023-10-30T14:20:49.354Z"
   },
   {
    "duration": 1799,
    "start_time": "2023-10-30T14:20:51.331Z"
   },
   {
    "duration": 26,
    "start_time": "2023-10-30T14:20:53.132Z"
   },
   {
    "duration": 21,
    "start_time": "2023-10-30T14:20:53.160Z"
   },
   {
    "duration": 29,
    "start_time": "2023-10-30T14:20:53.183Z"
   },
   {
    "duration": 8,
    "start_time": "2023-10-30T14:20:53.215Z"
   },
   {
    "duration": 13,
    "start_time": "2023-10-30T14:20:53.226Z"
   },
   {
    "duration": 15,
    "start_time": "2023-10-30T14:20:53.241Z"
   },
   {
    "duration": 15,
    "start_time": "2023-10-30T14:20:53.258Z"
   },
   {
    "duration": 30,
    "start_time": "2023-10-30T14:20:53.275Z"
   },
   {
    "duration": 9,
    "start_time": "2023-10-30T14:20:53.307Z"
   },
   {
    "duration": 27,
    "start_time": "2023-10-30T14:20:53.317Z"
   },
   {
    "duration": 152,
    "start_time": "2023-10-30T14:20:53.345Z"
   },
   {
    "duration": 21,
    "start_time": "2023-10-30T14:21:55.144Z"
   },
   {
    "duration": 1265,
    "start_time": "2023-10-30T14:22:04.029Z"
   },
   {
    "duration": 51,
    "start_time": "2023-10-30T14:22:05.297Z"
   },
   {
    "duration": 29,
    "start_time": "2023-10-30T14:22:05.350Z"
   },
   {
    "duration": 31,
    "start_time": "2023-10-30T14:22:05.383Z"
   },
   {
    "duration": 26,
    "start_time": "2023-10-30T14:22:05.416Z"
   },
   {
    "duration": 33,
    "start_time": "2023-10-30T14:22:05.445Z"
   },
   {
    "duration": 31,
    "start_time": "2023-10-30T14:22:05.481Z"
   },
   {
    "duration": 59,
    "start_time": "2023-10-30T14:22:05.514Z"
   },
   {
    "duration": 20,
    "start_time": "2023-10-30T14:22:05.575Z"
   },
   {
    "duration": 30,
    "start_time": "2023-10-30T14:22:05.599Z"
   },
   {
    "duration": 46,
    "start_time": "2023-10-30T14:22:05.631Z"
   },
   {
    "duration": 61,
    "start_time": "2023-10-30T14:22:05.679Z"
   },
   {
    "duration": 35,
    "start_time": "2023-10-30T14:22:05.742Z"
   },
   {
    "duration": 41,
    "start_time": "2023-10-30T14:22:05.779Z"
   },
   {
    "duration": 47,
    "start_time": "2023-10-30T14:22:05.822Z"
   },
   {
    "duration": 31,
    "start_time": "2023-10-30T14:22:05.871Z"
   },
   {
    "duration": 48,
    "start_time": "2023-10-30T14:22:05.903Z"
   },
   {
    "duration": 83,
    "start_time": "2023-10-30T14:22:05.953Z"
   },
   {
    "duration": 42,
    "start_time": "2023-10-30T14:22:06.038Z"
   },
   {
    "duration": 50,
    "start_time": "2023-10-30T14:22:06.082Z"
   },
   {
    "duration": 12,
    "start_time": "2023-10-30T14:22:06.134Z"
   },
   {
    "duration": 6811,
    "start_time": "2023-10-30T14:22:06.148Z"
   },
   {
    "duration": 2070,
    "start_time": "2023-10-30T14:22:12.960Z"
   },
   {
    "duration": 1829,
    "start_time": "2023-10-30T14:22:15.033Z"
   },
   {
    "duration": 19,
    "start_time": "2023-10-30T14:22:16.864Z"
   },
   {
    "duration": 14,
    "start_time": "2023-10-30T14:22:16.885Z"
   },
   {
    "duration": 15,
    "start_time": "2023-10-30T14:22:16.901Z"
   },
   {
    "duration": 10,
    "start_time": "2023-10-30T14:22:16.919Z"
   },
   {
    "duration": 21,
    "start_time": "2023-10-30T14:22:16.931Z"
   },
   {
    "duration": 15,
    "start_time": "2023-10-30T14:22:16.954Z"
   },
   {
    "duration": 8,
    "start_time": "2023-10-30T14:22:16.971Z"
   },
   {
    "duration": 9,
    "start_time": "2023-10-30T14:22:16.981Z"
   },
   {
    "duration": 9,
    "start_time": "2023-10-30T14:22:16.992Z"
   },
   {
    "duration": 46,
    "start_time": "2023-10-30T14:22:17.003Z"
   },
   {
    "duration": 1658,
    "start_time": "2023-10-30T14:22:17.051Z"
   },
   {
    "duration": 15,
    "start_time": "2023-10-30T14:22:20.897Z"
   },
   {
    "duration": 1308,
    "start_time": "2023-10-30T14:22:27.586Z"
   },
   {
    "duration": 43,
    "start_time": "2023-10-30T14:22:28.896Z"
   },
   {
    "duration": 21,
    "start_time": "2023-10-30T14:22:28.940Z"
   },
   {
    "duration": 33,
    "start_time": "2023-10-30T14:22:28.963Z"
   },
   {
    "duration": 12,
    "start_time": "2023-10-30T14:22:28.998Z"
   },
   {
    "duration": 37,
    "start_time": "2023-10-30T14:22:29.012Z"
   },
   {
    "duration": 26,
    "start_time": "2023-10-30T14:22:29.051Z"
   },
   {
    "duration": 39,
    "start_time": "2023-10-30T14:22:29.078Z"
   },
   {
    "duration": 31,
    "start_time": "2023-10-30T14:22:29.119Z"
   },
   {
    "duration": 32,
    "start_time": "2023-10-30T14:22:29.154Z"
   },
   {
    "duration": 34,
    "start_time": "2023-10-30T14:22:29.188Z"
   },
   {
    "duration": 58,
    "start_time": "2023-10-30T14:22:29.225Z"
   },
   {
    "duration": 8,
    "start_time": "2023-10-30T14:22:29.285Z"
   },
   {
    "duration": 24,
    "start_time": "2023-10-30T14:22:29.295Z"
   },
   {
    "duration": 15,
    "start_time": "2023-10-30T14:22:29.321Z"
   },
   {
    "duration": 25,
    "start_time": "2023-10-30T14:22:29.338Z"
   },
   {
    "duration": 14,
    "start_time": "2023-10-30T14:22:29.365Z"
   },
   {
    "duration": 72,
    "start_time": "2023-10-30T14:22:29.381Z"
   },
   {
    "duration": 22,
    "start_time": "2023-10-30T14:22:29.455Z"
   },
   {
    "duration": 37,
    "start_time": "2023-10-30T14:22:29.479Z"
   },
   {
    "duration": 33,
    "start_time": "2023-10-30T14:22:29.517Z"
   },
   {
    "duration": 6015,
    "start_time": "2023-10-30T14:22:29.551Z"
   },
   {
    "duration": 1953,
    "start_time": "2023-10-30T14:22:35.567Z"
   },
   {
    "duration": 1785,
    "start_time": "2023-10-30T14:22:37.521Z"
   },
   {
    "duration": 19,
    "start_time": "2023-10-30T14:22:39.347Z"
   },
   {
    "duration": 81,
    "start_time": "2023-10-30T14:22:39.367Z"
   },
   {
    "duration": 40,
    "start_time": "2023-10-30T14:22:39.449Z"
   },
   {
    "duration": 58,
    "start_time": "2023-10-30T14:22:39.492Z"
   },
   {
    "duration": 19,
    "start_time": "2023-10-30T14:22:39.552Z"
   },
   {
    "duration": 84,
    "start_time": "2023-10-30T14:22:39.573Z"
   },
   {
    "duration": 43,
    "start_time": "2023-10-30T14:22:39.659Z"
   },
   {
    "duration": 47,
    "start_time": "2023-10-30T14:22:39.703Z"
   },
   {
    "duration": 8,
    "start_time": "2023-10-30T14:22:39.752Z"
   },
   {
    "duration": 32,
    "start_time": "2023-10-30T14:22:39.762Z"
   },
   {
    "duration": 2171,
    "start_time": "2023-10-30T14:22:39.796Z"
   },
   {
    "duration": 1384,
    "start_time": "2023-10-30T14:23:22.117Z"
   },
   {
    "duration": 43,
    "start_time": "2023-10-30T14:23:23.503Z"
   },
   {
    "duration": 19,
    "start_time": "2023-10-30T14:23:23.548Z"
   },
   {
    "duration": 13,
    "start_time": "2023-10-30T14:23:23.570Z"
   },
   {
    "duration": 3,
    "start_time": "2023-10-30T14:23:23.585Z"
   },
   {
    "duration": 15,
    "start_time": "2023-10-30T14:23:23.590Z"
   },
   {
    "duration": 40,
    "start_time": "2023-10-30T14:23:23.607Z"
   },
   {
    "duration": 18,
    "start_time": "2023-10-30T14:23:23.649Z"
   },
   {
    "duration": 6,
    "start_time": "2023-10-30T14:23:23.669Z"
   },
   {
    "duration": 8,
    "start_time": "2023-10-30T14:23:23.678Z"
   },
   {
    "duration": 7,
    "start_time": "2023-10-30T14:23:23.687Z"
   },
   {
    "duration": 71,
    "start_time": "2023-10-30T14:23:23.696Z"
   },
   {
    "duration": 6,
    "start_time": "2023-10-30T14:23:23.769Z"
   },
   {
    "duration": 9,
    "start_time": "2023-10-30T14:23:23.776Z"
   },
   {
    "duration": 11,
    "start_time": "2023-10-30T14:23:23.787Z"
   },
   {
    "duration": 9,
    "start_time": "2023-10-30T14:23:23.799Z"
   },
   {
    "duration": 7,
    "start_time": "2023-10-30T14:23:23.810Z"
   },
   {
    "duration": 65,
    "start_time": "2023-10-30T14:23:23.818Z"
   },
   {
    "duration": 29,
    "start_time": "2023-10-30T14:23:23.885Z"
   },
   {
    "duration": 18,
    "start_time": "2023-10-30T14:23:23.916Z"
   },
   {
    "duration": 5696,
    "start_time": "2023-10-30T14:23:23.937Z"
   },
   {
    "duration": 1956,
    "start_time": "2023-10-30T14:23:29.635Z"
   },
   {
    "duration": 1717,
    "start_time": "2023-10-30T14:23:31.592Z"
   },
   {
    "duration": 18,
    "start_time": "2023-10-30T14:23:33.311Z"
   },
   {
    "duration": 28,
    "start_time": "2023-10-30T14:23:33.330Z"
   },
   {
    "duration": 18,
    "start_time": "2023-10-30T14:23:33.360Z"
   },
   {
    "duration": 21,
    "start_time": "2023-10-30T14:23:33.380Z"
   },
   {
    "duration": 36,
    "start_time": "2023-10-30T14:23:33.405Z"
   },
   {
    "duration": 64,
    "start_time": "2023-10-30T14:23:33.443Z"
   },
   {
    "duration": 16,
    "start_time": "2023-10-30T14:23:33.510Z"
   },
   {
    "duration": 19,
    "start_time": "2023-10-30T14:23:33.528Z"
   },
   {
    "duration": 32,
    "start_time": "2023-10-30T14:23:33.549Z"
   },
   {
    "duration": 29,
    "start_time": "2023-10-30T14:23:33.583Z"
   },
   {
    "duration": 2143,
    "start_time": "2023-10-30T14:23:33.614Z"
   },
   {
    "duration": 1592,
    "start_time": "2023-10-30T14:24:10.846Z"
   },
   {
    "duration": 27,
    "start_time": "2023-10-30T14:25:03.622Z"
   },
   {
    "duration": 36,
    "start_time": "2023-10-30T14:34:12.142Z"
   },
   {
    "duration": 27,
    "start_time": "2023-10-30T14:47:15.733Z"
   },
   {
    "duration": 25,
    "start_time": "2023-10-30T14:48:57.362Z"
   },
   {
    "duration": 24,
    "start_time": "2023-10-30T14:49:35.745Z"
   },
   {
    "duration": 22,
    "start_time": "2023-10-30T14:49:58.801Z"
   },
   {
    "duration": 22,
    "start_time": "2023-10-30T14:53:23.131Z"
   },
   {
    "duration": 25,
    "start_time": "2023-10-30T14:54:58.406Z"
   },
   {
    "duration": 21,
    "start_time": "2023-10-30T14:55:28.503Z"
   },
   {
    "duration": 22,
    "start_time": "2023-10-30T14:56:20.120Z"
   },
   {
    "duration": 21,
    "start_time": "2023-10-30T14:57:02.506Z"
   },
   {
    "duration": 25,
    "start_time": "2023-10-30T14:57:53.360Z"
   },
   {
    "duration": 21,
    "start_time": "2023-10-30T15:00:17.167Z"
   },
   {
    "duration": 22,
    "start_time": "2023-10-30T15:03:51.315Z"
   },
   {
    "duration": 59,
    "start_time": "2023-10-30T18:09:04.107Z"
   },
   {
    "duration": 1479,
    "start_time": "2023-10-30T18:10:06.100Z"
   },
   {
    "duration": 149,
    "start_time": "2023-10-30T18:10:07.581Z"
   },
   {
    "duration": 20,
    "start_time": "2023-10-30T18:10:07.731Z"
   },
   {
    "duration": 22,
    "start_time": "2023-10-30T18:10:07.754Z"
   },
   {
    "duration": 4,
    "start_time": "2023-10-30T18:10:07.777Z"
   },
   {
    "duration": 25,
    "start_time": "2023-10-30T18:10:07.783Z"
   },
   {
    "duration": 9,
    "start_time": "2023-10-30T18:10:07.810Z"
   },
   {
    "duration": 32,
    "start_time": "2023-10-30T18:10:07.821Z"
   },
   {
    "duration": 22,
    "start_time": "2023-10-30T18:10:07.855Z"
   },
   {
    "duration": 19,
    "start_time": "2023-10-30T18:10:07.880Z"
   },
   {
    "duration": 9,
    "start_time": "2023-10-30T18:10:07.901Z"
   },
   {
    "duration": 25,
    "start_time": "2023-10-30T18:10:07.912Z"
   },
   {
    "duration": 12,
    "start_time": "2023-10-30T18:10:07.938Z"
   },
   {
    "duration": 10,
    "start_time": "2023-10-30T18:10:07.951Z"
   },
   {
    "duration": 13,
    "start_time": "2023-10-30T18:10:07.963Z"
   },
   {
    "duration": 11,
    "start_time": "2023-10-30T18:10:07.977Z"
   },
   {
    "duration": 8,
    "start_time": "2023-10-30T18:10:07.989Z"
   },
   {
    "duration": 58,
    "start_time": "2023-10-30T18:10:07.998Z"
   },
   {
    "duration": 26,
    "start_time": "2023-10-30T18:10:08.057Z"
   },
   {
    "duration": 6,
    "start_time": "2023-10-30T18:10:08.085Z"
   },
   {
    "duration": 5748,
    "start_time": "2023-10-30T18:10:08.093Z"
   },
   {
    "duration": 2071,
    "start_time": "2023-10-30T18:10:13.843Z"
   },
   {
    "duration": 1669,
    "start_time": "2023-10-30T18:10:15.917Z"
   },
   {
    "duration": 18,
    "start_time": "2023-10-30T18:10:17.588Z"
   },
   {
    "duration": 40,
    "start_time": "2023-10-30T18:10:17.608Z"
   },
   {
    "duration": 14,
    "start_time": "2023-10-30T18:10:17.650Z"
   },
   {
    "duration": 16,
    "start_time": "2023-10-30T18:10:17.666Z"
   },
   {
    "duration": 21,
    "start_time": "2023-10-30T18:10:17.687Z"
   },
   {
    "duration": 46,
    "start_time": "2023-10-30T18:10:17.711Z"
   },
   {
    "duration": 25,
    "start_time": "2023-10-30T18:10:17.759Z"
   },
   {
    "duration": 19,
    "start_time": "2023-10-30T18:10:17.786Z"
   },
   {
    "duration": 12,
    "start_time": "2023-10-30T18:10:17.807Z"
   },
   {
    "duration": 12,
    "start_time": "2023-10-30T18:10:17.821Z"
   },
   {
    "duration": 28,
    "start_time": "2023-10-30T18:10:17.834Z"
   },
   {
    "duration": 21,
    "start_time": "2023-10-30T18:10:17.863Z"
   },
   {
    "duration": 28,
    "start_time": "2023-10-30T18:10:17.885Z"
   },
   {
    "duration": 55,
    "start_time": "2023-10-30T18:17:28.681Z"
   },
   {
    "duration": 24,
    "start_time": "2023-10-30T18:17:50.450Z"
   },
   {
    "duration": 23,
    "start_time": "2023-10-30T18:18:11.670Z"
   },
   {
    "duration": 21,
    "start_time": "2023-10-30T18:18:54.742Z"
   },
   {
    "duration": 1226,
    "start_time": "2023-10-30T18:21:10.908Z"
   },
   {
    "duration": 43,
    "start_time": "2023-10-30T18:21:12.136Z"
   },
   {
    "duration": 19,
    "start_time": "2023-10-30T18:21:12.181Z"
   },
   {
    "duration": 21,
    "start_time": "2023-10-30T18:21:12.202Z"
   },
   {
    "duration": 4,
    "start_time": "2023-10-30T18:21:12.225Z"
   },
   {
    "duration": 27,
    "start_time": "2023-10-30T18:21:12.230Z"
   },
   {
    "duration": 25,
    "start_time": "2023-10-30T18:21:12.259Z"
   },
   {
    "duration": 24,
    "start_time": "2023-10-30T18:21:12.286Z"
   },
   {
    "duration": 6,
    "start_time": "2023-10-30T18:21:12.312Z"
   },
   {
    "duration": 19,
    "start_time": "2023-10-30T18:21:12.322Z"
   },
   {
    "duration": 12,
    "start_time": "2023-10-30T18:21:12.343Z"
   },
   {
    "duration": 61,
    "start_time": "2023-10-30T18:21:12.356Z"
   },
   {
    "duration": 6,
    "start_time": "2023-10-30T18:21:12.419Z"
   },
   {
    "duration": 28,
    "start_time": "2023-10-30T18:21:12.427Z"
   },
   {
    "duration": 18,
    "start_time": "2023-10-30T18:21:12.457Z"
   },
   {
    "duration": 23,
    "start_time": "2023-10-30T18:21:12.477Z"
   },
   {
    "duration": 16,
    "start_time": "2023-10-30T18:21:12.502Z"
   },
   {
    "duration": 46,
    "start_time": "2023-10-30T18:21:12.520Z"
   },
   {
    "duration": 26,
    "start_time": "2023-10-30T18:21:12.568Z"
   },
   {
    "duration": 6,
    "start_time": "2023-10-30T18:21:12.596Z"
   },
   {
    "duration": 5600,
    "start_time": "2023-10-30T18:21:12.603Z"
   },
   {
    "duration": 1913,
    "start_time": "2023-10-30T18:21:18.206Z"
   },
   {
    "duration": 1728,
    "start_time": "2023-10-30T18:21:20.121Z"
   },
   {
    "duration": 18,
    "start_time": "2023-10-30T18:21:21.851Z"
   },
   {
    "duration": 17,
    "start_time": "2023-10-30T18:21:21.871Z"
   },
   {
    "duration": 19,
    "start_time": "2023-10-30T18:21:21.889Z"
   },
   {
    "duration": 39,
    "start_time": "2023-10-30T18:21:21.910Z"
   },
   {
    "duration": 8,
    "start_time": "2023-10-30T18:21:21.954Z"
   },
   {
    "duration": 14,
    "start_time": "2023-10-30T18:21:21.964Z"
   },
   {
    "duration": 7,
    "start_time": "2023-10-30T18:21:21.980Z"
   },
   {
    "duration": 13,
    "start_time": "2023-10-30T18:21:21.989Z"
   },
   {
    "duration": 15,
    "start_time": "2023-10-30T18:21:22.004Z"
   },
   {
    "duration": 37,
    "start_time": "2023-10-30T18:21:22.021Z"
   },
   {
    "duration": 30,
    "start_time": "2023-10-30T18:21:22.061Z"
   },
   {
    "duration": 67,
    "start_time": "2023-10-30T18:21:22.094Z"
   },
   {
    "duration": 23,
    "start_time": "2023-10-30T18:21:22.163Z"
   },
   {
    "duration": 21,
    "start_time": "2023-10-30T18:23:02.953Z"
   },
   {
    "duration": 22,
    "start_time": "2023-10-30T18:23:26.636Z"
   },
   {
    "duration": 22,
    "start_time": "2023-10-30T18:24:00.683Z"
   },
   {
    "duration": 21,
    "start_time": "2023-10-30T18:25:40.906Z"
   },
   {
    "duration": 22,
    "start_time": "2023-10-30T18:25:44.313Z"
   },
   {
    "duration": 21,
    "start_time": "2023-10-30T18:25:47.731Z"
   },
   {
    "duration": 1186,
    "start_time": "2023-10-31T11:27:34.785Z"
   },
   {
    "duration": 365,
    "start_time": "2023-10-31T11:27:35.974Z"
   },
   {
    "duration": 17,
    "start_time": "2023-10-31T11:27:36.340Z"
   },
   {
    "duration": 38,
    "start_time": "2023-10-31T11:27:36.359Z"
   },
   {
    "duration": 49,
    "start_time": "2023-10-31T11:27:36.400Z"
   },
   {
    "duration": 42,
    "start_time": "2023-10-31T11:27:36.451Z"
   },
   {
    "duration": 43,
    "start_time": "2023-10-31T11:27:36.494Z"
   },
   {
    "duration": 49,
    "start_time": "2023-10-31T11:27:36.538Z"
   },
   {
    "duration": 24,
    "start_time": "2023-10-31T11:27:36.589Z"
   },
   {
    "duration": 32,
    "start_time": "2023-10-31T11:27:36.615Z"
   },
   {
    "duration": 37,
    "start_time": "2023-10-31T11:27:36.649Z"
   },
   {
    "duration": 48,
    "start_time": "2023-10-31T11:27:36.687Z"
   },
   {
    "duration": 19,
    "start_time": "2023-10-31T11:27:36.737Z"
   },
   {
    "duration": 36,
    "start_time": "2023-10-31T11:27:36.760Z"
   },
   {
    "duration": 23,
    "start_time": "2023-10-31T11:27:36.798Z"
   },
   {
    "duration": 32,
    "start_time": "2023-10-31T11:27:36.823Z"
   },
   {
    "duration": 29,
    "start_time": "2023-10-31T11:27:36.857Z"
   },
   {
    "duration": 67,
    "start_time": "2023-10-31T11:27:36.887Z"
   },
   {
    "duration": 24,
    "start_time": "2023-10-31T11:27:36.956Z"
   },
   {
    "duration": 30,
    "start_time": "2023-10-31T11:27:36.981Z"
   },
   {
    "duration": 5142,
    "start_time": "2023-10-31T11:27:37.013Z"
   },
   {
    "duration": 1807,
    "start_time": "2023-10-31T11:27:42.157Z"
   },
   {
    "duration": 1619,
    "start_time": "2023-10-31T11:27:43.966Z"
   },
   {
    "duration": 15,
    "start_time": "2023-10-31T11:27:45.587Z"
   },
   {
    "duration": 13,
    "start_time": "2023-10-31T11:27:45.603Z"
   },
   {
    "duration": 8,
    "start_time": "2023-10-31T11:27:45.623Z"
   },
   {
    "duration": 7,
    "start_time": "2023-10-31T11:27:45.633Z"
   },
   {
    "duration": 7,
    "start_time": "2023-10-31T11:27:45.642Z"
   },
   {
    "duration": 12,
    "start_time": "2023-10-31T11:27:45.650Z"
   },
   {
    "duration": 6,
    "start_time": "2023-10-31T11:27:45.663Z"
   },
   {
    "duration": 7,
    "start_time": "2023-10-31T11:27:45.671Z"
   },
   {
    "duration": 44,
    "start_time": "2023-10-31T11:27:45.680Z"
   },
   {
    "duration": 11,
    "start_time": "2023-10-31T11:27:45.726Z"
   },
   {
    "duration": 19,
    "start_time": "2023-10-31T11:27:45.738Z"
   },
   {
    "duration": 18,
    "start_time": "2023-10-31T11:27:45.759Z"
   },
   {
    "duration": 50,
    "start_time": "2023-10-31T11:27:45.779Z"
   },
   {
    "duration": 5,
    "start_time": "2023-10-31T11:40:42.328Z"
   },
   {
    "duration": 49,
    "start_time": "2023-10-31T18:16:16.763Z"
   },
   {
    "duration": 6,
    "start_time": "2023-10-31T18:16:26.351Z"
   },
   {
    "duration": 6,
    "start_time": "2023-10-31T18:16:39.168Z"
   },
   {
    "duration": 1297,
    "start_time": "2023-10-31T18:16:45.055Z"
   },
   {
    "duration": 78,
    "start_time": "2023-10-31T18:16:46.354Z"
   },
   {
    "duration": 18,
    "start_time": "2023-10-31T18:16:46.434Z"
   },
   {
    "duration": 13,
    "start_time": "2023-10-31T18:16:46.453Z"
   },
   {
    "duration": 3,
    "start_time": "2023-10-31T18:16:46.467Z"
   },
   {
    "duration": 12,
    "start_time": "2023-10-31T18:16:46.471Z"
   },
   {
    "duration": 8,
    "start_time": "2023-10-31T18:16:46.484Z"
   },
   {
    "duration": 10,
    "start_time": "2023-10-31T18:16:46.494Z"
   },
   {
    "duration": 7,
    "start_time": "2023-10-31T18:16:46.505Z"
   },
   {
    "duration": 6,
    "start_time": "2023-10-31T18:16:46.513Z"
   },
   {
    "duration": 30,
    "start_time": "2023-10-31T18:16:46.520Z"
   },
   {
    "duration": 7,
    "start_time": "2023-10-31T18:16:46.551Z"
   },
   {
    "duration": 35,
    "start_time": "2023-10-31T18:16:46.560Z"
   },
   {
    "duration": 7,
    "start_time": "2023-10-31T18:16:46.599Z"
   },
   {
    "duration": 11,
    "start_time": "2023-10-31T18:16:46.608Z"
   },
   {
    "duration": 8,
    "start_time": "2023-10-31T18:16:46.643Z"
   },
   {
    "duration": 14,
    "start_time": "2023-10-31T18:16:46.653Z"
   },
   {
    "duration": 30,
    "start_time": "2023-10-31T18:16:46.668Z"
   },
   {
    "duration": 57,
    "start_time": "2023-10-31T18:16:46.700Z"
   },
   {
    "duration": 23,
    "start_time": "2023-10-31T18:16:46.758Z"
   },
   {
    "duration": 6,
    "start_time": "2023-10-31T18:16:46.782Z"
   },
   {
    "duration": 4955,
    "start_time": "2023-10-31T18:16:46.790Z"
   },
   {
    "duration": 1759,
    "start_time": "2023-10-31T18:16:51.747Z"
   },
   {
    "duration": 1578,
    "start_time": "2023-10-31T18:16:53.508Z"
   },
   {
    "duration": 16,
    "start_time": "2023-10-31T18:16:55.087Z"
   },
   {
    "duration": 29,
    "start_time": "2023-10-31T18:16:55.104Z"
   },
   {
    "duration": 13,
    "start_time": "2023-10-31T18:16:55.135Z"
   },
   {
    "duration": 6,
    "start_time": "2023-10-31T18:16:55.149Z"
   },
   {
    "duration": 7,
    "start_time": "2023-10-31T18:16:55.156Z"
   },
   {
    "duration": 11,
    "start_time": "2023-10-31T18:16:55.165Z"
   },
   {
    "duration": 7,
    "start_time": "2023-10-31T18:16:55.177Z"
   },
   {
    "duration": 18,
    "start_time": "2023-10-31T18:16:55.185Z"
   },
   {
    "duration": 9,
    "start_time": "2023-10-31T18:16:55.205Z"
   },
   {
    "duration": 10,
    "start_time": "2023-10-31T18:16:55.244Z"
   },
   {
    "duration": 20,
    "start_time": "2023-10-31T18:16:55.256Z"
   },
   {
    "duration": 16,
    "start_time": "2023-10-31T18:16:55.278Z"
   },
   {
    "duration": 17,
    "start_time": "2023-10-31T18:16:55.296Z"
   },
   {
    "duration": 27,
    "start_time": "2023-10-31T18:17:44.136Z"
   },
   {
    "duration": 24,
    "start_time": "2023-10-31T18:18:38.079Z"
   },
   {
    "duration": 6,
    "start_time": "2023-10-31T18:18:39.755Z"
   },
   {
    "duration": 6,
    "start_time": "2023-10-31T18:24:29.494Z"
   },
   {
    "duration": 6,
    "start_time": "2023-10-31T18:32:20.003Z"
   },
   {
    "duration": 6,
    "start_time": "2023-10-31T18:37:31.278Z"
   },
   {
    "duration": 1540,
    "start_time": "2023-10-31T19:16:51.161Z"
   },
   {
    "duration": 1591,
    "start_time": "2023-10-31T19:17:00.788Z"
   },
   {
    "duration": 1266,
    "start_time": "2023-10-31T19:18:28.361Z"
   },
   {
    "duration": 15,
    "start_time": "2023-10-31T19:20:08.679Z"
   },
   {
    "duration": 92,
    "start_time": "2023-10-31T19:26:13.148Z"
   },
   {
    "duration": 112,
    "start_time": "2023-10-31T19:26:45.889Z"
   },
   {
    "duration": 20,
    "start_time": "2023-10-31T19:27:18.464Z"
   },
   {
    "duration": 13,
    "start_time": "2023-10-31T19:27:22.834Z"
   },
   {
    "duration": 21,
    "start_time": "2023-10-31T19:32:56.349Z"
   },
   {
    "duration": 22,
    "start_time": "2023-10-31T19:33:16.647Z"
   },
   {
    "duration": 20,
    "start_time": "2023-10-31T19:36:10.428Z"
   },
   {
    "duration": 11,
    "start_time": "2023-10-31T19:36:11.981Z"
   },
   {
    "duration": 11,
    "start_time": "2023-10-31T19:38:11.763Z"
   },
   {
    "duration": 18,
    "start_time": "2023-10-31T19:54:31.814Z"
   },
   {
    "duration": 6,
    "start_time": "2023-10-31T20:23:36.679Z"
   },
   {
    "duration": 63,
    "start_time": "2023-11-01T05:13:26.622Z"
   },
   {
    "duration": 9,
    "start_time": "2023-11-01T05:15:06.704Z"
   },
   {
    "duration": 1441,
    "start_time": "2023-11-01T05:15:12.260Z"
   },
   {
    "duration": 148,
    "start_time": "2023-11-01T05:15:13.703Z"
   },
   {
    "duration": 21,
    "start_time": "2023-11-01T05:15:13.853Z"
   },
   {
    "duration": 20,
    "start_time": "2023-11-01T05:15:13.877Z"
   },
   {
    "duration": 12,
    "start_time": "2023-11-01T05:15:13.898Z"
   },
   {
    "duration": 27,
    "start_time": "2023-11-01T05:15:13.912Z"
   },
   {
    "duration": 16,
    "start_time": "2023-11-01T05:15:13.941Z"
   },
   {
    "duration": 19,
    "start_time": "2023-11-01T05:15:13.959Z"
   },
   {
    "duration": 6,
    "start_time": "2023-11-01T05:15:13.981Z"
   },
   {
    "duration": 20,
    "start_time": "2023-11-01T05:15:13.991Z"
   },
   {
    "duration": 17,
    "start_time": "2023-11-01T05:15:14.013Z"
   },
   {
    "duration": 17,
    "start_time": "2023-11-01T05:15:14.031Z"
   },
   {
    "duration": 5,
    "start_time": "2023-11-01T05:15:14.050Z"
   },
   {
    "duration": 32,
    "start_time": "2023-11-01T05:15:14.057Z"
   },
   {
    "duration": 7,
    "start_time": "2023-11-01T05:15:14.090Z"
   },
   {
    "duration": 11,
    "start_time": "2023-11-01T05:15:14.098Z"
   },
   {
    "duration": 19,
    "start_time": "2023-11-01T05:15:14.111Z"
   },
   {
    "duration": 23,
    "start_time": "2023-11-01T05:15:14.132Z"
   },
   {
    "duration": 8,
    "start_time": "2023-11-01T05:15:14.156Z"
   },
   {
    "duration": 38,
    "start_time": "2023-11-01T05:15:14.165Z"
   },
   {
    "duration": 44,
    "start_time": "2023-11-01T05:15:14.205Z"
   },
   {
    "duration": 5,
    "start_time": "2023-11-01T05:15:14.251Z"
   },
   {
    "duration": 334,
    "start_time": "2023-11-01T05:15:14.258Z"
   },
   {
    "duration": 259,
    "start_time": "2023-11-01T05:15:14.594Z"
   },
   {
    "duration": 0,
    "start_time": "2023-11-01T05:15:14.856Z"
   },
   {
    "duration": 0,
    "start_time": "2023-11-01T05:15:14.857Z"
   },
   {
    "duration": 0,
    "start_time": "2023-11-01T05:15:14.858Z"
   },
   {
    "duration": 0,
    "start_time": "2023-11-01T05:15:14.860Z"
   },
   {
    "duration": 0,
    "start_time": "2023-11-01T05:15:14.861Z"
   },
   {
    "duration": 0,
    "start_time": "2023-11-01T05:15:14.862Z"
   },
   {
    "duration": 0,
    "start_time": "2023-11-01T05:15:14.863Z"
   },
   {
    "duration": 0,
    "start_time": "2023-11-01T05:15:14.865Z"
   },
   {
    "duration": 0,
    "start_time": "2023-11-01T05:15:14.866Z"
   },
   {
    "duration": 0,
    "start_time": "2023-11-01T05:15:14.867Z"
   },
   {
    "duration": 0,
    "start_time": "2023-11-01T05:15:14.869Z"
   },
   {
    "duration": 0,
    "start_time": "2023-11-01T05:15:14.869Z"
   },
   {
    "duration": 0,
    "start_time": "2023-11-01T05:15:14.871Z"
   },
   {
    "duration": 0,
    "start_time": "2023-11-01T05:15:14.872Z"
   },
   {
    "duration": 0,
    "start_time": "2023-11-01T05:15:14.873Z"
   },
   {
    "duration": 0,
    "start_time": "2023-11-01T05:15:14.875Z"
   },
   {
    "duration": 295,
    "start_time": "2023-11-01T05:15:41.775Z"
   },
   {
    "duration": 144,
    "start_time": "2023-11-01T05:30:37.625Z"
   },
   {
    "duration": 147,
    "start_time": "2023-11-01T05:32:34.266Z"
   },
   {
    "duration": 4792,
    "start_time": "2023-11-01T05:33:19.759Z"
   },
   {
    "duration": 4867,
    "start_time": "2023-11-01T05:33:37.344Z"
   },
   {
    "duration": 876,
    "start_time": "2023-11-01T05:34:53.827Z"
   },
   {
    "duration": 4208,
    "start_time": "2023-11-01T05:35:59.285Z"
   },
   {
    "duration": 4201,
    "start_time": "2023-11-01T05:36:18.731Z"
   },
   {
    "duration": 4355,
    "start_time": "2023-11-01T05:36:40.293Z"
   },
   {
    "duration": 4308,
    "start_time": "2023-11-01T05:36:57.761Z"
   },
   {
    "duration": 4105,
    "start_time": "2023-11-01T05:38:40.532Z"
   },
   {
    "duration": 4407,
    "start_time": "2023-11-01T05:41:14.102Z"
   },
   {
    "duration": 4373,
    "start_time": "2023-11-01T05:42:01.800Z"
   },
   {
    "duration": 4165,
    "start_time": "2023-11-01T05:42:19.409Z"
   },
   {
    "duration": 1220,
    "start_time": "2023-11-01T05:43:21.065Z"
   },
   {
    "duration": 1053,
    "start_time": "2023-11-01T05:43:35.715Z"
   },
   {
    "duration": 672,
    "start_time": "2023-11-01T05:43:59.166Z"
   },
   {
    "duration": 4159,
    "start_time": "2023-11-01T05:44:16.837Z"
   },
   {
    "duration": 799,
    "start_time": "2023-11-01T05:44:49.826Z"
   },
   {
    "duration": 292,
    "start_time": "2023-11-01T05:46:33.156Z"
   },
   {
    "duration": 239,
    "start_time": "2023-11-01T05:49:45.465Z"
   },
   {
    "duration": 298,
    "start_time": "2023-11-01T05:50:44.595Z"
   },
   {
    "duration": 301,
    "start_time": "2023-11-01T05:53:26.610Z"
   },
   {
    "duration": 305,
    "start_time": "2023-11-01T05:53:37.488Z"
   },
   {
    "duration": 392,
    "start_time": "2023-11-01T05:53:53.627Z"
   },
   {
    "duration": 481,
    "start_time": "2023-11-01T05:54:50.746Z"
   },
   {
    "duration": 15,
    "start_time": "2023-11-01T05:56:03.521Z"
   },
   {
    "duration": 456,
    "start_time": "2023-11-01T05:56:16.920Z"
   },
   {
    "duration": 553,
    "start_time": "2023-11-01T05:56:46.732Z"
   },
   {
    "duration": 440,
    "start_time": "2023-11-01T05:57:38.450Z"
   },
   {
    "duration": 426,
    "start_time": "2023-11-01T05:57:57.708Z"
   },
   {
    "duration": 428,
    "start_time": "2023-11-01T05:58:07.853Z"
   },
   {
    "duration": 492,
    "start_time": "2023-11-01T05:58:49.439Z"
   },
   {
    "duration": 1228,
    "start_time": "2023-11-01T05:59:31.943Z"
   },
   {
    "duration": 43,
    "start_time": "2023-11-01T05:59:33.173Z"
   },
   {
    "duration": 20,
    "start_time": "2023-11-01T05:59:33.217Z"
   },
   {
    "duration": 21,
    "start_time": "2023-11-01T05:59:33.239Z"
   },
   {
    "duration": 13,
    "start_time": "2023-11-01T05:59:33.262Z"
   },
   {
    "duration": 35,
    "start_time": "2023-11-01T05:59:33.277Z"
   },
   {
    "duration": 9,
    "start_time": "2023-11-01T05:59:33.314Z"
   },
   {
    "duration": 47,
    "start_time": "2023-11-01T05:59:33.325Z"
   },
   {
    "duration": 6,
    "start_time": "2023-11-01T05:59:33.373Z"
   },
   {
    "duration": 19,
    "start_time": "2023-11-01T05:59:33.382Z"
   },
   {
    "duration": 6,
    "start_time": "2023-11-01T05:59:33.403Z"
   },
   {
    "duration": 8,
    "start_time": "2023-11-01T05:59:33.411Z"
   },
   {
    "duration": 6,
    "start_time": "2023-11-01T05:59:33.420Z"
   },
   {
    "duration": 40,
    "start_time": "2023-11-01T05:59:33.427Z"
   },
   {
    "duration": 5,
    "start_time": "2023-11-01T05:59:33.468Z"
   },
   {
    "duration": 20,
    "start_time": "2023-11-01T05:59:33.475Z"
   },
   {
    "duration": 6,
    "start_time": "2023-11-01T05:59:33.497Z"
   },
   {
    "duration": 6,
    "start_time": "2023-11-01T05:59:33.505Z"
   },
   {
    "duration": 5,
    "start_time": "2023-11-01T05:59:33.513Z"
   },
   {
    "duration": 59,
    "start_time": "2023-11-01T05:59:33.519Z"
   },
   {
    "duration": 27,
    "start_time": "2023-11-01T05:59:33.579Z"
   },
   {
    "duration": 6,
    "start_time": "2023-11-01T05:59:33.607Z"
   },
   {
    "duration": 335,
    "start_time": "2023-11-01T05:59:33.615Z"
   },
   {
    "duration": 572,
    "start_time": "2023-11-01T05:59:33.952Z"
   },
   {
    "duration": 4180,
    "start_time": "2023-11-01T05:59:34.525Z"
   },
   {
    "duration": 427,
    "start_time": "2023-11-01T05:59:38.707Z"
   },
   {
    "duration": 1778,
    "start_time": "2023-11-01T05:59:39.136Z"
   },
   {
    "duration": 1508,
    "start_time": "2023-11-01T05:59:40.917Z"
   },
   {
    "duration": 24,
    "start_time": "2023-11-01T05:59:42.427Z"
   },
   {
    "duration": 11,
    "start_time": "2023-11-01T05:59:42.452Z"
   },
   {
    "duration": 7,
    "start_time": "2023-11-01T05:59:42.465Z"
   },
   {
    "duration": 18,
    "start_time": "2023-11-01T05:59:42.474Z"
   },
   {
    "duration": 10,
    "start_time": "2023-11-01T05:59:42.494Z"
   },
   {
    "duration": 17,
    "start_time": "2023-11-01T05:59:42.506Z"
   },
   {
    "duration": 24,
    "start_time": "2023-11-01T05:59:42.525Z"
   },
   {
    "duration": 6,
    "start_time": "2023-11-01T05:59:42.551Z"
   },
   {
    "duration": 9,
    "start_time": "2023-11-01T05:59:42.559Z"
   },
   {
    "duration": 11,
    "start_time": "2023-11-01T05:59:42.569Z"
   },
   {
    "duration": 19,
    "start_time": "2023-11-01T05:59:42.582Z"
   },
   {
    "duration": 54,
    "start_time": "2023-11-01T05:59:42.603Z"
   },
   {
    "duration": 18,
    "start_time": "2023-11-01T05:59:42.660Z"
   },
   {
    "duration": 118,
    "start_time": "2023-11-01T06:07:40.961Z"
   },
   {
    "duration": 27,
    "start_time": "2023-11-01T06:08:05.177Z"
   },
   {
    "duration": 4,
    "start_time": "2023-11-01T06:08:41.173Z"
   },
   {
    "duration": 16,
    "start_time": "2023-11-01T06:09:58.209Z"
   },
   {
    "duration": 23,
    "start_time": "2023-11-01T06:10:11.911Z"
   },
   {
    "duration": 7,
    "start_time": "2023-11-01T06:10:48.414Z"
   },
   {
    "duration": 6,
    "start_time": "2023-11-01T06:11:18.178Z"
   },
   {
    "duration": 7,
    "start_time": "2023-11-01T06:22:06.517Z"
   },
   {
    "duration": 7,
    "start_time": "2023-11-01T06:22:16.265Z"
   },
   {
    "duration": 14,
    "start_time": "2023-11-01T06:29:25.758Z"
   },
   {
    "duration": 15,
    "start_time": "2023-11-01T06:30:13.450Z"
   },
   {
    "duration": 22,
    "start_time": "2023-11-01T06:34:47.391Z"
   },
   {
    "duration": 30,
    "start_time": "2023-11-01T06:35:01.032Z"
   },
   {
    "duration": 1247,
    "start_time": "2023-11-01T06:44:50.250Z"
   },
   {
    "duration": 14,
    "start_time": "2023-11-01T06:45:05.846Z"
   },
   {
    "duration": 13,
    "start_time": "2023-11-01T06:46:17.605Z"
   },
   {
    "duration": 17,
    "start_time": "2023-11-01T06:46:58.252Z"
   },
   {
    "duration": 17,
    "start_time": "2023-11-01T06:47:07.882Z"
   },
   {
    "duration": 409,
    "start_time": "2023-11-01T06:55:05.167Z"
   },
   {
    "duration": 1232,
    "start_time": "2023-11-01T06:59:07.874Z"
   },
   {
    "duration": 42,
    "start_time": "2023-11-01T06:59:09.109Z"
   },
   {
    "duration": 58,
    "start_time": "2023-11-01T06:59:09.153Z"
   },
   {
    "duration": 21,
    "start_time": "2023-11-01T06:59:09.213Z"
   },
   {
    "duration": 32,
    "start_time": "2023-11-01T06:59:09.236Z"
   },
   {
    "duration": 41,
    "start_time": "2023-11-01T06:59:09.270Z"
   },
   {
    "duration": 15,
    "start_time": "2023-11-01T06:59:09.313Z"
   },
   {
    "duration": 58,
    "start_time": "2023-11-01T06:59:09.329Z"
   },
   {
    "duration": 13,
    "start_time": "2023-11-01T06:59:09.388Z"
   },
   {
    "duration": 25,
    "start_time": "2023-11-01T06:59:09.405Z"
   },
   {
    "duration": 22,
    "start_time": "2023-11-01T06:59:09.432Z"
   },
   {
    "duration": 22,
    "start_time": "2023-11-01T06:59:09.456Z"
   },
   {
    "duration": 18,
    "start_time": "2023-11-01T06:59:09.480Z"
   },
   {
    "duration": 49,
    "start_time": "2023-11-01T06:59:09.500Z"
   },
   {
    "duration": 8,
    "start_time": "2023-11-01T06:59:09.550Z"
   },
   {
    "duration": 18,
    "start_time": "2023-11-01T06:59:09.559Z"
   },
   {
    "duration": 543,
    "start_time": "2023-11-01T06:59:09.579Z"
   },
   {
    "duration": 0,
    "start_time": "2023-11-01T06:59:10.125Z"
   },
   {
    "duration": 0,
    "start_time": "2023-11-01T06:59:10.127Z"
   },
   {
    "duration": 0,
    "start_time": "2023-11-01T06:59:10.129Z"
   },
   {
    "duration": 0,
    "start_time": "2023-11-01T06:59:10.132Z"
   },
   {
    "duration": 0,
    "start_time": "2023-11-01T06:59:10.133Z"
   },
   {
    "duration": 0,
    "start_time": "2023-11-01T06:59:10.135Z"
   },
   {
    "duration": 0,
    "start_time": "2023-11-01T06:59:10.137Z"
   },
   {
    "duration": 0,
    "start_time": "2023-11-01T06:59:10.138Z"
   },
   {
    "duration": 0,
    "start_time": "2023-11-01T06:59:10.139Z"
   },
   {
    "duration": 0,
    "start_time": "2023-11-01T06:59:10.140Z"
   },
   {
    "duration": 1,
    "start_time": "2023-11-01T06:59:10.141Z"
   },
   {
    "duration": 0,
    "start_time": "2023-11-01T06:59:10.142Z"
   },
   {
    "duration": 0,
    "start_time": "2023-11-01T06:59:10.144Z"
   },
   {
    "duration": 0,
    "start_time": "2023-11-01T06:59:10.145Z"
   },
   {
    "duration": 0,
    "start_time": "2023-11-01T06:59:10.146Z"
   },
   {
    "duration": 0,
    "start_time": "2023-11-01T06:59:10.147Z"
   },
   {
    "duration": 0,
    "start_time": "2023-11-01T06:59:10.148Z"
   },
   {
    "duration": 0,
    "start_time": "2023-11-01T06:59:10.149Z"
   },
   {
    "duration": 0,
    "start_time": "2023-11-01T06:59:10.151Z"
   },
   {
    "duration": 0,
    "start_time": "2023-11-01T06:59:10.152Z"
   },
   {
    "duration": 0,
    "start_time": "2023-11-01T06:59:10.153Z"
   },
   {
    "duration": 0,
    "start_time": "2023-11-01T06:59:10.154Z"
   },
   {
    "duration": 0,
    "start_time": "2023-11-01T06:59:10.155Z"
   },
   {
    "duration": 0,
    "start_time": "2023-11-01T06:59:10.156Z"
   },
   {
    "duration": 0,
    "start_time": "2023-11-01T06:59:10.158Z"
   },
   {
    "duration": 0,
    "start_time": "2023-11-01T06:59:10.159Z"
   },
   {
    "duration": 14,
    "start_time": "2023-11-01T06:59:47.581Z"
   },
   {
    "duration": 16,
    "start_time": "2023-11-01T07:01:21.118Z"
   },
   {
    "duration": 21,
    "start_time": "2023-11-01T07:05:08.849Z"
   },
   {
    "duration": 15,
    "start_time": "2023-11-01T07:05:29.277Z"
   },
   {
    "duration": 19,
    "start_time": "2023-11-01T07:06:46.821Z"
   },
   {
    "duration": 20,
    "start_time": "2023-11-01T07:07:19.222Z"
   },
   {
    "duration": 21,
    "start_time": "2023-11-01T07:07:59.049Z"
   },
   {
    "duration": 20,
    "start_time": "2023-11-01T07:08:42.990Z"
   },
   {
    "duration": 24,
    "start_time": "2023-11-01T08:02:36.700Z"
   },
   {
    "duration": 29,
    "start_time": "2023-11-01T08:05:18.447Z"
   },
   {
    "duration": 15,
    "start_time": "2023-11-01T08:05:25.989Z"
   },
   {
    "duration": 17,
    "start_time": "2023-11-01T08:05:36.459Z"
   },
   {
    "duration": 17,
    "start_time": "2023-11-01T08:06:15.824Z"
   },
   {
    "duration": 18,
    "start_time": "2023-11-01T08:06:42.274Z"
   },
   {
    "duration": 18,
    "start_time": "2023-11-01T08:07:22.294Z"
   },
   {
    "duration": 19,
    "start_time": "2023-11-01T08:09:53.031Z"
   },
   {
    "duration": 17,
    "start_time": "2023-11-01T08:10:13.319Z"
   },
   {
    "duration": 17,
    "start_time": "2023-11-01T08:10:15.869Z"
   },
   {
    "duration": 17,
    "start_time": "2023-11-01T08:12:09.870Z"
   },
   {
    "duration": 18,
    "start_time": "2023-11-01T08:12:41.896Z"
   },
   {
    "duration": 17,
    "start_time": "2023-11-01T08:13:05.915Z"
   },
   {
    "duration": 1208,
    "start_time": "2023-11-01T08:13:16.080Z"
   },
   {
    "duration": 42,
    "start_time": "2023-11-01T08:13:17.290Z"
   },
   {
    "duration": 19,
    "start_time": "2023-11-01T08:13:17.334Z"
   },
   {
    "duration": 15,
    "start_time": "2023-11-01T08:13:17.355Z"
   },
   {
    "duration": 8,
    "start_time": "2023-11-01T08:13:17.371Z"
   },
   {
    "duration": 20,
    "start_time": "2023-11-01T08:13:17.380Z"
   },
   {
    "duration": 5,
    "start_time": "2023-11-01T08:13:17.402Z"
   },
   {
    "duration": 27,
    "start_time": "2023-11-01T08:13:17.408Z"
   },
   {
    "duration": 13,
    "start_time": "2023-11-01T08:13:17.437Z"
   },
   {
    "duration": 9,
    "start_time": "2023-11-01T08:13:17.453Z"
   },
   {
    "duration": 8,
    "start_time": "2023-11-01T08:13:17.464Z"
   },
   {
    "duration": 10,
    "start_time": "2023-11-01T08:13:17.473Z"
   },
   {
    "duration": 5,
    "start_time": "2023-11-01T08:13:17.485Z"
   },
   {
    "duration": 57,
    "start_time": "2023-11-01T08:13:17.491Z"
   },
   {
    "duration": 17,
    "start_time": "2023-11-01T08:13:17.549Z"
   },
   {
    "duration": 16,
    "start_time": "2023-11-01T08:13:17.568Z"
   },
   {
    "duration": 27,
    "start_time": "2023-11-01T08:13:17.586Z"
   },
   {
    "duration": 9,
    "start_time": "2023-11-01T08:13:17.615Z"
   },
   {
    "duration": 22,
    "start_time": "2023-11-01T08:13:17.626Z"
   },
   {
    "duration": 45,
    "start_time": "2023-11-01T08:13:17.650Z"
   },
   {
    "duration": 24,
    "start_time": "2023-11-01T08:13:17.698Z"
   },
   {
    "duration": 5,
    "start_time": "2023-11-01T08:13:17.724Z"
   },
   {
    "duration": 347,
    "start_time": "2023-11-01T08:13:17.731Z"
   },
   {
    "duration": 612,
    "start_time": "2023-11-01T08:13:18.080Z"
   },
   {
    "duration": 4312,
    "start_time": "2023-11-01T08:13:18.694Z"
   },
   {
    "duration": 407,
    "start_time": "2023-11-01T08:13:23.008Z"
   },
   {
    "duration": 1839,
    "start_time": "2023-11-01T08:13:23.417Z"
   },
   {
    "duration": 1567,
    "start_time": "2023-11-01T08:13:25.263Z"
   },
   {
    "duration": 24,
    "start_time": "2023-11-01T08:13:26.832Z"
   },
   {
    "duration": 10,
    "start_time": "2023-11-01T08:13:26.858Z"
   },
   {
    "duration": 24,
    "start_time": "2023-11-01T08:13:26.870Z"
   },
   {
    "duration": 21,
    "start_time": "2023-11-01T08:13:26.897Z"
   },
   {
    "duration": 21,
    "start_time": "2023-11-01T08:13:26.920Z"
   },
   {
    "duration": 18,
    "start_time": "2023-11-01T08:13:26.943Z"
   },
   {
    "duration": 8,
    "start_time": "2023-11-01T08:13:26.963Z"
   },
   {
    "duration": 7,
    "start_time": "2023-11-01T08:13:26.973Z"
   },
   {
    "duration": 43,
    "start_time": "2023-11-01T08:13:26.982Z"
   },
   {
    "duration": 43,
    "start_time": "2023-11-01T08:13:27.028Z"
   },
   {
    "duration": 29,
    "start_time": "2023-11-01T08:13:27.073Z"
   },
   {
    "duration": 25,
    "start_time": "2023-11-01T08:13:27.104Z"
   },
   {
    "duration": 23,
    "start_time": "2023-11-01T08:13:27.131Z"
   },
   {
    "duration": 98,
    "start_time": "2023-11-01T08:17:51.171Z"
   },
   {
    "duration": 4296,
    "start_time": "2023-11-01T08:23:09.517Z"
   },
   {
    "duration": 323,
    "start_time": "2023-11-01T08:51:02.177Z"
   },
   {
    "duration": 643,
    "start_time": "2023-11-01T08:51:35.335Z"
   },
   {
    "duration": 4543,
    "start_time": "2023-11-01T08:52:05.973Z"
   },
   {
    "duration": 431,
    "start_time": "2023-11-01T08:52:27.878Z"
   },
   {
    "duration": 336,
    "start_time": "2023-11-01T08:53:02.322Z"
   },
   {
    "duration": 886,
    "start_time": "2023-11-01T08:53:03.317Z"
   },
   {
    "duration": 4228,
    "start_time": "2023-11-01T08:53:04.558Z"
   },
   {
    "duration": 677,
    "start_time": "2023-11-01T08:53:08.788Z"
   },
   {
    "duration": 13,
    "start_time": "2023-11-01T08:58:24.897Z"
   },
   {
    "duration": 12,
    "start_time": "2023-11-01T09:00:41.254Z"
   },
   {
    "duration": 25,
    "start_time": "2023-11-01T09:05:43.164Z"
   },
   {
    "duration": 33,
    "start_time": "2023-11-01T09:06:46.259Z"
   },
   {
    "duration": 22,
    "start_time": "2023-11-01T09:07:23.139Z"
   },
   {
    "duration": 22,
    "start_time": "2023-11-01T09:07:32.707Z"
   },
   {
    "duration": 20,
    "start_time": "2023-11-01T09:08:27.987Z"
   },
   {
    "duration": 19,
    "start_time": "2023-11-01T09:09:43.490Z"
   },
   {
    "duration": 21,
    "start_time": "2023-11-01T09:11:15.551Z"
   },
   {
    "duration": 43,
    "start_time": "2023-11-01T09:15:18.302Z"
   },
   {
    "duration": 21,
    "start_time": "2023-11-01T09:15:35.958Z"
   },
   {
    "duration": 24,
    "start_time": "2023-11-01T09:16:52.406Z"
   },
   {
    "duration": 20,
    "start_time": "2023-11-01T09:18:45.228Z"
   },
   {
    "duration": 1285,
    "start_time": "2023-11-01T09:33:54.708Z"
   },
   {
    "duration": 44,
    "start_time": "2023-11-01T09:33:55.995Z"
   },
   {
    "duration": 22,
    "start_time": "2023-11-01T09:33:56.041Z"
   },
   {
    "duration": 25,
    "start_time": "2023-11-01T09:33:56.066Z"
   },
   {
    "duration": 4,
    "start_time": "2023-11-01T09:33:56.094Z"
   },
   {
    "duration": 47,
    "start_time": "2023-11-01T09:33:56.100Z"
   },
   {
    "duration": 6,
    "start_time": "2023-11-01T09:33:56.149Z"
   },
   {
    "duration": 25,
    "start_time": "2023-11-01T09:33:56.157Z"
   },
   {
    "duration": 6,
    "start_time": "2023-11-01T09:33:56.184Z"
   },
   {
    "duration": 40,
    "start_time": "2023-11-01T09:33:56.193Z"
   },
   {
    "duration": 21,
    "start_time": "2023-11-01T09:33:56.235Z"
   },
   {
    "duration": 19,
    "start_time": "2023-11-01T09:33:56.259Z"
   },
   {
    "duration": 8,
    "start_time": "2023-11-01T09:33:56.280Z"
   },
   {
    "duration": 60,
    "start_time": "2023-11-01T09:33:56.290Z"
   },
   {
    "duration": 24,
    "start_time": "2023-11-01T09:33:56.353Z"
   },
   {
    "duration": 18,
    "start_time": "2023-11-01T09:33:56.379Z"
   },
   {
    "duration": 52,
    "start_time": "2023-11-01T09:33:56.399Z"
   },
   {
    "duration": 6,
    "start_time": "2023-11-01T09:33:56.453Z"
   },
   {
    "duration": 13,
    "start_time": "2023-11-01T09:33:56.460Z"
   },
   {
    "duration": 41,
    "start_time": "2023-11-01T09:33:56.475Z"
   },
   {
    "duration": 54,
    "start_time": "2023-11-01T09:33:56.518Z"
   },
   {
    "duration": 7,
    "start_time": "2023-11-01T09:33:56.575Z"
   },
   {
    "duration": 392,
    "start_time": "2023-11-01T09:33:56.583Z"
   },
   {
    "duration": 631,
    "start_time": "2023-11-01T09:33:56.976Z"
   },
   {
    "duration": 4526,
    "start_time": "2023-11-01T09:33:57.609Z"
   },
   {
    "duration": 438,
    "start_time": "2023-11-01T09:34:02.136Z"
   },
   {
    "duration": 1955,
    "start_time": "2023-11-01T09:34:02.576Z"
   },
   {
    "duration": 1617,
    "start_time": "2023-11-01T09:34:04.535Z"
   },
   {
    "duration": 24,
    "start_time": "2023-11-01T09:34:06.153Z"
   },
   {
    "duration": 23,
    "start_time": "2023-11-01T09:34:06.179Z"
   },
   {
    "duration": 21,
    "start_time": "2023-11-01T09:34:06.204Z"
   },
   {
    "duration": 21,
    "start_time": "2023-11-01T09:34:06.227Z"
   },
   {
    "duration": 13,
    "start_time": "2023-11-01T09:34:06.250Z"
   },
   {
    "duration": 39,
    "start_time": "2023-11-01T09:34:06.265Z"
   },
   {
    "duration": 8,
    "start_time": "2023-11-01T09:34:06.306Z"
   },
   {
    "duration": 45,
    "start_time": "2023-11-01T09:34:06.316Z"
   },
   {
    "duration": 11,
    "start_time": "2023-11-01T09:34:06.363Z"
   },
   {
    "duration": 12,
    "start_time": "2023-11-01T09:34:06.376Z"
   },
   {
    "duration": 23,
    "start_time": "2023-11-01T09:34:06.390Z"
   },
   {
    "duration": 57,
    "start_time": "2023-11-01T09:34:06.415Z"
   },
   {
    "duration": 23,
    "start_time": "2023-11-01T09:34:06.475Z"
   },
   {
    "duration": 1210,
    "start_time": "2023-11-01T19:46:52.589Z"
   },
   {
    "duration": 44,
    "start_time": "2023-11-01T19:46:53.801Z"
   },
   {
    "duration": 18,
    "start_time": "2023-11-01T19:46:53.847Z"
   },
   {
    "duration": 12,
    "start_time": "2023-11-01T19:46:53.866Z"
   },
   {
    "duration": 16,
    "start_time": "2023-11-01T19:46:53.879Z"
   },
   {
    "duration": 29,
    "start_time": "2023-11-01T19:46:53.896Z"
   },
   {
    "duration": 27,
    "start_time": "2023-11-01T19:46:53.927Z"
   },
   {
    "duration": 29,
    "start_time": "2023-11-01T19:46:53.956Z"
   },
   {
    "duration": 6,
    "start_time": "2023-11-01T19:46:53.986Z"
   },
   {
    "duration": 24,
    "start_time": "2023-11-01T19:46:54.017Z"
   },
   {
    "duration": 12,
    "start_time": "2023-11-01T19:46:54.042Z"
   },
   {
    "duration": 29,
    "start_time": "2023-11-01T19:46:54.055Z"
   },
   {
    "duration": 14,
    "start_time": "2023-11-01T19:46:54.085Z"
   },
   {
    "duration": 24,
    "start_time": "2023-11-01T19:46:54.100Z"
   },
   {
    "duration": 22,
    "start_time": "2023-11-01T19:46:54.126Z"
   },
   {
    "duration": 17,
    "start_time": "2023-11-01T19:46:54.149Z"
   },
   {
    "duration": 15,
    "start_time": "2023-11-01T19:46:54.168Z"
   },
   {
    "duration": 37,
    "start_time": "2023-11-01T19:46:54.184Z"
   },
   {
    "duration": 23,
    "start_time": "2023-11-01T19:46:54.223Z"
   },
   {
    "duration": 5,
    "start_time": "2023-11-01T19:46:54.248Z"
   },
   {
    "duration": 354,
    "start_time": "2023-11-01T19:46:54.255Z"
   },
   {
    "duration": 520,
    "start_time": "2023-11-01T19:46:54.610Z"
   },
   {
    "duration": 3832,
    "start_time": "2023-11-01T19:46:55.132Z"
   },
   {
    "duration": 386,
    "start_time": "2023-11-01T19:46:58.966Z"
   },
   {
    "duration": 1795,
    "start_time": "2023-11-01T19:46:59.354Z"
   },
   {
    "duration": 1356,
    "start_time": "2023-11-01T19:47:01.156Z"
   },
   {
    "duration": 21,
    "start_time": "2023-11-01T19:47:02.514Z"
   },
   {
    "duration": 107,
    "start_time": "2023-11-01T19:47:02.537Z"
   },
   {
    "duration": 80,
    "start_time": "2023-11-01T19:47:02.646Z"
   },
   {
    "duration": 36,
    "start_time": "2023-11-01T19:47:02.728Z"
   },
   {
    "duration": 32,
    "start_time": "2023-11-01T19:47:02.765Z"
   },
   {
    "duration": 23,
    "start_time": "2023-11-01T19:47:02.799Z"
   },
   {
    "duration": 36,
    "start_time": "2023-11-01T19:47:02.823Z"
   },
   {
    "duration": 49,
    "start_time": "2023-11-01T19:47:02.860Z"
   },
   {
    "duration": 34,
    "start_time": "2023-11-01T19:47:02.910Z"
   },
   {
    "duration": 25,
    "start_time": "2023-11-01T19:47:02.945Z"
   },
   {
    "duration": 20,
    "start_time": "2023-11-01T19:47:02.972Z"
   },
   {
    "duration": 43,
    "start_time": "2023-11-01T19:47:02.996Z"
   },
   {
    "duration": 32,
    "start_time": "2023-11-01T19:47:03.041Z"
   },
   {
    "duration": 287,
    "start_time": "2023-11-01T19:49:17.481Z"
   },
   {
    "duration": 359,
    "start_time": "2023-11-01T19:49:24.470Z"
   },
   {
    "duration": 451,
    "start_time": "2023-11-01T19:51:12.385Z"
   },
   {
    "duration": 377,
    "start_time": "2023-11-01T19:51:32.567Z"
   },
   {
    "duration": 108,
    "start_time": "2023-11-01T19:51:42.990Z"
   },
   {
    "duration": 364,
    "start_time": "2023-11-01T19:51:49.620Z"
   },
   {
    "duration": 81,
    "start_time": "2023-11-02T06:33:52.373Z"
   },
   {
    "duration": 1324,
    "start_time": "2023-11-02T06:34:38.943Z"
   },
   {
    "duration": 165,
    "start_time": "2023-11-02T06:34:40.269Z"
   },
   {
    "duration": 18,
    "start_time": "2023-11-02T06:34:40.436Z"
   },
   {
    "duration": 20,
    "start_time": "2023-11-02T06:34:40.456Z"
   },
   {
    "duration": 7,
    "start_time": "2023-11-02T06:34:40.477Z"
   },
   {
    "duration": 14,
    "start_time": "2023-11-02T06:34:40.486Z"
   },
   {
    "duration": 6,
    "start_time": "2023-11-02T06:34:40.501Z"
   },
   {
    "duration": 18,
    "start_time": "2023-11-02T06:34:40.509Z"
   },
   {
    "duration": 19,
    "start_time": "2023-11-02T06:34:40.529Z"
   },
   {
    "duration": 17,
    "start_time": "2023-11-02T06:34:40.551Z"
   },
   {
    "duration": 15,
    "start_time": "2023-11-02T06:34:40.570Z"
   },
   {
    "duration": 11,
    "start_time": "2023-11-02T06:34:40.586Z"
   },
   {
    "duration": 23,
    "start_time": "2023-11-02T06:34:40.600Z"
   },
   {
    "duration": 30,
    "start_time": "2023-11-02T06:34:40.625Z"
   },
   {
    "duration": 22,
    "start_time": "2023-11-02T06:34:40.657Z"
   },
   {
    "duration": 38,
    "start_time": "2023-11-02T06:34:40.681Z"
   },
   {
    "duration": 33,
    "start_time": "2023-11-02T06:34:40.721Z"
   },
   {
    "duration": 11,
    "start_time": "2023-11-02T06:34:40.756Z"
   },
   {
    "duration": 14,
    "start_time": "2023-11-02T06:34:40.769Z"
   },
   {
    "duration": 46,
    "start_time": "2023-11-02T06:34:40.785Z"
   },
   {
    "duration": 33,
    "start_time": "2023-11-02T06:34:40.833Z"
   },
   {
    "duration": 6,
    "start_time": "2023-11-02T06:34:40.867Z"
   },
   {
    "duration": 321,
    "start_time": "2023-11-02T06:34:40.874Z"
   },
   {
    "duration": 533,
    "start_time": "2023-11-02T06:34:41.197Z"
   },
   {
    "duration": 3783,
    "start_time": "2023-11-02T06:34:41.731Z"
   },
   {
    "duration": 369,
    "start_time": "2023-11-02T06:34:45.516Z"
   },
   {
    "duration": 345,
    "start_time": "2023-11-02T06:34:45.887Z"
   },
   {
    "duration": 2217,
    "start_time": "2023-11-02T06:34:46.235Z"
   },
   {
    "duration": 1813,
    "start_time": "2023-11-02T06:34:48.454Z"
   },
   {
    "duration": 21,
    "start_time": "2023-11-02T06:34:50.269Z"
   },
   {
    "duration": 22,
    "start_time": "2023-11-02T06:34:50.292Z"
   },
   {
    "duration": 43,
    "start_time": "2023-11-02T06:34:50.315Z"
   },
   {
    "duration": 33,
    "start_time": "2023-11-02T06:34:50.360Z"
   },
   {
    "duration": 45,
    "start_time": "2023-11-02T06:34:50.394Z"
   },
   {
    "duration": 24,
    "start_time": "2023-11-02T06:34:50.441Z"
   },
   {
    "duration": 22,
    "start_time": "2023-11-02T06:34:50.467Z"
   },
   {
    "duration": 44,
    "start_time": "2023-11-02T06:34:50.491Z"
   },
   {
    "duration": 38,
    "start_time": "2023-11-02T06:34:50.537Z"
   },
   {
    "duration": 15,
    "start_time": "2023-11-02T06:34:50.577Z"
   },
   {
    "duration": 50,
    "start_time": "2023-11-02T06:34:50.594Z"
   },
   {
    "duration": 55,
    "start_time": "2023-11-02T06:34:50.646Z"
   },
   {
    "duration": 22,
    "start_time": "2023-11-02T06:34:50.702Z"
   },
   {
    "duration": 4463,
    "start_time": "2023-11-02T06:51:31.643Z"
   },
   {
    "duration": 394,
    "start_time": "2023-11-02T06:51:36.438Z"
   },
   {
    "duration": 601,
    "start_time": "2023-11-02T06:51:43.781Z"
   },
   {
    "duration": 625,
    "start_time": "2023-11-02T06:51:52.220Z"
   },
   {
    "duration": 1145,
    "start_time": "2023-11-02T11:28:11.286Z"
   },
   {
    "duration": 41,
    "start_time": "2023-11-02T11:28:12.433Z"
   },
   {
    "duration": 17,
    "start_time": "2023-11-02T11:28:12.476Z"
   },
   {
    "duration": 15,
    "start_time": "2023-11-02T11:28:12.495Z"
   },
   {
    "duration": 5,
    "start_time": "2023-11-02T11:28:12.513Z"
   },
   {
    "duration": 22,
    "start_time": "2023-11-02T11:28:12.520Z"
   },
   {
    "duration": 8,
    "start_time": "2023-11-02T11:28:12.544Z"
   },
   {
    "duration": 27,
    "start_time": "2023-11-02T11:28:12.554Z"
   },
   {
    "duration": 6,
    "start_time": "2023-11-02T11:28:12.582Z"
   },
   {
    "duration": 18,
    "start_time": "2023-11-02T11:28:12.590Z"
   },
   {
    "duration": 21,
    "start_time": "2023-11-02T11:28:12.609Z"
   },
   {
    "duration": 19,
    "start_time": "2023-11-02T11:28:12.632Z"
   },
   {
    "duration": 46,
    "start_time": "2023-11-02T11:28:12.652Z"
   },
   {
    "duration": 32,
    "start_time": "2023-11-02T11:28:12.700Z"
   },
   {
    "duration": 24,
    "start_time": "2023-11-02T11:28:12.734Z"
   },
   {
    "duration": 41,
    "start_time": "2023-11-02T11:28:12.760Z"
   },
   {
    "duration": 39,
    "start_time": "2023-11-02T11:28:12.803Z"
   },
   {
    "duration": 20,
    "start_time": "2023-11-02T11:28:12.844Z"
   },
   {
    "duration": 31,
    "start_time": "2023-11-02T11:28:12.866Z"
   },
   {
    "duration": 74,
    "start_time": "2023-11-02T11:28:12.898Z"
   },
   {
    "duration": 35,
    "start_time": "2023-11-02T11:28:12.974Z"
   },
   {
    "duration": 12,
    "start_time": "2023-11-02T11:28:13.011Z"
   },
   {
    "duration": 331,
    "start_time": "2023-11-02T11:28:13.025Z"
   },
   {
    "duration": 548,
    "start_time": "2023-11-02T11:28:13.358Z"
   },
   {
    "duration": 3890,
    "start_time": "2023-11-02T11:28:13.908Z"
   },
   {
    "duration": 364,
    "start_time": "2023-11-02T11:28:17.799Z"
   },
   {
    "duration": 343,
    "start_time": "2023-11-02T11:28:18.165Z"
   },
   {
    "duration": 1760,
    "start_time": "2023-11-02T11:28:18.511Z"
   },
   {
    "duration": 1444,
    "start_time": "2023-11-02T11:28:20.274Z"
   },
   {
    "duration": 25,
    "start_time": "2023-11-02T11:28:21.720Z"
   },
   {
    "duration": 22,
    "start_time": "2023-11-02T11:28:21.747Z"
   },
   {
    "duration": 61,
    "start_time": "2023-11-02T11:28:21.771Z"
   },
   {
    "duration": 37,
    "start_time": "2023-11-02T11:28:21.834Z"
   },
   {
    "duration": 74,
    "start_time": "2023-11-02T11:28:21.873Z"
   },
   {
    "duration": 30,
    "start_time": "2023-11-02T11:28:21.949Z"
   },
   {
    "duration": 9,
    "start_time": "2023-11-02T11:28:21.981Z"
   },
   {
    "duration": 24,
    "start_time": "2023-11-02T11:28:21.991Z"
   },
   {
    "duration": 36,
    "start_time": "2023-11-02T11:28:22.016Z"
   },
   {
    "duration": 86,
    "start_time": "2023-11-02T11:28:22.053Z"
   },
   {
    "duration": 188,
    "start_time": "2023-11-02T11:28:22.141Z"
   },
   {
    "duration": 18,
    "start_time": "2023-11-02T11:28:22.331Z"
   },
   {
    "duration": 16,
    "start_time": "2023-11-02T11:28:22.350Z"
   },
   {
    "duration": 50,
    "start_time": "2023-11-04T07:49:11.375Z"
   },
   {
    "duration": 1333,
    "start_time": "2023-11-04T07:49:16.455Z"
   },
   {
    "duration": 151,
    "start_time": "2023-11-04T07:49:17.790Z"
   },
   {
    "duration": 19,
    "start_time": "2023-11-04T07:49:17.943Z"
   },
   {
    "duration": 12,
    "start_time": "2023-11-04T07:49:17.964Z"
   },
   {
    "duration": 6,
    "start_time": "2023-11-04T07:49:17.978Z"
   },
   {
    "duration": 19,
    "start_time": "2023-11-04T07:49:17.985Z"
   },
   {
    "duration": 5,
    "start_time": "2023-11-04T07:49:18.005Z"
   },
   {
    "duration": 41,
    "start_time": "2023-11-04T07:49:18.012Z"
   },
   {
    "duration": 5,
    "start_time": "2023-11-04T07:49:18.055Z"
   },
   {
    "duration": 13,
    "start_time": "2023-11-04T07:49:18.063Z"
   },
   {
    "duration": 19,
    "start_time": "2023-11-04T07:49:18.078Z"
   },
   {
    "duration": 14,
    "start_time": "2023-11-04T07:49:18.099Z"
   },
   {
    "duration": 10,
    "start_time": "2023-11-04T07:49:18.114Z"
   },
   {
    "duration": 33,
    "start_time": "2023-11-04T07:49:18.125Z"
   },
   {
    "duration": 15,
    "start_time": "2023-11-04T07:49:18.159Z"
   },
   {
    "duration": 34,
    "start_time": "2023-11-04T07:49:18.176Z"
   },
   {
    "duration": 15,
    "start_time": "2023-11-04T07:49:18.211Z"
   },
   {
    "duration": 5,
    "start_time": "2023-11-04T07:49:18.228Z"
   },
   {
    "duration": 29,
    "start_time": "2023-11-04T07:49:18.234Z"
   },
   {
    "duration": 40,
    "start_time": "2023-11-04T07:49:18.264Z"
   },
   {
    "duration": 25,
    "start_time": "2023-11-04T07:49:18.306Z"
   },
   {
    "duration": 14,
    "start_time": "2023-11-04T07:49:18.333Z"
   },
   {
    "duration": 315,
    "start_time": "2023-11-04T07:49:18.349Z"
   },
   {
    "duration": 505,
    "start_time": "2023-11-04T07:49:18.666Z"
   },
   {
    "duration": 3614,
    "start_time": "2023-11-04T07:49:19.173Z"
   },
   {
    "duration": 374,
    "start_time": "2023-11-04T07:49:22.788Z"
   },
   {
    "duration": 328,
    "start_time": "2023-11-04T07:49:23.164Z"
   },
   {
    "duration": 1781,
    "start_time": "2023-11-04T07:49:23.495Z"
   },
   {
    "duration": 1370,
    "start_time": "2023-11-04T07:49:25.277Z"
   },
   {
    "duration": 20,
    "start_time": "2023-11-04T07:49:26.649Z"
   },
   {
    "duration": 23,
    "start_time": "2023-11-04T07:49:26.671Z"
   },
   {
    "duration": 22,
    "start_time": "2023-11-04T07:49:26.695Z"
   },
   {
    "duration": 7,
    "start_time": "2023-11-04T07:49:26.719Z"
   },
   {
    "duration": 19,
    "start_time": "2023-11-04T07:49:26.727Z"
   },
   {
    "duration": 17,
    "start_time": "2023-11-04T07:49:26.748Z"
   },
   {
    "duration": 6,
    "start_time": "2023-11-04T07:49:26.767Z"
   },
   {
    "duration": 15,
    "start_time": "2023-11-04T07:49:26.775Z"
   },
   {
    "duration": 10,
    "start_time": "2023-11-04T07:49:26.791Z"
   },
   {
    "duration": 10,
    "start_time": "2023-11-04T07:49:26.803Z"
   },
   {
    "duration": 33,
    "start_time": "2023-11-04T07:49:26.815Z"
   },
   {
    "duration": 30,
    "start_time": "2023-11-04T07:49:26.850Z"
   },
   {
    "duration": 20,
    "start_time": "2023-11-04T07:49:26.882Z"
   },
   {
    "duration": 56,
    "start_time": "2023-11-08T08:26:06.798Z"
   },
   {
    "duration": 1197,
    "start_time": "2023-11-08T08:26:16.528Z"
   },
   {
    "duration": 150,
    "start_time": "2023-11-08T08:26:17.727Z"
   },
   {
    "duration": 19,
    "start_time": "2023-11-08T08:26:17.879Z"
   },
   {
    "duration": 19,
    "start_time": "2023-11-08T08:26:17.901Z"
   },
   {
    "duration": 4,
    "start_time": "2023-11-08T08:26:17.922Z"
   },
   {
    "duration": 14,
    "start_time": "2023-11-08T08:26:17.927Z"
   },
   {
    "duration": 43,
    "start_time": "2023-11-08T08:26:17.943Z"
   },
   {
    "duration": 32,
    "start_time": "2023-11-08T08:26:17.988Z"
   },
   {
    "duration": 7,
    "start_time": "2023-11-08T08:26:18.022Z"
   },
   {
    "duration": 10,
    "start_time": "2023-11-08T08:26:18.033Z"
   },
   {
    "duration": 23,
    "start_time": "2023-11-08T08:26:18.045Z"
   },
   {
    "duration": 26,
    "start_time": "2023-11-08T08:26:18.070Z"
   },
   {
    "duration": 10,
    "start_time": "2023-11-08T08:26:18.098Z"
   },
   {
    "duration": 35,
    "start_time": "2023-11-08T08:26:18.111Z"
   },
   {
    "duration": 19,
    "start_time": "2023-11-08T08:26:18.148Z"
   },
   {
    "duration": 39,
    "start_time": "2023-11-08T08:26:18.169Z"
   },
   {
    "duration": 24,
    "start_time": "2023-11-08T08:26:18.209Z"
   },
   {
    "duration": 38,
    "start_time": "2023-11-08T08:26:18.235Z"
   },
   {
    "duration": 165,
    "start_time": "2023-11-08T08:26:18.275Z"
   },
   {
    "duration": 128,
    "start_time": "2023-11-08T08:26:18.442Z"
   },
   {
    "duration": 27,
    "start_time": "2023-11-08T08:26:18.572Z"
   },
   {
    "duration": 5,
    "start_time": "2023-11-08T08:26:18.601Z"
   },
   {
    "duration": 465,
    "start_time": "2023-11-08T08:26:18.607Z"
   },
   {
    "duration": 0,
    "start_time": "2023-11-08T08:26:19.075Z"
   },
   {
    "duration": 0,
    "start_time": "2023-11-08T08:26:19.077Z"
   },
   {
    "duration": 0,
    "start_time": "2023-11-08T08:26:19.079Z"
   },
   {
    "duration": 1,
    "start_time": "2023-11-08T08:26:19.080Z"
   },
   {
    "duration": 0,
    "start_time": "2023-11-08T08:26:19.082Z"
   },
   {
    "duration": 0,
    "start_time": "2023-11-08T08:26:19.101Z"
   },
   {
    "duration": 0,
    "start_time": "2023-11-08T08:26:19.103Z"
   },
   {
    "duration": 0,
    "start_time": "2023-11-08T08:26:19.104Z"
   },
   {
    "duration": 0,
    "start_time": "2023-11-08T08:26:19.106Z"
   },
   {
    "duration": 0,
    "start_time": "2023-11-08T08:26:19.108Z"
   },
   {
    "duration": 0,
    "start_time": "2023-11-08T08:26:19.109Z"
   },
   {
    "duration": 0,
    "start_time": "2023-11-08T08:26:19.111Z"
   },
   {
    "duration": 0,
    "start_time": "2023-11-08T08:26:19.112Z"
   },
   {
    "duration": 0,
    "start_time": "2023-11-08T08:26:19.114Z"
   },
   {
    "duration": 0,
    "start_time": "2023-11-08T08:26:19.116Z"
   },
   {
    "duration": 0,
    "start_time": "2023-11-08T08:26:19.117Z"
   },
   {
    "duration": 0,
    "start_time": "2023-11-08T08:26:19.118Z"
   },
   {
    "duration": 0,
    "start_time": "2023-11-08T08:26:19.120Z"
   },
   {
    "duration": 0,
    "start_time": "2023-11-08T08:26:19.121Z"
   },
   {
    "duration": 322,
    "start_time": "2023-11-08T08:26:50.073Z"
   },
   {
    "duration": 1463,
    "start_time": "2023-11-08T08:26:57.267Z"
   },
   {
    "duration": 43,
    "start_time": "2023-11-08T08:26:58.732Z"
   },
   {
    "duration": 20,
    "start_time": "2023-11-08T08:26:58.777Z"
   },
   {
    "duration": 13,
    "start_time": "2023-11-08T08:26:58.799Z"
   },
   {
    "duration": 3,
    "start_time": "2023-11-08T08:26:58.813Z"
   },
   {
    "duration": 17,
    "start_time": "2023-11-08T08:26:58.817Z"
   },
   {
    "duration": 5,
    "start_time": "2023-11-08T08:26:58.835Z"
   },
   {
    "duration": 19,
    "start_time": "2023-11-08T08:26:58.841Z"
   },
   {
    "duration": 5,
    "start_time": "2023-11-08T08:26:58.861Z"
   },
   {
    "duration": 61,
    "start_time": "2023-11-08T08:26:58.869Z"
   },
   {
    "duration": 18,
    "start_time": "2023-11-08T08:26:58.931Z"
   },
   {
    "duration": 8,
    "start_time": "2023-11-08T08:26:58.950Z"
   },
   {
    "duration": 9,
    "start_time": "2023-11-08T08:26:58.959Z"
   },
   {
    "duration": 39,
    "start_time": "2023-11-08T08:26:58.969Z"
   },
   {
    "duration": 16,
    "start_time": "2023-11-08T08:26:59.010Z"
   },
   {
    "duration": 14,
    "start_time": "2023-11-08T08:26:59.028Z"
   },
   {
    "duration": 15,
    "start_time": "2023-11-08T08:26:59.044Z"
   },
   {
    "duration": 13,
    "start_time": "2023-11-08T08:26:59.060Z"
   },
   {
    "duration": 34,
    "start_time": "2023-11-08T08:26:59.074Z"
   },
   {
    "duration": 39,
    "start_time": "2023-11-08T08:26:59.110Z"
   },
   {
    "duration": 25,
    "start_time": "2023-11-08T08:26:59.150Z"
   },
   {
    "duration": 5,
    "start_time": "2023-11-08T08:26:59.177Z"
   },
   {
    "duration": 347,
    "start_time": "2023-11-08T08:26:59.183Z"
   },
   {
    "duration": 544,
    "start_time": "2023-11-08T08:26:59.532Z"
   },
   {
    "duration": 3940,
    "start_time": "2023-11-08T08:27:00.078Z"
   },
   {
    "duration": 384,
    "start_time": "2023-11-08T08:27:04.020Z"
   },
   {
    "duration": 452,
    "start_time": "2023-11-08T08:27:04.406Z"
   },
   {
    "duration": 1874,
    "start_time": "2023-11-08T08:27:04.861Z"
   },
   {
    "duration": 1433,
    "start_time": "2023-11-08T08:27:06.737Z"
   },
   {
    "duration": 24,
    "start_time": "2023-11-08T08:27:08.171Z"
   },
   {
    "duration": 13,
    "start_time": "2023-11-08T08:27:08.197Z"
   },
   {
    "duration": 39,
    "start_time": "2023-11-08T08:27:08.212Z"
   },
   {
    "duration": 47,
    "start_time": "2023-11-08T08:27:08.252Z"
   },
   {
    "duration": 38,
    "start_time": "2023-11-08T08:27:08.300Z"
   },
   {
    "duration": 54,
    "start_time": "2023-11-08T08:27:08.340Z"
   },
   {
    "duration": 38,
    "start_time": "2023-11-08T08:27:08.396Z"
   },
   {
    "duration": 16,
    "start_time": "2023-11-08T08:27:08.436Z"
   },
   {
    "duration": 32,
    "start_time": "2023-11-08T08:27:08.453Z"
   },
   {
    "duration": 15,
    "start_time": "2023-11-08T08:27:08.487Z"
   },
   {
    "duration": 20,
    "start_time": "2023-11-08T08:27:08.503Z"
   },
   {
    "duration": 20,
    "start_time": "2023-11-08T08:27:08.525Z"
   },
   {
    "duration": 21,
    "start_time": "2023-11-08T08:27:08.547Z"
   }
  ],
  "kernelspec": {
   "display_name": "Python 3 (ipykernel)",
   "language": "python",
   "name": "python3"
  },
  "language_info": {
   "codemirror_mode": {
    "name": "ipython",
    "version": 3
   },
   "file_extension": ".py",
   "mimetype": "text/x-python",
   "name": "python",
   "nbconvert_exporter": "python",
   "pygments_lexer": "ipython3",
   "version": "3.11.5"
  },
  "toc": {
   "base_numbering": 1,
   "nav_menu": {},
   "number_sections": true,
   "sideBar": true,
   "skip_h1_title": true,
   "title_cell": "Table of Contents",
   "title_sidebar": "Contents",
   "toc_cell": false,
   "toc_position": {
    "height": "calc(100% - 180px)",
    "left": "10px",
    "top": "150px",
    "width": "357.042px"
   },
   "toc_section_display": true,
   "toc_window_display": false
  }
 },
 "nbformat": 4,
 "nbformat_minor": 2
}
